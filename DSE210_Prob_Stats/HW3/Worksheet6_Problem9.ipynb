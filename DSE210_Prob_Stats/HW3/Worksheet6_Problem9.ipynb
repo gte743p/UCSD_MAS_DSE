{
 "cells": [
  {
   "cell_type": "markdown",
   "metadata": {},
   "source": [
    "# Worksheet 6 - Problem 9\n",
    "## Digit Recognition Using Gaussian Generative Model\n",
    "In this workbook, handwritten digits from the MNIST database are classified using Gaussian Naive Bayes.  Additional information on the MNIST data can be found at http://yann.lecun.com/exdb/mnist/.\n",
    "\n",
    "The notebook includes the following sections:\n",
    "- Obtain Data and Load Data\n",
    "- Create Gaussian Naive Bayes Classifier from Training Data\n",
    "- Tune c Parameter Using Validation Data\n",
    "- Evaluate Classifer Performance on Test Data\n",
    "- Plot Misclassified Digits\n",
    "- Conclusions"
   ]
  },
  {
   "cell_type": "code",
   "execution_count": 1,
   "metadata": {
    "collapsed": true
   },
   "outputs": [],
   "source": [
    "# import packages\n",
    "import random\n",
    "import itertools\n",
    "import numpy as np\n",
    "from scipy.stats import multivariate_normal\n",
    "from sklearn.metrics import confusion_matrix"
   ]
  },
  {
   "cell_type": "code",
   "execution_count": 2,
   "metadata": {
    "collapsed": true
   },
   "outputs": [],
   "source": [
    "# set random seed\n",
    "random.seed(6785)"
   ]
  },
  {
   "cell_type": "code",
   "execution_count": 3,
   "metadata": {
    "collapsed": true
   },
   "outputs": [],
   "source": [
    "%matplotlib inline"
   ]
  },
  {
   "cell_type": "markdown",
   "metadata": {},
   "source": [
    "## Obtain and Load Data\n",
    "In this section, we download and unzip the MNIST dataset, read it into Python, split the data into train, validation, and test subsets, and perform some simple checks to verify that the data was loaded properly.\n"
   ]
  },
  {
   "cell_type": "code",
   "execution_count": 4,
   "metadata": {
    "collapsed": false
   },
   "outputs": [
    {
     "name": "stdout",
     "output_type": "stream",
     "text": [
      "/Users/joshwilson/Documents/DSE/jsw037/DSE210\n"
     ]
    }
   ],
   "source": [
    "# make sure we are in the correct directory\n",
    "%cd /Users/joshwilson/Documents/DSE/jsw037/DSE210/"
   ]
  },
  {
   "cell_type": "code",
   "execution_count": 5,
   "metadata": {
    "collapsed": false
   },
   "outputs": [
    {
     "name": "stdout",
     "output_type": "stream",
     "text": [
      "/Users/joshwilson/Documents/DSE/jsw037/DSE210/ws6data\n"
     ]
    }
   ],
   "source": [
    "# create and move to 'data' directory (first delete the folder if it already exists)\n",
    "!rm -rf 'ws6data'\n",
    "!mkdir 'ws6data'\n",
    "%cd ws6data"
   ]
  },
  {
   "cell_type": "code",
   "execution_count": 6,
   "metadata": {
    "collapsed": false
   },
   "outputs": [
    {
     "name": "stdout",
     "output_type": "stream",
     "text": [
      "  % Total    % Received % Xferd  Average Speed   Time    Time     Time  Current\n",
      "                                 Dload  Upload   Total   Spent    Left  Speed\n",
      "100 9680k  100 9680k    0     0   550k      0  0:00:17  0:00:17 --:--:--  386k\n"
     ]
    }
   ],
   "source": [
    "# get the training set image data\n",
    "!curl http://yann.lecun.com/exdb/mnist/train-images-idx3-ubyte.gz -o 'train-images.gz'"
   ]
  },
  {
   "cell_type": "code",
   "execution_count": 7,
   "metadata": {
    "collapsed": false
   },
   "outputs": [
    {
     "name": "stdout",
     "output_type": "stream",
     "text": [
      "  % Total    % Received % Xferd  Average Speed   Time    Time     Time  Current\n",
      "                                 Dload  Upload   Total   Spent    Left  Speed\n",
      "100 28881  100 28881    0     0  97891      0 --:--:-- --:--:-- --:--:-- 98234\n"
     ]
    }
   ],
   "source": [
    "# get the training set label data\n",
    "!curl http://yann.lecun.com/exdb/mnist/train-labels-idx1-ubyte.gz -o 'train-labels.gz'"
   ]
  },
  {
   "cell_type": "code",
   "execution_count": 8,
   "metadata": {
    "collapsed": false
   },
   "outputs": [
    {
     "name": "stdout",
     "output_type": "stream",
     "text": [
      "  % Total    % Received % Xferd  Average Speed   Time    Time     Time  Current\n",
      "                                 Dload  Upload   Total   Spent    Left  Speed\n",
      "100 1610k  100 1610k    0     0   417k      0  0:00:03  0:00:03 --:--:--  417k\n"
     ]
    }
   ],
   "source": [
    "# get the test set image data\n",
    "!curl http://yann.lecun.com/exdb/mnist/t10k-images-idx3-ubyte.gz -o 'test-images.gz'"
   ]
  },
  {
   "cell_type": "code",
   "execution_count": 9,
   "metadata": {
    "collapsed": false
   },
   "outputs": [
    {
     "name": "stdout",
     "output_type": "stream",
     "text": [
      "  % Total    % Received % Xferd  Average Speed   Time    Time     Time  Current\n",
      "                                 Dload  Upload   Total   Spent    Left  Speed\n",
      "100  4542  100  4542    0     0  21880      0 --:--:-- --:--:-- --:--:-- 22156\n"
     ]
    }
   ],
   "source": [
    "# get the test set label data\n",
    "!curl http://yann.lecun.com/exdb/mnist/t10k-labels-idx1-ubyte.gz -o 'test-labels.gz'"
   ]
  },
  {
   "cell_type": "code",
   "execution_count": 10,
   "metadata": {
    "collapsed": false
   },
   "outputs": [
    {
     "name": "stdout",
     "output_type": "stream",
     "text": [
      "test-images.gz  test-labels.gz  train-images.gz train-labels.gz\r\n"
     ]
    }
   ],
   "source": [
    "# check that files have downloaded\n",
    "!ls"
   ]
  },
  {
   "cell_type": "code",
   "execution_count": 11,
   "metadata": {
    "collapsed": false
   },
   "outputs": [],
   "source": [
    "# uncompress the data\n",
    "!gunzip test-images.gz test-labels.gz train-images.gz train-labels.gz"
   ]
  },
  {
   "cell_type": "code",
   "execution_count": 12,
   "metadata": {
    "collapsed": false
   },
   "outputs": [
    {
     "name": "stdout",
     "output_type": "stream",
     "text": [
      "test-images  test-labels  train-images train-labels\r\n"
     ]
    }
   ],
   "source": [
    "# check that *.gz files have been replaced by appropriate directories\n",
    "!ls"
   ]
  },
  {
   "cell_type": "code",
   "execution_count": 13,
   "metadata": {
    "collapsed": false
   },
   "outputs": [
    {
     "name": "stdout",
     "output_type": "stream",
     "text": [
      "  % Total    % Received % Xferd  Average Speed   Time    Time     Time  Current\n",
      "                                 Dload  Upload   Total   Spent    Left  Speed\n",
      "100  1236  100  1236    0     0  19247      0 --:--:-- --:--:-- --:--:-- 19935\n"
     ]
    }
   ],
   "source": [
    "# download loader.py file\n",
    "!curl http://cseweb.ucsd.edu/~dasgupta/dse210/loader.py -o 'loader.py'"
   ]
  },
  {
   "cell_type": "code",
   "execution_count": 14,
   "metadata": {
    "collapsed": true
   },
   "outputs": [],
   "source": [
    "# %load loader.py\n",
    "from struct import unpack\n",
    "import numpy as np\n",
    "import matplotlib.pylab as plt \n",
    "\n",
    "def loadmnist(imagefile, labelfile):\n",
    "\n",
    "    # Open the images with gzip in read binary mode\n",
    "    images = open(imagefile, 'rb')\n",
    "    labels = open(labelfile, 'rb')\n",
    "\n",
    "    # Get metadata for images\n",
    "    images.read(4)  # skip the magic_number\n",
    "    number_of_images = images.read(4)\n",
    "    number_of_images = unpack('>I', number_of_images)[0]\n",
    "    rows = images.read(4)\n",
    "    rows = unpack('>I', rows)[0]\n",
    "    cols = images.read(4)\n",
    "    cols = unpack('>I', cols)[0]\n",
    "\n",
    "    # Get metadata for labels\n",
    "    labels.read(4)\n",
    "    N = labels.read(4)\n",
    "    N = unpack('>I', N)[0]\n",
    "\n",
    "    # Get data\n",
    "    x = np.zeros((N, rows*cols), dtype=np.uint8)  # Initialize numpy array\n",
    "    y = np.zeros(N, dtype=np.uint8)  # Initialize numpy array\n",
    "    for i in range(N):\n",
    "        for j in range(rows*cols):\n",
    "            tmp_pixel = images.read(1)  # Just a single byte\n",
    "            tmp_pixel = unpack('>B', tmp_pixel)[0]\n",
    "            x[i][j] = tmp_pixel\n",
    "        tmp_label = labels.read(1)\n",
    "        y[i] = unpack('>B', tmp_label)[0]\n",
    "\n",
    "    images.close()\n",
    "    labels.close()\n",
    "    return (x, y)\n",
    "\n",
    "def displaychar(image):\n",
    "    plt.imshow(np.reshape(image, (28,28)), cmap=plt.cm.gray)\n",
    "    plt.axis('off')\n",
    "    plt.show()\n"
   ]
  },
  {
   "cell_type": "code",
   "execution_count": 15,
   "metadata": {
    "collapsed": false
   },
   "outputs": [],
   "source": [
    "# load training data\n",
    "orig_train_images, orig_train_labels = loadmnist('train-images', 'train-labels')"
   ]
  },
  {
   "cell_type": "code",
   "execution_count": 16,
   "metadata": {
    "collapsed": false
   },
   "outputs": [],
   "source": [
    "# load test data\n",
    "test_images, test_labels = loadmnist('test-images', 'test-labels')"
   ]
  },
  {
   "cell_type": "code",
   "execution_count": 17,
   "metadata": {
    "collapsed": false
   },
   "outputs": [
    {
     "name": "stdout",
     "output_type": "stream",
     "text": [
      "orig_train_images shape: (60000, 784)\n",
      "orig_train_labels shape: (60000,)\n",
      "test_images shape: (10000, 784)\n",
      "test_labels shape: (10000,)\n"
     ]
    }
   ],
   "source": [
    "# check shape of data\n",
    "print 'orig_train_images shape:', orig_train_images.shape\n",
    "print 'orig_train_labels shape:', orig_train_labels.shape\n",
    "print 'test_images shape:', test_images.shape\n",
    "print 'test_labels shape:', test_labels.shape"
   ]
  },
  {
   "cell_type": "code",
   "execution_count": 18,
   "metadata": {
    "collapsed": false
   },
   "outputs": [],
   "source": [
    "# split training data into 80% training and 20% validation data\n",
    "train_size = 50000\n",
    "indices = np.random.permutation(60000)\n",
    "train_idx, val_idx = indices[:train_size], indices[train_size:]\n",
    "train_images, val_images = orig_train_images[train_idx,:], orig_train_images[val_idx,:]\n",
    "train_labels, val_labels = orig_train_labels[train_idx], orig_train_labels[val_idx]"
   ]
  },
  {
   "cell_type": "code",
   "execution_count": 19,
   "metadata": {
    "collapsed": false
   },
   "outputs": [
    {
     "name": "stdout",
     "output_type": "stream",
     "text": [
      "train_images shape: (50000, 784)\n",
      "train_labels shape: (50000,)\n",
      "val_images shape: (10000, 784)\n",
      "val_labels shape: (10000,)\n"
     ]
    }
   ],
   "source": [
    "# check shape of resulting training and validation data\n",
    "print 'train_images shape:', train_images.shape\n",
    "print 'train_labels shape:', train_labels.shape\n",
    "print 'val_images shape:', val_images.shape\n",
    "print 'val_labels shape:', val_labels.shape"
   ]
  },
  {
   "cell_type": "code",
   "execution_count": 20,
   "metadata": {
    "collapsed": false,
    "scrolled": false
   },
   "outputs": [
    {
     "name": "stdout",
     "output_type": "stream",
     "text": [
      "train_images[47015] label: 0\n"
     ]
    },
    {
     "data": {
      "image/png": "[encoded data removed]",
      "text/plain": [
       "<matplotlib.figure.Figure at 0x10e1f6190>"
      ]
     },
     "metadata": {},
     "output_type": "display_data"
    },
    {
     "name": "stdout",
     "output_type": "stream",
     "text": [
      "val_images[2188] label: 5\n"
     ]
    },
    {
     "data": {
      "image/png": "[encoded data removed]",
      "text/plain": [
       "<matplotlib.figure.Figure at 0x110febc10>"
      ]
     },
     "metadata": {},
     "output_type": "display_data"
    },
    {
     "name": "stdout",
     "output_type": "stream",
     "text": [
      "test_images[3421] label: 1\n"
     ]
    },
    {
     "data": {
      "image/png": "[encoded data removed]",
      "text/plain": [
       "<matplotlib.figure.Figure at 0x1171d1f50>"
      ]
     },
     "metadata": {},
     "output_type": "display_data"
    }
   ],
   "source": [
    "# display some random images and their labels\n",
    "num_images = 1\n",
    "for i in np.random.randint(0,train_images.shape[0],num_images):\n",
    "    print 'train_images[%s] label: %s' % (i, train_labels[i])\n",
    "    displaychar(train_images[i])\n",
    "\n",
    "for i in np.random.randint(0,val_images.shape[0],num_images):\n",
    "    print 'val_images[%s] label: %s' % (i, val_labels[i])\n",
    "    displaychar(val_images[i])\n",
    "    \n",
    "for i in np.random.randint(0,test_images.shape[0],num_images):\n",
    "    print 'test_images[%s] label: %s' % (i, test_labels[i])\n",
    "    displaychar(test_images[i])"
   ]
  },
  {
   "cell_type": "markdown",
   "metadata": {},
   "source": [
    "## Create Gaussian Naive Bayes Classifier from Training Data\n",
    "Here, we create a Gaussian Naive Bayes classifier using the MNIST training data, by performing the following steps:\n",
    "\n",
    "1.  Calculate prior probabilities for each class (i.e. each digit, 0-9)\n",
    "2.  Calculate the mean vector and covariance matrix for each class\n",
    "3.  Generate multivariate Gaussian distributions for each class\n",
    "4.  Make predictions on the training data by assigning each data point to the class with the highest log likelihoods\n",
    "5.  Check accuracy of predictions on training data\n"
   ]
  },
  {
   "cell_type": "code",
   "execution_count": 21,
   "metadata": {
    "collapsed": false
   },
   "outputs": [
    {
     "name": "stdout",
     "output_type": "stream",
     "text": [
      "class values:\n",
      "[0 1 2 3 4 5 6 7 8 9]\n",
      "\n",
      "class priors:\n",
      "[ 0.09878  0.11298  0.09894  0.10134  0.0971   0.09032  0.09924  0.1051\n",
      "  0.09742  0.09878]\n",
      "\n",
      "Check that sum of all class prior probabilities add to one:\n",
      "1.0\n"
     ]
    }
   ],
   "source": [
    "# calculate prior probabilities\n",
    "classes, counts = np.unique(train_labels, return_counts=True)\n",
    "\n",
    "# calculate fraction of each count\n",
    "class_priors = 1.0 * counts / sum(counts)\n",
    "\n",
    "print 'class values:\\n', classes\n",
    "print '\\nclass priors:\\n', class_priors\n",
    "print '\\nCheck that sum of all class prior probabilities add to one:\\n', sum(class_priors)"
   ]
  },
  {
   "cell_type": "code",
   "execution_count": 22,
   "metadata": {
    "collapsed": false
   },
   "outputs": [],
   "source": [
    "# calculate class means, covariance matrices, and posterior probabilities\n",
    "class_means = []\n",
    "class_covs = []\n",
    "class_covs_unreg = []\n",
    "class_dist = []\n",
    "\n",
    "# set initial c value, which will be used to regularize covariance matrices\n",
    "c_init = 5.0\n",
    "\n",
    "for k in classes:\n",
    "    # get images for class k\n",
    "    class_idx = np.where(train_labels == k)[0]\n",
    "    class_images = train_images[class_idx]\n",
    "    \n",
    "    # calculate class mean and covariance matrix\n",
    "    class_mean = np.apply_along_axis(np.average, 0, class_images)\n",
    "    class_cov_unregularized = np.cov(class_images.T)\n",
    "    \n",
    "    # adjust covariance matrix by adding small value to diagonal of unregularized covariance matrix\n",
    "    class_cov = class_cov_unregularized + np.eye(class_cov_unregularized.shape[0])*c_init\n",
    "\n",
    "    # append class means and covariance matrices \n",
    "    class_means.append(class_mean)\n",
    "    class_covs.append(class_cov)\n",
    "    class_covs_unreg.append(class_cov_unregularized)\n",
    "\n",
    "    # calculate gaussians\n",
    "    p_k = multivariate_normal(mean = class_mean, cov = class_cov)\n",
    "    class_dist.append(p_k)\n"
   ]
  },
  {
   "cell_type": "code",
   "execution_count": 23,
   "metadata": {
    "collapsed": false
   },
   "outputs": [],
   "source": [
    "# make predictions on training data\n",
    "probs = []\n",
    "for k in classes:\n",
    "    class_probs = []\n",
    "    for img in train_images:\n",
    "        p_k = np.log(class_priors[k]) + class_dist[k].logpdf(img)\n",
    "        class_probs.append(p_k)\n",
    "    probs.append(class_probs)\n",
    "probs = np.array(probs).T\n",
    "train_pred = [np.where(row == np.max(row))[0][0] for row in probs]"
   ]
  },
  {
   "cell_type": "code",
   "execution_count": 24,
   "metadata": {
    "collapsed": false
   },
   "outputs": [
    {
     "name": "stdout",
     "output_type": "stream",
     "text": [
      "Number of mislabeled points out of a total 50000 points : 5104\n",
      "Train data error rate (c parameter = 5.00) : 0.1021\n"
     ]
    }
   ],
   "source": [
    "# check accuracy of predictions on training data\n",
    "print(\"Number of mislabeled points out of a total %d points : %d\" \n",
    "      % (train_images.shape[0], (train_labels != train_pred).sum()))\n",
    "\n",
    "print(\"Train data error rate (c parameter = %.2f) : %.4f\"\n",
    "      % (c_init, float((train_labels != train_pred).sum()) / float(train_images.shape[0])))"
   ]
  },
  {
   "cell_type": "markdown",
   "metadata": {},
   "source": [
    "## Modify c Parameter Using Validation Data\n",
    "In this section, we vary the c parameter from its initial randomly chosen value to determine a value that produces a low error rate on the validation data.  We begin with the initally chosen c value and determine the corresponding error.  Then we iteratively update the c parameter as follows;\n",
    "\n",
    "1.  Create a small pool of new c values to test\n",
    "2.  Build a new prediction model and check the accuracy resulting from each new c value\n",
    "3.  Update c if the error rate improves"
   ]
  },
  {
   "cell_type": "code",
   "execution_count": 25,
   "metadata": {
    "collapsed": false
   },
   "outputs": [
    {
     "name": "stdout",
     "output_type": "stream",
     "text": [
      "Number of mislabeled points out of a total 10000 points : 1365\n",
      "Validation data error rate (c parameter = 5.00) : 0.1365\n"
     ]
    }
   ],
   "source": [
    "# get initial accuracy on validation data\n",
    "\n",
    "# make predictions on validation data using original c value\n",
    "probs = []\n",
    "for k in classes:\n",
    "    class_probs = []\n",
    "    for img in val_images:\n",
    "        p_k = np.log(class_priors[k]) + class_dist[k].logpdf(img)\n",
    "        class_probs.append(p_k)\n",
    "    probs.append(class_probs)\n",
    "probs = np.array(probs).T\n",
    "val_pred = [np.where(row == np.max(row))[0][0] for row in probs]\n",
    "\n",
    "# check accuracy of predictions on validation data\n",
    "print(\"Number of mislabeled points out of a total %d points : %d\" \n",
    "      % (val_images.shape[0], (val_labels != val_pred).sum()))\n",
    "\n",
    "init_error = float((val_labels != val_pred).sum()) / float(val_images.shape[0])\n",
    "\n",
    "print \"Validation data error rate (c parameter = %.2f) : %.4f\" % (c_init, init_error)"
   ]
  },
  {
   "cell_type": "code",
   "execution_count": 26,
   "metadata": {
    "collapsed": false
   },
   "outputs": [
    {
     "name": "stdout",
     "output_type": "stream",
     "text": [
      "error on validation data for varying c values:\n",
      "\n",
      "step 0:  c = 5.000000, error = 0.136500\n",
      "step 1:  c = 5219.000000, error = 0.047700\n",
      "step 2:  c = 4195.000000, error = 0.046100\n",
      "step 3:  c = 4153.050000, error = 0.045900\n",
      "step 4:  c = 4153.050000, error = 0.045900\n",
      "step 5:  c = 3797.000000, error = 0.045100\n",
      "step 6:  c = 3759.030000, error = 0.044900\n",
      "step 7:  c = 3721.439700, error = 0.044800\n",
      "step 8:  c = 3721.439700, error = 0.044800\n",
      "step 9:  c = 3584.000000, error = 0.044700\n",
      "step 10:  c = 3619.840000, error = 0.044600\n",
      "step 11:  c = 3619.840000, error = 0.044600\n",
      "step 12:  c = 3619.840000, error = 0.044600\n",
      "step 13:  c = 3619.840000, error = 0.044600\n",
      "step 14:  c = 3619.840000, error = 0.044600\n",
      "\n",
      "final result:  c = 3619.840000, error = 0.044600\n"
     ]
    }
   ],
   "source": [
    "# parameters to use in our loop to find a good c value\n",
    "steps = 15\n",
    "min_c = 1.0\n",
    "max_c = 1.0e+4\n",
    "best_c = c_init\n",
    "min_err = init_error\n",
    "\n",
    "# iteratively update c value\n",
    "print 'error on validation data for varying c values:\\n'\n",
    "for i in range(steps):\n",
    "    print 'step %d:  c = %f, error = %f' % (i, best_c, min_err)\n",
    "    c_vals = [0.05*best_c, 0.99*best_c, 1.01*best_c, 20.0*best_c, random.randint(min_c,max_c)]\n",
    "    \n",
    "    # make predictions on validation data for each value of c\n",
    "    c_preds = []\n",
    "    c_err = []\n",
    "\n",
    "    for c in c_vals:\n",
    "        # check if c is within acceptable range of values\n",
    "        if c < min_c or c > max_c:\n",
    "            c_err.append(1.0)\n",
    "            continue\n",
    "\n",
    "        # make predictions using current c value\n",
    "        probs = []\n",
    "        for k in classes:\n",
    "            class_mean = class_means[k]\n",
    "            class_cov = class_covs_unreg[k] + np.eye(class_covs_unreg[k].shape[0])*c\n",
    "            mn_k = multivariate_normal(mean = class_mean, cov = class_cov, allow_singular = True)\n",
    "            class_probs = []\n",
    "            for img in val_images:\n",
    "                p_k = np.log(class_priors[k]) + mn_k.logpdf(img)\n",
    "                class_probs.append(p_k)\n",
    "            probs.append(class_probs)\n",
    "        probs = np.array(probs).T\n",
    "        preds = [np.where(row == np.max(row))[0][0] for row in probs]\n",
    "        \n",
    "        # determine accuracy\n",
    "        err = float((val_labels != preds).sum()) / float(len(val_labels)) \n",
    "        c_err.append(err)\n",
    "        \n",
    "    # identify min error and corresponding c value\n",
    "    cur_err = np.min(c_err)\n",
    "    cur_c = c_vals[np.argmin(c_err)]\n",
    "    \n",
    "    # update best_c and min_err\n",
    "    if cur_err < min_err:\n",
    "        best_c = cur_c\n",
    "        min_err = cur_err\n",
    "\n",
    "print '\\nfinal result:  c = %f, error = %f' % (best_c, min_err)\n"
   ]
  },
  {
   "cell_type": "markdown",
   "metadata": {},
   "source": [
    "## Evaluate Performance on Test Data\n",
    "In this section we evaluate the test error rate of the model obtained by tuning the c parameter using the validation data."
   ]
  },
  {
   "cell_type": "code",
   "execution_count": 27,
   "metadata": {
    "collapsed": false
   },
   "outputs": [],
   "source": [
    "# make predictions\n",
    "probs = []\n",
    "for k in classes:\n",
    "    class_mean = class_means[k]\n",
    "    class_cov = class_covs_unreg[k] + np.eye(class_covs[k].shape[0])*best_c\n",
    "    mn_k = multivariate_normal(mean = class_mean, cov = class_cov, allow_singular = True)\n",
    "    class_probs = []\n",
    "    for img in test_images:\n",
    "        p_k = np.log(class_priors[k]) + mn_k.logpdf(img)\n",
    "        class_probs.append(p_k)\n",
    "    probs.append(class_probs)\n",
    "probs = np.array(probs).T\n",
    "test_pred = [np.where(row == np.max(row))[0][0] for row in probs]"
   ]
  },
  {
   "cell_type": "code",
   "execution_count": 28,
   "metadata": {
    "collapsed": false
   },
   "outputs": [
    {
     "name": "stdout",
     "output_type": "stream",
     "text": [
      "Number of mislabeled points out of a total 10000 points : 432\n",
      "Test data error rate : 0.0432\n"
     ]
    }
   ],
   "source": [
    "# check accuracy of predictions on test data\n",
    "print(\"Number of mislabeled points out of a total %d points : %d\" \n",
    "      % (test_images.shape[0], (test_labels != test_pred).sum()))\n",
    "\n",
    "print(\"Test data error rate : %.4f\"\n",
    "      % (float((test_labels != test_pred).sum()) / float(test_images.shape[0])))"
   ]
  },
  {
   "cell_type": "code",
   "execution_count": 29,
   "metadata": {
    "collapsed": true
   },
   "outputs": [],
   "source": [
    "# plot_confusion_matrix code from \n",
    "# http://scikit-learn.org/stable/auto_examples/model_selection/plot_confusion_matrix.html\n",
    "\n",
    "def plot_confusion_matrix(cm, classes,\n",
    "                          normalize=False,\n",
    "                          title='Confusion matrix',\n",
    "                          cmap=plt.cm.Blues):\n",
    "    \"\"\"\n",
    "    This function prints and plots the confusion matrix.\n",
    "    Normalization can be applied by setting `normalize=True`.\n",
    "    \"\"\"\n",
    "    plt.imshow(cm, interpolation='nearest', cmap=cmap)\n",
    "    plt.title(title)\n",
    "    #plt.colorbar()\n",
    "    tick_marks = np.arange(len(classes))\n",
    "    plt.xticks(tick_marks, classes, rotation=45)\n",
    "    plt.yticks(tick_marks, classes)\n",
    "\n",
    "    if normalize:\n",
    "        cm = cm.astype('float') / cm.sum(axis=1)[:, np.newaxis]\n",
    "        #print(\"Normalized confusion matrix\")\n",
    "    else:\n",
    "        pass\n",
    "        #print('Confusion matrix, without normalization')\n",
    "\n",
    "    #print(cm)\n",
    "\n",
    "    thresh = cm.max() / 2.\n",
    "    for i, j in itertools.product(range(cm.shape[0]), range(cm.shape[1])):\n",
    "        plt.text(j, i, cm[i, j],\n",
    "                 horizontalalignment=\"center\",\n",
    "                 color=\"white\" if cm[i, j] > thresh else \"black\")\n",
    "\n",
    "    plt.tight_layout()\n",
    "    plt.ylabel('True label')\n",
    "    plt.xlabel('Predicted label')"
   ]
  },
  {
   "cell_type": "code",
   "execution_count": 30,
   "metadata": {
    "collapsed": false
   },
   "outputs": [
    {
     "data": {
      "image/png": "[encoded data removed]",
      "text/plain": [
       "<matplotlib.figure.Figure at 0x10e222d90>"
      ]
     },
     "metadata": {},
     "output_type": "display_data"
    }
   ],
   "source": [
    "# visualize error via confusion matrix plot\n",
    "cnf_matrix_test = confusion_matrix(test_labels, test_pred)\n",
    "np.set_printoptions(precision=2)\n",
    "\n",
    "# Plot non-normalized confusion matrix\n",
    "plt.figure(figsize = (10, 10))\n",
    "plot_confusion_matrix(cnf_matrix_test, classes=np.unique(test_labels),\n",
    "                      title='Test Data Confusion Matrix From Gaussian Naive Bayes')\n",
    "\n",
    "plt.show();"
   ]
  },
  {
   "cell_type": "markdown",
   "metadata": {},
   "source": [
    "## Plot Misclassified Digits\n",
    "In this section, we will plot a few random misclassified digits from the test data, along with the log likelihood of the digit for each class."
   ]
  },
  {
   "cell_type": "code",
   "execution_count": 31,
   "metadata": {
    "collapsed": false,
    "scrolled": false
   },
   "outputs": [
    {
     "name": "stdout",
     "output_type": "stream",
     "text": [
      "5 random misclassified images from test data:\n",
      "\n",
      "test_images[1549], label: 4, prediction: 6\n",
      "\n",
      "class 0 posterior log likelihood = -4203.31836646\n",
      "class 1 posterior log likelihood = -4249.12230204\n",
      "class 2 posterior log likelihood = -4148.3989032\n",
      "class 3 posterior log likelihood = -4176.79666308\n",
      "class 4 posterior log likelihood = -4154.73005935\n",
      "class 5 posterior log likelihood = -4188.04303447\n",
      "class 6 posterior log likelihood = -4120.49131997\n",
      "class 7 posterior log likelihood = -4240.98979358\n",
      "class 8 posterior log likelihood = -4179.05975694\n",
      "class 9 posterior log likelihood = -4243.2522547\n"
     ]
    },
    {
     "data": {
      "image/png": "[encoded data removed]",
      "text/plain": [
       "<matplotlib.figure.Figure at 0x11d9e8c50>"
      ]
     },
     "metadata": {},
     "output_type": "display_data"
    },
    {
     "name": "stdout",
     "output_type": "stream",
     "text": [
      "test_images[6598], label: 5, prediction: 6\n",
      "\n",
      "class 0 posterior log likelihood = -4122.24033907\n",
      "class 1 posterior log likelihood = -4225.69999656\n",
      "class 2 posterior log likelihood = -4147.42113649\n",
      "class 3 posterior log likelihood = -4127.20802016\n",
      "class 4 posterior log likelihood = -4197.93198051\n",
      "class 5 posterior log likelihood = -4122.17013769\n",
      "class 6 posterior log likelihood = -4109.67437144\n",
      "class 7 posterior log likelihood = -4197.88355361\n",
      "class 8 posterior log likelihood = -4179.99516295\n",
      "class 9 posterior log likelihood = -4185.31027802\n"
     ]
    },
    {
     "data": {
      "image/png": "[encoded data removed]",
      "text/plain": [
       "<matplotlib.figure.Figure at 0x117790b50>"
      ]
     },
     "metadata": {},
     "output_type": "display_data"
    },
    {
     "name": "stdout",
     "output_type": "stream",
     "text": [
      "test_images[5973], label: 3, prediction: 8\n",
      "\n",
      "class 0 posterior log likelihood = -4198.42506941\n",
      "class 1 posterior log likelihood = -4398.80762806\n",
      "class 2 posterior log likelihood = -4186.22576989\n",
      "class 3 posterior log likelihood = -4150.02489883\n",
      "class 4 posterior log likelihood = -4206.88405758\n",
      "class 5 posterior log likelihood = -4142.58945658\n",
      "class 6 posterior log likelihood = -4232.22928843\n",
      "class 7 posterior log likelihood = -4239.96104882\n",
      "class 8 posterior log likelihood = -4131.34605706\n",
      "class 9 posterior log likelihood = -4170.5824965\n"
     ]
    },
    {
     "data": {
      "image/png": "[encoded data removed]",
      "text/plain": [
       "<matplotlib.figure.Figure at 0x10d67f250>"
      ]
     },
     "metadata": {},
     "output_type": "display_data"
    },
    {
     "name": "stdout",
     "output_type": "stream",
     "text": [
      "test_images[741], label: 2, prediction: 8\n",
      "\n",
      "class 0 posterior log likelihood = -4164.06622797\n",
      "class 1 posterior log likelihood = -4170.23922729\n",
      "class 2 posterior log likelihood = -4112.42018226\n",
      "class 3 posterior log likelihood = -4122.30048324\n",
      "class 4 posterior log likelihood = -4172.95683276\n",
      "class 5 posterior log likelihood = -4178.37028405\n",
      "class 6 posterior log likelihood = -4235.86494675\n",
      "class 7 posterior log likelihood = -4144.00187856\n",
      "class 8 posterior log likelihood = -4098.75131895\n",
      "class 9 posterior log likelihood = -4150.9048959\n"
     ]
    },
    {
     "data": {
      "image/png": "[encoded data removed]",
      "text/plain": [
       "<matplotlib.figure.Figure at 0x1171d17d0>"
      ]
     },
     "metadata": {},
     "output_type": "display_data"
    },
    {
     "name": "stdout",
     "output_type": "stream",
     "text": [
      "test_images[2044], label: 2, prediction: 7\n",
      "\n",
      "class 0 posterior log likelihood = -4243.03806209\n",
      "class 1 posterior log likelihood = -4479.95854127\n",
      "class 2 posterior log likelihood = -4216.69912704\n",
      "class 3 posterior log likelihood = -4237.31688919\n",
      "class 4 posterior log likelihood = -4266.75951108\n",
      "class 5 posterior log likelihood = -4270.8248882\n",
      "class 6 posterior log likelihood = -4438.99846701\n",
      "class 7 posterior log likelihood = -4177.84321407\n",
      "class 8 posterior log likelihood = -4190.64563394\n",
      "class 9 posterior log likelihood = -4223.46004045\n"
     ]
    },
    {
     "data": {
      "image/png": "[encoded data removed]",
      "text/plain": [
       "<matplotlib.figure.Figure at 0x110f8d390>"
      ]
     },
     "metadata": {},
     "output_type": "display_data"
    }
   ],
   "source": [
    "# find and visualize a few random missclassified images\n",
    "misclassified_idx = np.where(test_labels != test_pred)[0]\n",
    "\n",
    "num_images = 5\n",
    "\n",
    "print num_images, 'random misclassified images from test data:\\n'\n",
    "\n",
    "for i in np.random.choice(misclassified_idx, size = num_images, replace = False):\n",
    "    img_i = test_images[i]\n",
    "    print 'test_images[%s], label: %s, prediction: %s\\n' % (i, test_labels[i], test_pred[i])\n",
    "    \n",
    "    posterior_probs = []\n",
    "    for k in classes:\n",
    "        class_mean = class_means[k]\n",
    "        class_cov = class_covs_unreg[k] + np.eye(class_covs[k].shape[0])*best_c\n",
    "        mn_k = multivariate_normal(mean = class_mean, cov = class_cov, allow_singular = True)\n",
    "        post_prob_k = np.log(class_priors[k]) + mn_k.logpdf(img_i)\n",
    "        print 'class', k, 'posterior log likelihood =', post_prob_k\n",
    "    displaychar(img_i)    \n",
    "    "
   ]
  },
  {
   "cell_type": "markdown",
   "metadata": {
    "collapsed": true
   },
   "source": [
    "## Conclusions\n",
    "The initial choice of c resulted in a training error rate of about 10%, and a validation error rate of about 13.5%.  Tuning the c parameter on the validation data improved model performance, reducing validation error to below 5% and resulting in a test error rate of about 4.3% in the final model."
   ]
  }
 ],
 "metadata": {
  "anaconda-cloud": {},
  "kernelspec": {
   "display_name": "Python [conda env:python2]",
   "language": "python",
   "name": "conda-env-python2-py"
  },
  "language_info": {
   "codemirror_mode": {
    "name": "ipython",
    "version": 2
   },
   "file_extension": ".py",
   "mimetype": "text/x-python",
   "name": "python",
   "nbconvert_exporter": "python",
   "pygments_lexer": "ipython2",
   "version": "2.7.12"
  }
 },
 "nbformat": 4,
 "nbformat_minor": 1
}
