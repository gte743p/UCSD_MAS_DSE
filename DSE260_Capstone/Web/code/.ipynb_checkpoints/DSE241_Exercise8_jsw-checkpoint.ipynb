{
 "cells": [
  {
   "cell_type": "markdown",
   "metadata": {},
   "source": [
    "# DSE241 Exercise 8 Data Processing Notebook\n",
    "The purpose of this notebook is to merge West_Nile_Virus_by_County.json with california-counties.geojson\n",
    "\n",
    "california-counties.geojson downloaded from https://github.com/codeforamerica/click_that_hood/blob/master/public/data/california-counties.geojson"
   ]
  },
  {
   "cell_type": "code",
   "execution_count": 1,
   "metadata": {
    "collapsed": true
   },
   "outputs": [],
   "source": [
    "import json\n",
    "import copy\n",
    "import pandas as pd"
   ]
  },
  {
   "cell_type": "markdown",
   "metadata": {},
   "source": [
    "## Check csv to see range of years/weeks"
   ]
  },
  {
   "cell_type": "code",
   "execution_count": 2,
   "metadata": {
    "collapsed": true
   },
   "outputs": [],
   "source": [
    "wnf_df = pd.read_csv('../data/West_Nile_Virus_by_County.csv')"
   ]
  },
  {
   "cell_type": "code",
   "execution_count": 3,
   "metadata": {
    "collapsed": false
   },
   "outputs": [
    {
     "name": "stdout",
     "output_type": "stream",
     "text": [
      "9 53\n"
     ]
    }
   ],
   "source": [
    "print(wnf_df['Week_Reported'].min(), wnf_df['Week_Reported'].max())"
   ]
  },
  {
   "cell_type": "code",
   "execution_count": 4,
   "metadata": {
    "collapsed": false
   },
   "outputs": [
    {
     "name": "stdout",
     "output_type": "stream",
     "text": [
      "2006 2015\n"
     ]
    }
   ],
   "source": [
    "print(wnf_df['Year'].min(), wnf_df['Year'].max())"
   ]
  },
  {
   "cell_type": "code",
   "execution_count": 5,
   "metadata": {
    "collapsed": false
   },
   "outputs": [
    {
     "data": {
      "text/plain": [
       "County\n",
       "Alameda               6\n",
       "Amador                1\n",
       "Butte               170\n",
       "Calaveras             1\n",
       "Colusa               15\n",
       "Contra Costa         42\n",
       "El Dorado             6\n",
       "Fresno              157\n",
       "Glenn                68\n",
       "Imperial              7\n",
       "Kern                315\n",
       "Kings                23\n",
       "Lake                  6\n",
       "Los Angeles        1112\n",
       "Madera               25\n",
       "Marin                 4\n",
       "Mendocino             4\n",
       "Merced               30\n",
       "Modoc                 2\n",
       "Mono                  1\n",
       "Monterey              2\n",
       "Napa                  3\n",
       "Nevada                3\n",
       "Orange              500\n",
       "Placer               47\n",
       "Riverside           286\n",
       "Sacramento          123\n",
       "San Bernardino      170\n",
       "San Diego           108\n",
       "San Francisco         3\n",
       "San Joaquin          83\n",
       "San Luis Obispo       1\n",
       "Santa Barbara         3\n",
       "Santa Clara          31\n",
       "Santa Cruz            1\n",
       "Shasta               21\n",
       "Siskiyou              2\n",
       "Solano               17\n",
       "Sonoma                1\n",
       "Stanislaus          174\n",
       "Sutter               43\n",
       "Tehama               28\n",
       "Tulare               96\n",
       "Ventura              20\n",
       "Yolo                 70\n",
       "Yuba                 36\n",
       "Name: Positive_Cases, dtype: int64"
      ]
     },
     "execution_count": 5,
     "metadata": {},
     "output_type": "execute_result"
    }
   ],
   "source": [
    "# print number of total cases by county\n",
    "wnf_df.groupby('County')['Positive_Cases'].sum()"
   ]
  },
  {
   "cell_type": "markdown",
   "metadata": {},
   "source": [
    "## Read json files"
   ]
  },
  {
   "cell_type": "code",
   "execution_count": 7,
   "metadata": {
    "collapsed": false
   },
   "outputs": [],
   "source": [
    "with open('../data/West_Nile_Virus_by_County.json') as wnv_json:  \n",
    "    wnv_list = json.load(wnv_json)\n",
    "\n",
    "with open('../data/california-counties.geojson') as counties_json:  \n",
    "    counties_dict = json.load(counties_json)"
   ]
  },
  {
   "cell_type": "markdown",
   "metadata": {},
   "source": [
    "### Convert wnv_list to dictionary"
   ]
  },
  {
   "cell_type": "code",
   "execution_count": 8,
   "metadata": {
    "collapsed": false
   },
   "outputs": [],
   "source": [
    "# create template dict to use to fill in missing counties/years\n",
    "template_reports_dict = {}\n",
    "template_reports_dict['Total'] = 0\n",
    "template_reports_dict['By_Year'] = {}\n",
    "\n",
    "for year in range(2006,2016):\n",
    "    template_reports_dict['By_Year'][year] = {}\n",
    "    template_reports_dict['By_Year'][year]['Yearly_Total'] = 0\n",
    "    template_reports_dict['By_Year'][year]['By_Week'] = [0]*53"
   ]
  },
  {
   "cell_type": "code",
   "execution_count": 9,
   "metadata": {
    "collapsed": false
   },
   "outputs": [],
   "source": [
    "wnv_dict = {}\n",
    "for elem in wnv_list:\n",
    "    temp_county = elem['County']\n",
    "    temp_wk_rpt = elem['Week_Reported']\n",
    "    temp_year = elem['Year']\n",
    "    temp_cases = elem['Positive_Cases']\n",
    "    \n",
    "    if temp_county not in wnv_dict.keys():        \n",
    "        # add county to dict\n",
    "        wnv_dict[temp_county] = {}\n",
    "        wnv_dict[temp_county]['Total'] = 0\n",
    "\n",
    "        # copy template report dict to ensure all years are included\n",
    "        wnv_dict[temp_county]['By_Year'] = copy.deepcopy(template_reports_dict['By_Year'])\n",
    "\n",
    "    # add reports for county and year\n",
    "    wnv_dict[temp_county]['By_Year'][temp_year]['By_Week'][temp_wk_rpt-1] = temp_cases\n",
    "    wnv_dict[temp_county]['By_Year'][temp_year]['Yearly_Total'] += temp_cases\n",
    "    wnv_dict[temp_county]['Total'] += temp_cases"
   ]
  },
  {
   "cell_type": "code",
   "execution_count": 10,
   "metadata": {
    "collapsed": false
   },
   "outputs": [
    {
     "data": {
      "text/plain": [
       "6"
      ]
     },
     "execution_count": 10,
     "metadata": {},
     "output_type": "execute_result"
    }
   ],
   "source": [
    "wnv_dict['Alameda']['Total']"
   ]
  },
  {
   "cell_type": "markdown",
   "metadata": {},
   "source": [
    "### Add WNV reports for matching counties to 'properties' in county_dict"
   ]
  },
  {
   "cell_type": "code",
   "execution_count": 11,
   "metadata": {
    "collapsed": false
   },
   "outputs": [],
   "source": [
    "for elem in counties_dict['features']:\n",
    "    temp_county = elem['properties']['name']\n",
    "    if temp_county in wnv_dict.keys():\n",
    "        temp_county_reports = wnv_dict[temp_county]\n",
    "        elem['properties']['reports'] = temp_county_reports\n",
    "    else:\n",
    "        elem['properties']['reports'] = template_reports_dict"
   ]
  },
  {
   "cell_type": "code",
   "execution_count": 13,
   "metadata": {
    "collapsed": false
   },
   "outputs": [],
   "source": [
    "# dump modified geojson to file\n",
    "with open('../data/WNV_County.geojson', 'w', encoding='utf-8') as f:\n",
    "    json.dump(counties_dict, f)"
   ]
  },
  {
   "cell_type": "code",
   "execution_count": null,
   "metadata": {
    "collapsed": true
   },
   "outputs": [],
   "source": []
  }
 ],
 "metadata": {
  "kernelspec": {
   "display_name": "Python 3",
   "language": "python",
   "name": "python3"
  },
  "language_info": {
   "codemirror_mode": {
    "name": "ipython",
    "version": 3
   },
   "file_extension": ".py",
   "mimetype": "text/x-python",
   "name": "python",
   "nbconvert_exporter": "python",
   "pygments_lexer": "ipython3",
   "version": "3.6.0"
  }
 },
 "nbformat": 4,
 "nbformat_minor": 2
}
