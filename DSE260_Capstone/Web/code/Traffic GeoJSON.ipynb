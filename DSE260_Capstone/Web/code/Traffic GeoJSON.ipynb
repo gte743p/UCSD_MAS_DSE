{
 "cells": [
  {
   "cell_type": "code",
   "execution_count": 1,
   "metadata": {
    "colab": {
     "autoexec": {
      "startup": false,
      "wait_interval": 0
     }
    },
    "colab_type": "code",
    "collapsed": true,
    "id": "ub6Tid1fopr-"
   },
   "outputs": [],
   "source": [
    "import json\n",
    "import pandas as pd\n",
    "import psycopg2 as pg\n",
    "import datetime as dt"
   ]
  },
  {
   "cell_type": "markdown",
   "metadata": {},
   "source": [
    "### set query inputs\n",
    "helpful link for lat long coordinates:  https://www.latlong.net/"
   ]
  },
  {
   "cell_type": "code",
   "execution_count": 2,
   "metadata": {
    "collapsed": true
   },
   "outputs": [],
   "source": [
    "# Inputs\n",
    "input_radius = 0.5\n",
    "input_poi = \"32.7077° N, 117.1569° W\" # padres stadium\n",
    "input_nw_corner = \"32.725064° N, 117.176791° W\"\n",
    "input_se_corner = \"32.707094° N, 117.146235° W\"\n",
    "input_street = None # filter to specific street"
   ]
  },
  {
   "cell_type": "markdown",
   "metadata": {
    "colab_type": "text",
    "id": "cKQxFQOfopsE"
   },
   "source": [
    "### get data from postgres"
   ]
  },
  {
   "cell_type": "code",
   "execution_count": 3,
   "metadata": {
    "colab": {
     "autoexec": {
      "startup": false,
      "wait_interval": 0
     }
    },
    "colab_type": "code",
    "collapsed": true,
    "id": "DYf410XdopsE"
   },
   "outputs": [],
   "source": [
    "# replace database inputs as appropriate\n",
    "\n",
    "postgres_password = open('/Users/joshwilson/Documents/DSE/capstone-cohort3-group3/Team/Josh/notebooks/postgres_password.txt', 'r').read()\n",
    "\n",
    "# replace database inputs as appropriate\n",
    "conn_str = \"host={} dbname={} user={} password={}\".format(\n",
    "    'localhost', 'waze_schema', 'postgres', postgres_password)\n",
    "\n",
    "#conn_str = \"host={} dbname={} user={} password={}\".format('localhost', 'waze_schema', 'postgres', 'kilgore431')\n",
    "conn = pg.connect(conn_str)"
   ]
  },
  {
   "cell_type": "code",
   "execution_count": 4,
   "metadata": {
    "colab": {
     "autoexec": {
      "startup": false,
      "wait_interval": 0
     }
    },
    "colab_type": "code",
    "collapsed": true,
    "id": "sYVUN76jopsG"
   },
   "outputs": [],
   "source": [
    "def mile_to_meter(mile):\n",
    "    meter = int(round(mile*1609.344))\n",
    "    return str(meter)\n",
    "\n",
    "def bounding_box(nw, se):\n",
    "    nw = nw.replace(\"° N\",\"\").replace(\"° W\", \"\")\n",
    "    nw = nw.split(', ')\n",
    "    se = se.replace(\"° N\",\"\").replace(\"° W\", \"\")\n",
    "    se = se.split(', ')\n",
    "    \n",
    "    return \"geom @ ST_MakeEnvelope (-{}, {}, -{}, {}) and ST_Length(geom) > 0\".format(nw[1],nw[0],se[1],se[0])\n",
    "\n",
    "def sql_radius(google_lat_lon, mile):\n",
    "    lat_lon = google_lat_lon.replace(\"° N\",\"\").replace(\"° W\", \"\")\n",
    "    lat_lon = lat_lon.split(', ')\n",
    "    return \"ST_DWithin(geom, ST_MakePoint(\" + \"-\"+ lat_lon[1] +\",\" + lat_lon[0] + \")::geography,\" + mile_to_meter(mile) +')'"
   ]
  },
  {
   "cell_type": "code",
   "execution_count": 5,
   "metadata": {},
   "outputs": [
    {
     "data": {
      "text/plain": [
       "'geom @ ST_MakeEnvelope (-117.176791, 32.725064, -117.146235, 32.707094) and ST_Length(geom) > 0'"
      ]
     },
     "execution_count": 5,
     "metadata": {},
     "output_type": "execute_result"
    }
   ],
   "source": [
    "bounding_box(input_nw_corner, input_se_corner)"
   ]
  },
  {
   "cell_type": "code",
   "execution_count": 6,
   "metadata": {
    "colab": {
     "autoexec": {
      "startup": false,
      "wait_interval": 0
     },
     "output_extras": [
      {}
     ]
    },
    "colab_type": "code",
    "id": "XocnlCOxopsI",
    "outputId": "a8ad7236-9b3d-40a5-9667-af7765554416"
   },
   "outputs": [
    {
     "data": {
      "text/plain": [
       "'SELECT segment_id, street, road_type, ST_AsGeoJSON(geom) AS geometry FROM segments WHERE geom @ ST_MakeEnvelope (-117.176791, 32.725064, -117.146235, 32.707094) and ST_Length(geom) > 0'"
      ]
     },
     "execution_count": 6,
     "metadata": {},
     "output_type": "execute_result"
    }
   ],
   "source": [
    "# set input_poi, input_radius, input_street at top of notebook\n",
    "\n",
    "select_attributes = \"segment_id, street, road_type, ST_AsGeoJSON(geom) AS geometry\"\n",
    "#where_conditions = sql_radius(input_poi, input_radius)\n",
    "where_conditions = bounding_box(input_nw_corner, input_se_corner)\n",
    "where_conditions_street = \"\" if input_street==None else \" AND street = '\" + input_street + \"'\"\n",
    "segments_sql = \"SELECT \" + select_attributes + \" FROM segments WHERE \" + where_conditions + where_conditions_street\n",
    "segments_sql"
   ]
  },
  {
   "cell_type": "code",
   "execution_count": 7,
   "metadata": {
    "colab": {
     "autoexec": {
      "startup": false,
      "wait_interval": 0
     },
     "output_extras": [
      {},
      {}
     ]
    },
    "colab_type": "code",
    "id": "hGh0fhMdopsN",
    "outputId": "f3c7e282-9a43-438e-916c-f404a3e7c93c"
   },
   "outputs": [
    {
     "name": "stdout",
     "output_type": "stream",
     "text": [
      "1608 rows\n"
     ]
    },
    {
     "data": {
      "text/html": [
       "<div>\n",
       "<style>\n",
       "    .dataframe thead tr:only-child th {\n",
       "        text-align: right;\n",
       "    }\n",
       "\n",
       "    .dataframe thead th {\n",
       "        text-align: left;\n",
       "    }\n",
       "\n",
       "    .dataframe tbody tr th {\n",
       "        vertical-align: top;\n",
       "    }\n",
       "</style>\n",
       "<table border=\"1\" class=\"dataframe\">\n",
       "  <thead>\n",
       "    <tr style=\"text-align: right;\">\n",
       "      <th></th>\n",
       "      <th>segment_id</th>\n",
       "      <th>street</th>\n",
       "      <th>road_type</th>\n",
       "      <th>geometry</th>\n",
       "    </tr>\n",
       "  </thead>\n",
       "  <tbody>\n",
       "    <tr>\n",
       "      <th>0</th>\n",
       "      <td>295</td>\n",
       "      <td>W Cedar St</td>\n",
       "      <td>2</td>\n",
       "      <td>{\"type\":\"LineString\",\"coordinates\":[[-117.1682...</td>\n",
       "    </tr>\n",
       "    <tr>\n",
       "      <th>1</th>\n",
       "      <td>9132</td>\n",
       "      <td>India St</td>\n",
       "      <td>7</td>\n",
       "      <td>{\"type\":\"LineString\",\"coordinates\":[[-117.1682...</td>\n",
       "    </tr>\n",
       "    <tr>\n",
       "      <th>2</th>\n",
       "      <td>11944</td>\n",
       "      <td>W Cedar St</td>\n",
       "      <td>2</td>\n",
       "      <td>{\"type\":\"LineString\",\"coordinates\":[[-117.1682...</td>\n",
       "    </tr>\n",
       "    <tr>\n",
       "      <th>3</th>\n",
       "      <td>296</td>\n",
       "      <td>W Beech St</td>\n",
       "      <td>1</td>\n",
       "      <td>{\"type\":\"LineString\",\"coordinates\":[[-117.1682...</td>\n",
       "    </tr>\n",
       "    <tr>\n",
       "      <th>4</th>\n",
       "      <td>17326</td>\n",
       "      <td>W Beech St</td>\n",
       "      <td>1</td>\n",
       "      <td>{\"type\":\"LineString\",\"coordinates\":[[-117.1682...</td>\n",
       "    </tr>\n",
       "  </tbody>\n",
       "</table>\n",
       "</div>"
      ],
      "text/plain": [
       "   segment_id      street  road_type  \\\n",
       "0         295  W Cedar St          2   \n",
       "1        9132    India St          7   \n",
       "2       11944  W Cedar St          2   \n",
       "3         296  W Beech St          1   \n",
       "4       17326  W Beech St          1   \n",
       "\n",
       "                                            geometry  \n",
       "0  {\"type\":\"LineString\",\"coordinates\":[[-117.1682...  \n",
       "1  {\"type\":\"LineString\",\"coordinates\":[[-117.1682...  \n",
       "2  {\"type\":\"LineString\",\"coordinates\":[[-117.1682...  \n",
       "3  {\"type\":\"LineString\",\"coordinates\":[[-117.1682...  \n",
       "4  {\"type\":\"LineString\",\"coordinates\":[[-117.1682...  "
      ]
     },
     "execution_count": 7,
     "metadata": {},
     "output_type": "execute_result"
    }
   ],
   "source": [
    "# get segments\n",
    "segments_df = pd.read_sql(segments_sql, con=conn)\n",
    "print(str(len(segments_df)) + \" rows\")\n",
    "segments_df.head()"
   ]
  },
  {
   "cell_type": "code",
   "execution_count": 8,
   "metadata": {
    "colab": {
     "autoexec": {
      "startup": false,
      "wait_interval": 0
     },
     "output_extras": [
      {},
      {}
     ]
    },
    "colab_type": "code",
    "id": "zO7wuXu4opsR",
    "outputId": "aef47c39-9daa-4e0c-8c97-f69d98563b11"
   },
   "outputs": [
    {
     "name": "stdout",
     "output_type": "stream",
     "text": [
      "36000 rows\n"
     ]
    },
    {
     "data": {
      "text/html": [
       "<div>\n",
       "<style>\n",
       "    .dataframe thead tr:only-child th {\n",
       "        text-align: right;\n",
       "    }\n",
       "\n",
       "    .dataframe thead th {\n",
       "        text-align: left;\n",
       "    }\n",
       "\n",
       "    .dataframe tbody tr th {\n",
       "        vertical-align: top;\n",
       "    }\n",
       "</style>\n",
       "<table border=\"1\" class=\"dataframe\">\n",
       "  <thead>\n",
       "    <tr style=\"text-align: right;\">\n",
       "      <th></th>\n",
       "      <th>time_id</th>\n",
       "      <th>date</th>\n",
       "      <th>time</th>\n",
       "      <th>day_of_week</th>\n",
       "    </tr>\n",
       "  </thead>\n",
       "  <tbody>\n",
       "    <tr>\n",
       "      <th>0</th>\n",
       "      <td>1</td>\n",
       "      <td>2017-02-08</td>\n",
       "      <td>00:00:00</td>\n",
       "      <td>4</td>\n",
       "    </tr>\n",
       "    <tr>\n",
       "      <th>1</th>\n",
       "      <td>2</td>\n",
       "      <td>2017-02-08</td>\n",
       "      <td>00:05:00</td>\n",
       "      <td>4</td>\n",
       "    </tr>\n",
       "    <tr>\n",
       "      <th>2</th>\n",
       "      <td>3</td>\n",
       "      <td>2017-02-08</td>\n",
       "      <td>00:10:00</td>\n",
       "      <td>4</td>\n",
       "    </tr>\n",
       "    <tr>\n",
       "      <th>3</th>\n",
       "      <td>4</td>\n",
       "      <td>2017-02-08</td>\n",
       "      <td>00:15:00</td>\n",
       "      <td>4</td>\n",
       "    </tr>\n",
       "    <tr>\n",
       "      <th>4</th>\n",
       "      <td>5</td>\n",
       "      <td>2017-02-08</td>\n",
       "      <td>00:20:00</td>\n",
       "      <td>4</td>\n",
       "    </tr>\n",
       "  </tbody>\n",
       "</table>\n",
       "</div>"
      ],
      "text/plain": [
       "   time_id        date      time day_of_week\n",
       "0        1  2017-02-08  00:00:00           4\n",
       "1        2  2017-02-08  00:05:00           4\n",
       "2        3  2017-02-08  00:10:00           4\n",
       "3        4  2017-02-08  00:15:00           4\n",
       "4        5  2017-02-08  00:20:00           4"
      ]
     },
     "execution_count": 8,
     "metadata": {},
     "output_type": "execute_result"
    }
   ],
   "source": [
    "#Time slices on all days of week (5 minute intervals)\n",
    "time_df = pd.read_sql('select time_id, date, time, day_of_week from time;', con=conn)\n",
    "print(str(len(time_df))+\" rows\")\n",
    "time_df.head()"
   ]
  },
  {
   "cell_type": "code",
   "execution_count": 9,
   "metadata": {
    "colab": {
     "autoexec": {
      "startup": false,
      "wait_interval": 0
     },
     "output_extras": [
      {},
      {}
     ]
    },
    "colab_type": "code",
    "id": "VUkBzqIbopsV",
    "outputId": "46b49470-23b2-4ef8-f0cc-d92cd2eaa972"
   },
   "outputs": [
    {
     "name": "stdout",
     "output_type": "stream",
     "text": [
      "57888000 rows\n"
     ]
    },
    {
     "data": {
      "text/html": [
       "<div>\n",
       "<style>\n",
       "    .dataframe thead tr:only-child th {\n",
       "        text-align: right;\n",
       "    }\n",
       "\n",
       "    .dataframe thead th {\n",
       "        text-align: left;\n",
       "    }\n",
       "\n",
       "    .dataframe tbody tr th {\n",
       "        vertical-align: top;\n",
       "    }\n",
       "</style>\n",
       "<table border=\"1\" class=\"dataframe\">\n",
       "  <thead>\n",
       "    <tr style=\"text-align: right;\">\n",
       "      <th></th>\n",
       "      <th>time_id</th>\n",
       "      <th>date</th>\n",
       "      <th>time</th>\n",
       "      <th>day_of_week</th>\n",
       "      <th>tmp</th>\n",
       "      <th>segment_id</th>\n",
       "      <th>street</th>\n",
       "      <th>road_type</th>\n",
       "      <th>geometry</th>\n",
       "    </tr>\n",
       "  </thead>\n",
       "  <tbody>\n",
       "    <tr>\n",
       "      <th>0</th>\n",
       "      <td>1</td>\n",
       "      <td>2017-02-08</td>\n",
       "      <td>00:00:00</td>\n",
       "      <td>4</td>\n",
       "      <td>1</td>\n",
       "      <td>295</td>\n",
       "      <td>W Cedar St</td>\n",
       "      <td>2</td>\n",
       "      <td>{\"type\":\"LineString\",\"coordinates\":[[-117.1682...</td>\n",
       "    </tr>\n",
       "    <tr>\n",
       "      <th>1</th>\n",
       "      <td>1</td>\n",
       "      <td>2017-02-08</td>\n",
       "      <td>00:00:00</td>\n",
       "      <td>4</td>\n",
       "      <td>1</td>\n",
       "      <td>9132</td>\n",
       "      <td>India St</td>\n",
       "      <td>7</td>\n",
       "      <td>{\"type\":\"LineString\",\"coordinates\":[[-117.1682...</td>\n",
       "    </tr>\n",
       "    <tr>\n",
       "      <th>2</th>\n",
       "      <td>1</td>\n",
       "      <td>2017-02-08</td>\n",
       "      <td>00:00:00</td>\n",
       "      <td>4</td>\n",
       "      <td>1</td>\n",
       "      <td>11944</td>\n",
       "      <td>W Cedar St</td>\n",
       "      <td>2</td>\n",
       "      <td>{\"type\":\"LineString\",\"coordinates\":[[-117.1682...</td>\n",
       "    </tr>\n",
       "    <tr>\n",
       "      <th>3</th>\n",
       "      <td>1</td>\n",
       "      <td>2017-02-08</td>\n",
       "      <td>00:00:00</td>\n",
       "      <td>4</td>\n",
       "      <td>1</td>\n",
       "      <td>296</td>\n",
       "      <td>W Beech St</td>\n",
       "      <td>1</td>\n",
       "      <td>{\"type\":\"LineString\",\"coordinates\":[[-117.1682...</td>\n",
       "    </tr>\n",
       "    <tr>\n",
       "      <th>4</th>\n",
       "      <td>1</td>\n",
       "      <td>2017-02-08</td>\n",
       "      <td>00:00:00</td>\n",
       "      <td>4</td>\n",
       "      <td>1</td>\n",
       "      <td>17326</td>\n",
       "      <td>W Beech St</td>\n",
       "      <td>1</td>\n",
       "      <td>{\"type\":\"LineString\",\"coordinates\":[[-117.1682...</td>\n",
       "    </tr>\n",
       "  </tbody>\n",
       "</table>\n",
       "</div>"
      ],
      "text/plain": [
       "   time_id        date      time day_of_week  tmp  segment_id      street  \\\n",
       "0        1  2017-02-08  00:00:00           4    1         295  W Cedar St   \n",
       "1        1  2017-02-08  00:00:00           4    1        9132    India St   \n",
       "2        1  2017-02-08  00:00:00           4    1       11944  W Cedar St   \n",
       "3        1  2017-02-08  00:00:00           4    1         296  W Beech St   \n",
       "4        1  2017-02-08  00:00:00           4    1       17326  W Beech St   \n",
       "\n",
       "   road_type                                           geometry  \n",
       "0          2  {\"type\":\"LineString\",\"coordinates\":[[-117.1682...  \n",
       "1          7  {\"type\":\"LineString\",\"coordinates\":[[-117.1682...  \n",
       "2          2  {\"type\":\"LineString\",\"coordinates\":[[-117.1682...  \n",
       "3          1  {\"type\":\"LineString\",\"coordinates\":[[-117.1682...  \n",
       "4          1  {\"type\":\"LineString\",\"coordinates\":[[-117.1682...  "
      ]
     },
     "execution_count": 9,
     "metadata": {},
     "output_type": "execute_result"
    }
   ],
   "source": [
    "#Cartesian Product of segments and times\n",
    "\n",
    "time_df['tmp'] = 1\n",
    "segments_df['tmp'] = 1\n",
    "segments_time_df = pd.merge(time_df, segments_df, how='outer', on=['tmp'])\n",
    "print(str(len(segments_time_df))+\" rows\")\n",
    "segments_time_df.head()"
   ]
  },
  {
   "cell_type": "code",
   "execution_count": 10,
   "metadata": {
    "colab": {
     "autoexec": {
      "startup": false,
      "wait_interval": 0
     },
     "output_extras": [
      {},
      {}
     ]
    },
    "colab_type": "code",
    "id": "-7fqZUmcopsX",
    "outputId": "fa51b09b-f285-4d58-cdab-e45ceb05f2d0"
   },
   "outputs": [
    {
     "name": "stdout",
     "output_type": "stream",
     "text": [
      "15146101 rows\n"
     ]
    },
    {
     "data": {
      "text/html": [
       "<div>\n",
       "<style>\n",
       "    .dataframe thead tr:only-child th {\n",
       "        text-align: right;\n",
       "    }\n",
       "\n",
       "    .dataframe thead th {\n",
       "        text-align: left;\n",
       "    }\n",
       "\n",
       "    .dataframe tbody tr th {\n",
       "        vertical-align: top;\n",
       "    }\n",
       "</style>\n",
       "<table border=\"1\" class=\"dataframe\">\n",
       "  <thead>\n",
       "    <tr style=\"text-align: right;\">\n",
       "      <th></th>\n",
       "      <th>segment_id</th>\n",
       "      <th>time_id</th>\n",
       "      <th>street</th>\n",
       "      <th>date</th>\n",
       "      <th>time</th>\n",
       "      <th>day_of_week</th>\n",
       "      <th>level</th>\n",
       "    </tr>\n",
       "  </thead>\n",
       "  <tbody>\n",
       "    <tr>\n",
       "      <th>0</th>\n",
       "      <td>13407</td>\n",
       "      <td>4830</td>\n",
       "      <td>E Palomar St</td>\n",
       "      <td>2017-02-24</td>\n",
       "      <td>18:25:00</td>\n",
       "      <td>6</td>\n",
       "      <td>2</td>\n",
       "    </tr>\n",
       "    <tr>\n",
       "      <th>1</th>\n",
       "      <td>13407</td>\n",
       "      <td>16631</td>\n",
       "      <td>E Palomar St</td>\n",
       "      <td>2017-04-06</td>\n",
       "      <td>17:50:00</td>\n",
       "      <td>5</td>\n",
       "      <td>2</td>\n",
       "    </tr>\n",
       "    <tr>\n",
       "      <th>2</th>\n",
       "      <td>13407</td>\n",
       "      <td>20643</td>\n",
       "      <td>E Palomar St</td>\n",
       "      <td>2017-04-20</td>\n",
       "      <td>16:10:00</td>\n",
       "      <td>5</td>\n",
       "      <td>3</td>\n",
       "    </tr>\n",
       "    <tr>\n",
       "      <th>3</th>\n",
       "      <td>13407</td>\n",
       "      <td>26293</td>\n",
       "      <td>E Palomar St</td>\n",
       "      <td>2017-05-10</td>\n",
       "      <td>07:00:00</td>\n",
       "      <td>4</td>\n",
       "      <td>2</td>\n",
       "    </tr>\n",
       "    <tr>\n",
       "      <th>4</th>\n",
       "      <td>13407</td>\n",
       "      <td>30759</td>\n",
       "      <td>E Palomar St</td>\n",
       "      <td>2017-05-25</td>\n",
       "      <td>19:10:00</td>\n",
       "      <td>5</td>\n",
       "      <td>2</td>\n",
       "    </tr>\n",
       "  </tbody>\n",
       "</table>\n",
       "</div>"
      ],
      "text/plain": [
       "   segment_id  time_id        street        date      time day_of_week  level\n",
       "0       13407     4830  E Palomar St  2017-02-24  18:25:00           6      2\n",
       "1       13407    16631  E Palomar St  2017-04-06  17:50:00           5      2\n",
       "2       13407    20643  E Palomar St  2017-04-20  16:10:00           5      3\n",
       "3       13407    26293  E Palomar St  2017-05-10  07:00:00           4      2\n",
       "4       13407    30759  E Palomar St  2017-05-25  19:10:00           5      2"
      ]
     },
     "execution_count": 10,
     "metadata": {},
     "output_type": "execute_result"
    }
   ],
   "source": [
    "#Level for congestion events with associated segment and time information\n",
    "\n",
    "level_df = pd.read_sql('''select m.segment_id, m.time_id, s.street, t.date, t.time, t.day_of_week, u.level\n",
    "                        from matrix m, time t, uuid u, segments s\n",
    "                        where m.time_id = t.time_id and m.uuid_instance_id = u.uuid_instance_id and s.segment_id = m.segment_id''', con=conn)\n",
    "\n",
    "print(str(len(level_df))+\" rows\")\n",
    "level_df.head()"
   ]
  },
  {
   "cell_type": "code",
   "execution_count": 11,
   "metadata": {
    "colab": {
     "autoexec": {
      "startup": false,
      "wait_interval": 0
     },
     "output_extras": [
      {},
      {}
     ]
    },
    "colab_type": "code",
    "id": "46h-7ponopsc",
    "outputId": "4cd1c850-5c3e-455a-dcbf-46eab068cc98"
   },
   "outputs": [
    {
     "name": "stdout",
     "output_type": "stream",
     "text": [
      "57906628 rows\n"
     ]
    },
    {
     "data": {
      "text/html": [
       "<div>\n",
       "<style>\n",
       "    .dataframe thead tr:only-child th {\n",
       "        text-align: right;\n",
       "    }\n",
       "\n",
       "    .dataframe thead th {\n",
       "        text-align: left;\n",
       "    }\n",
       "\n",
       "    .dataframe tbody tr th {\n",
       "        vertical-align: top;\n",
       "    }\n",
       "</style>\n",
       "<table border=\"1\" class=\"dataframe\">\n",
       "  <thead>\n",
       "    <tr style=\"text-align: right;\">\n",
       "      <th></th>\n",
       "      <th>time_id</th>\n",
       "      <th>date</th>\n",
       "      <th>time</th>\n",
       "      <th>day_of_week</th>\n",
       "      <th>tmp</th>\n",
       "      <th>segment_id</th>\n",
       "      <th>street</th>\n",
       "      <th>road_type</th>\n",
       "      <th>geometry</th>\n",
       "      <th>level</th>\n",
       "    </tr>\n",
       "  </thead>\n",
       "  <tbody>\n",
       "    <tr>\n",
       "      <th>0</th>\n",
       "      <td>1</td>\n",
       "      <td>2017-02-08</td>\n",
       "      <td>00:00:00</td>\n",
       "      <td>4</td>\n",
       "      <td>1</td>\n",
       "      <td>295</td>\n",
       "      <td>W Cedar St</td>\n",
       "      <td>2</td>\n",
       "      <td>{\"type\":\"LineString\",\"coordinates\":[[-117.1682...</td>\n",
       "      <td>NaN</td>\n",
       "    </tr>\n",
       "    <tr>\n",
       "      <th>1</th>\n",
       "      <td>1</td>\n",
       "      <td>2017-02-08</td>\n",
       "      <td>00:00:00</td>\n",
       "      <td>4</td>\n",
       "      <td>1</td>\n",
       "      <td>9132</td>\n",
       "      <td>India St</td>\n",
       "      <td>7</td>\n",
       "      <td>{\"type\":\"LineString\",\"coordinates\":[[-117.1682...</td>\n",
       "      <td>NaN</td>\n",
       "    </tr>\n",
       "    <tr>\n",
       "      <th>2</th>\n",
       "      <td>1</td>\n",
       "      <td>2017-02-08</td>\n",
       "      <td>00:00:00</td>\n",
       "      <td>4</td>\n",
       "      <td>1</td>\n",
       "      <td>11944</td>\n",
       "      <td>W Cedar St</td>\n",
       "      <td>2</td>\n",
       "      <td>{\"type\":\"LineString\",\"coordinates\":[[-117.1682...</td>\n",
       "      <td>NaN</td>\n",
       "    </tr>\n",
       "    <tr>\n",
       "      <th>3</th>\n",
       "      <td>1</td>\n",
       "      <td>2017-02-08</td>\n",
       "      <td>00:00:00</td>\n",
       "      <td>4</td>\n",
       "      <td>1</td>\n",
       "      <td>296</td>\n",
       "      <td>W Beech St</td>\n",
       "      <td>1</td>\n",
       "      <td>{\"type\":\"LineString\",\"coordinates\":[[-117.1682...</td>\n",
       "      <td>NaN</td>\n",
       "    </tr>\n",
       "    <tr>\n",
       "      <th>4</th>\n",
       "      <td>1</td>\n",
       "      <td>2017-02-08</td>\n",
       "      <td>00:00:00</td>\n",
       "      <td>4</td>\n",
       "      <td>1</td>\n",
       "      <td>17326</td>\n",
       "      <td>W Beech St</td>\n",
       "      <td>1</td>\n",
       "      <td>{\"type\":\"LineString\",\"coordinates\":[[-117.1682...</td>\n",
       "      <td>NaN</td>\n",
       "    </tr>\n",
       "  </tbody>\n",
       "</table>\n",
       "</div>"
      ],
      "text/plain": [
       "   time_id        date      time day_of_week  tmp  segment_id      street  \\\n",
       "0        1  2017-02-08  00:00:00           4    1         295  W Cedar St   \n",
       "1        1  2017-02-08  00:00:00           4    1        9132    India St   \n",
       "2        1  2017-02-08  00:00:00           4    1       11944  W Cedar St   \n",
       "3        1  2017-02-08  00:00:00           4    1         296  W Beech St   \n",
       "4        1  2017-02-08  00:00:00           4    1       17326  W Beech St   \n",
       "\n",
       "   road_type                                           geometry  level  \n",
       "0          2  {\"type\":\"LineString\",\"coordinates\":[[-117.1682...    NaN  \n",
       "1          7  {\"type\":\"LineString\",\"coordinates\":[[-117.1682...    NaN  \n",
       "2          2  {\"type\":\"LineString\",\"coordinates\":[[-117.1682...    NaN  \n",
       "3          1  {\"type\":\"LineString\",\"coordinates\":[[-117.1682...    NaN  \n",
       "4          1  {\"type\":\"LineString\",\"coordinates\":[[-117.1682...    NaN  "
      ]
     },
     "execution_count": 11,
     "metadata": {},
     "output_type": "execute_result"
    }
   ],
   "source": [
    "#Left join Level onto df with cartesian product of all time slices and segments of interest\n",
    "\n",
    "segments_time_level_df = pd.merge(segments_time_df, level_df[['segment_id','time_id','level']], how='left', on=['segment_id','time_id'])\n",
    "print(str(len(segments_time_level_df))+\" rows\")\n",
    "segments_time_level_df.head()"
   ]
  },
  {
   "cell_type": "code",
   "execution_count": 12,
   "metadata": {
    "colab": {
     "autoexec": {
      "startup": false,
      "wait_interval": 0
     },
     "output_extras": [
      {}
     ]
    },
    "colab_type": "code",
    "id": "VDSDx6I0opsv",
    "outputId": "134eecb8-3cbc-4a6a-fb04-ec4acacfd6da"
   },
   "outputs": [
    {
     "data": {
      "text/html": [
       "<div>\n",
       "<style>\n",
       "    .dataframe thead tr:only-child th {\n",
       "        text-align: right;\n",
       "    }\n",
       "\n",
       "    .dataframe thead th {\n",
       "        text-align: left;\n",
       "    }\n",
       "\n",
       "    .dataframe tbody tr th {\n",
       "        vertical-align: top;\n",
       "    }\n",
       "</style>\n",
       "<table border=\"1\" class=\"dataframe\">\n",
       "  <thead>\n",
       "    <tr style=\"text-align: right;\">\n",
       "      <th></th>\n",
       "      <th>time_id</th>\n",
       "      <th>date</th>\n",
       "      <th>time</th>\n",
       "      <th>day_of_week</th>\n",
       "      <th>tmp</th>\n",
       "      <th>segment_id</th>\n",
       "      <th>street</th>\n",
       "      <th>road_type</th>\n",
       "      <th>geometry</th>\n",
       "      <th>level</th>\n",
       "    </tr>\n",
       "  </thead>\n",
       "  <tbody>\n",
       "    <tr>\n",
       "      <th>0</th>\n",
       "      <td>1</td>\n",
       "      <td>2017-02-08</td>\n",
       "      <td>00:00:00</td>\n",
       "      <td>4</td>\n",
       "      <td>1</td>\n",
       "      <td>295</td>\n",
       "      <td>W Cedar St</td>\n",
       "      <td>2</td>\n",
       "      <td>{\"type\":\"LineString\",\"coordinates\":[[-117.1682...</td>\n",
       "      <td>0.0</td>\n",
       "    </tr>\n",
       "    <tr>\n",
       "      <th>1</th>\n",
       "      <td>1</td>\n",
       "      <td>2017-02-08</td>\n",
       "      <td>00:00:00</td>\n",
       "      <td>4</td>\n",
       "      <td>1</td>\n",
       "      <td>9132</td>\n",
       "      <td>India St</td>\n",
       "      <td>7</td>\n",
       "      <td>{\"type\":\"LineString\",\"coordinates\":[[-117.1682...</td>\n",
       "      <td>0.0</td>\n",
       "    </tr>\n",
       "    <tr>\n",
       "      <th>2</th>\n",
       "      <td>1</td>\n",
       "      <td>2017-02-08</td>\n",
       "      <td>00:00:00</td>\n",
       "      <td>4</td>\n",
       "      <td>1</td>\n",
       "      <td>11944</td>\n",
       "      <td>W Cedar St</td>\n",
       "      <td>2</td>\n",
       "      <td>{\"type\":\"LineString\",\"coordinates\":[[-117.1682...</td>\n",
       "      <td>0.0</td>\n",
       "    </tr>\n",
       "    <tr>\n",
       "      <th>3</th>\n",
       "      <td>1</td>\n",
       "      <td>2017-02-08</td>\n",
       "      <td>00:00:00</td>\n",
       "      <td>4</td>\n",
       "      <td>1</td>\n",
       "      <td>296</td>\n",
       "      <td>W Beech St</td>\n",
       "      <td>1</td>\n",
       "      <td>{\"type\":\"LineString\",\"coordinates\":[[-117.1682...</td>\n",
       "      <td>0.0</td>\n",
       "    </tr>\n",
       "    <tr>\n",
       "      <th>4</th>\n",
       "      <td>1</td>\n",
       "      <td>2017-02-08</td>\n",
       "      <td>00:00:00</td>\n",
       "      <td>4</td>\n",
       "      <td>1</td>\n",
       "      <td>17326</td>\n",
       "      <td>W Beech St</td>\n",
       "      <td>1</td>\n",
       "      <td>{\"type\":\"LineString\",\"coordinates\":[[-117.1682...</td>\n",
       "      <td>0.0</td>\n",
       "    </tr>\n",
       "  </tbody>\n",
       "</table>\n",
       "</div>"
      ],
      "text/plain": [
       "   time_id        date      time day_of_week  tmp  segment_id      street  \\\n",
       "0        1  2017-02-08  00:00:00           4    1         295  W Cedar St   \n",
       "1        1  2017-02-08  00:00:00           4    1        9132    India St   \n",
       "2        1  2017-02-08  00:00:00           4    1       11944  W Cedar St   \n",
       "3        1  2017-02-08  00:00:00           4    1         296  W Beech St   \n",
       "4        1  2017-02-08  00:00:00           4    1       17326  W Beech St   \n",
       "\n",
       "   road_type                                           geometry  level  \n",
       "0          2  {\"type\":\"LineString\",\"coordinates\":[[-117.1682...    0.0  \n",
       "1          7  {\"type\":\"LineString\",\"coordinates\":[[-117.1682...    0.0  \n",
       "2          2  {\"type\":\"LineString\",\"coordinates\":[[-117.1682...    0.0  \n",
       "3          1  {\"type\":\"LineString\",\"coordinates\":[[-117.1682...    0.0  \n",
       "4          1  {\"type\":\"LineString\",\"coordinates\":[[-117.1682...    0.0  "
      ]
     },
     "execution_count": 12,
     "metadata": {},
     "output_type": "execute_result"
    }
   ],
   "source": [
    "#Replace nulls with 0 for assumption of no congestion\n",
    "\n",
    "segments_time_level_df['level'].fillna(0, inplace=True)\n",
    "segments_time_level_df.head()"
   ]
  },
  {
   "cell_type": "markdown",
   "metadata": {},
   "source": [
    "### add is_traffic binary indicator"
   ]
  },
  {
   "cell_type": "code",
   "execution_count": 13,
   "metadata": {},
   "outputs": [
    {
     "data": {
      "text/html": [
       "<div>\n",
       "<style>\n",
       "    .dataframe thead tr:only-child th {\n",
       "        text-align: right;\n",
       "    }\n",
       "\n",
       "    .dataframe thead th {\n",
       "        text-align: left;\n",
       "    }\n",
       "\n",
       "    .dataframe tbody tr th {\n",
       "        vertical-align: top;\n",
       "    }\n",
       "</style>\n",
       "<table border=\"1\" class=\"dataframe\">\n",
       "  <thead>\n",
       "    <tr style=\"text-align: right;\">\n",
       "      <th></th>\n",
       "      <th>time_id</th>\n",
       "      <th>date</th>\n",
       "      <th>time</th>\n",
       "      <th>day_of_week</th>\n",
       "      <th>tmp</th>\n",
       "      <th>segment_id</th>\n",
       "      <th>street</th>\n",
       "      <th>road_type</th>\n",
       "      <th>geometry</th>\n",
       "      <th>level</th>\n",
       "      <th>is_traffic</th>\n",
       "    </tr>\n",
       "  </thead>\n",
       "  <tbody>\n",
       "    <tr>\n",
       "      <th>0</th>\n",
       "      <td>1</td>\n",
       "      <td>2017-02-08</td>\n",
       "      <td>00:00:00</td>\n",
       "      <td>4</td>\n",
       "      <td>1</td>\n",
       "      <td>295</td>\n",
       "      <td>W Cedar St</td>\n",
       "      <td>2</td>\n",
       "      <td>{\"type\":\"LineString\",\"coordinates\":[[-117.1682...</td>\n",
       "      <td>0.0</td>\n",
       "      <td>0.0</td>\n",
       "    </tr>\n",
       "    <tr>\n",
       "      <th>1</th>\n",
       "      <td>1</td>\n",
       "      <td>2017-02-08</td>\n",
       "      <td>00:00:00</td>\n",
       "      <td>4</td>\n",
       "      <td>1</td>\n",
       "      <td>9132</td>\n",
       "      <td>India St</td>\n",
       "      <td>7</td>\n",
       "      <td>{\"type\":\"LineString\",\"coordinates\":[[-117.1682...</td>\n",
       "      <td>0.0</td>\n",
       "      <td>0.0</td>\n",
       "    </tr>\n",
       "    <tr>\n",
       "      <th>2</th>\n",
       "      <td>1</td>\n",
       "      <td>2017-02-08</td>\n",
       "      <td>00:00:00</td>\n",
       "      <td>4</td>\n",
       "      <td>1</td>\n",
       "      <td>11944</td>\n",
       "      <td>W Cedar St</td>\n",
       "      <td>2</td>\n",
       "      <td>{\"type\":\"LineString\",\"coordinates\":[[-117.1682...</td>\n",
       "      <td>0.0</td>\n",
       "      <td>0.0</td>\n",
       "    </tr>\n",
       "    <tr>\n",
       "      <th>3</th>\n",
       "      <td>1</td>\n",
       "      <td>2017-02-08</td>\n",
       "      <td>00:00:00</td>\n",
       "      <td>4</td>\n",
       "      <td>1</td>\n",
       "      <td>296</td>\n",
       "      <td>W Beech St</td>\n",
       "      <td>1</td>\n",
       "      <td>{\"type\":\"LineString\",\"coordinates\":[[-117.1682...</td>\n",
       "      <td>0.0</td>\n",
       "      <td>0.0</td>\n",
       "    </tr>\n",
       "    <tr>\n",
       "      <th>4</th>\n",
       "      <td>1</td>\n",
       "      <td>2017-02-08</td>\n",
       "      <td>00:00:00</td>\n",
       "      <td>4</td>\n",
       "      <td>1</td>\n",
       "      <td>17326</td>\n",
       "      <td>W Beech St</td>\n",
       "      <td>1</td>\n",
       "      <td>{\"type\":\"LineString\",\"coordinates\":[[-117.1682...</td>\n",
       "      <td>0.0</td>\n",
       "      <td>0.0</td>\n",
       "    </tr>\n",
       "  </tbody>\n",
       "</table>\n",
       "</div>"
      ],
      "text/plain": [
       "   time_id        date      time day_of_week  tmp  segment_id      street  \\\n",
       "0        1  2017-02-08  00:00:00           4    1         295  W Cedar St   \n",
       "1        1  2017-02-08  00:00:00           4    1        9132    India St   \n",
       "2        1  2017-02-08  00:00:00           4    1       11944  W Cedar St   \n",
       "3        1  2017-02-08  00:00:00           4    1         296  W Beech St   \n",
       "4        1  2017-02-08  00:00:00           4    1       17326  W Beech St   \n",
       "\n",
       "   road_type                                           geometry  level  \\\n",
       "0          2  {\"type\":\"LineString\",\"coordinates\":[[-117.1682...    0.0   \n",
       "1          7  {\"type\":\"LineString\",\"coordinates\":[[-117.1682...    0.0   \n",
       "2          2  {\"type\":\"LineString\",\"coordinates\":[[-117.1682...    0.0   \n",
       "3          1  {\"type\":\"LineString\",\"coordinates\":[[-117.1682...    0.0   \n",
       "4          1  {\"type\":\"LineString\",\"coordinates\":[[-117.1682...    0.0   \n",
       "\n",
       "   is_traffic  \n",
       "0         0.0  \n",
       "1         0.0  \n",
       "2         0.0  \n",
       "3         0.0  \n",
       "4         0.0  "
      ]
     },
     "execution_count": 13,
     "metadata": {},
     "output_type": "execute_result"
    }
   ],
   "source": [
    "segments_time_level_df['is_traffic'] = segments_time_level_df[['tmp','level']].min(axis=1)\n",
    "segments_time_level_df.head()"
   ]
  },
  {
   "cell_type": "markdown",
   "metadata": {},
   "source": [
    "### add time interval"
   ]
  },
  {
   "cell_type": "code",
   "execution_count": 14,
   "metadata": {
    "collapsed": true
   },
   "outputs": [],
   "source": [
    "# add column with interval time\n",
    "time_interval = 30\n",
    "segments_time_level_df['time_interval'] = segments_time_level_df['time'].apply(lambda t: dt.time(t.hour, time_interval*(t.minute // time_interval), 0))"
   ]
  },
  {
   "cell_type": "code",
   "execution_count": 15,
   "metadata": {},
   "outputs": [
    {
     "data": {
      "text/html": [
       "<div>\n",
       "<style>\n",
       "    .dataframe thead tr:only-child th {\n",
       "        text-align: right;\n",
       "    }\n",
       "\n",
       "    .dataframe thead th {\n",
       "        text-align: left;\n",
       "    }\n",
       "\n",
       "    .dataframe tbody tr th {\n",
       "        vertical-align: top;\n",
       "    }\n",
       "</style>\n",
       "<table border=\"1\" class=\"dataframe\">\n",
       "  <thead>\n",
       "    <tr style=\"text-align: right;\">\n",
       "      <th></th>\n",
       "      <th>time_id</th>\n",
       "      <th>date</th>\n",
       "      <th>time</th>\n",
       "      <th>day_of_week</th>\n",
       "      <th>tmp</th>\n",
       "      <th>segment_id</th>\n",
       "      <th>street</th>\n",
       "      <th>road_type</th>\n",
       "      <th>geometry</th>\n",
       "      <th>level</th>\n",
       "      <th>is_traffic</th>\n",
       "      <th>time_interval</th>\n",
       "    </tr>\n",
       "  </thead>\n",
       "  <tbody>\n",
       "    <tr>\n",
       "      <th>0</th>\n",
       "      <td>1</td>\n",
       "      <td>2017-02-08</td>\n",
       "      <td>00:00:00</td>\n",
       "      <td>4</td>\n",
       "      <td>1</td>\n",
       "      <td>295</td>\n",
       "      <td>W Cedar St</td>\n",
       "      <td>2</td>\n",
       "      <td>{\"type\":\"LineString\",\"coordinates\":[[-117.1682...</td>\n",
       "      <td>0.0</td>\n",
       "      <td>0.0</td>\n",
       "      <td>00:00:00</td>\n",
       "    </tr>\n",
       "    <tr>\n",
       "      <th>1</th>\n",
       "      <td>1</td>\n",
       "      <td>2017-02-08</td>\n",
       "      <td>00:00:00</td>\n",
       "      <td>4</td>\n",
       "      <td>1</td>\n",
       "      <td>9132</td>\n",
       "      <td>India St</td>\n",
       "      <td>7</td>\n",
       "      <td>{\"type\":\"LineString\",\"coordinates\":[[-117.1682...</td>\n",
       "      <td>0.0</td>\n",
       "      <td>0.0</td>\n",
       "      <td>00:00:00</td>\n",
       "    </tr>\n",
       "    <tr>\n",
       "      <th>2</th>\n",
       "      <td>1</td>\n",
       "      <td>2017-02-08</td>\n",
       "      <td>00:00:00</td>\n",
       "      <td>4</td>\n",
       "      <td>1</td>\n",
       "      <td>11944</td>\n",
       "      <td>W Cedar St</td>\n",
       "      <td>2</td>\n",
       "      <td>{\"type\":\"LineString\",\"coordinates\":[[-117.1682...</td>\n",
       "      <td>0.0</td>\n",
       "      <td>0.0</td>\n",
       "      <td>00:00:00</td>\n",
       "    </tr>\n",
       "    <tr>\n",
       "      <th>3</th>\n",
       "      <td>1</td>\n",
       "      <td>2017-02-08</td>\n",
       "      <td>00:00:00</td>\n",
       "      <td>4</td>\n",
       "      <td>1</td>\n",
       "      <td>296</td>\n",
       "      <td>W Beech St</td>\n",
       "      <td>1</td>\n",
       "      <td>{\"type\":\"LineString\",\"coordinates\":[[-117.1682...</td>\n",
       "      <td>0.0</td>\n",
       "      <td>0.0</td>\n",
       "      <td>00:00:00</td>\n",
       "    </tr>\n",
       "    <tr>\n",
       "      <th>4</th>\n",
       "      <td>1</td>\n",
       "      <td>2017-02-08</td>\n",
       "      <td>00:00:00</td>\n",
       "      <td>4</td>\n",
       "      <td>1</td>\n",
       "      <td>17326</td>\n",
       "      <td>W Beech St</td>\n",
       "      <td>1</td>\n",
       "      <td>{\"type\":\"LineString\",\"coordinates\":[[-117.1682...</td>\n",
       "      <td>0.0</td>\n",
       "      <td>0.0</td>\n",
       "      <td>00:00:00</td>\n",
       "    </tr>\n",
       "  </tbody>\n",
       "</table>\n",
       "</div>"
      ],
      "text/plain": [
       "   time_id        date      time day_of_week  tmp  segment_id      street  \\\n",
       "0        1  2017-02-08  00:00:00           4    1         295  W Cedar St   \n",
       "1        1  2017-02-08  00:00:00           4    1        9132    India St   \n",
       "2        1  2017-02-08  00:00:00           4    1       11944  W Cedar St   \n",
       "3        1  2017-02-08  00:00:00           4    1         296  W Beech St   \n",
       "4        1  2017-02-08  00:00:00           4    1       17326  W Beech St   \n",
       "\n",
       "   road_type                                           geometry  level  \\\n",
       "0          2  {\"type\":\"LineString\",\"coordinates\":[[-117.1682...    0.0   \n",
       "1          7  {\"type\":\"LineString\",\"coordinates\":[[-117.1682...    0.0   \n",
       "2          2  {\"type\":\"LineString\",\"coordinates\":[[-117.1682...    0.0   \n",
       "3          1  {\"type\":\"LineString\",\"coordinates\":[[-117.1682...    0.0   \n",
       "4          1  {\"type\":\"LineString\",\"coordinates\":[[-117.1682...    0.0   \n",
       "\n",
       "   is_traffic time_interval  \n",
       "0         0.0      00:00:00  \n",
       "1         0.0      00:00:00  \n",
       "2         0.0      00:00:00  \n",
       "3         0.0      00:00:00  \n",
       "4         0.0      00:00:00  "
      ]
     },
     "execution_count": 15,
     "metadata": {},
     "output_type": "execute_result"
    }
   ],
   "source": [
    "segments_time_level_df.head()"
   ]
  },
  {
   "cell_type": "markdown",
   "metadata": {},
   "source": [
    "### group data and calculate geojson properties"
   ]
  },
  {
   "cell_type": "code",
   "execution_count": 16,
   "metadata": {
    "collapsed": true
   },
   "outputs": [],
   "source": [
    "# group by date and take max of is_traffic for each time interval to get indicator of traffic in time interval window\n",
    "grouped_by_date = segments_time_level_df.groupby(['segment_id','date','day_of_week','time_interval'],as_index=False)['is_traffic'].max()"
   ]
  },
  {
   "cell_type": "code",
   "execution_count": 17,
   "metadata": {},
   "outputs": [
    {
     "data": {
      "text/html": [
       "<div>\n",
       "<style>\n",
       "    .dataframe thead tr:only-child th {\n",
       "        text-align: right;\n",
       "    }\n",
       "\n",
       "    .dataframe thead th {\n",
       "        text-align: left;\n",
       "    }\n",
       "\n",
       "    .dataframe tbody tr th {\n",
       "        vertical-align: top;\n",
       "    }\n",
       "</style>\n",
       "<table border=\"1\" class=\"dataframe\">\n",
       "  <thead>\n",
       "    <tr style=\"text-align: right;\">\n",
       "      <th></th>\n",
       "      <th>segment_id</th>\n",
       "      <th>day_of_week</th>\n",
       "      <th>time_interval</th>\n",
       "      <th>pct_traffic</th>\n",
       "    </tr>\n",
       "  </thead>\n",
       "  <tbody>\n",
       "    <tr>\n",
       "      <th>0</th>\n",
       "      <td>295</td>\n",
       "      <td>1</td>\n",
       "      <td>00:00:00</td>\n",
       "      <td>0.0</td>\n",
       "    </tr>\n",
       "    <tr>\n",
       "      <th>1</th>\n",
       "      <td>295</td>\n",
       "      <td>1</td>\n",
       "      <td>00:30:00</td>\n",
       "      <td>0.0</td>\n",
       "    </tr>\n",
       "    <tr>\n",
       "      <th>2</th>\n",
       "      <td>295</td>\n",
       "      <td>1</td>\n",
       "      <td>01:00:00</td>\n",
       "      <td>0.0</td>\n",
       "    </tr>\n",
       "    <tr>\n",
       "      <th>3</th>\n",
       "      <td>295</td>\n",
       "      <td>1</td>\n",
       "      <td>01:30:00</td>\n",
       "      <td>0.0</td>\n",
       "    </tr>\n",
       "    <tr>\n",
       "      <th>4</th>\n",
       "      <td>295</td>\n",
       "      <td>1</td>\n",
       "      <td>02:00:00</td>\n",
       "      <td>0.0</td>\n",
       "    </tr>\n",
       "  </tbody>\n",
       "</table>\n",
       "</div>"
      ],
      "text/plain": [
       "   segment_id day_of_week time_interval  pct_traffic\n",
       "0         295           1      00:00:00          0.0\n",
       "1         295           1      00:30:00          0.0\n",
       "2         295           1      01:00:00          0.0\n",
       "3         295           1      01:30:00          0.0\n",
       "4         295           1      02:00:00          0.0"
      ]
     },
     "execution_count": 17,
     "metadata": {},
     "output_type": "execute_result"
    }
   ],
   "source": [
    "# group by dow and take avg to get pct of days having traffic in each time interval\n",
    "grouped_by_dow_pct = grouped_by_date.groupby(['segment_id','day_of_week','time_interval'],as_index=False)['is_traffic'].mean()\n",
    "\n",
    "# rename column to pct_traffic\n",
    "grouped_by_dow_pct.rename(columns={'is_traffic':'pct_traffic'}, inplace=True)\n",
    "\n",
    "# check head\n",
    "grouped_by_dow_pct.head()"
   ]
  },
  {
   "cell_type": "code",
   "execution_count": 18,
   "metadata": {
    "collapsed": true
   },
   "outputs": [],
   "source": [
    "# create df with all possible timestamps to ensure none are left out\n",
    "ts_df = pd.DataFrame.from_dict({'time_interval':[dt.time(h, m, 0) for h in range(0,24) for m in range(0,60,time_interval)]})\n",
    "\n",
    "# create day of week dictionary\n",
    "dow_dict = {\n",
    "    '1':'Sunday',\n",
    "    '2':'Monday',\n",
    "    '3':'Tuesday',\n",
    "    '4':'Wednesday',\n",
    "    '5':'Thursday',\n",
    "    '6':'Friday',\n",
    "    '7':'Saturday'\n",
    "}"
   ]
  },
  {
   "cell_type": "code",
   "execution_count": 19,
   "metadata": {
    "collapsed": true
   },
   "outputs": [],
   "source": [
    "# function to extract segment data by day of week\n",
    "def extract_segment_data(seg):\n",
    "    seg_data_dict = {}\n",
    "    for dow,dow_name in dow_dict.iteritems():\n",
    "        # extract pct_traffic for given segment and dow\n",
    "        seg_dow_df = grouped_by_dow_pct.loc[(grouped_by_dow_pct['segment_id']==seg) & (grouped_by_dow_pct['day_of_week']==dow),['time_interval','pct_traffic']]\n",
    "\n",
    "        # join with all timestamps to make sure none are left out\n",
    "        seg_dow_df = ts_df.merge(seg_dow_df, how='left', on='time_interval').drop('time_interval',axis=1)\n",
    "        seg_dow_df.fillna(0, inplace=True)\n",
    "        seg_data_dict[dow_name] = seg_dow_df.to_dict(orient='list')\n",
    "    return seg_data_dict"
   ]
  },
  {
   "cell_type": "code",
   "execution_count": 20,
   "metadata": {},
   "outputs": [
    {
     "data": {
      "text/plain": [
       "['Monday', 'Tuesday', 'Friday', 'Wednesday', 'Thursday', 'Sunday', 'Saturday']"
      ]
     },
     "execution_count": 20,
     "metadata": {},
     "output_type": "execute_result"
    }
   ],
   "source": [
    "extract_segment_data(3596).keys()"
   ]
  },
  {
   "cell_type": "markdown",
   "metadata": {},
   "source": [
    "### create geojson dict"
   ]
  },
  {
   "cell_type": "code",
   "execution_count": 21,
   "metadata": {
    "collapsed": true
   },
   "outputs": [],
   "source": [
    "import ast"
   ]
  },
  {
   "cell_type": "code",
   "execution_count": 22,
   "metadata": {},
   "outputs": [
    {
     "data": {
      "text/plain": [
       "{'coordinates': [[-117.149432, 32.708365], [-117.149451, 32.70941]],\n",
       " 'type': 'LineString'}"
      ]
     },
     "execution_count": 22,
     "metadata": {},
     "output_type": "execute_result"
    }
   ],
   "source": [
    "# ast.literal_eval is used to keep dict from being coerced to a string\n",
    "ast.literal_eval(segments_df[segments_df['segment_id']==3596]['geometry'].values[0])"
   ]
  },
  {
   "cell_type": "code",
   "execution_count": 23,
   "metadata": {
    "collapsed": true
   },
   "outputs": [],
   "source": [
    "# create dict to fill in with geojson\n",
    "geojson_dict = {\n",
    "    'type': 'FeatureCollection',\n",
    "    'features': []\n",
    "}\n",
    "\n",
    "# fill geojson\n",
    "for seg in segments_time_level_df['segment_id'].unique():\n",
    "    features_dict = {\n",
    "        'type': 'Feature',\n",
    "        'geometry': ast.literal_eval(segments_df[segments_df['segment_id']==seg]['geometry'].values[0]),\n",
    "        'properties': {\n",
    "            'segment_id': seg,\n",
    "            'street': segments_df[segments_df['segment_id']==seg]['street'].values[0],\n",
    "            'road_type': segments_df[segments_df['segment_id']==seg]['road_type'].values[0],\n",
    "            'data': extract_segment_data(seg)\n",
    "        }\n",
    "    }\n",
    "    geojson_dict['features'].append(features_dict)"
   ]
  },
  {
   "cell_type": "markdown",
   "metadata": {},
   "source": [
    "### write geojson dict to geojson and js file"
   ]
  },
  {
   "cell_type": "code",
   "execution_count": 24,
   "metadata": {
    "collapsed": true
   },
   "outputs": [],
   "source": [
    "# dump geojson to file\n",
    "with open('../data/segments.geojson', 'w') as f:\n",
    "    json.dump(geojson_dict, f)"
   ]
  },
  {
   "cell_type": "code",
   "execution_count": 25,
   "metadata": {
    "collapsed": true
   },
   "outputs": [],
   "source": [
    "# write geojson as js file to js folder\n",
    "geojson_prefix = 'var segments_geojson = '\n",
    "with open('../js/segments_geojson.js', 'w') as f:\n",
    "    f.write(geojson_prefix + str(geojson_dict))"
   ]
  },
  {
   "cell_type": "markdown",
   "metadata": {},
   "source": [
    "### create timestamp lookup js file"
   ]
  },
  {
   "cell_type": "code",
   "execution_count": 26,
   "metadata": {
    "collapsed": true
   },
   "outputs": [],
   "source": [
    "# function to format string of type 'hh:mm:ss' to 'hh:mm a.m.'\n",
    "def ts_conversion(ts_str):\n",
    "    ts_hour = ts_str[:2]\n",
    "    ts_min = ts_str[3:5]\n",
    "    am_pm = 'a.m.' if int(ts_hour)<12 else 'p.m.'\n",
    "    ts_hour = str((int(ts_hour)+12) % 12)\n",
    "    ts_hour = '12' if ts_hour=='0' else ts_hour\n",
    "    ts = '{}:{} {}'.format(ts_hour, ts_min, am_pm)\n",
    "    return ts"
   ]
  },
  {
   "cell_type": "code",
   "execution_count": 27,
   "metadata": {
    "collapsed": true
   },
   "outputs": [],
   "source": [
    "# convert time_interval to string and write to dict\n",
    "ts_df['time_interval'] = map(ts_conversion, ts_df['time_interval'].astype(str))\n",
    "timestamp_dict = ts_df.to_dict()['time_interval']"
   ]
  },
  {
   "cell_type": "code",
   "execution_count": 28,
   "metadata": {
    "collapsed": true
   },
   "outputs": [],
   "source": [
    "# write timestamp_lookup as js file to js folder\n",
    "ts_prefix = 'var timestamp_lookup = '\n",
    "with open('../js/timestamp_lookup.js', 'w') as f:\n",
    "    f.write(ts_prefix + str(timestamp_dict))"
   ]
  },
  {
   "cell_type": "markdown",
   "metadata": {},
   "source": [
    "### write boundingbox to js file"
   ]
  },
  {
   "cell_type": "code",
   "execution_count": 29,
   "metadata": {
    "collapsed": true
   },
   "outputs": [],
   "source": [
    "# write bounding box bounds as js file to js folder\n",
    "bb_prefix = 'var bounds = '\n",
    "\n",
    "nw = input_nw_corner.replace(\"° N\",\"\").replace(\"° W\", \"\")\n",
    "nw = nw.split(', ')\n",
    "nw[1] = '-'+nw[1] # add negative\n",
    "nw = map(float, nw)\n",
    "\n",
    "se = input_se_corner.replace(\"° N\",\"\").replace(\"° W\", \"\")\n",
    "se = se.split(', ')\n",
    "se[1] = '-'+se[1] # add negative\n",
    "se = map(float, se)\n",
    "\n",
    "bounds = [[nw[0],nw[1]],[se[0],se[1]]]\n",
    "\n",
    "with open('../js/boundingbox.js', 'w') as f:\n",
    "    f.write(bb_prefix + str(bounds))"
   ]
  },
  {
   "cell_type": "markdown",
   "metadata": {},
   "source": [
    "### create colormaps\n",
    "from https://stackoverflow.com/questions/33596491/extract-matplotlib-colormap-in-hex-format"
   ]
  },
  {
   "cell_type": "markdown",
   "metadata": {},
   "source": [
    "from pylab import *\n",
    "\n",
    "cmaps = ['Reds','YlOrBr','magma_r','inferno_r','Greys','OrRd','hot_r']\n",
    "\n",
    "cmaps_dict = {}\n",
    "for c in cmaps:\n",
    "    cmap = cm.get_cmap(c, 9)\n",
    "    cmap_dict = {}\n",
    "    for i in range(cmap.N):\n",
    "        rgb = cmap(i)[:3] # will return rgba, we take only first 3 so we get rgb\n",
    "        cmap_dict[i] = matplotlib.colors.rgb2hex(rgb).encode('utf-8')\n",
    "    cmaps_dict[c] = cmap_dict"
   ]
  },
  {
   "cell_type": "markdown",
   "metadata": {
    "collapsed": true
   },
   "source": [
    "# write colormaps as js file to js folder\n",
    "cm_prefix = 'var colormaps = '\n",
    "with open('../js/colormaps.js', 'w') as f:\n",
    "    f.write(cm_prefix + str(cmaps_dict))"
   ]
  },
  {
   "cell_type": "code",
   "execution_count": null,
   "metadata": {
    "collapsed": true
   },
   "outputs": [],
   "source": []
  }
 ],
 "metadata": {
  "colab": {
   "default_view": {},
   "name": "Phase 1 - Averages.ipynb",
   "provenance": [],
   "version": "0.3.2",
   "views": {}
  },
  "kernelspec": {
   "display_name": "Python 2",
   "language": "python",
   "name": "python2"
  },
  "language_info": {
   "codemirror_mode": {
    "name": "ipython",
    "version": 2
   },
   "file_extension": ".py",
   "mimetype": "text/x-python",
   "name": "python",
   "nbconvert_exporter": "python",
   "pygments_lexer": "ipython2",
   "version": "2.7.13"
  }
 },
 "nbformat": 4,
 "nbformat_minor": 1
}
