{
 "cells": [
  {
   "cell_type": "markdown",
   "metadata": {},
   "source": [
    "# Data Transformation\n",
    "The purpose of this notebook is to transform the raw waze.csv data into a format matching our data schema."
   ]
  },
  {
   "cell_type": "markdown",
   "metadata": {},
   "source": [
    "## Load Raw Data"
   ]
  },
  {
   "cell_type": "code",
   "execution_count": 1,
   "metadata": {
    "collapsed": true
   },
   "outputs": [],
   "source": [
    "import datetime\n",
    "import numpy as np\n",
    "import pandas as pd\n",
    "import psycopg2 as pg"
   ]
  },
  {
   "cell_type": "code",
   "execution_count": 2,
   "metadata": {},
   "outputs": [],
   "source": [
    "# read password file\n",
    "postgres_password = open('postgres_password.txt', 'r').read()\n",
    "\n",
    "# replace database inputs as appropriate\n",
    "conn_str = \"host={} dbname={} user={} password={}\".format(\n",
    "    'localhost', 'waze', 'postgres', postgres_password)\n",
    "\n",
    "conn = pg.connect(conn_str)"
   ]
  },
  {
   "cell_type": "code",
   "execution_count": 3,
   "metadata": {
    "collapsed": true
   },
   "outputs": [],
   "source": [
    "waze_raw_df = pd.read_sql('select id, uuid, waze_timestamp, street, \\\n",
    "                          start_node, end_node, city, length, delay, \\\n",
    "                          speed, level, road_type, geom, \\\n",
    "                          ST_AsText(geom) as linestring, \\\n",
    "                          ST_NumPoints(geom) as linestring_length \\\n",
    "                          from congestion', con=conn)"
   ]
  },
  {
   "cell_type": "code",
   "execution_count": 4,
   "metadata": {},
   "outputs": [
    {
     "data": {
      "text/plain": [
       "Index([u'id', u'uuid', u'waze_timestamp', u'street', u'start_node',\n",
       "       u'end_node', u'city', u'length', u'delay', u'speed', u'level',\n",
       "       u'road_type', u'geom', u'linestring', u'linestring_length'],\n",
       "      dtype='object')"
      ]
     },
     "execution_count": 4,
     "metadata": {},
     "output_type": "execute_result"
    }
   ],
   "source": [
    "waze_raw_df.columns"
   ]
  },
  {
   "cell_type": "markdown",
   "metadata": {},
   "source": [
    "## Create Processed DataFrame with Additional Columns"
   ]
  },
  {
   "cell_type": "code",
   "execution_count": 5,
   "metadata": {
    "collapsed": true
   },
   "outputs": [],
   "source": [
    "# make a copy of waze_raw_df\n",
    "waze_processed_df = waze_raw_df.copy()"
   ]
  },
  {
   "cell_type": "code",
   "execution_count": 6,
   "metadata": {},
   "outputs": [],
   "source": [
    "# extract day of week, date, time, and timestamp rounded to 15 minute interval\n",
    "waze_processed_df['dow'] = waze_processed_df['waze_timestamp'].dt.dayofweek\n",
    "waze_processed_df['month'] = waze_processed_df['waze_timestamp'].dt.month\n",
    "waze_processed_df['date'] = waze_processed_df['waze_timestamp'].dt.date\n",
    "waze_processed_df['time'] = waze_processed_df['waze_timestamp'].dt.time\n",
    "waze_processed_df['timestamp_round'] = waze_processed_df['waze_timestamp'].apply(lambda dt: datetime.datetime(dt.year, dt.month, dt.day, dt.hour,15*(dt.minute // 15)))\n",
    "waze_processed_df['time_round'] = waze_processed_df['timestamp_round'].dt.time"
   ]
  },
  {
   "cell_type": "code",
   "execution_count": 7,
   "metadata": {},
   "outputs": [],
   "source": [
    "# TODO - add is_weekend, is_holiday, is_rushhour\n",
    "# NOTE:  I think Ken calculated these in his timeseries exploration notebook\n",
    "waze_processed_df['is_weekend'] = None\n",
    "waze_processed_df['is_holiday'] = None\n",
    "waze_processed_df['is_rushhour'] = None"
   ]
  },
  {
   "cell_type": "code",
   "execution_count": 8,
   "metadata": {},
   "outputs": [
    {
     "data": {
      "text/html": [
       "<div>\n",
       "<style>\n",
       "    .dataframe thead tr:only-child th {\n",
       "        text-align: right;\n",
       "    }\n",
       "\n",
       "    .dataframe thead th {\n",
       "        text-align: left;\n",
       "    }\n",
       "\n",
       "    .dataframe tbody tr th {\n",
       "        vertical-align: top;\n",
       "    }\n",
       "</style>\n",
       "<table border=\"1\" class=\"dataframe\">\n",
       "  <thead>\n",
       "    <tr style=\"text-align: right;\">\n",
       "      <th></th>\n",
       "      <th>id</th>\n",
       "      <th>uuid</th>\n",
       "      <th>waze_timestamp</th>\n",
       "      <th>street</th>\n",
       "      <th>start_node</th>\n",
       "      <th>end_node</th>\n",
       "      <th>city</th>\n",
       "      <th>length</th>\n",
       "      <th>delay</th>\n",
       "      <th>speed</th>\n",
       "      <th>...</th>\n",
       "      <th>linestring_length</th>\n",
       "      <th>dow</th>\n",
       "      <th>month</th>\n",
       "      <th>date</th>\n",
       "      <th>time</th>\n",
       "      <th>timestamp_round</th>\n",
       "      <th>time_round</th>\n",
       "      <th>is_weekend</th>\n",
       "      <th>is_holiday</th>\n",
       "      <th>is_rushhour</th>\n",
       "    </tr>\n",
       "  </thead>\n",
       "  <tbody>\n",
       "    <tr>\n",
       "      <th>0</th>\n",
       "      <td>912774</td>\n",
       "      <td>2146712834</td>\n",
       "      <td>2017-04-14 14:16:35</td>\n",
       "      <td>Poway Rd</td>\n",
       "      <td>NaN</td>\n",
       "      <td>Pomerado Rd</td>\n",
       "      <td>Poway, CA</td>\n",
       "      <td>2275</td>\n",
       "      <td>776</td>\n",
       "      <td>2.541667</td>\n",
       "      <td>...</td>\n",
       "      <td>41</td>\n",
       "      <td>4</td>\n",
       "      <td>4</td>\n",
       "      <td>2017-04-14</td>\n",
       "      <td>14:16:35</td>\n",
       "      <td>2017-04-14 14:15:00</td>\n",
       "      <td>14:15:00</td>\n",
       "      <td>None</td>\n",
       "      <td>None</td>\n",
       "      <td>None</td>\n",
       "    </tr>\n",
       "    <tr>\n",
       "      <th>1</th>\n",
       "      <td>912775</td>\n",
       "      <td>3218080</td>\n",
       "      <td>2017-04-14 14:16:35</td>\n",
       "      <td>I-15 N</td>\n",
       "      <td>NaN</td>\n",
       "      <td>I-15 N</td>\n",
       "      <td>San Diego, CA</td>\n",
       "      <td>6970</td>\n",
       "      <td>189</td>\n",
       "      <td>17.219444</td>\n",
       "      <td>...</td>\n",
       "      <td>59</td>\n",
       "      <td>4</td>\n",
       "      <td>4</td>\n",
       "      <td>2017-04-14</td>\n",
       "      <td>14:16:35</td>\n",
       "      <td>2017-04-14 14:15:00</td>\n",
       "      <td>14:15:00</td>\n",
       "      <td>None</td>\n",
       "      <td>None</td>\n",
       "      <td>None</td>\n",
       "    </tr>\n",
       "    <tr>\n",
       "      <th>2</th>\n",
       "      <td>912776</td>\n",
       "      <td>2145691065</td>\n",
       "      <td>2017-04-14 14:16:35</td>\n",
       "      <td>Paseo Delicias</td>\n",
       "      <td>NaN</td>\n",
       "      <td>El Montevideo</td>\n",
       "      <td>Rancho Santa Fe, CA</td>\n",
       "      <td>441</td>\n",
       "      <td>97</td>\n",
       "      <td>3.488889</td>\n",
       "      <td>...</td>\n",
       "      <td>5</td>\n",
       "      <td>4</td>\n",
       "      <td>4</td>\n",
       "      <td>2017-04-14</td>\n",
       "      <td>14:16:35</td>\n",
       "      <td>2017-04-14 14:15:00</td>\n",
       "      <td>14:15:00</td>\n",
       "      <td>None</td>\n",
       "      <td>None</td>\n",
       "      <td>None</td>\n",
       "    </tr>\n",
       "    <tr>\n",
       "      <th>3</th>\n",
       "      <td>912777</td>\n",
       "      <td>2367323</td>\n",
       "      <td>2017-04-14 14:16:35</td>\n",
       "      <td>Camino Santa Fe</td>\n",
       "      <td>NaN</td>\n",
       "      <td>NaN</td>\n",
       "      <td>San Diego, CA</td>\n",
       "      <td>277</td>\n",
       "      <td>90</td>\n",
       "      <td>2.230556</td>\n",
       "      <td>...</td>\n",
       "      <td>8</td>\n",
       "      <td>4</td>\n",
       "      <td>4</td>\n",
       "      <td>2017-04-14</td>\n",
       "      <td>14:16:35</td>\n",
       "      <td>2017-04-14 14:15:00</td>\n",
       "      <td>14:15:00</td>\n",
       "      <td>None</td>\n",
       "      <td>None</td>\n",
       "      <td>None</td>\n",
       "    </tr>\n",
       "    <tr>\n",
       "      <th>4</th>\n",
       "      <td>912778</td>\n",
       "      <td>1022642</td>\n",
       "      <td>2017-04-14 14:21:22</td>\n",
       "      <td>Orange Ave</td>\n",
       "      <td>NaN</td>\n",
       "      <td>4th St</td>\n",
       "      <td>Coronado, CA</td>\n",
       "      <td>532</td>\n",
       "      <td>235</td>\n",
       "      <td>1.900000</td>\n",
       "      <td>...</td>\n",
       "      <td>4</td>\n",
       "      <td>4</td>\n",
       "      <td>4</td>\n",
       "      <td>2017-04-14</td>\n",
       "      <td>14:21:22</td>\n",
       "      <td>2017-04-14 14:15:00</td>\n",
       "      <td>14:15:00</td>\n",
       "      <td>None</td>\n",
       "      <td>None</td>\n",
       "      <td>None</td>\n",
       "    </tr>\n",
       "  </tbody>\n",
       "</table>\n",
       "<p>5 rows × 24 columns</p>\n",
       "</div>"
      ],
      "text/plain": [
       "       id        uuid      waze_timestamp           street start_node  \\\n",
       "0  912774  2146712834 2017-04-14 14:16:35         Poway Rd        NaN   \n",
       "1  912775     3218080 2017-04-14 14:16:35           I-15 N        NaN   \n",
       "2  912776  2145691065 2017-04-14 14:16:35   Paseo Delicias        NaN   \n",
       "3  912777     2367323 2017-04-14 14:16:35  Camino Santa Fe        NaN   \n",
       "4  912778     1022642 2017-04-14 14:21:22       Orange Ave        NaN   \n",
       "\n",
       "        end_node                 city  length  delay      speed     ...      \\\n",
       "0    Pomerado Rd            Poway, CA    2275    776   2.541667     ...       \n",
       "1         I-15 N        San Diego, CA    6970    189  17.219444     ...       \n",
       "2  El Montevideo  Rancho Santa Fe, CA     441     97   3.488889     ...       \n",
       "3            NaN        San Diego, CA     277     90   2.230556     ...       \n",
       "4         4th St         Coronado, CA     532    235   1.900000     ...       \n",
       "\n",
       "   linestring_length  dow month        date      time     timestamp_round  \\\n",
       "0                 41    4     4  2017-04-14  14:16:35 2017-04-14 14:15:00   \n",
       "1                 59    4     4  2017-04-14  14:16:35 2017-04-14 14:15:00   \n",
       "2                  5    4     4  2017-04-14  14:16:35 2017-04-14 14:15:00   \n",
       "3                  8    4     4  2017-04-14  14:16:35 2017-04-14 14:15:00   \n",
       "4                  4    4     4  2017-04-14  14:21:22 2017-04-14 14:15:00   \n",
       "\n",
       "   time_round is_weekend is_holiday is_rushhour  \n",
       "0    14:15:00       None       None        None  \n",
       "1    14:15:00       None       None        None  \n",
       "2    14:15:00       None       None        None  \n",
       "3    14:15:00       None       None        None  \n",
       "4    14:15:00       None       None        None  \n",
       "\n",
       "[5 rows x 24 columns]"
      ]
     },
     "execution_count": 8,
     "metadata": {},
     "output_type": "execute_result"
    }
   ],
   "source": [
    "waze_processed_df.head()"
   ]
  },
  {
   "cell_type": "markdown",
   "metadata": {},
   "source": [
    "## Create Time Table"
   ]
  },
  {
   "cell_type": "code",
   "execution_count": 9,
   "metadata": {
    "scrolled": true
   },
   "outputs": [
    {
     "data": {
      "text/html": [
       "<div>\n",
       "<style>\n",
       "    .dataframe thead tr:only-child th {\n",
       "        text-align: right;\n",
       "    }\n",
       "\n",
       "    .dataframe thead th {\n",
       "        text-align: left;\n",
       "    }\n",
       "\n",
       "    .dataframe tbody tr th {\n",
       "        vertical-align: top;\n",
       "    }\n",
       "</style>\n",
       "<table border=\"1\" class=\"dataframe\">\n",
       "  <thead>\n",
       "    <tr style=\"text-align: right;\">\n",
       "      <th></th>\n",
       "      <th>waze_timestamp</th>\n",
       "      <th>timestamp_round</th>\n",
       "      <th>date</th>\n",
       "      <th>time</th>\n",
       "      <th>time_round</th>\n",
       "      <th>dow</th>\n",
       "      <th>month</th>\n",
       "      <th>is_weekend</th>\n",
       "      <th>is_holiday</th>\n",
       "      <th>is_rushhour</th>\n",
       "      <th>time_id</th>\n",
       "    </tr>\n",
       "  </thead>\n",
       "  <tbody>\n",
       "    <tr>\n",
       "      <th>0</th>\n",
       "      <td>2017-02-08 16:12:54</td>\n",
       "      <td>2017-02-08 16:00:00</td>\n",
       "      <td>2017-02-08</td>\n",
       "      <td>16:12:54</td>\n",
       "      <td>16:00:00</td>\n",
       "      <td>2</td>\n",
       "      <td>2</td>\n",
       "      <td>None</td>\n",
       "      <td>None</td>\n",
       "      <td>None</td>\n",
       "      <td>1</td>\n",
       "    </tr>\n",
       "    <tr>\n",
       "      <th>1</th>\n",
       "      <td>2017-02-08 16:16:29</td>\n",
       "      <td>2017-02-08 16:15:00</td>\n",
       "      <td>2017-02-08</td>\n",
       "      <td>16:16:29</td>\n",
       "      <td>16:15:00</td>\n",
       "      <td>2</td>\n",
       "      <td>2</td>\n",
       "      <td>None</td>\n",
       "      <td>None</td>\n",
       "      <td>None</td>\n",
       "      <td>2</td>\n",
       "    </tr>\n",
       "    <tr>\n",
       "      <th>2</th>\n",
       "      <td>2017-02-08 16:21:14</td>\n",
       "      <td>2017-02-08 16:15:00</td>\n",
       "      <td>2017-02-08</td>\n",
       "      <td>16:21:14</td>\n",
       "      <td>16:15:00</td>\n",
       "      <td>2</td>\n",
       "      <td>2</td>\n",
       "      <td>None</td>\n",
       "      <td>None</td>\n",
       "      <td>None</td>\n",
       "      <td>3</td>\n",
       "    </tr>\n",
       "    <tr>\n",
       "      <th>3</th>\n",
       "      <td>2017-02-08 16:27:11</td>\n",
       "      <td>2017-02-08 16:15:00</td>\n",
       "      <td>2017-02-08</td>\n",
       "      <td>16:27:11</td>\n",
       "      <td>16:15:00</td>\n",
       "      <td>2</td>\n",
       "      <td>2</td>\n",
       "      <td>None</td>\n",
       "      <td>None</td>\n",
       "      <td>None</td>\n",
       "      <td>4</td>\n",
       "    </tr>\n",
       "    <tr>\n",
       "      <th>4</th>\n",
       "      <td>2017-02-08 16:31:57</td>\n",
       "      <td>2017-02-08 16:30:00</td>\n",
       "      <td>2017-02-08</td>\n",
       "      <td>16:31:57</td>\n",
       "      <td>16:30:00</td>\n",
       "      <td>2</td>\n",
       "      <td>2</td>\n",
       "      <td>None</td>\n",
       "      <td>None</td>\n",
       "      <td>None</td>\n",
       "      <td>5</td>\n",
       "    </tr>\n",
       "  </tbody>\n",
       "</table>\n",
       "</div>"
      ],
      "text/plain": [
       "       waze_timestamp     timestamp_round        date      time time_round  \\\n",
       "0 2017-02-08 16:12:54 2017-02-08 16:00:00  2017-02-08  16:12:54   16:00:00   \n",
       "1 2017-02-08 16:16:29 2017-02-08 16:15:00  2017-02-08  16:16:29   16:15:00   \n",
       "2 2017-02-08 16:21:14 2017-02-08 16:15:00  2017-02-08  16:21:14   16:15:00   \n",
       "3 2017-02-08 16:27:11 2017-02-08 16:15:00  2017-02-08  16:27:11   16:15:00   \n",
       "4 2017-02-08 16:31:57 2017-02-08 16:30:00  2017-02-08  16:31:57   16:30:00   \n",
       "\n",
       "   dow  month is_weekend is_holiday is_rushhour  time_id  \n",
       "0    2      2       None       None        None        1  \n",
       "1    2      2       None       None        None        2  \n",
       "2    2      2       None       None        None        3  \n",
       "3    2      2       None       None        None        4  \n",
       "4    2      2       None       None        None        5  "
      ]
     },
     "execution_count": 9,
     "metadata": {},
     "output_type": "execute_result"
    }
   ],
   "source": [
    "time_cols = ['waze_timestamp','timestamp_round','date','time','time_round','dow','month','is_weekend','is_holiday','is_rushhour']\n",
    "time_df = waze_processed_df.loc[:,time_cols].drop_duplicates().sort_values(by='waze_timestamp').reset_index()\n",
    "time_df.drop('index', axis=1, inplace=True)\n",
    "time_df['time_id'] = time_df.index + 1\n",
    "time_df.head()"
   ]
  },
  {
   "cell_type": "markdown",
   "metadata": {},
   "source": [
    "## Create Segment Table"
   ]
  },
  {
   "cell_type": "code",
   "execution_count": 10,
   "metadata": {
    "collapsed": true
   },
   "outputs": [],
   "source": [
    "# helper function\n",
    "def extract_segments(ls):\n",
    "    '''function to extract individual lonlat segments from a linestring'''\n",
    "    ls_0 = ls.split('(')[-1:][0]\n",
    "    lonlats_str = ls_0[:-1].split(',')\n",
    "    lons = [float(ll.split()[0]) for ll in lonlats_str]\n",
    "    lats = [float(ll.split()[1]) for ll in lonlats_str]\n",
    "    lonlats = list(zip(lons, lats))\n",
    "    segments = [(lonlats[i],lonlats[i+1]) for i in range(len(lonlats)-1)]\n",
    "    return segments"
   ]
  },
  {
   "cell_type": "code",
   "execution_count": 11,
   "metadata": {
    "collapsed": true
   },
   "outputs": [],
   "source": [
    "# extract segments from linestrings\n",
    "linestrings = np.array(waze_processed_df['linestring'].values)\n",
    "waze_segments = map(extract_segments, linestrings)"
   ]
  },
  {
   "cell_type": "code",
   "execution_count": 12,
   "metadata": {},
   "outputs": [
    {
     "name": "stdout",
     "output_type": "stream",
     "text": [
      "should be zero: 0.0\n"
     ]
    }
   ],
   "source": [
    "# check to make sure lengths align\n",
    "segment_lengths = np.array(map(len, waze_segments)) + 1\n",
    "linestring_lengths = np.array(waze_raw_df['linestring_length'].values)\n",
    "\n",
    "print 'should be zero: {}'.format(np.average(linestring_lengths - segment_lengths))"
   ]
  },
  {
   "cell_type": "code",
   "execution_count": 13,
   "metadata": {
    "collapsed": true
   },
   "outputs": [],
   "source": [
    "# add segments to processed dataframe\n",
    "waze_processed_df['segments'] = waze_segments"
   ]
  },
  {
   "cell_type": "code",
   "execution_count": 14,
   "metadata": {},
   "outputs": [
    {
     "name": "stdout",
     "output_type": "stream",
     "text": [
      "nonmatching rows: 0\n"
     ]
    }
   ],
   "source": [
    "# check random rows to make sure linestrings and segments match\n",
    "nonmatching_row_count = 0\n",
    "for random_row in np.random.choice(waze_processed_df.index.values, size=1000, replace=False):\n",
    "    rand_linestring = waze_processed_df.iloc[random_row]['linestring']\n",
    "    rand_segments = waze_processed_df.iloc[random_row]['segments']\n",
    "    if rand_segments == extract_segments(rand_linestring):\n",
    "        continue\n",
    "    else:\n",
    "        nonmatching_row_count+=1\n",
    "        print 'row {} does not match'.format(random_row)\n",
    "\n",
    "print 'nonmatching rows: {}'.format(nonmatching_row_count)"
   ]
  },
  {
   "cell_type": "code",
   "execution_count": 15,
   "metadata": {},
   "outputs": [],
   "source": [
    "# get list of individual segments\n",
    "segments_list = waze_processed_df['segments'].values"
   ]
  },
  {
   "cell_type": "code",
   "execution_count": 16,
   "metadata": {},
   "outputs": [],
   "source": [
    "# flatten list\n",
    "flat_segments_list = [segment for segments in segments_list for segment in segments]"
   ]
  },
  {
   "cell_type": "code",
   "execution_count": 17,
   "metadata": {},
   "outputs": [],
   "source": [
    "# get unique segments\n",
    "unique_segments = np.array(list(set(flat_segments_list)))"
   ]
  },
  {
   "cell_type": "code",
   "execution_count": 18,
   "metadata": {},
   "outputs": [
    {
     "data": {
      "text/plain": [
       "174604"
      ]
     },
     "execution_count": 18,
     "metadata": {},
     "output_type": "execute_result"
    }
   ],
   "source": [
    "len(unique_segments)"
   ]
  },
  {
   "cell_type": "code",
   "execution_count": 19,
   "metadata": {},
   "outputs": [
    {
     "data": {
      "text/plain": [
       "array([[[-117.220002,   32.875825],\n",
       "        [-117.219893,   32.875811]],\n",
       "\n",
       "       [[-116.978804,   32.616346],\n",
       "        [-116.978212,   32.614897]],\n",
       "\n",
       "       [[-117.029244,   33.005363],\n",
       "        [-117.029237,   33.005589]],\n",
       "\n",
       "       ..., \n",
       "       [[-117.079921,   32.641281],\n",
       "        [-117.080565,   32.642981]],\n",
       "\n",
       "       [[-117.127177,   32.747425],\n",
       "        [-117.127169,   32.748075]],\n",
       "\n",
       "       [[-117.039935,   32.782489],\n",
       "        [-117.040041,   32.7824  ]]])"
      ]
     },
     "execution_count": 19,
     "metadata": {},
     "output_type": "execute_result"
    }
   ],
   "source": [
    "unique_segments"
   ]
  },
  {
   "cell_type": "code",
   "execution_count": 20,
   "metadata": {},
   "outputs": [],
   "source": [
    "# create dict for dataframe\n",
    "segments_dict = {\n",
    "    'segment_id': np.array(range(len(unique_segments))) + 1,\n",
    "    'segment': [s for s in unique_segments],\n",
    "    'lat1': [s[0][1] for s in unique_segments],\n",
    "    'lon1': [s[0][0] for s in unique_segments],\n",
    "    'lat2': [s[1][1] for s in unique_segments],\n",
    "    'lon2': [s[1][0] for s in unique_segments]\n",
    "}"
   ]
  },
  {
   "cell_type": "code",
   "execution_count": 21,
   "metadata": {},
   "outputs": [],
   "source": [
    "# create segment dataframe\n",
    "segment_df = pd.DataFrame(segments_dict)"
   ]
  },
  {
   "cell_type": "code",
   "execution_count": 22,
   "metadata": {
    "collapsed": true
   },
   "outputs": [],
   "source": [
    "# TODO - add additional columns\n",
    "segment_df['street'] = None\n",
    "segment_df['city'] = None\n",
    "segment_df['road_type'] = None\n",
    "segment_df['geom'] = None\n",
    "segment_df['length'] = None"
   ]
  },
  {
   "cell_type": "code",
   "execution_count": 23,
   "metadata": {
    "scrolled": true
   },
   "outputs": [
    {
     "data": {
      "text/html": [
       "<div>\n",
       "<style>\n",
       "    .dataframe thead tr:only-child th {\n",
       "        text-align: right;\n",
       "    }\n",
       "\n",
       "    .dataframe thead th {\n",
       "        text-align: left;\n",
       "    }\n",
       "\n",
       "    .dataframe tbody tr th {\n",
       "        vertical-align: top;\n",
       "    }\n",
       "</style>\n",
       "<table border=\"1\" class=\"dataframe\">\n",
       "  <thead>\n",
       "    <tr style=\"text-align: right;\">\n",
       "      <th></th>\n",
       "      <th>lat1</th>\n",
       "      <th>lat2</th>\n",
       "      <th>lon1</th>\n",
       "      <th>lon2</th>\n",
       "      <th>segment</th>\n",
       "      <th>segment_id</th>\n",
       "      <th>street</th>\n",
       "      <th>city</th>\n",
       "      <th>road_type</th>\n",
       "      <th>geom</th>\n",
       "      <th>length</th>\n",
       "    </tr>\n",
       "  </thead>\n",
       "  <tbody>\n",
       "    <tr>\n",
       "      <th>0</th>\n",
       "      <td>32.875825</td>\n",
       "      <td>32.875811</td>\n",
       "      <td>-117.220002</td>\n",
       "      <td>-117.219893</td>\n",
       "      <td>[[-117.220002, 32.875825], [-117.219893, 32.87...</td>\n",
       "      <td>1</td>\n",
       "      <td>None</td>\n",
       "      <td>None</td>\n",
       "      <td>None</td>\n",
       "      <td>None</td>\n",
       "      <td>None</td>\n",
       "    </tr>\n",
       "    <tr>\n",
       "      <th>1</th>\n",
       "      <td>32.616346</td>\n",
       "      <td>32.614897</td>\n",
       "      <td>-116.978804</td>\n",
       "      <td>-116.978212</td>\n",
       "      <td>[[-116.978804, 32.616346], [-116.978212, 32.61...</td>\n",
       "      <td>2</td>\n",
       "      <td>None</td>\n",
       "      <td>None</td>\n",
       "      <td>None</td>\n",
       "      <td>None</td>\n",
       "      <td>None</td>\n",
       "    </tr>\n",
       "    <tr>\n",
       "      <th>2</th>\n",
       "      <td>33.005363</td>\n",
       "      <td>33.005589</td>\n",
       "      <td>-117.029244</td>\n",
       "      <td>-117.029237</td>\n",
       "      <td>[[-117.029244, 33.005363], [-117.029237, 33.00...</td>\n",
       "      <td>3</td>\n",
       "      <td>None</td>\n",
       "      <td>None</td>\n",
       "      <td>None</td>\n",
       "      <td>None</td>\n",
       "      <td>None</td>\n",
       "    </tr>\n",
       "    <tr>\n",
       "      <th>3</th>\n",
       "      <td>32.896659</td>\n",
       "      <td>32.896772</td>\n",
       "      <td>-117.190593</td>\n",
       "      <td>-117.190444</td>\n",
       "      <td>[[-117.190593, 32.896659], [-117.190444, 32.89...</td>\n",
       "      <td>4</td>\n",
       "      <td>None</td>\n",
       "      <td>None</td>\n",
       "      <td>None</td>\n",
       "      <td>None</td>\n",
       "      <td>None</td>\n",
       "    </tr>\n",
       "    <tr>\n",
       "      <th>4</th>\n",
       "      <td>32.778413</td>\n",
       "      <td>32.778399</td>\n",
       "      <td>-116.985483</td>\n",
       "      <td>-116.985316</td>\n",
       "      <td>[[-116.985483, 32.778413], [-116.985316, 32.77...</td>\n",
       "      <td>5</td>\n",
       "      <td>None</td>\n",
       "      <td>None</td>\n",
       "      <td>None</td>\n",
       "      <td>None</td>\n",
       "      <td>None</td>\n",
       "    </tr>\n",
       "  </tbody>\n",
       "</table>\n",
       "</div>"
      ],
      "text/plain": [
       "        lat1       lat2        lon1        lon2  \\\n",
       "0  32.875825  32.875811 -117.220002 -117.219893   \n",
       "1  32.616346  32.614897 -116.978804 -116.978212   \n",
       "2  33.005363  33.005589 -117.029244 -117.029237   \n",
       "3  32.896659  32.896772 -117.190593 -117.190444   \n",
       "4  32.778413  32.778399 -116.985483 -116.985316   \n",
       "\n",
       "                                             segment  segment_id street  city  \\\n",
       "0  [[-117.220002, 32.875825], [-117.219893, 32.87...           1   None  None   \n",
       "1  [[-116.978804, 32.616346], [-116.978212, 32.61...           2   None  None   \n",
       "2  [[-117.029244, 33.005363], [-117.029237, 33.00...           3   None  None   \n",
       "3  [[-117.190593, 32.896659], [-117.190444, 32.89...           4   None  None   \n",
       "4  [[-116.985483, 32.778413], [-116.985316, 32.77...           5   None  None   \n",
       "\n",
       "  road_type  geom length  \n",
       "0      None  None   None  \n",
       "1      None  None   None  \n",
       "2      None  None   None  \n",
       "3      None  None   None  \n",
       "4      None  None   None  "
      ]
     },
     "execution_count": 23,
     "metadata": {},
     "output_type": "execute_result"
    }
   ],
   "source": [
    "segment_df.head()"
   ]
  },
  {
   "cell_type": "markdown",
   "metadata": {},
   "source": [
    "## Create UUID Table"
   ]
  },
  {
   "cell_type": "code",
   "execution_count": 24,
   "metadata": {
    "collapsed": true
   },
   "outputs": [],
   "source": [
    "# TODO"
   ]
  },
  {
   "cell_type": "markdown",
   "metadata": {},
   "source": [
    "## Create Time/Segment/UUID Mapping Table"
   ]
  },
  {
   "cell_type": "code",
   "execution_count": 25,
   "metadata": {
    "collapsed": true
   },
   "outputs": [],
   "source": [
    "# TODO"
   ]
  },
  {
   "cell_type": "markdown",
   "metadata": {},
   "source": [
    "## Write DataFrames to csv"
   ]
  },
  {
   "cell_type": "code",
   "execution_count": 26,
   "metadata": {
    "collapsed": true
   },
   "outputs": [],
   "source": [
    "# TODO"
   ]
  }
 ],
 "metadata": {
  "kernelspec": {
   "display_name": "Python 2",
   "language": "python",
   "name": "python2"
  },
  "language_info": {
   "codemirror_mode": {
    "name": "ipython",
    "version": 2
   },
   "file_extension": ".py",
   "mimetype": "text/x-python",
   "name": "python",
   "nbconvert_exporter": "python",
   "pygments_lexer": "ipython2",
   "version": "2.7.13"
  }
 },
 "nbformat": 4,
 "nbformat_minor": 2
}
