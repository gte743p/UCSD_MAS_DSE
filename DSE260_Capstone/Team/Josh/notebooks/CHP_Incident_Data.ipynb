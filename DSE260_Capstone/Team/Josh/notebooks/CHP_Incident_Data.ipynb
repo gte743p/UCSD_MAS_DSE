{
 "cells": [
  {
   "cell_type": "markdown",
   "metadata": {},
   "source": [
    "## CHP incident data"
   ]
  },
  {
   "cell_type": "markdown",
   "metadata": {},
   "source": [
    "The purpose of this notebook to download and filter CHP incidents data.\n",
    "\n",
    "The output is a file named \"chp_incidents_for_postgis.csv\" that can be loaded to PostGIS using the \"load_chp_incidents.sql\" script.\n",
    "\n",
    "The local directory structure used for this notebook is below.  You may need to modify the data loading function calls if your directory structure is different.\n",
    "\n",
    "```\n",
    "    |-- data\n",
    "         |-- waze.csv\n",
    "         |-- notebooks\n",
    "                |-- CHP_Incident_Data.ipynb\n",
    "         |-- opendata\n",
    "                |-- all_text_chp_incidents_month_2017_02.txt\n",
    "                |-- all_text_chp_incidents_month_2017_03.txt\n",
    "                |-- all_text_chp_incidents_month_2017_04.txt\n",
    "                |-- all_text_chp_incidents_month_2017_05.txt\n",
    "                |-- all_text_chp_incidents_month_2017_06.txt\n",
    "```"
   ]
  },
  {
   "cell_type": "markdown",
   "metadata": {},
   "source": [
    "### Load CHP incident data"
   ]
  },
  {
   "cell_type": "code",
   "execution_count": 1,
   "metadata": {
    "collapsed": true
   },
   "outputs": [],
   "source": [
    "import pandas as pd"
   ]
  },
  {
   "cell_type": "code",
   "execution_count": 2,
   "metadata": {
    "collapsed": true
   },
   "outputs": [],
   "source": [
    "chp_2017_02 = pd.read_csv('../opendata/all_text_chp_incidents_month_2017_02.txt', header=None)\n",
    "chp_2017_03 = pd.read_csv('../opendata/all_text_chp_incidents_month_2017_03.txt', header=None)\n",
    "chp_2017_04 = pd.read_csv('../opendata/all_text_chp_incidents_month_2017_04.txt', header=None)\n",
    "chp_2017_05 = pd.read_csv('../opendata/all_text_chp_incidents_month_2017_05.txt', header=None)\n",
    "chp_2017_06 = pd.read_csv('../opendata/all_text_chp_incidents_month_2017_06.txt', header=None)\n",
    "\n",
    "chp_incident_df = pd.concat([chp_2017_02, chp_2017_03, chp_2017_04, chp_2017_05, chp_2017_06])\n",
    "\n",
    "chp_inc_headers = ['incident_id','cc_code','incident_number','timestamp',\n",
    "                   'description','location','area','zoom_map','tb_xy',\n",
    "                   'latitude','longitude','district','county_fips_id',\n",
    "                   'city_fips_id','freeway_number','freeway_direction',\n",
    "                   'state_postmile','absolute_postmile','severity',\n",
    "                   'duration']\n",
    "\n",
    "chp_incident_df.columns = chp_inc_headers"
   ]
  },
  {
   "cell_type": "code",
   "execution_count": 3,
   "metadata": {},
   "outputs": [
    {
     "data": {
      "text/plain": [
       "(215872, 20)"
      ]
     },
     "execution_count": 3,
     "metadata": {},
     "output_type": "execute_result"
    }
   ],
   "source": [
    "chp_incident_df.shape"
   ]
  },
  {
   "cell_type": "code",
   "execution_count": 4,
   "metadata": {
    "scrolled": true
   },
   "outputs": [
    {
     "data": {
      "text/html": [
       "<div>\n",
       "<style>\n",
       "    .dataframe thead tr:only-child th {\n",
       "        text-align: right;\n",
       "    }\n",
       "\n",
       "    .dataframe thead th {\n",
       "        text-align: left;\n",
       "    }\n",
       "\n",
       "    .dataframe tbody tr th {\n",
       "        vertical-align: top;\n",
       "    }\n",
       "</style>\n",
       "<table border=\"1\" class=\"dataframe\">\n",
       "  <thead>\n",
       "    <tr style=\"text-align: right;\">\n",
       "      <th></th>\n",
       "      <th>incident_id</th>\n",
       "      <th>cc_code</th>\n",
       "      <th>incident_number</th>\n",
       "      <th>timestamp</th>\n",
       "      <th>description</th>\n",
       "      <th>location</th>\n",
       "      <th>area</th>\n",
       "      <th>zoom_map</th>\n",
       "      <th>tb_xy</th>\n",
       "      <th>latitude</th>\n",
       "      <th>longitude</th>\n",
       "      <th>district</th>\n",
       "      <th>county_fips_id</th>\n",
       "      <th>city_fips_id</th>\n",
       "      <th>freeway_number</th>\n",
       "      <th>freeway_direction</th>\n",
       "      <th>state_postmile</th>\n",
       "      <th>absolute_postmile</th>\n",
       "      <th>severity</th>\n",
       "      <th>duration</th>\n",
       "    </tr>\n",
       "  </thead>\n",
       "  <tbody>\n",
       "    <tr>\n",
       "      <th>0</th>\n",
       "      <td>16985679</td>\n",
       "      <td>SAHB</td>\n",
       "      <td>170201</td>\n",
       "      <td>02/01/2017 00:00:00</td>\n",
       "      <td>1125-Traffic Hazard</td>\n",
       "      <td>Us50 E / Cameron Park Dr Onr</td>\n",
       "      <td>Placerville</td>\n",
       "      <td>NaN</td>\n",
       "      <td>NaN</td>\n",
       "      <td>38.659374</td>\n",
       "      <td>-120.965157</td>\n",
       "      <td>3.0</td>\n",
       "      <td>17.0</td>\n",
       "      <td>NaN</td>\n",
       "      <td>50</td>\n",
       "      <td>E</td>\n",
       "      <td>6.802</td>\n",
       "      <td>35.6</td>\n",
       "      <td>NaN</td>\n",
       "      <td>4.0</td>\n",
       "    </tr>\n",
       "    <tr>\n",
       "      <th>1</th>\n",
       "      <td>16985685</td>\n",
       "      <td>INHB</td>\n",
       "      <td>170201</td>\n",
       "      <td>02/01/2017 00:01:00</td>\n",
       "      <td>1182-Trfc Collision-No Inj</td>\n",
       "      <td>I5 S / El Toro Rd</td>\n",
       "      <td>Capistrano</td>\n",
       "      <td>NaN</td>\n",
       "      <td>NaN</td>\n",
       "      <td>33.614552</td>\n",
       "      <td>-117.707706</td>\n",
       "      <td>12.0</td>\n",
       "      <td>59.0</td>\n",
       "      <td>39220.0</td>\n",
       "      <td>5</td>\n",
       "      <td>S</td>\n",
       "      <td>18.705</td>\n",
       "      <td>90.9</td>\n",
       "      <td>NaN</td>\n",
       "      <td>40.0</td>\n",
       "    </tr>\n",
       "    <tr>\n",
       "      <th>2</th>\n",
       "      <td>16985691</td>\n",
       "      <td>GGHB</td>\n",
       "      <td>170201</td>\n",
       "      <td>02/01/2017 00:08:00</td>\n",
       "      <td>1182-Trfc Collision-No Inj</td>\n",
       "      <td>I580 E / Lakeshore Ave Onr</td>\n",
       "      <td>Oakland</td>\n",
       "      <td>NaN</td>\n",
       "      <td>NaN</td>\n",
       "      <td>37.808592</td>\n",
       "      <td>-122.242804</td>\n",
       "      <td>4.0</td>\n",
       "      <td>1.0</td>\n",
       "      <td>53000.0</td>\n",
       "      <td>580</td>\n",
       "      <td>E</td>\n",
       "      <td>43.115</td>\n",
       "      <td>59.2</td>\n",
       "      <td>NaN</td>\n",
       "      <td>15.0</td>\n",
       "    </tr>\n",
       "    <tr>\n",
       "      <th>3</th>\n",
       "      <td>16985692</td>\n",
       "      <td>LAHB</td>\n",
       "      <td>170201</td>\n",
       "      <td>02/01/2017 00:12:00</td>\n",
       "      <td>1125-Traffic Hazard</td>\n",
       "      <td>I210 W / E Foothill Blvd Pas</td>\n",
       "      <td>Altadena</td>\n",
       "      <td>NaN</td>\n",
       "      <td>NaN</td>\n",
       "      <td>34.149919</td>\n",
       "      <td>-118.088107</td>\n",
       "      <td>7.0</td>\n",
       "      <td>37.0</td>\n",
       "      <td>56000.0</td>\n",
       "      <td>210</td>\n",
       "      <td>W</td>\n",
       "      <td>R28.92</td>\n",
       "      <td>28.9</td>\n",
       "      <td>NaN</td>\n",
       "      <td>21.0</td>\n",
       "    </tr>\n",
       "    <tr>\n",
       "      <th>4</th>\n",
       "      <td>16985693</td>\n",
       "      <td>LAHB</td>\n",
       "      <td>170201</td>\n",
       "      <td>02/01/2017 00:11:00</td>\n",
       "      <td>1179-Trfc Collision-1141 Enrt</td>\n",
       "      <td>Us101 N / Universal Studios Blvd</td>\n",
       "      <td>Central LA</td>\n",
       "      <td>NaN</td>\n",
       "      <td>NaN</td>\n",
       "      <td>34.133306</td>\n",
       "      <td>-118.352405</td>\n",
       "      <td>7.0</td>\n",
       "      <td>37.0</td>\n",
       "      <td>44000.0</td>\n",
       "      <td>101</td>\n",
       "      <td>N</td>\n",
       "      <td>9.652</td>\n",
       "      <td>11.0</td>\n",
       "      <td>NaN</td>\n",
       "      <td>57.0</td>\n",
       "    </tr>\n",
       "  </tbody>\n",
       "</table>\n",
       "</div>"
      ],
      "text/plain": [
       "   incident_id cc_code  incident_number            timestamp  \\\n",
       "0     16985679    SAHB           170201  02/01/2017 00:00:00   \n",
       "1     16985685    INHB           170201  02/01/2017 00:01:00   \n",
       "2     16985691    GGHB           170201  02/01/2017 00:08:00   \n",
       "3     16985692    LAHB           170201  02/01/2017 00:12:00   \n",
       "4     16985693    LAHB           170201  02/01/2017 00:11:00   \n",
       "\n",
       "                     description                          location  \\\n",
       "0            1125-Traffic Hazard      Us50 E / Cameron Park Dr Onr   \n",
       "1     1182-Trfc Collision-No Inj                 I5 S / El Toro Rd   \n",
       "2     1182-Trfc Collision-No Inj        I580 E / Lakeshore Ave Onr   \n",
       "3            1125-Traffic Hazard      I210 W / E Foothill Blvd Pas   \n",
       "4  1179-Trfc Collision-1141 Enrt  Us101 N / Universal Studios Blvd   \n",
       "\n",
       "          area  zoom_map  tb_xy   latitude   longitude  district  \\\n",
       "0  Placerville       NaN    NaN  38.659374 -120.965157       3.0   \n",
       "1   Capistrano       NaN    NaN  33.614552 -117.707706      12.0   \n",
       "2      Oakland       NaN    NaN  37.808592 -122.242804       4.0   \n",
       "3     Altadena       NaN    NaN  34.149919 -118.088107       7.0   \n",
       "4   Central LA       NaN    NaN  34.133306 -118.352405       7.0   \n",
       "\n",
       "   county_fips_id  city_fips_id  freeway_number freeway_direction  \\\n",
       "0            17.0           NaN              50                 E   \n",
       "1            59.0       39220.0               5                 S   \n",
       "2             1.0       53000.0             580                 E   \n",
       "3            37.0       56000.0             210                 W   \n",
       "4            37.0       44000.0             101                 N   \n",
       "\n",
       "  state_postmile  absolute_postmile severity  duration  \n",
       "0          6.802               35.6      NaN       4.0  \n",
       "1         18.705               90.9      NaN      40.0  \n",
       "2         43.115               59.2      NaN      15.0  \n",
       "3         R28.92               28.9      NaN      21.0  \n",
       "4          9.652               11.0      NaN      57.0  "
      ]
     },
     "execution_count": 4,
     "metadata": {},
     "output_type": "execute_result"
    }
   ],
   "source": [
    "chp_incident_df.head()"
   ]
  },
  {
   "cell_type": "markdown",
   "metadata": {},
   "source": [
    "### Filter CHP incident data to appropriate lon/lat range"
   ]
  },
  {
   "cell_type": "code",
   "execution_count": 5,
   "metadata": {
    "collapsed": true
   },
   "outputs": [],
   "source": [
    "import numpy as np\n",
    "import psycopg2 as pg"
   ]
  },
  {
   "cell_type": "code",
   "execution_count": 6,
   "metadata": {
    "collapsed": true
   },
   "outputs": [],
   "source": [
    "# replace database inputs as appropriate\n",
    "conn_str = \"host={} dbname={} user={} password={}\".format('localhost', 'waze', 'postgres', 'password')\n",
    "conn = pg.connect(conn_str)"
   ]
  },
  {
   "cell_type": "code",
   "execution_count": 7,
   "metadata": {
    "collapsed": true
   },
   "outputs": [],
   "source": [
    "linestrings = pd.read_sql('select ST_AsText(geom) from congestion', con=conn)\n",
    "ls = linestrings.values"
   ]
  },
  {
   "cell_type": "code",
   "execution_count": 8,
   "metadata": {
    "collapsed": true
   },
   "outputs": [],
   "source": [
    "# extract lon/lat from linestring and flatten list\n",
    "lonlats = [l[0].split('(')[1][:-1].split(',') for l in ls]\n",
    "flat_lonlats = [item for sublist in lonlats for item in sublist]"
   ]
  },
  {
   "cell_type": "code",
   "execution_count": 9,
   "metadata": {
    "collapsed": true
   },
   "outputs": [],
   "source": [
    "# get lons and lats\n",
    "lons = [float(l.split()[0]) for l in flat_lonlats]\n",
    "lats = [float(l.split()[1]) for l in flat_lonlats]"
   ]
  },
  {
   "cell_type": "code",
   "execution_count": 10,
   "metadata": {},
   "outputs": [
    {
     "name": "stdout",
     "output_type": "stream",
     "text": [
      "max lon: -116.831579\n",
      "min lon: -117.281509\n",
      "max lat: 33.145562\n",
      "min lat: 32.535057\n",
      "\n",
      "Sanity check:  The latitude of San Diego, CA, USA is 32.715736, and the longitude is -117.161087\n"
     ]
    }
   ],
   "source": [
    "maxlon = np.max(lons)\n",
    "minlon = np.min(lons)\n",
    "maxlat = np.max(lats)\n",
    "minlat = np.min(lats)\n",
    "\n",
    "print 'max lon: {}'.format(maxlon)\n",
    "print 'min lon: {}'.format(minlon)\n",
    "print 'max lat: {}'.format(maxlat)\n",
    "print 'min lat: {}'.format(minlat)\n",
    "\n",
    "print '\\nSanity check:  The latitude of San Diego, CA, USA is 32.715736, and the longitude is -117.161087'"
   ]
  },
  {
   "cell_type": "code",
   "execution_count": 11,
   "metadata": {},
   "outputs": [
    {
     "name": "stdout",
     "output_type": "stream",
     "text": [
      "pre filter shape: (215872, 20)\n",
      "post filter shape: (17076, 20)\n"
     ]
    }
   ],
   "source": [
    "print 'pre filter shape: {}'.format(chp_incident_df.shape)\n",
    "\n",
    "chp_inc_lonlat = chp_incident_df.loc[(chp_incident_df['latitude']>=minlat) & \n",
    "                                     (chp_incident_df['latitude']<=maxlat) & \n",
    "                                     (chp_incident_df['longitude']>=minlon) & \n",
    "                                     (chp_incident_df['longitude']<=maxlon), :\n",
    "                                    ]\n",
    "\n",
    "print 'post filter shape: {}'.format(chp_inc_lonlat.shape)"
   ]
  },
  {
   "cell_type": "markdown",
   "metadata": {},
   "source": [
    "### Filter CHP incident data to appropriate date range"
   ]
  },
  {
   "cell_type": "code",
   "execution_count": 12,
   "metadata": {},
   "outputs": [
    {
     "name": "stdout",
     "output_type": "stream",
     "text": [
      "min waze_timestamp:\n",
      "2017-02-08 16:12:54\n",
      "\n",
      "max waze_timestamp:\n",
      "2017-06-12 15:16:17\n"
     ]
    }
   ],
   "source": [
    "df = pd.read_csv(\"../waze_data.csv\")\n",
    "mindate = df.waze_timestamp.min()\n",
    "maxdate = df.waze_timestamp.max()\n",
    "\n",
    "print 'min waze_timestamp:'\n",
    "print mindate\n",
    "\n",
    "print '\\nmax waze_timestamp:'\n",
    "print maxdate"
   ]
  },
  {
   "cell_type": "code",
   "execution_count": 13,
   "metadata": {},
   "outputs": [
    {
     "name": "stdout",
     "output_type": "stream",
     "text": [
      "pre filter shape: (17076, 20)\n",
      "post filter shape: (13929, 20)\n"
     ]
    },
    {
     "name": "stderr",
     "output_type": "stream",
     "text": [
      "/Users/joshwilson/anaconda3/envs/py27/lib/python2.7/site-packages/pandas/core/indexing.py:517: SettingWithCopyWarning: \n",
      "A value is trying to be set on a copy of a slice from a DataFrame.\n",
      "Try using .loc[row_indexer,col_indexer] = value instead\n",
      "\n",
      "See the caveats in the documentation: http://pandas.pydata.org/pandas-docs/stable/indexing.html#indexing-view-versus-copy\n",
      "  self.obj[item] = s\n"
     ]
    }
   ],
   "source": [
    "print 'pre filter shape: {}'.format(chp_inc_lonlat.shape)\n",
    "\n",
    "chp_inc_lonlat.loc[:,'timestamp'] = pd.to_datetime(chp_inc_lonlat.loc[:,'timestamp']).values\n",
    "chp_inc_lonlatdates = chp_inc_lonlat.loc[(chp_inc_lonlat['timestamp']>=mindate) & \n",
    "                                         (chp_inc_lonlat['timestamp']<=maxdate),:]\n",
    "\n",
    "print 'post filter shape: {}'.format(chp_inc_lonlatdates.shape)"
   ]
  },
  {
   "cell_type": "markdown",
   "metadata": {},
   "source": [
    "### Write resulting CHP incidents data to csv"
   ]
  },
  {
   "cell_type": "code",
   "execution_count": 14,
   "metadata": {
    "collapsed": true
   },
   "outputs": [],
   "source": [
    "chp_inc_lonlatdates.to_csv('../chp_incidents_for_postgis.csv', index=False)"
   ]
  },
  {
   "cell_type": "code",
   "execution_count": null,
   "metadata": {
    "collapsed": true
   },
   "outputs": [],
   "source": []
  }
 ],
 "metadata": {
  "kernelspec": {
   "display_name": "Python 2",
   "language": "python",
   "name": "python2"
  },
  "language_info": {
   "codemirror_mode": {
    "name": "ipython",
    "version": 2
   },
   "file_extension": ".py",
   "mimetype": "text/x-python",
   "name": "python",
   "nbconvert_exporter": "python",
   "pygments_lexer": "ipython2",
   "version": "2.7.13"
  }
 },
 "nbformat": 4,
 "nbformat_minor": 2
}
