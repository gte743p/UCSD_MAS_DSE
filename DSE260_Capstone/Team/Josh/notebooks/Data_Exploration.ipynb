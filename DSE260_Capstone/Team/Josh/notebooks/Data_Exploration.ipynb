{
 "cells": [
  {
   "cell_type": "code",
   "execution_count": 1,
   "metadata": {},
   "outputs": [
    {
     "name": "stdout",
     "output_type": "stream",
     "text": [
      "Populating the interactive namespace from numpy and matplotlib\n"
     ]
    }
   ],
   "source": [
    "%pylab inline\n",
    "import pandas"
   ]
  },
  {
   "cell_type": "code",
   "execution_count": null,
   "metadata": {
    "collapsed": true
   },
   "outputs": [],
   "source": [
    "# uncomment to downlaod data if needed\n",
    "#!curl -O http://theia.datasd.org.s3.amazonaws.com/waze_data.csv"
   ]
  },
  {
   "cell_type": "markdown",
   "metadata": {},
   "source": [
    "# Units: \n",
    "Length – Meters \n",
    "Speed – km/hour \n",
    "Delay – seconds (corresponding to freeflow traffic) If delay is positive, means delay.  \\n\n",
    "Delay of -1 means street blocked/closed.  \\n\n",
    "Level – rating 1 through 5 indicating level of congestion. 0 means free, 5 means bumper to bumper/stopped. \\n\n",
    "Road type – unsure. Looks like 4 is freeway. \\n\n",
    "Line string – format is called wkt (well known text) and defines a line – how long traffic is. We can upload this \\n data to a software (some open source options) and visualize on map. Volkan to give us some resources: QGIS, ArcGis \\n only for windows and UI only. Can extract the street network from MapsN. \\n\n",
    "New feature: May want to have binary feature based on Level (e.g. 3 and above = traffic, below = no traffic). \\n"
   ]
  },
  {
   "cell_type": "code",
   "execution_count": 2,
   "metadata": {
    "collapsed": true
   },
   "outputs": [],
   "source": [
    "df = pandas.read_csv(\"waze_data.csv\")"
   ]
  },
  {
   "cell_type": "code",
   "execution_count": 3,
   "metadata": {},
   "outputs": [
    {
     "data": {
      "text/plain": [
       "Index([u'uuid', u'waze_timestamp', u'street', u'start_node', u'end_node',\n",
       "       u'city', u'length', u'delay', u'speed', u'level', u'road_type',\n",
       "       u'geom'],\n",
       "      dtype='object')"
      ]
     },
     "execution_count": 3,
     "metadata": {},
     "output_type": "execute_result"
    }
   ],
   "source": [
    "df.columns"
   ]
  },
  {
   "cell_type": "code",
   "execution_count": 4,
   "metadata": {},
   "outputs": [
    {
     "data": {
      "text/plain": [
       "uuid                int64\n",
       "waze_timestamp     object\n",
       "street             object\n",
       "start_node         object\n",
       "end_node           object\n",
       "city               object\n",
       "length              int64\n",
       "delay               int64\n",
       "speed             float64\n",
       "level               int64\n",
       "road_type           int64\n",
       "geom               object\n",
       "dtype: object"
      ]
     },
     "execution_count": 4,
     "metadata": {},
     "output_type": "execute_result"
    }
   ],
   "source": [
    "df.dtypes"
   ]
  },
  {
   "cell_type": "code",
   "execution_count": 5,
   "metadata": {},
   "outputs": [
    {
     "data": {
      "text/plain": [
       "uuid              False\n",
       "waze_timestamp    False\n",
       "street             True\n",
       "start_node         True\n",
       "end_node           True\n",
       "city               True\n",
       "length            False\n",
       "delay             False\n",
       "speed             False\n",
       "level             False\n",
       "road_type         False\n",
       "geom              False\n",
       "dtype: bool"
      ]
     },
     "execution_count": 5,
     "metadata": {},
     "output_type": "execute_result"
    }
   ],
   "source": [
    "df.isnull().any()"
   ]
  },
  {
   "cell_type": "code",
   "execution_count": 8,
   "metadata": {},
   "outputs": [
    {
     "data": {
      "text/plain": [
       "(7592, 12)"
      ]
     },
     "execution_count": 8,
     "metadata": {},
     "output_type": "execute_result"
    }
   ],
   "source": [
    "df.shape"
   ]
  },
  {
   "cell_type": "code",
   "execution_count": 9,
   "metadata": {},
   "outputs": [
    {
     "name": "stdout",
     "output_type": "stream",
     "text": [
      "min waze_timestamp:\n",
      "2017-02-08 16:12:54\n",
      "\n",
      "max waze_timestamp:\n",
      "2017-06-12 15:16:17\n"
     ]
    }
   ],
   "source": [
    "print 'min waze_timestamp:'\n",
    "print df.waze_timestamp.min()\n",
    "\n",
    "print '\\nmax waze_timestamp:'\n",
    "print df.waze_timestamp.max()"
   ]
  },
  {
   "cell_type": "code",
   "execution_count": 9,
   "metadata": {},
   "outputs": [
    {
     "data": {
      "text/html": [
       "<div>\n",
       "<style>\n",
       "    .dataframe thead tr:only-child th {\n",
       "        text-align: right;\n",
       "    }\n",
       "\n",
       "    .dataframe thead th {\n",
       "        text-align: left;\n",
       "    }\n",
       "\n",
       "    .dataframe tbody tr th {\n",
       "        vertical-align: top;\n",
       "    }\n",
       "</style>\n",
       "<table border=\"1\" class=\"dataframe\">\n",
       "  <thead>\n",
       "    <tr style=\"text-align: right;\">\n",
       "      <th></th>\n",
       "      <th>count</th>\n",
       "      <th>mean</th>\n",
       "      <th>std</th>\n",
       "      <th>min</th>\n",
       "      <th>25%</th>\n",
       "      <th>50%</th>\n",
       "      <th>75%</th>\n",
       "      <th>max</th>\n",
       "    </tr>\n",
       "  </thead>\n",
       "  <tbody>\n",
       "    <tr>\n",
       "      <th>uuid</th>\n",
       "      <td>7592.0</td>\n",
       "      <td>3.335266e+08</td>\n",
       "      <td>8.257128e+07</td>\n",
       "      <td>36971633.0</td>\n",
       "      <td>3.536213e+08</td>\n",
       "      <td>3.578661e+08</td>\n",
       "      <td>3.626264e+08</td>\n",
       "      <td>3.789336e+08</td>\n",
       "    </tr>\n",
       "    <tr>\n",
       "      <th>length</th>\n",
       "      <td>7592.0</td>\n",
       "      <td>7.639548e+02</td>\n",
       "      <td>9.932004e+02</td>\n",
       "      <td>26.0</td>\n",
       "      <td>3.140000e+02</td>\n",
       "      <td>5.430000e+02</td>\n",
       "      <td>8.570000e+02</td>\n",
       "      <td>2.336500e+04</td>\n",
       "    </tr>\n",
       "    <tr>\n",
       "      <th>delay</th>\n",
       "      <td>7592.0</td>\n",
       "      <td>1.230119e+02</td>\n",
       "      <td>1.072193e+02</td>\n",
       "      <td>-1.0</td>\n",
       "      <td>7.900000e+01</td>\n",
       "      <td>1.020000e+02</td>\n",
       "      <td>1.370000e+02</td>\n",
       "      <td>1.755000e+03</td>\n",
       "    </tr>\n",
       "    <tr>\n",
       "      <th>speed</th>\n",
       "      <td>7592.0</td>\n",
       "      <td>3.742038e+00</td>\n",
       "      <td>2.980785e+00</td>\n",
       "      <td>0.0</td>\n",
       "      <td>1.874306e+00</td>\n",
       "      <td>3.169444e+00</td>\n",
       "      <td>4.828472e+00</td>\n",
       "      <td>2.198611e+01</td>\n",
       "    </tr>\n",
       "    <tr>\n",
       "      <th>level</th>\n",
       "      <td>7592.0</td>\n",
       "      <td>3.141728e+00</td>\n",
       "      <td>9.366371e-01</td>\n",
       "      <td>1.0</td>\n",
       "      <td>3.000000e+00</td>\n",
       "      <td>3.000000e+00</td>\n",
       "      <td>4.000000e+00</td>\n",
       "      <td>5.000000e+00</td>\n",
       "    </tr>\n",
       "    <tr>\n",
       "      <th>road_type</th>\n",
       "      <td>7592.0</td>\n",
       "      <td>4.642518e+00</td>\n",
       "      <td>2.388435e+00</td>\n",
       "      <td>1.0</td>\n",
       "      <td>2.000000e+00</td>\n",
       "      <td>6.000000e+00</td>\n",
       "      <td>7.000000e+00</td>\n",
       "      <td>7.000000e+00</td>\n",
       "    </tr>\n",
       "  </tbody>\n",
       "</table>\n",
       "</div>"
      ],
      "text/plain": [
       "            count          mean           std         min           25%  \\\n",
       "uuid       7592.0  3.335266e+08  8.257128e+07  36971633.0  3.536213e+08   \n",
       "length     7592.0  7.639548e+02  9.932004e+02        26.0  3.140000e+02   \n",
       "delay      7592.0  1.230119e+02  1.072193e+02        -1.0  7.900000e+01   \n",
       "speed      7592.0  3.742038e+00  2.980785e+00         0.0  1.874306e+00   \n",
       "level      7592.0  3.141728e+00  9.366371e-01         1.0  3.000000e+00   \n",
       "road_type  7592.0  4.642518e+00  2.388435e+00         1.0  2.000000e+00   \n",
       "\n",
       "                    50%           75%           max  \n",
       "uuid       3.578661e+08  3.626264e+08  3.789336e+08  \n",
       "length     5.430000e+02  8.570000e+02  2.336500e+04  \n",
       "delay      1.020000e+02  1.370000e+02  1.755000e+03  \n",
       "speed      3.169444e+00  4.828472e+00  2.198611e+01  \n",
       "level      3.000000e+00  4.000000e+00  5.000000e+00  \n",
       "road_type  6.000000e+00  7.000000e+00  7.000000e+00  "
      ]
     },
     "execution_count": 9,
     "metadata": {},
     "output_type": "execute_result"
    }
   ],
   "source": [
    "df.describe().T"
   ]
  },
  {
   "cell_type": "code",
   "execution_count": 10,
   "metadata": {},
   "outputs": [
    {
     "data": {
      "text/html": [
       "<div>\n",
       "<style>\n",
       "    .dataframe thead tr:only-child th {\n",
       "        text-align: right;\n",
       "    }\n",
       "\n",
       "    .dataframe thead th {\n",
       "        text-align: left;\n",
       "    }\n",
       "\n",
       "    .dataframe tbody tr th {\n",
       "        vertical-align: top;\n",
       "    }\n",
       "</style>\n",
       "<table border=\"1\" class=\"dataframe\">\n",
       "  <thead>\n",
       "    <tr style=\"text-align: right;\">\n",
       "      <th></th>\n",
       "      <th>uuid</th>\n",
       "      <th>waze_timestamp</th>\n",
       "      <th>street</th>\n",
       "      <th>start_node</th>\n",
       "      <th>end_node</th>\n",
       "      <th>city</th>\n",
       "      <th>length</th>\n",
       "      <th>delay</th>\n",
       "      <th>speed</th>\n",
       "      <th>level</th>\n",
       "      <th>road_type</th>\n",
       "      <th>geom</th>\n",
       "    </tr>\n",
       "  </thead>\n",
       "  <tbody>\n",
       "    <tr>\n",
       "      <th>0</th>\n",
       "      <td>348279374</td>\n",
       "      <td>2017-02-24 08:47:01</td>\n",
       "      <td>Rosecrans St</td>\n",
       "      <td>NaN</td>\n",
       "      <td>Lytton St</td>\n",
       "      <td>San Diego, CA</td>\n",
       "      <td>934</td>\n",
       "      <td>464</td>\n",
       "      <td>1.755556</td>\n",
       "      <td>4</td>\n",
       "      <td>6</td>\n",
       "      <td>0102000020E610000015000000EF39B01C214D5DC015C6...</td>\n",
       "    </tr>\n",
       "    <tr>\n",
       "      <th>1</th>\n",
       "      <td>348764673</td>\n",
       "      <td>2017-02-24 08:47:01</td>\n",
       "      <td>to SR-163 N</td>\n",
       "      <td>NaN</td>\n",
       "      <td>SR-163 N</td>\n",
       "      <td>San Diego, CA</td>\n",
       "      <td>487</td>\n",
       "      <td>101</td>\n",
       "      <td>3.922222</td>\n",
       "      <td>3</td>\n",
       "      <td>4</td>\n",
       "      <td>0102000020E61000000E000000D15B3CBCE7495DC05F29...</td>\n",
       "    </tr>\n",
       "    <tr>\n",
       "      <th>2</th>\n",
       "      <td>348536095</td>\n",
       "      <td>2017-02-24 08:47:01</td>\n",
       "      <td>Via Rancho Pkwy</td>\n",
       "      <td>NaN</td>\n",
       "      <td>to I-15 N</td>\n",
       "      <td>Escondido, CA</td>\n",
       "      <td>637</td>\n",
       "      <td>90</td>\n",
       "      <td>4.541667</td>\n",
       "      <td>2</td>\n",
       "      <td>7</td>\n",
       "      <td>0102000020E610000005000000FE8172DBBE445DC04DA0...</td>\n",
       "    </tr>\n",
       "    <tr>\n",
       "      <th>3</th>\n",
       "      <td>40791027</td>\n",
       "      <td>2017-02-24 08:51:49</td>\n",
       "      <td>Hoover Ave</td>\n",
       "      <td>NaN</td>\n",
       "      <td>NaN</td>\n",
       "      <td>National City, CA</td>\n",
       "      <td>100</td>\n",
       "      <td>-1</td>\n",
       "      <td>0.000000</td>\n",
       "      <td>5</td>\n",
       "      <td>1</td>\n",
       "      <td>0102000020E610000002000000FE7E315BB2465DC0DD43...</td>\n",
       "    </tr>\n",
       "    <tr>\n",
       "      <th>4</th>\n",
       "      <td>36971633</td>\n",
       "      <td>2017-02-24 08:51:49</td>\n",
       "      <td>Hoover Ave</td>\n",
       "      <td>NaN</td>\n",
       "      <td>NaN</td>\n",
       "      <td>National City, CA</td>\n",
       "      <td>100</td>\n",
       "      <td>-1</td>\n",
       "      <td>0.000000</td>\n",
       "      <td>5</td>\n",
       "      <td>1</td>\n",
       "      <td>0102000020E610000002000000C66D3480B7465DC08196...</td>\n",
       "    </tr>\n",
       "    <tr>\n",
       "      <th>5</th>\n",
       "      <td>353993967</td>\n",
       "      <td>2017-02-24 08:51:49</td>\n",
       "      <td>Civic Center Dr</td>\n",
       "      <td>NaN</td>\n",
       "      <td>to I-5 N</td>\n",
       "      <td>National City, CA</td>\n",
       "      <td>303</td>\n",
       "      <td>114</td>\n",
       "      <td>1.850000</td>\n",
       "      <td>3</td>\n",
       "      <td>7</td>\n",
       "      <td>0102000020E61000000400000091D6187442475DC062D9...</td>\n",
       "    </tr>\n",
       "    <tr>\n",
       "      <th>6</th>\n",
       "      <td>349622483</td>\n",
       "      <td>2017-02-24 08:51:49</td>\n",
       "      <td>Civic Center Dr</td>\n",
       "      <td>NaN</td>\n",
       "      <td>Harbor Dr</td>\n",
       "      <td>National City, CA</td>\n",
       "      <td>252</td>\n",
       "      <td>98</td>\n",
       "      <td>1.908333</td>\n",
       "      <td>3</td>\n",
       "      <td>7</td>\n",
       "      <td>0102000020E610000003000000CC5D4BC807475DC0F224...</td>\n",
       "    </tr>\n",
       "    <tr>\n",
       "      <th>7</th>\n",
       "      <td>345243533</td>\n",
       "      <td>2017-02-24 08:51:49</td>\n",
       "      <td>I-5 N</td>\n",
       "      <td>NaN</td>\n",
       "      <td>I-5 N</td>\n",
       "      <td>National City, CA</td>\n",
       "      <td>3118</td>\n",
       "      <td>302</td>\n",
       "      <td>7.672222</td>\n",
       "      <td>3</td>\n",
       "      <td>3</td>\n",
       "      <td>0102000020E610000020000000439259BDC3465DC08D7C...</td>\n",
       "    </tr>\n",
       "    <tr>\n",
       "      <th>8</th>\n",
       "      <td>349775633</td>\n",
       "      <td>2017-02-24 08:51:49</td>\n",
       "      <td>Beyer Blvd</td>\n",
       "      <td>NaN</td>\n",
       "      <td>to SR-905 W</td>\n",
       "      <td>San Diego, CA</td>\n",
       "      <td>475</td>\n",
       "      <td>128</td>\n",
       "      <td>2.797222</td>\n",
       "      <td>3</td>\n",
       "      <td>7</td>\n",
       "      <td>0102000020E610000007000000AA6400A8E2435DC03E24...</td>\n",
       "    </tr>\n",
       "    <tr>\n",
       "      <th>9</th>\n",
       "      <td>349685702</td>\n",
       "      <td>2017-02-24 08:51:49</td>\n",
       "      <td>La Media Rd</td>\n",
       "      <td>NaN</td>\n",
       "      <td>Birch Rd</td>\n",
       "      <td>Chula Vista, CA</td>\n",
       "      <td>1462</td>\n",
       "      <td>118</td>\n",
       "      <td>6.416667</td>\n",
       "      <td>2</td>\n",
       "      <td>2</td>\n",
       "      <td>0102000020E610000014000000F530B43A393F5DC01495...</td>\n",
       "    </tr>\n",
       "  </tbody>\n",
       "</table>\n",
       "</div>"
      ],
      "text/plain": [
       "        uuid       waze_timestamp           street start_node     end_node  \\\n",
       "0  348279374  2017-02-24 08:47:01     Rosecrans St        NaN    Lytton St   \n",
       "1  348764673  2017-02-24 08:47:01      to SR-163 N        NaN     SR-163 N   \n",
       "2  348536095  2017-02-24 08:47:01  Via Rancho Pkwy        NaN    to I-15 N   \n",
       "3   40791027  2017-02-24 08:51:49       Hoover Ave        NaN          NaN   \n",
       "4   36971633  2017-02-24 08:51:49       Hoover Ave        NaN          NaN   \n",
       "5  353993967  2017-02-24 08:51:49  Civic Center Dr        NaN     to I-5 N   \n",
       "6  349622483  2017-02-24 08:51:49  Civic Center Dr        NaN    Harbor Dr   \n",
       "7  345243533  2017-02-24 08:51:49            I-5 N        NaN        I-5 N   \n",
       "8  349775633  2017-02-24 08:51:49       Beyer Blvd        NaN  to SR-905 W   \n",
       "9  349685702  2017-02-24 08:51:49      La Media Rd        NaN     Birch Rd   \n",
       "\n",
       "                city  length  delay     speed  level  road_type  \\\n",
       "0      San Diego, CA     934    464  1.755556      4          6   \n",
       "1      San Diego, CA     487    101  3.922222      3          4   \n",
       "2      Escondido, CA     637     90  4.541667      2          7   \n",
       "3  National City, CA     100     -1  0.000000      5          1   \n",
       "4  National City, CA     100     -1  0.000000      5          1   \n",
       "5  National City, CA     303    114  1.850000      3          7   \n",
       "6  National City, CA     252     98  1.908333      3          7   \n",
       "7  National City, CA    3118    302  7.672222      3          3   \n",
       "8      San Diego, CA     475    128  2.797222      3          7   \n",
       "9    Chula Vista, CA    1462    118  6.416667      2          2   \n",
       "\n",
       "                                                geom  \n",
       "0  0102000020E610000015000000EF39B01C214D5DC015C6...  \n",
       "1  0102000020E61000000E000000D15B3CBCE7495DC05F29...  \n",
       "2  0102000020E610000005000000FE8172DBBE445DC04DA0...  \n",
       "3  0102000020E610000002000000FE7E315BB2465DC0DD43...  \n",
       "4  0102000020E610000002000000C66D3480B7465DC08196...  \n",
       "5  0102000020E61000000400000091D6187442475DC062D9...  \n",
       "6  0102000020E610000003000000CC5D4BC807475DC0F224...  \n",
       "7  0102000020E610000020000000439259BDC3465DC08D7C...  \n",
       "8  0102000020E610000007000000AA6400A8E2435DC03E24...  \n",
       "9  0102000020E610000014000000F530B43A393F5DC01495...  "
      ]
     },
     "execution_count": 10,
     "metadata": {},
     "output_type": "execute_result"
    }
   ],
   "source": [
    "df.head(10)"
   ]
  },
  {
   "cell_type": "code",
   "execution_count": 9,
   "metadata": {
    "collapsed": true
   },
   "outputs": [],
   "source": [
    "# min_num = 1000\n",
    "# for i in range(len(df)):\n",
    "#     if len(df['geom'][i])< min_num:\n",
    "#         min_num = len(df['geom'][i])\n",
    "           \n",
    "# print \"minum = \", min_num"
   ]
  },
  {
   "cell_type": "code",
   "execution_count": null,
   "metadata": {
    "collapsed": true
   },
   "outputs": [],
   "source": [
    "# for i in range(len(df)):\n",
    "#     if len(df['geom'][i]) == min_num:\n",
    "#         print df['geom'][i]\n",
    "#         break\n",
    "#0102000020E610000002000000FE7E315BB2465DC0DD43C2F7FE544040C66D3480B7465DC08196AE601B554040"
   ]
  },
  {
   "cell_type": "code",
   "execution_count": 10,
   "metadata": {
    "collapsed": true
   },
   "outputs": [],
   "source": [
    "# Seems to take enormous amount of time\n",
    "from pandas.plotting import scatter_matrix"
   ]
  },
  {
   "cell_type": "code",
   "execution_count": 69,
   "metadata": {
    "collapsed": true
   },
   "outputs": [],
   "source": [
    "df1 = df.drop(df['delay']==-1)"
   ]
  },
  {
   "cell_type": "code",
   "execution_count": 70,
   "metadata": {},
   "outputs": [
    {
     "data": {
      "text/plain": [
       "2260988"
      ]
     },
     "execution_count": 70,
     "metadata": {},
     "output_type": "execute_result"
    }
   ],
   "source": [
    "len(df1)"
   ]
  },
  {
   "cell_type": "code",
   "execution_count": 11,
   "metadata": {},
   "outputs": [
    {
     "data": {
      "text/html": [
       "<div>\n",
       "<style>\n",
       "    .dataframe thead tr:only-child th {\n",
       "        text-align: right;\n",
       "    }\n",
       "\n",
       "    .dataframe thead th {\n",
       "        text-align: left;\n",
       "    }\n",
       "\n",
       "    .dataframe tbody tr th {\n",
       "        vertical-align: top;\n",
       "    }\n",
       "</style>\n",
       "<table border=\"1\" class=\"dataframe\">\n",
       "  <thead>\n",
       "    <tr style=\"text-align: right;\">\n",
       "      <th></th>\n",
       "      <th>waze_timestamp</th>\n",
       "      <th>street</th>\n",
       "      <th>start_node</th>\n",
       "      <th>end_node</th>\n",
       "      <th>city</th>\n",
       "      <th>length</th>\n",
       "      <th>delay</th>\n",
       "      <th>speed</th>\n",
       "      <th>level</th>\n",
       "      <th>road_type</th>\n",
       "      <th>geom</th>\n",
       "    </tr>\n",
       "  </thead>\n",
       "  <tbody>\n",
       "    <tr>\n",
       "      <th>0</th>\n",
       "      <td>2017-02-24 08:47:01</td>\n",
       "      <td>Rosecrans St</td>\n",
       "      <td>NaN</td>\n",
       "      <td>Lytton St</td>\n",
       "      <td>San Diego, CA</td>\n",
       "      <td>934</td>\n",
       "      <td>464</td>\n",
       "      <td>1.755556</td>\n",
       "      <td>4</td>\n",
       "      <td>6</td>\n",
       "      <td>0102000020E610000015000000EF39B01C214D5DC015C6...</td>\n",
       "    </tr>\n",
       "    <tr>\n",
       "      <th>1</th>\n",
       "      <td>2017-02-24 08:47:01</td>\n",
       "      <td>to SR-163 N</td>\n",
       "      <td>NaN</td>\n",
       "      <td>SR-163 N</td>\n",
       "      <td>San Diego, CA</td>\n",
       "      <td>487</td>\n",
       "      <td>101</td>\n",
       "      <td>3.922222</td>\n",
       "      <td>3</td>\n",
       "      <td>4</td>\n",
       "      <td>0102000020E61000000E000000D15B3CBCE7495DC05F29...</td>\n",
       "    </tr>\n",
       "    <tr>\n",
       "      <th>2</th>\n",
       "      <td>2017-02-24 08:47:01</td>\n",
       "      <td>Via Rancho Pkwy</td>\n",
       "      <td>NaN</td>\n",
       "      <td>to I-15 N</td>\n",
       "      <td>Escondido, CA</td>\n",
       "      <td>637</td>\n",
       "      <td>90</td>\n",
       "      <td>4.541667</td>\n",
       "      <td>2</td>\n",
       "      <td>7</td>\n",
       "      <td>0102000020E610000005000000FE8172DBBE445DC04DA0...</td>\n",
       "    </tr>\n",
       "    <tr>\n",
       "      <th>3</th>\n",
       "      <td>2017-02-24 08:51:49</td>\n",
       "      <td>Hoover Ave</td>\n",
       "      <td>NaN</td>\n",
       "      <td>NaN</td>\n",
       "      <td>National City, CA</td>\n",
       "      <td>100</td>\n",
       "      <td>-1</td>\n",
       "      <td>0.000000</td>\n",
       "      <td>5</td>\n",
       "      <td>1</td>\n",
       "      <td>0102000020E610000002000000FE7E315BB2465DC0DD43...</td>\n",
       "    </tr>\n",
       "    <tr>\n",
       "      <th>4</th>\n",
       "      <td>2017-02-24 08:51:49</td>\n",
       "      <td>Hoover Ave</td>\n",
       "      <td>NaN</td>\n",
       "      <td>NaN</td>\n",
       "      <td>National City, CA</td>\n",
       "      <td>100</td>\n",
       "      <td>-1</td>\n",
       "      <td>0.000000</td>\n",
       "      <td>5</td>\n",
       "      <td>1</td>\n",
       "      <td>0102000020E610000002000000C66D3480B7465DC08196...</td>\n",
       "    </tr>\n",
       "  </tbody>\n",
       "</table>\n",
       "</div>"
      ],
      "text/plain": [
       "        waze_timestamp           street start_node   end_node  \\\n",
       "0  2017-02-24 08:47:01     Rosecrans St        NaN  Lytton St   \n",
       "1  2017-02-24 08:47:01      to SR-163 N        NaN   SR-163 N   \n",
       "2  2017-02-24 08:47:01  Via Rancho Pkwy        NaN  to I-15 N   \n",
       "3  2017-02-24 08:51:49       Hoover Ave        NaN        NaN   \n",
       "4  2017-02-24 08:51:49       Hoover Ave        NaN        NaN   \n",
       "\n",
       "                city  length  delay     speed  level  road_type  \\\n",
       "0      San Diego, CA     934    464  1.755556      4          6   \n",
       "1      San Diego, CA     487    101  3.922222      3          4   \n",
       "2      Escondido, CA     637     90  4.541667      2          7   \n",
       "3  National City, CA     100     -1  0.000000      5          1   \n",
       "4  National City, CA     100     -1  0.000000      5          1   \n",
       "\n",
       "                                                geom  \n",
       "0  0102000020E610000015000000EF39B01C214D5DC015C6...  \n",
       "1  0102000020E61000000E000000D15B3CBCE7495DC05F29...  \n",
       "2  0102000020E610000005000000FE8172DBBE445DC04DA0...  \n",
       "3  0102000020E610000002000000FE7E315BB2465DC0DD43...  \n",
       "4  0102000020E610000002000000C66D3480B7465DC08196...  "
      ]
     },
     "execution_count": 11,
     "metadata": {},
     "output_type": "execute_result"
    }
   ],
   "source": [
    "df.iloc[:5,1:12]"
   ]
  },
  {
   "cell_type": "code",
   "execution_count": 72,
   "metadata": {
    "collapsed": true
   },
   "outputs": [],
   "source": [
    "#df[df[\"road_type\"]==6].head(20)"
   ]
  },
  {
   "cell_type": "code",
   "execution_count": 13,
   "metadata": {
    "collapsed": true,
    "scrolled": true
   },
   "outputs": [],
   "source": [
    "#scatter_matrix(df.iloc[0:10000,1:11],alpha=0.03, figsize=(10, 10), diagonal='kde');"
   ]
  },
  {
   "cell_type": "code",
   "execution_count": 71,
   "metadata": {},
   "outputs": [
    {
     "data": {
      "image/png": "[encoded data removed]",
      "text/plain": [
       "<matplotlib.figure.Figure at 0x11ad6f910>"
      ]
     },
     "metadata": {},
     "output_type": "display_data"
    }
   ],
   "source": [
    "axes = scatter_matrix(df1.iloc[0:10000,1:11],alpha=0.03, figsize=(10, 10), diagonal='kde');\n",
    "corr = df1.iloc[0:10000,1:11].corr().as_matrix()\n",
    "for i, j in zip(*plt.np.triu_indices_from(axes, k=1)):\n",
    "    axes[i, j].annotate(\"%.3f\" %corr[i,j], (0.8, 0.8), xycoords='axes fraction', ha='center', va='center')\n",
    "plt.show()"
   ]
  },
  {
   "cell_type": "code",
   "execution_count": 11,
   "metadata": {
    "collapsed": true
   },
   "outputs": [],
   "source": [
    "import geopandas\n",
    "from geopandas import GeoDataFrame\n",
    "from shapely.geometry import Point\n",
    "\n",
    "from geoalchemy2 import functions\n",
    "from shapely import wkb, wkt\n",
    "from binascii import unhexlify\n",
    "#geometry = [Point(xy) for xy in zip(df.Lon, df.Lat)]\n",
    "crs = {'init': 'epsg:4326'}\n",
    "\n",
    "def convert_to_wkt(hexn):\n",
    "    binary = unhexlify(bytes(hexn))\n",
    "    point = wkb.loads(binary)\n",
    "    return wkt.dumps(point)\n",
    "\n",
    "small_df = df.iloc[1:10, 1:12]\n",
    "# Convert `'geom'` column in GeoDataFrame `gdf` to hex\n",
    "    # Note that following this step, the GeoDataFrame is just a regular DataFrame\n",
    "    # because it does not have a geometry column anymore. Also note that\n",
    "    # it is assumed the `'geom'` column is correctly datatyped.\n",
    "small_df['geometry'] = small_df['geom'].apply(convert_to_wkt)"
   ]
  },
  {
   "cell_type": "code",
   "execution_count": 27,
   "metadata": {
    "collapsed": true
   },
   "outputs": [],
   "source": [
    "#df[:,'geometry'] = df[:,'geom']\n",
    "#print(list(small_df['geometry']))"
   ]
  },
  {
   "cell_type": "code",
   "execution_count": 12,
   "metadata": {
    "collapsed": true
   },
   "outputs": [],
   "source": [
    "gdf = GeoDataFrame(small_df['geometry'], crs=crs)\n",
    "#gdf = GeoDataFrame(small_df)"
   ]
  },
  {
   "cell_type": "code",
   "execution_count": 13,
   "metadata": {},
   "outputs": [
    {
     "data": {
      "text/plain": [
       "<matplotlib.axes._subplots.AxesSubplot at 0x10ee11810>"
      ]
     },
     "execution_count": 13,
     "metadata": {},
     "output_type": "execute_result"
    },
    {
     "data": {
      "image/png": "[encoded data removed]",
      "text/plain": [
       "<matplotlib.figure.Figure at 0x10ee11cd0>"
      ]
     },
     "metadata": {},
     "output_type": "display_data"
    }
   ],
   "source": [
    "gdf.plot()"
   ]
  },
  {
   "cell_type": "code",
   "execution_count": 14,
   "metadata": {},
   "outputs": [
    {
     "data": {
      "text/plain": [
       "<matplotlib.axes._subplots.AxesSubplot at 0x10ee8b410>"
      ]
     },
     "execution_count": 14,
     "metadata": {},
     "output_type": "execute_result"
    },
    {
     "data": {
      "image/png": "[encoded data removed]",
      "text/plain": [
       "<matplotlib.figure.Figure at 0x1034e0590>"
      ]
     },
     "metadata": {},
     "output_type": "display_data"
    }
   ],
   "source": [
    "#print(gdf)\n",
    "# GeoDataFrame.plot(gdf, column='geometry', colormap=None, alpha=0.5, \\\n",
    "#                             categorical=False, legend=False, axes=None)\n",
    "GeoDataFrame.plot(gdf, column='geometry', cmap=None, alpha=0.5, \\\n",
    "                            categorical=False, legend=False, ax=None)"
   ]
  },
  {
   "cell_type": "code",
   "execution_count": 51,
   "metadata": {
    "collapsed": true
   },
   "outputs": [],
   "source": [
    "# gdf.crs= \"+proj=longlat +ellps=WGS84 +datum=WGS84 +no_defs\"\n",
    "# gdf.to_file('MyGeometries.shp', driver='ESRI Shapefile')"
   ]
  },
  {
   "cell_type": "code",
   "execution_count": 15,
   "metadata": {},
   "outputs": [
    {
     "data": {
      "text/plain": [
       "0    Poly((0, 0) ...)\n",
       "1    Poly((0, 0) ...)\n",
       "2    Poly((2, 0) ...)\n",
       "dtype: object"
      ]
     },
     "execution_count": 15,
     "metadata": {},
     "output_type": "execute_result"
    }
   ],
   "source": [
    "from geopandas import GeoSeries\n",
    "p1 = Polygon([(0, 0), (1, 0), (1, 1)])\n",
    "p2 = Polygon([(0, 0), (1, 0), (1, 1), (0, 1)]) \n",
    "p3 = Polygon([(2, 0), (3, 0), (3, 1), (2, 1)]) \n",
    "g = GeoSeries([p1, p2, p3])\n",
    "g"
   ]
  },
  {
   "cell_type": "code",
   "execution_count": 16,
   "metadata": {},
   "outputs": [
    {
     "data": {
      "text/plain": [
       "<matplotlib.axes._subplots.AxesSubplot at 0x10f1743d0>"
      ]
     },
     "execution_count": 16,
     "metadata": {},
     "output_type": "execute_result"
    },
    {
     "data": {
      "image/png": "[encoded data removed]",
      "text/plain": [
       "<matplotlib.figure.Figure at 0x10f1182d0>"
      ]
     },
     "metadata": {},
     "output_type": "display_data"
    }
   ],
   "source": [
    "g.plot()"
   ]
  },
  {
   "cell_type": "markdown",
   "metadata": {
    "collapsed": true
   },
   "source": [
    "## Special Events"
   ]
  },
  {
   "cell_type": "code",
   "execution_count": 17,
   "metadata": {
    "collapsed": true
   },
   "outputs": [],
   "source": [
    "%matplotlib inline"
   ]
  },
  {
   "cell_type": "code",
   "execution_count": 18,
   "metadata": {
    "collapsed": true
   },
   "outputs": [],
   "source": [
    "import matplotlib.pyplot as plt"
   ]
  },
  {
   "cell_type": "code",
   "execution_count": 20,
   "metadata": {
    "collapsed": true
   },
   "outputs": [],
   "source": [
    "events_dictionary = pandas.read_csv('data/special_events_listings_dictionary.csv')\n",
    "events_df = pandas.read_csv('data/special_events_list_datasd.csv')"
   ]
  },
  {
   "cell_type": "code",
   "execution_count": 21,
   "metadata": {},
   "outputs": [
    {
     "data": {
      "text/plain": [
       "(2670, 15)"
      ]
     },
     "execution_count": 21,
     "metadata": {},
     "output_type": "execute_result"
    }
   ],
   "source": [
    "events_df.shape"
   ]
  },
  {
   "cell_type": "code",
   "execution_count": 22,
   "metadata": {},
   "outputs": [
    {
     "data": {
      "text/html": [
       "<div>\n",
       "<style>\n",
       "    .dataframe thead tr:only-child th {\n",
       "        text-align: right;\n",
       "    }\n",
       "\n",
       "    .dataframe thead th {\n",
       "        text-align: left;\n",
       "    }\n",
       "\n",
       "    .dataframe tbody tr th {\n",
       "        vertical-align: top;\n",
       "    }\n",
       "</style>\n",
       "<table border=\"1\" class=\"dataframe\">\n",
       "  <thead>\n",
       "    <tr style=\"text-align: right;\">\n",
       "      <th></th>\n",
       "      <th>Field</th>\n",
       "      <th>Description</th>\n",
       "      <th>Possible values</th>\n",
       "    </tr>\n",
       "  </thead>\n",
       "  <tbody>\n",
       "    <tr>\n",
       "      <th>0</th>\n",
       "      <td>event_id</td>\n",
       "      <td>Unique identifier of event</td>\n",
       "      <td>NaN</td>\n",
       "    </tr>\n",
       "    <tr>\n",
       "      <th>1</th>\n",
       "      <td>event_title</td>\n",
       "      <td>Title of event</td>\n",
       "      <td>NaN</td>\n",
       "    </tr>\n",
       "    <tr>\n",
       "      <th>2</th>\n",
       "      <td>event_subtitle</td>\n",
       "      <td>Subtitle of event</td>\n",
       "      <td>NaN</td>\n",
       "    </tr>\n",
       "    <tr>\n",
       "      <th>3</th>\n",
       "      <td>event_type</td>\n",
       "      <td>Type of event</td>\n",
       "      <td>festival, museum, music, other, parades, sports</td>\n",
       "    </tr>\n",
       "    <tr>\n",
       "      <th>4</th>\n",
       "      <td>event_desc</td>\n",
       "      <td>Description of event</td>\n",
       "      <td>NaN</td>\n",
       "    </tr>\n",
       "    <tr>\n",
       "      <th>5</th>\n",
       "      <td>event_host</td>\n",
       "      <td>Event host organization</td>\n",
       "      <td>NaN</td>\n",
       "    </tr>\n",
       "    <tr>\n",
       "      <th>6</th>\n",
       "      <td>event_loc</td>\n",
       "      <td>Description of location</td>\n",
       "      <td>NaN</td>\n",
       "    </tr>\n",
       "    <tr>\n",
       "      <th>7</th>\n",
       "      <td>event_start</td>\n",
       "      <td>Start date and time</td>\n",
       "      <td>NaN</td>\n",
       "    </tr>\n",
       "    <tr>\n",
       "      <th>8</th>\n",
       "      <td>event_end</td>\n",
       "      <td>End date and time</td>\n",
       "      <td>NaN</td>\n",
       "    </tr>\n",
       "    <tr>\n",
       "      <th>9</th>\n",
       "      <td>exp_attendance</td>\n",
       "      <td>Expected number of attendess</td>\n",
       "      <td>NaN</td>\n",
       "    </tr>\n",
       "    <tr>\n",
       "      <th>10</th>\n",
       "      <td>exp_participants</td>\n",
       "      <td>Expected number of participants</td>\n",
       "      <td>NaN</td>\n",
       "    </tr>\n",
       "    <tr>\n",
       "      <th>11</th>\n",
       "      <td>event_url</td>\n",
       "      <td>URL for event</td>\n",
       "      <td>NaN</td>\n",
       "    </tr>\n",
       "  </tbody>\n",
       "</table>\n",
       "</div>"
      ],
      "text/plain": [
       "               Field                      Description  \\\n",
       "0           event_id       Unique identifier of event   \n",
       "1        event_title                   Title of event   \n",
       "2     event_subtitle                Subtitle of event   \n",
       "3         event_type                    Type of event   \n",
       "4         event_desc             Description of event   \n",
       "5         event_host          Event host organization   \n",
       "6          event_loc          Description of location   \n",
       "7        event_start              Start date and time   \n",
       "8          event_end                End date and time   \n",
       "9     exp_attendance     Expected number of attendess   \n",
       "10  exp_participants  Expected number of participants   \n",
       "11         event_url                    URL for event   \n",
       "\n",
       "                                    Possible values  \n",
       "0                                               NaN  \n",
       "1                                               NaN  \n",
       "2                                               NaN  \n",
       "3   festival, museum, music, other, parades, sports  \n",
       "4                                               NaN  \n",
       "5                                               NaN  \n",
       "6                                               NaN  \n",
       "7                                               NaN  \n",
       "8                                               NaN  \n",
       "9                                               NaN  \n",
       "10                                              NaN  \n",
       "11                                              NaN  "
      ]
     },
     "execution_count": 22,
     "metadata": {},
     "output_type": "execute_result"
    }
   ],
   "source": [
    "events_dictionary"
   ]
  },
  {
   "cell_type": "code",
   "execution_count": 64,
   "metadata": {},
   "outputs": [
    {
     "data": {
      "text/plain": [
       "'Field,Description,Possible values'"
      ]
     },
     "execution_count": 64,
     "metadata": {},
     "output_type": "execute_result"
    }
   ],
   "source": [
    "','.join(events_dictionary.columns.values)"
   ]
  },
  {
   "cell_type": "code",
   "execution_count": 23,
   "metadata": {},
   "outputs": [
    {
     "data": {
      "text/plain": [
       "array(['event_title', 'event_id', 'event_subtitle', 'event_type',\n",
       "       'event_desc', 'event_loc', 'event_start', 'event_end',\n",
       "       'exp_attendance', 'exp_participants', 'event_host', 'event_url',\n",
       "       'event_address', 'latitude', 'longitude'], dtype=object)"
      ]
     },
     "execution_count": 23,
     "metadata": {},
     "output_type": "execute_result"
    }
   ],
   "source": [
    "events_df.columns.values"
   ]
  },
  {
   "cell_type": "code",
   "execution_count": 24,
   "metadata": {},
   "outputs": [
    {
     "data": {
      "text/html": [
       "<div>\n",
       "<style>\n",
       "    .dataframe thead tr:only-child th {\n",
       "        text-align: right;\n",
       "    }\n",
       "\n",
       "    .dataframe thead th {\n",
       "        text-align: left;\n",
       "    }\n",
       "\n",
       "    .dataframe tbody tr th {\n",
       "        vertical-align: top;\n",
       "    }\n",
       "</style>\n",
       "<table border=\"1\" class=\"dataframe\">\n",
       "  <thead>\n",
       "    <tr style=\"text-align: right;\">\n",
       "      <th></th>\n",
       "      <th>event_id</th>\n",
       "      <th>latitude</th>\n",
       "      <th>longitude</th>\n",
       "    </tr>\n",
       "  </thead>\n",
       "  <tbody>\n",
       "    <tr>\n",
       "      <th>count</th>\n",
       "      <td>2670.000000</td>\n",
       "      <td>2293.000000</td>\n",
       "      <td>2293.000000</td>\n",
       "    </tr>\n",
       "    <tr>\n",
       "      <th>mean</th>\n",
       "      <td>48422.980524</td>\n",
       "      <td>32.751255</td>\n",
       "      <td>-117.168504</td>\n",
       "    </tr>\n",
       "    <tr>\n",
       "      <th>std</th>\n",
       "      <td>897.173372</td>\n",
       "      <td>0.054374</td>\n",
       "      <td>0.055486</td>\n",
       "    </tr>\n",
       "    <tr>\n",
       "      <th>min</th>\n",
       "      <td>46076.000000</td>\n",
       "      <td>32.548140</td>\n",
       "      <td>-117.301825</td>\n",
       "    </tr>\n",
       "    <tr>\n",
       "      <th>25%</th>\n",
       "      <td>47739.250000</td>\n",
       "      <td>32.721301</td>\n",
       "      <td>-117.208660</td>\n",
       "    </tr>\n",
       "    <tr>\n",
       "      <th>50%</th>\n",
       "      <td>48422.500000</td>\n",
       "      <td>32.747671</td>\n",
       "      <td>-117.161084</td>\n",
       "    </tr>\n",
       "    <tr>\n",
       "      <th>75%</th>\n",
       "      <td>49155.750000</td>\n",
       "      <td>32.752780</td>\n",
       "      <td>-117.136062</td>\n",
       "    </tr>\n",
       "    <tr>\n",
       "      <th>max</th>\n",
       "      <td>49964.000000</td>\n",
       "      <td>33.191478</td>\n",
       "      <td>-116.957910</td>\n",
       "    </tr>\n",
       "  </tbody>\n",
       "</table>\n",
       "</div>"
      ],
      "text/plain": [
       "           event_id     latitude    longitude\n",
       "count   2670.000000  2293.000000  2293.000000\n",
       "mean   48422.980524    32.751255  -117.168504\n",
       "std      897.173372     0.054374     0.055486\n",
       "min    46076.000000    32.548140  -117.301825\n",
       "25%    47739.250000    32.721301  -117.208660\n",
       "50%    48422.500000    32.747671  -117.161084\n",
       "75%    49155.750000    32.752780  -117.136062\n",
       "max    49964.000000    33.191478  -116.957910"
      ]
     },
     "execution_count": 24,
     "metadata": {},
     "output_type": "execute_result"
    }
   ],
   "source": [
    "events_df.describe()"
   ]
  },
  {
   "cell_type": "code",
   "execution_count": 25,
   "metadata": {},
   "outputs": [
    {
     "name": "stdout",
     "output_type": "stream",
     "text": [
      "<class 'pandas.core.frame.DataFrame'>\n",
      "RangeIndex: 2670 entries, 0 to 2669\n",
      "Data columns (total 15 columns):\n",
      "event_title         2670 non-null object\n",
      "event_id            2670 non-null int64\n",
      "event_subtitle      75 non-null object\n",
      "event_type          2670 non-null object\n",
      "event_desc          2670 non-null object\n",
      "event_loc           2670 non-null object\n",
      "event_start         2670 non-null object\n",
      "event_end           2669 non-null object\n",
      "exp_attendance      2649 non-null object\n",
      "exp_participants    2538 non-null object\n",
      "event_host          2669 non-null object\n",
      "event_url           2098 non-null object\n",
      "event_address       2293 non-null object\n",
      "latitude            2293 non-null float64\n",
      "longitude           2293 non-null float64\n",
      "dtypes: float64(2), int64(1), object(12)\n",
      "memory usage: 313.0+ KB\n"
     ]
    }
   ],
   "source": [
    "events_df.info()"
   ]
  },
  {
   "cell_type": "code",
   "execution_count": 62,
   "metadata": {},
   "outputs": [
    {
     "name": "stdout",
     "output_type": "stream",
     "text": [
      "event_title max length is 50\n",
      "event_subtitle max length is 15\n",
      "event_type max length is 8\n",
      "event_desc max length is 300\n",
      "event_loc max length is 295\n",
      "event_start max length is 19\n",
      "event_end max length is 19\n",
      "exp_attendance max length is 13\n",
      "exp_participants max length is 9\n",
      "event_host max length is 50\n",
      "event_url max length is 111\n",
      "event_address max length is 47\n"
     ]
    }
   ],
   "source": [
    "# check max length of string columns\n",
    "for col in events_df.columns:\n",
    "    vals = events_df[col]\n",
    "    vals = vals[vals.notnull()]\n",
    "    if dtype(vals) == 'object':\n",
    "        print col, 'max length is', np.max(np.array([len(elem) for elem in vals.values if elem != 'NaN']))"
   ]
  },
  {
   "cell_type": "code",
   "execution_count": 26,
   "metadata": {},
   "outputs": [
    {
     "data": {
      "text/html": [
       "<div>\n",
       "<style>\n",
       "    .dataframe thead tr:only-child th {\n",
       "        text-align: right;\n",
       "    }\n",
       "\n",
       "    .dataframe thead th {\n",
       "        text-align: left;\n",
       "    }\n",
       "\n",
       "    .dataframe tbody tr th {\n",
       "        vertical-align: top;\n",
       "    }\n",
       "</style>\n",
       "<table border=\"1\" class=\"dataframe\">\n",
       "  <thead>\n",
       "    <tr style=\"text-align: right;\">\n",
       "      <th></th>\n",
       "      <th>event_title</th>\n",
       "      <th>event_id</th>\n",
       "      <th>event_subtitle</th>\n",
       "      <th>event_type</th>\n",
       "      <th>event_desc</th>\n",
       "      <th>event_loc</th>\n",
       "      <th>event_start</th>\n",
       "      <th>event_end</th>\n",
       "      <th>exp_attendance</th>\n",
       "      <th>exp_participants</th>\n",
       "      <th>event_host</th>\n",
       "      <th>event_url</th>\n",
       "      <th>event_address</th>\n",
       "      <th>latitude</th>\n",
       "      <th>longitude</th>\n",
       "    </tr>\n",
       "  </thead>\n",
       "  <tbody>\n",
       "    <tr>\n",
       "      <th>0</th>\n",
       "      <td>2018 Hillcrest Farmers' Market (Sundays)</td>\n",
       "      <td>49953</td>\n",
       "      <td>NaN</td>\n",
       "      <td>FARMERS</td>\n",
       "      <td>This farmer's market in Hillcrest offers an ar...</td>\n",
       "      <td>DMV parking lot at 3690 Normal Street ~ Normal...</td>\n",
       "      <td>2018-12-30 09:00:00</td>\n",
       "      <td>2018-12-30 14:00:00</td>\n",
       "      <td>2,000</td>\n",
       "      <td>400</td>\n",
       "      <td>Hillcrest Business Association</td>\n",
       "      <td>www.hillcrestfarmersmarket.com</td>\n",
       "      <td>3690 Normal Street</td>\n",
       "      <td>32.748542</td>\n",
       "      <td>-117.149901</td>\n",
       "    </tr>\n",
       "    <tr>\n",
       "      <th>1</th>\n",
       "      <td>Holiday Bowl 5K</td>\n",
       "      <td>49893</td>\n",
       "      <td>NaN</td>\n",
       "      <td>ATHLETIC</td>\n",
       "      <td>This nationally televised 5K run/walk is a kic...</td>\n",
       "      <td>Harbor Dr./Ash St. - Harbor Dr. - walkway - Em...</td>\n",
       "      <td>2018-12-28 09:45:00</td>\n",
       "      <td>2018-12-28 12:00:00</td>\n",
       "      <td>1,000</td>\n",
       "      <td>100</td>\n",
       "      <td>KOZ Events</td>\n",
       "      <td>www.kozenterprises.com</td>\n",
       "      <td>Harbor Drive &amp; Ash Streeet</td>\n",
       "      <td>32.709384</td>\n",
       "      <td>-117.162865</td>\n",
       "    </tr>\n",
       "    <tr>\n",
       "      <th>2</th>\n",
       "      <td>2018 Hillcrest Farmers' Market (Sundays)</td>\n",
       "      <td>49952</td>\n",
       "      <td>NaN</td>\n",
       "      <td>FARMERS</td>\n",
       "      <td>This farmer's market in Hillcrest offers an ar...</td>\n",
       "      <td>DMV parking lot at 3690 Normal Street ~ Normal...</td>\n",
       "      <td>2018-12-23 09:00:00</td>\n",
       "      <td>2018-12-23 14:00:00</td>\n",
       "      <td>2,000</td>\n",
       "      <td>400</td>\n",
       "      <td>Hillcrest Business Association</td>\n",
       "      <td>www.hillcrestfarmersmarket.com</td>\n",
       "      <td>3690 Normal Street</td>\n",
       "      <td>32.748542</td>\n",
       "      <td>-117.149901</td>\n",
       "    </tr>\n",
       "    <tr>\n",
       "      <th>3</th>\n",
       "      <td>Curbside Bites Food Truck Markets - Downtown L...</td>\n",
       "      <td>49831</td>\n",
       "      <td>NaN</td>\n",
       "      <td>FARMERS</td>\n",
       "      <td>Every Wednesday, a caravan of food trucks are ...</td>\n",
       "      <td>B Street between India &amp; Columbia Streets.</td>\n",
       "      <td>2018-12-19 11:00:00</td>\n",
       "      <td>2018-12-19 14:00:00</td>\n",
       "      <td>300</td>\n",
       "      <td>30</td>\n",
       "      <td>Curbside Bites</td>\n",
       "      <td>www.curbsidebites.com</td>\n",
       "      <td>B &amp; India Streets</td>\n",
       "      <td>32.715738</td>\n",
       "      <td>-117.161084</td>\n",
       "    </tr>\n",
       "    <tr>\n",
       "      <th>4</th>\n",
       "      <td>2018 Hillcrest Farmers' Market (Sundays)</td>\n",
       "      <td>49951</td>\n",
       "      <td>NaN</td>\n",
       "      <td>FARMERS</td>\n",
       "      <td>This farmer's market in Hillcrest offers an ar...</td>\n",
       "      <td>DMV parking lot at 3690 Normal Street ~ Normal...</td>\n",
       "      <td>2018-12-16 09:00:00</td>\n",
       "      <td>2018-12-16 14:00:00</td>\n",
       "      <td>2,000</td>\n",
       "      <td>400</td>\n",
       "      <td>Hillcrest Business Association</td>\n",
       "      <td>www.hillcrestfarmersmarket.com</td>\n",
       "      <td>3690 Normal Street</td>\n",
       "      <td>32.748542</td>\n",
       "      <td>-117.149901</td>\n",
       "    </tr>\n",
       "  </tbody>\n",
       "</table>\n",
       "</div>"
      ],
      "text/plain": [
       "                                         event_title  event_id event_subtitle  \\\n",
       "0           2018 Hillcrest Farmers' Market (Sundays)     49953            NaN   \n",
       "1                                    Holiday Bowl 5K     49893            NaN   \n",
       "2           2018 Hillcrest Farmers' Market (Sundays)     49952            NaN   \n",
       "3  Curbside Bites Food Truck Markets - Downtown L...     49831            NaN   \n",
       "4           2018 Hillcrest Farmers' Market (Sundays)     49951            NaN   \n",
       "\n",
       "  event_type                                         event_desc  \\\n",
       "0    FARMERS  This farmer's market in Hillcrest offers an ar...   \n",
       "1   ATHLETIC  This nationally televised 5K run/walk is a kic...   \n",
       "2    FARMERS  This farmer's market in Hillcrest offers an ar...   \n",
       "3    FARMERS  Every Wednesday, a caravan of food trucks are ...   \n",
       "4    FARMERS  This farmer's market in Hillcrest offers an ar...   \n",
       "\n",
       "                                           event_loc          event_start  \\\n",
       "0  DMV parking lot at 3690 Normal Street ~ Normal...  2018-12-30 09:00:00   \n",
       "1  Harbor Dr./Ash St. - Harbor Dr. - walkway - Em...  2018-12-28 09:45:00   \n",
       "2  DMV parking lot at 3690 Normal Street ~ Normal...  2018-12-23 09:00:00   \n",
       "3        B Street between India & Columbia Streets.   2018-12-19 11:00:00   \n",
       "4  DMV parking lot at 3690 Normal Street ~ Normal...  2018-12-16 09:00:00   \n",
       "\n",
       "             event_end exp_attendance exp_participants  \\\n",
       "0  2018-12-30 14:00:00          2,000              400   \n",
       "1  2018-12-28 12:00:00          1,000              100   \n",
       "2  2018-12-23 14:00:00          2,000              400   \n",
       "3  2018-12-19 14:00:00            300               30   \n",
       "4  2018-12-16 14:00:00          2,000              400   \n",
       "\n",
       "                       event_host                       event_url  \\\n",
       "0  Hillcrest Business Association  www.hillcrestfarmersmarket.com   \n",
       "1                      KOZ Events          www.kozenterprises.com   \n",
       "2  Hillcrest Business Association  www.hillcrestfarmersmarket.com   \n",
       "3                  Curbside Bites           www.curbsidebites.com   \n",
       "4  Hillcrest Business Association  www.hillcrestfarmersmarket.com   \n",
       "\n",
       "                event_address   latitude   longitude  \n",
       "0         3690 Normal Street   32.748542 -117.149901  \n",
       "1  Harbor Drive & Ash Streeet  32.709384 -117.162865  \n",
       "2         3690 Normal Street   32.748542 -117.149901  \n",
       "3           B & India Streets  32.715738 -117.161084  \n",
       "4         3690 Normal Street   32.748542 -117.149901  "
      ]
     },
     "execution_count": 26,
     "metadata": {},
     "output_type": "execute_result"
    }
   ],
   "source": [
    "events_df.head()"
   ]
  },
  {
   "cell_type": "code",
   "execution_count": 30,
   "metadata": {},
   "outputs": [
    {
     "data": {
      "text/plain": [
       "FARMERS     1402\n",
       "FESTIVAL     685\n",
       "ATHLETIC     442\n",
       "PARADES       61\n",
       "CONCERTS      40\n",
       "EXHIBITS      37\n",
       "MUSEUM         3\n",
       "Name: event_type, dtype: int64"
      ]
     },
     "execution_count": 30,
     "metadata": {},
     "output_type": "execute_result"
    }
   ],
   "source": [
    "events_df.event_type.value_counts()"
   ]
  },
  {
   "cell_type": "code",
   "execution_count": 53,
   "metadata": {},
   "outputs": [
    {
     "name": "stdout",
     "output_type": "stream",
     "text": [
      "min start date: 2015-10-18 05:00:00\n",
      "max start date: 2018-12-30 09:00:00\n"
     ]
    }
   ],
   "source": [
    "print 'min start date:', min(events_df.event_start.values)\n",
    "print 'max start date:', max(events_df.event_start.values)"
   ]
  },
  {
   "cell_type": "code",
   "execution_count": 51,
   "metadata": {},
   "outputs": [
    {
     "data": {
      "text/plain": [
       "'2015-10-18 05:00:00'"
      ]
     },
     "execution_count": 51,
     "metadata": {},
     "output_type": "execute_result"
    }
   ],
   "source": [
    "min(events_df.event_start.values)"
   ]
  },
  {
   "cell_type": "code",
   "execution_count": 56,
   "metadata": {},
   "outputs": [
    {
     "name": "stdout",
     "output_type": "stream",
     "text": [
      "2670\n",
      "620\n"
     ]
    }
   ],
   "source": [
    "print len(events_df.event_title.values)\n",
    "print len(set(events_df.event_title.values))"
   ]
  },
  {
   "cell_type": "code",
   "execution_count": 60,
   "metadata": {},
   "outputs": [
    {
     "data": {
      "text/plain": [
       "Old Town Artisan's Market                             219\n",
       "The Mercato: Little Italy's Farmers Market (Sat.)     117\n",
       "Pacific Beach Tuesday Farmer's Market                 115\n",
       "City Heights Farmer's Market (Every Saturday)         105\n",
       "Ocean Beach Certified Farmer's Market (Wednesdays)    104\n",
       "Curbside Bites Food Truck Markets (Wed. Lunch)        102\n",
       "Golden Hill Certified Farmer's Market                  99\n",
       "North Park Farmer's Market                             62\n",
       "2016 Hillcrest Farmers' Market (Sundays_               52\n",
       "2017 Hillcrest Farmers' Market (Sundays)               52\n",
       "Third Avenue Certified Farmer's Market (Sundays)       52\n",
       "2018 Hillcrest Farmers' Market (Sundays)               52\n",
       "North Park Thursday Market                             51\n",
       "Curbside Bites Food Truck Markets - Downtown Lunch     49\n",
       "The Haunted Trail of Balboa Park (38-Day Event)        48\n",
       "UTC Farmer's Market (Every Thursday)                   48\n",
       "The Haunted Hotel (39-Day Event)                       39\n",
       "Memorial Park Carnival (11-Day Event)                  33\n",
       "The Haunted Trail of Balboa Park (33-Day Event)        33\n",
       "Ray at Night (2nd Saturday Each Month)                 24\n",
       "Name: event_title, dtype: int64"
      ]
     },
     "execution_count": 60,
     "metadata": {},
     "output_type": "execute_result"
    }
   ],
   "source": [
    "events_df.event_title.value_counts()[:20]"
   ]
  },
  {
   "cell_type": "code",
   "execution_count": 68,
   "metadata": {},
   "outputs": [
    {
     "name": "stdout",
     "output_type": "stream",
     "text": [
      "345\n",
      "345\n"
     ]
    }
   ],
   "source": [
    "starts = events_df.event_start.values\n",
    "ends = events_df.event_end.values\n",
    "\n",
    "print sum((starts >= '2017-02-08') & (starts <= '2017-06-12'))\n",
    "print sum((ends >= '2017-02-08') & (ends <= '2017-06-12'))"
   ]
  },
  {
   "cell_type": "code",
   "execution_count": 76,
   "metadata": {},
   "outputs": [
    {
     "data": {
      "text/plain": [
       "(345, 15)"
      ]
     },
     "execution_count": 76,
     "metadata": {},
     "output_type": "execute_result"
    }
   ],
   "source": [
    "events_overlap = events_df[(starts >= '2017-02-08') & (starts <= '2017-06-12')]\n",
    "events_overlap.shape"
   ]
  },
  {
   "cell_type": "code",
   "execution_count": 77,
   "metadata": {},
   "outputs": [
    {
     "data": {
      "text/plain": [
       "FARMERS     182\n",
       "FESTIVAL     79\n",
       "ATHLETIC     68\n",
       "EXHIBITS      9\n",
       "PARADES       7\n",
       "Name: event_type, dtype: int64"
      ]
     },
     "execution_count": 77,
     "metadata": {},
     "output_type": "execute_result"
    }
   ],
   "source": [
    "events_overlap.event_type.value_counts()"
   ]
  },
  {
   "cell_type": "code",
   "execution_count": 72,
   "metadata": {},
   "outputs": [
    {
     "ename": "TypeError",
     "evalue": "strptime() argument 1 must be string, not float",
     "output_type": "error",
     "traceback": [
      "\u001b[0;31m---------------------------------------------------------------------------\u001b[0m",
      "\u001b[0;31mTypeError\u001b[0m                                 Traceback (most recent call last)",
      "\u001b[0;32m<ipython-input-72-9dc1a608caf2>\u001b[0m in \u001b[0;36m<module>\u001b[0;34m()\u001b[0m\n\u001b[1;32m      2\u001b[0m \u001b[0;34m\u001b[0m\u001b[0m\n\u001b[1;32m      3\u001b[0m \u001b[0mstarts_strpt\u001b[0m \u001b[0;34m=\u001b[0m \u001b[0;34m[\u001b[0m\u001b[0mdatetime\u001b[0m\u001b[0;34m.\u001b[0m\u001b[0mdatetime\u001b[0m\u001b[0;34m.\u001b[0m\u001b[0mstrptime\u001b[0m\u001b[0;34m(\u001b[0m\u001b[0melem\u001b[0m\u001b[0;34m,\u001b[0m \u001b[0;34m'%Y-%m-%d %H:%M:%S'\u001b[0m\u001b[0;34m)\u001b[0m \u001b[0;32mfor\u001b[0m \u001b[0melem\u001b[0m \u001b[0;32min\u001b[0m \u001b[0mevents_df\u001b[0m\u001b[0;34m.\u001b[0m\u001b[0mevent_start\u001b[0m\u001b[0;34m.\u001b[0m\u001b[0mvalues\u001b[0m\u001b[0;34m]\u001b[0m\u001b[0;34m\u001b[0m\u001b[0m\n\u001b[0;32m----> 4\u001b[0;31m \u001b[0mends_strpt\u001b[0m \u001b[0;34m=\u001b[0m \u001b[0;34m[\u001b[0m\u001b[0mdatetime\u001b[0m\u001b[0;34m.\u001b[0m\u001b[0mdatetime\u001b[0m\u001b[0;34m.\u001b[0m\u001b[0mstrptime\u001b[0m\u001b[0;34m(\u001b[0m\u001b[0me\u001b[0m\u001b[0;34m,\u001b[0m \u001b[0;34m'%Y-%m-%d %H:%M:%S'\u001b[0m\u001b[0;34m)\u001b[0m \u001b[0;32mfor\u001b[0m \u001b[0me\u001b[0m \u001b[0;32min\u001b[0m \u001b[0mevents_df\u001b[0m\u001b[0;34m.\u001b[0m\u001b[0mevent_end\u001b[0m\u001b[0;34m.\u001b[0m\u001b[0mvalues\u001b[0m\u001b[0;34m]\u001b[0m\u001b[0;34m\u001b[0m\u001b[0m\n\u001b[0m",
      "\u001b[0;31mTypeError\u001b[0m: strptime() argument 1 must be string, not float"
     ]
    }
   ],
   "source": [
    "import datetime\n",
    "\n",
    "starts_strpt = [datetime.datetime.strptime(elem, '%Y-%m-%d %H:%M:%S') for elem in events_df.event_start.values]\n",
    "ends_strpt = [datetime.datetime.strptime(e, '%Y-%m-%d %H:%M:%S') for e in events_df.event_end.values]"
   ]
  },
  {
   "cell_type": "code",
   "execution_count": 73,
   "metadata": {},
   "outputs": [
    {
     "data": {
      "text/plain": [
       "1"
      ]
     },
     "execution_count": 73,
     "metadata": {},
     "output_type": "execute_result"
    }
   ],
   "source": [
    "events_df.event_end.isnull().sum()"
   ]
  },
  {
   "cell_type": "code",
   "execution_count": 74,
   "metadata": {},
   "outputs": [
    {
     "data": {
      "text/plain": [
       "0"
      ]
     },
     "execution_count": 74,
     "metadata": {},
     "output_type": "execute_result"
    }
   ],
   "source": [
    "events_df.event_start.isnull().sum()"
   ]
  },
  {
   "cell_type": "code",
   "execution_count": null,
   "metadata": {
    "collapsed": true
   },
   "outputs": [],
   "source": []
  }
 ],
 "metadata": {
  "kernelspec": {
   "display_name": "Python 2",
   "language": "python",
   "name": "python2"
  },
  "language_info": {
   "codemirror_mode": {
    "name": "ipython",
    "version": 2
   },
   "file_extension": ".py",
   "mimetype": "text/x-python",
   "name": "python",
   "nbconvert_exporter": "python",
   "pygments_lexer": "ipython2",
   "version": "2.7.13"
  }
 },
 "nbformat": 4,
 "nbformat_minor": 2
}
