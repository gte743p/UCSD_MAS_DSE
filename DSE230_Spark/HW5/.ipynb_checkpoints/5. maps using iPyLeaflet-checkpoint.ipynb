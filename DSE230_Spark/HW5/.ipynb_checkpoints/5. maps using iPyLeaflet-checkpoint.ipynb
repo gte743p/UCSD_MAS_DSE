{
 "cells": [
  {
   "cell_type": "markdown",
   "metadata": {
    "run_control": {
     "frozen": false,
     "read_only": false
    }
   },
   "source": [
    "## iPyLeaflet\n",
    "[ipyleaflet](https://github.com/ellisonbg/ipyleaflet) is a bridge between jupyter notebooks and the [leaflet](http://leafletjs.com/)  javascript library for drawing maps.\n",
    "\n",
    "ipyleaflet comes with a few examples notebooks (this notebook was derived from one) but very little documentation,\n",
    "for more documentation read the [Leaflet IPA](http://leafletjs.com/reference.html)\n",
    "\n",
    "For installation directions, see the README on [ipyleaflet](https://github.com/ellisonbg/ipyleaflet)"
   ]
  },
  {
   "cell_type": "code",
   "execution_count": 1,
   "metadata": {
    "collapsed": true,
    "run_control": {
     "frozen": false,
     "read_only": false
    }
   },
   "outputs": [],
   "source": [
    "from ipyleaflet import (\n",
    "    Map,\n",
    "    Marker,\n",
    "    TileLayer, ImageOverlay,\n",
    "    Polyline, Polygon, Rectangle, Circle, CircleMarker,\n",
    "    GeoJSON,\n",
    "    DrawControl\n",
    ")"
   ]
  },
  {
   "cell_type": "markdown",
   "metadata": {
    "run_control": {
     "frozen": false,
     "read_only": false
    }
   },
   "source": [
    "## Visualizing the distribution of the observations\n",
    "\n",
    "## Load the required libraries"
   ]
  },
  {
   "cell_type": "code",
   "execution_count": 2,
   "metadata": {
    "collapsed": true,
    "run_control": {
     "frozen": false,
     "read_only": false
    }
   },
   "outputs": [],
   "source": [
    "import pandas as pd\n",
    "import numpy as np\n",
    "import sklearn as sk\n",
    "import urllib\n",
    "import math"
   ]
  },
  {
   "cell_type": "code",
   "execution_count": 3,
   "metadata": {
    "collapsed": true,
    "run_control": {
     "frozen": false,
     "read_only": false
    }
   },
   "outputs": [],
   "source": [
    "import findspark\n",
    "findspark.init()\n",
    "\n",
    "from pyspark import SparkContext\n",
    "#sc.stop()\n",
    "sc = SparkContext(master=\"local[3]\",pyFiles=['lib/numpy_pack.py','lib/computeStats.py'])\n",
    "\n",
    "from pyspark import SparkContext\n",
    "from pyspark.sql import *\n",
    "sqlContext = SQLContext(sc)"
   ]
  },
  {
   "cell_type": "code",
   "execution_count": 4,
   "metadata": {
    "collapsed": true,
    "run_control": {
     "frozen": false,
     "read_only": false
    }
   },
   "outputs": [],
   "source": [
    "import sys\n",
    "sys.path.append('./lib')\n",
    "\n",
    "import numpy as np\n",
    "from numpy_pack import packArray,unpackArray\n",
    "from computeStats import computeOverAllDist, STAT_Descriptions"
   ]
  },
  {
   "cell_type": "code",
   "execution_count": 5,
   "metadata": {
    "run_control": {
     "frozen": false,
     "read_only": false
    }
   },
   "outputs": [
    {
     "name": "stdout",
     "output_type": "stream",
     "text": [
      "('keys from STAT=', ['TMIN', 'TOBS', 'TMAX', 'SNOW', 'SNWD', 'PRCP'])\n",
      "497\n",
      "+-----------------+------------------+-------------------+---------+--------+--------+---------+-----------+-------------------+-------------------+-------------------+------------------+-----------+--------------------+------+--------------------+------+\n",
      "|          coeff_1|           coeff_2|            coeff_3|elevation|   label|latitude|longitude|measurement|              res_1|              res_2|              res_3|          res_mean|    station|           total_var|undefs|              vector|  year|\n",
      "+-----------------+------------------+-------------------+---------+--------+--------+---------+-----------+-------------------+-------------------+-------------------+------------------+-----------+--------------------+------+--------------------+------+\n",
      "|7472.087375891099| 865.3917184837485| 387.52827328538126|   2332.9|SBBSSBSB| 43.1667|-109.9833|       SNWD|0.06262446246961834| 0.0500509909664027|0.04752962132913443|0.5862390957301946|USC00485115|1.0160041691341467E8|    11|[5E 60 C4 60 C4 6...|1956.0|\n",
      "|8097.220485661097|63.365174721610465|-1061.8621361754058|   2072.0|SBBSSBSB| 43.8567|-110.5889|       SNWD|0.06342106467772586|0.06336370935485718|0.04725692940239659|0.6053521279165914|USC00486440| 1.156430323876684E8|     6|[90 5D 90 5D 58 5...|1996.0|\n",
      "+-----------------+------------------+-------------------+---------+--------+--------+---------+-----------+-------------------+-------------------+-------------------+------------------+-----------+--------------------+------+--------------------+------+\n",
      "only showing top 2 rows\n",
      "\n"
     ]
    }
   ],
   "source": [
    "### Read the data frame from pickle file\n",
    "\n",
    "data_dir='../../Data/Weather'\n",
    "file_index='SBBSSBSB' # my file\n",
    "#file_index='BBBSBBBB'\n",
    "meas='SNWD'\n",
    "\n",
    "from pickle import load\n",
    "\n",
    "#read statistics\n",
    "filename=data_dir+'/STAT_%s.pickle'%file_index\n",
    "STAT,STAT_Descriptions = load(open(filename,'rb'))\n",
    "print('keys from STAT=',STAT.keys())\n",
    "\n",
    "#!ls -ld $data_dir/*.parquet\n",
    "\n",
    "#read data\n",
    "filename=data_dir+'/decon_%s_%s.parquet'%(file_index,meas)\n",
    "\n",
    "df=sqlContext.read.parquet(filename)\n",
    "print(df.count())\n",
    "df.show(2)"
   ]
  },
  {
   "cell_type": "code",
   "execution_count": 6,
   "metadata": {
    "run_control": {
     "frozen": false,
     "read_only": false
    },
    "scrolled": true
   },
   "outputs": [
    {
     "name": "stdout",
     "output_type": "stream",
     "text": [
      "SELECT station, latitude,longitude,elevation,coeff_1,coeff_2,coeff_3 FROM weather\n",
      "+-----------+--------+---------+---------+-----------------+------------------+-------------------+\n",
      "|    station|latitude|longitude|elevation|          coeff_1|           coeff_2|            coeff_3|\n",
      "+-----------+--------+---------+---------+-----------------+------------------+-------------------+\n",
      "|USC00485115| 43.1667|-109.9833|   2332.9|7472.087375891099| 865.3917184837485| 387.52827328538126|\n",
      "|USC00486440| 43.8567|-110.5889|   2072.0|8097.220485661097|63.365174721610465|-1061.8621361754058|\n",
      "|USC00486440| 43.8567|-110.5889|   2072.0|7379.178510720495|1030.6913505602406| -143.6801725884934|\n",
      "|USC00486428| 43.6536|-110.7169|   1964.1|6183.460872576893| 581.2391619943382| -62.86351840091008|\n",
      "+-----------+--------+---------+---------+-----------------+------------------+-------------------+\n",
      "only showing top 4 rows\n",
      "\n"
     ]
    }
   ],
   "source": [
    "#extract longitude and latitude for each station\n",
    "features='coeff_1,coeff_2,coeff_3'\n",
    "sqlContext.registerDataFrameAsTable(df,'weather')\n",
    "Query=\"SELECT station, latitude,longitude,elevation,%s FROM weather\"%features\n",
    "print(Query)\n",
    "df1 = sqlContext.sql(Query)\n",
    "df1.show(4)"
   ]
  },
  {
   "cell_type": "code",
   "execution_count": 7,
   "metadata": {},
   "outputs": [
    {
     "data": {
      "text/plain": [
       "42.866700000000002"
      ]
     },
     "execution_count": 7,
     "metadata": {},
     "output_type": "execute_result"
    }
   ],
   "source": [
    "pdf = df.toPandas()\n",
    "pdf['latitude'].min()"
   ]
  },
  {
   "cell_type": "code",
   "execution_count": 8,
   "metadata": {},
   "outputs": [
    {
     "name": "stdout",
     "output_type": "stream",
     "text": [
      "+-----------+-------------+\n",
      "|measurement|min(latitude)|\n",
      "+-----------+-------------+\n",
      "|       SNWD|      42.8667|\n",
      "+-----------+-------------+\n",
      "\n",
      "+-----------+-------------+\n",
      "|measurement|max(latitude)|\n",
      "+-----------+-------------+\n",
      "|       SNWD|      43.8667|\n",
      "+-----------+-------------+\n",
      "\n",
      "+-----------+--------------+\n",
      "|measurement|min(longitude)|\n",
      "+-----------+--------------+\n",
      "|       SNWD|     -111.0339|\n",
      "+-----------+--------------+\n",
      "\n",
      "+-----------+--------------+\n",
      "|measurement|max(longitude)|\n",
      "+-----------+--------------+\n",
      "|       SNWD|     -104.9614|\n",
      "+-----------+--------------+\n",
      "\n"
     ]
    }
   ],
   "source": [
    "# find min and max lon and lat\n",
    "df.groupby('measurement').agg({'latitude':'min'}).show()\n",
    "df.groupby('measurement').agg({'latitude':'max'}).show()\n",
    "df.groupby('measurement').agg({'longitude':'min'}).show()\n",
    "df.groupby('measurement').agg({'longitude':'max'}).show()"
   ]
  },
  {
   "cell_type": "code",
   "execution_count": 9,
   "metadata": {
    "run_control": {
     "frozen": false,
     "read_only": false
    }
   },
   "outputs": [
    {
     "data": {
      "text/html": [
       "<div>\n",
       "<table border=\"1\" class=\"dataframe\">\n",
       "  <thead>\n",
       "    <tr style=\"text-align: right;\">\n",
       "      <th></th>\n",
       "      <th>station</th>\n",
       "      <th>latitude</th>\n",
       "      <th>longitude</th>\n",
       "      <th>elevation</th>\n",
       "      <th>count(station)</th>\n",
       "      <th>avg(coeff_1)</th>\n",
       "    </tr>\n",
       "  </thead>\n",
       "  <tbody>\n",
       "    <tr>\n",
       "      <th>0</th>\n",
       "      <td>US1WYTT0009</td>\n",
       "      <td>43.6215</td>\n",
       "      <td>-110.6253</td>\n",
       "      <td>2030.9</td>\n",
       "      <td>1</td>\n",
       "      <td>1965.369388</td>\n",
       "    </tr>\n",
       "    <tr>\n",
       "      <th>21</th>\n",
       "      <td>USC00480140</td>\n",
       "      <td>43.7728</td>\n",
       "      <td>-111.0339</td>\n",
       "      <td>1962.0</td>\n",
       "      <td>59</td>\n",
       "      <td>3236.162026</td>\n",
       "    </tr>\n",
       "  </tbody>\n",
       "</table>\n",
       "</div>"
      ],
      "text/plain": [
       "        station  latitude  longitude  elevation  count(station)  avg(coeff_1)\n",
       "0   US1WYTT0009   43.6215  -110.6253     2030.9               1   1965.369388\n",
       "21  USC00480140   43.7728  -111.0339     1962.0              59   3236.162026"
      ]
     },
     "execution_count": 9,
     "metadata": {},
     "output_type": "execute_result"
    }
   ],
   "source": [
    "feature='coeff_1'\n",
    "df2=df1.groupby(['station','latitude','longitude','elevation']).agg({\"station\": \"count\", feature: \"mean\"})\n",
    "pdf=df2.toPandas()\n",
    "#pdf.loc['region']='west'\n",
    "#pdf.loc[pdf['longitude']>=-109,'region']='east'\n",
    "pdf.sort_values(by=['station'],inplace=True)\n",
    "pdf.head(2)"
   ]
  },
  {
   "cell_type": "code",
   "execution_count": 10,
   "metadata": {},
   "outputs": [
    {
     "data": {
      "text/html": [
       "<div>\n",
       "<table border=\"1\" class=\"dataframe\">\n",
       "  <thead>\n",
       "    <tr style=\"text-align: right;\">\n",
       "      <th></th>\n",
       "      <th>station</th>\n",
       "      <th>latitude</th>\n",
       "      <th>longitude</th>\n",
       "      <th>elevation</th>\n",
       "      <th>count(station)</th>\n",
       "      <th>avg(coeff_1)</th>\n",
       "    </tr>\n",
       "  </thead>\n",
       "  <tbody>\n",
       "    <tr>\n",
       "      <th>0</th>\n",
       "      <td>US1WYTT0009</td>\n",
       "      <td>43.6215</td>\n",
       "      <td>-110.6253</td>\n",
       "      <td>2030.9</td>\n",
       "      <td>1</td>\n",
       "      <td>1965.369388</td>\n",
       "    </tr>\n",
       "    <tr>\n",
       "      <th>21</th>\n",
       "      <td>USC00480140</td>\n",
       "      <td>43.7728</td>\n",
       "      <td>-111.0339</td>\n",
       "      <td>1962.0</td>\n",
       "      <td>59</td>\n",
       "      <td>3236.162026</td>\n",
       "    </tr>\n",
       "    <tr>\n",
       "      <th>27</th>\n",
       "      <td>USC00480603</td>\n",
       "      <td>42.8733</td>\n",
       "      <td>-110.9075</td>\n",
       "      <td>1958.3</td>\n",
       "      <td>20</td>\n",
       "      <td>4036.568003</td>\n",
       "    </tr>\n",
       "    <tr>\n",
       "      <th>8</th>\n",
       "      <td>USC00480605</td>\n",
       "      <td>42.8667</td>\n",
       "      <td>-110.9000</td>\n",
       "      <td>1930.9</td>\n",
       "      <td>12</td>\n",
       "      <td>4302.603964</td>\n",
       "    </tr>\n",
       "    <tr>\n",
       "      <th>14</th>\n",
       "      <td>USC00480865</td>\n",
       "      <td>43.2278</td>\n",
       "      <td>-110.4358</td>\n",
       "      <td>1991.9</td>\n",
       "      <td>57</td>\n",
       "      <td>4850.762338</td>\n",
       "    </tr>\n",
       "  </tbody>\n",
       "</table>\n",
       "</div>"
      ],
      "text/plain": [
       "        station  latitude  longitude  elevation  count(station)  avg(coeff_1)\n",
       "0   US1WYTT0009   43.6215  -110.6253     2030.9               1   1965.369388\n",
       "21  USC00480140   43.7728  -111.0339     1962.0              59   3236.162026\n",
       "27  USC00480603   42.8733  -110.9075     1958.3              20   4036.568003\n",
       "8   USC00480605   42.8667  -110.9000     1930.9              12   4302.603964\n",
       "14  USC00480865   43.2278  -110.4358     1991.9              57   4850.762338"
      ]
     },
     "execution_count": 10,
     "metadata": {},
     "output_type": "execute_result"
    }
   ],
   "source": [
    "pos_c1_df = pdf.loc[pdf['avg('+feature+')']>0,:]\n",
    "pos_c1_df.head()"
   ]
  },
  {
   "cell_type": "code",
   "execution_count": 11,
   "metadata": {},
   "outputs": [
    {
     "data": {
      "text/html": [
       "<div>\n",
       "<table border=\"1\" class=\"dataframe\">\n",
       "  <thead>\n",
       "    <tr style=\"text-align: right;\">\n",
       "      <th></th>\n",
       "      <th>station</th>\n",
       "      <th>latitude</th>\n",
       "      <th>longitude</th>\n",
       "      <th>elevation</th>\n",
       "      <th>count(station)</th>\n",
       "      <th>avg(coeff_1)</th>\n",
       "    </tr>\n",
       "  </thead>\n",
       "  <tbody>\n",
       "    <tr>\n",
       "      <th>23</th>\n",
       "      <td>USC00480727</td>\n",
       "      <td>43.3667</td>\n",
       "      <td>-105.2000</td>\n",
       "      <td>1382.0</td>\n",
       "      <td>1</td>\n",
       "      <td>-1254.029634</td>\n",
       "    </tr>\n",
       "    <tr>\n",
       "      <th>4</th>\n",
       "      <td>USC00480778</td>\n",
       "      <td>43.6561</td>\n",
       "      <td>-107.7375</td>\n",
       "      <td>1717.5</td>\n",
       "      <td>6</td>\n",
       "      <td>-1099.583096</td>\n",
       "    </tr>\n",
       "    <tr>\n",
       "      <th>33</th>\n",
       "      <td>USC00481000</td>\n",
       "      <td>43.4053</td>\n",
       "      <td>-108.1633</td>\n",
       "      <td>1479.5</td>\n",
       "      <td>1</td>\n",
       "      <td>-1089.182938</td>\n",
       "    </tr>\n",
       "    <tr>\n",
       "      <th>7</th>\n",
       "      <td>USC00482595</td>\n",
       "      <td>43.2281</td>\n",
       "      <td>-108.9489</td>\n",
       "      <td>1699.3</td>\n",
       "      <td>1</td>\n",
       "      <td>-1223.090364</td>\n",
       "    </tr>\n",
       "    <tr>\n",
       "      <th>30</th>\n",
       "      <td>USC00482725</td>\n",
       "      <td>43.4117</td>\n",
       "      <td>-104.9614</td>\n",
       "      <td>1345.7</td>\n",
       "      <td>2</td>\n",
       "      <td>-985.249696</td>\n",
       "    </tr>\n",
       "  </tbody>\n",
       "</table>\n",
       "</div>"
      ],
      "text/plain": [
       "        station  latitude  longitude  elevation  count(station)  avg(coeff_1)\n",
       "23  USC00480727   43.3667  -105.2000     1382.0               1  -1254.029634\n",
       "4   USC00480778   43.6561  -107.7375     1717.5               6  -1099.583096\n",
       "33  USC00481000   43.4053  -108.1633     1479.5               1  -1089.182938\n",
       "7   USC00482595   43.2281  -108.9489     1699.3               1  -1223.090364\n",
       "30  USC00482725   43.4117  -104.9614     1345.7               2   -985.249696"
      ]
     },
     "execution_count": 11,
     "metadata": {},
     "output_type": "execute_result"
    }
   ],
   "source": [
    "neg_c1_df = pdf.loc[pdf['avg('+feature+')']<0,:]\n",
    "neg_c1_df.head()"
   ]
  },
  {
   "cell_type": "code",
   "execution_count": 12,
   "metadata": {
    "run_control": {
     "frozen": false,
     "read_only": false
    }
   },
   "outputs": [
    {
     "data": {
      "text/plain": [
       "u'#ffffff'"
      ]
     },
     "execution_count": 12,
     "metadata": {},
     "output_type": "execute_result"
    }
   ],
   "source": [
    "#define a mapping from the range of the value to hex colors.\n",
    "from matplotlib.colors import rgb2hex\n",
    "_avg='avg(%s)'%feature\n",
    "_min=pdf[_avg].min()\n",
    "_max=pdf[_avg].max()\n",
    "_min,_max\n",
    "\n",
    "import pylab as plt\n",
    "\n",
    "def get_color(val,_min,_max):\n",
    "    x=(val-_min)/(_max-_min)\n",
    "    if(_min*_max > 0):\n",
    "        c = 'gist_yarg'\n",
    "    else:\n",
    "        c = 'gist_gray'\n",
    "    cmap=plt.get_cmap(c)#'PiYG')\n",
    "    return(rgb2hex(cmap(x)[:3]))\n",
    "\n",
    "get_color(1000.,0,1000)"
   ]
  },
  {
   "cell_type": "code",
   "execution_count": 13,
   "metadata": {},
   "outputs": [
    {
     "name": "stdout",
     "output_type": "stream",
     "text": [
      "avg(coeff_1)\n",
      "-1254.02963438\n",
      "9854.19835614\n"
     ]
    }
   ],
   "source": [
    "print _avg\n",
    "print _min\n",
    "print _max"
   ]
  },
  {
   "cell_type": "markdown",
   "metadata": {
    "run_control": {
     "frozen": false,
     "read_only": false
    }
   },
   "source": [
    "## Map"
   ]
  },
  {
   "cell_type": "code",
   "execution_count": 14,
   "metadata": {
    "collapsed": true,
    "run_control": {
     "frozen": false,
     "read_only": false
    }
   },
   "outputs": [],
   "source": [
    "min_lat,max_lat,min_long,max_long = box = (42.8, 43.9, -111.1, -104.85)\n"
   ]
  },
  {
   "cell_type": "markdown",
   "metadata": {},
   "source": [
    "#### Nearly all stations having positive coefficients for eigenvector 1 for SNWD are west of -109 degrees lon"
   ]
  },
  {
   "cell_type": "code",
   "execution_count": 17,
   "metadata": {
    "run_control": {
     "frozen": false,
     "read_only": false
    }
   },
   "outputs": [
    {
     "name": "stdout",
     "output_type": "stream",
     "text": [
      "163.88236108 9854.19835614\n"
     ]
    },
    {
     "name": "stderr",
     "output_type": "stream",
     "text": [
      "Widget Javascript not detected.  It may not be installed or enabled properly.\n"
     ]
    },
    {
     "data": {
      "application/vnd.jupyter.widget-view+json": {
       "model_id": "c574c67f3c084b609cc29719c699b2bd"
      }
     },
     "metadata": {},
     "output_type": "display_data"
    }
   ],
   "source": [
    "center = [(min_lat+max_lat)/2, (min_long+max_long)/2]\n",
    "zoom = 7\n",
    "\n",
    "m = Map(default_tiles=TileLayer(opacity=1.0), center=center, zoom=zoom)\n",
    "#m = Map(default_tiles=TileLayer(opacity=0.5,url='http://{s}.tile.opentopomap.org/{z}/{x}/{y}.png'), center=center, zoom=zoom)\n",
    "\n",
    "#m = Map(default_tiles=TileLayer(opacity=1.0), center=center, zoom=zoom)\n",
    "\n",
    "topo = TileLayer(opacity=0.5, url='http://{s}.tile.opentopomap.org/{z}/{x}/{y}.png')\n",
    "#topo = TileLayer(opacity=1.0, url='http://server.arcgisonline.com/ArcGIS/rest/services/USGSTopo/MapServer/tile/{z}/{y}/{x}')\n",
    "world = TileLayer(opacity=0.25, url='http://server.arcgisonline.com/ArcGIS/rest/services/World_Imagery/MapServer/tile/{z}/{y}/{x}')\n",
    "#m.add_layer(topo)\n",
    "m.add_layer(world)\n",
    "#m.remove_layer(m.default_tiles)\n",
    "\n",
    "r = Rectangle(bounds=[[min_lat,min_long],[max_lat,max_long]], weight=2, fill_opacity=0.0)\n",
    "\n",
    "m += r\n",
    "\n",
    "l = Polyline(locations=[[min_lat,-109],[max_lat,-109]], color='red', weight=5, fill_opacity=0.0)\n",
    "\n",
    "#m += l\n",
    "\n",
    "m.interact(zoom=(5,10,1))\n",
    "\n",
    "lat_margin=(max_lat-min_lat)/4\n",
    "long_margin=(max_long-min_long)/4\n",
    "circles = []\n",
    "\n",
    "temp_df = pos_c1_df\n",
    "_min=temp_df[_avg].min()\n",
    "_max=temp_df[_avg].max()\n",
    "print _min, _max\n",
    "\n",
    "temp_df = pdf\n",
    "for index,row in temp_df.iterrows():#pdf.iterrows():#neg_c1_df.iterrows():#pos_c1_df.iterrows():\n",
    "    _lat=row['latitude']\n",
    "    _long=row['longitude']\n",
    "    _count=row['count(station)']\n",
    "    _coef=row[_avg]\n",
    "    \n",
    "    if _coef > 0:\n",
    "        fc = 'blue'\n",
    "    else:\n",
    "        fc = 'orange'\n",
    "    #print _coef\n",
    "    # taking sqrt of count so that the  area of the circle corresponds to the count\n",
    "    #c = Circle(location=(_lat,_long), radius=int(300*np.sqrt(_count+0.0)), weight=1,\n",
    "    #        color='#F00', opacity=0.8, fill_opacity=0.4,\n",
    "    #        fill_color=get_color(_coef))\n",
    "    # \n",
    "    #print _coef\n",
    "    c = Circle(location=(_lat,_long), radius=int(np.abs(_coef)+1000), weight=1,\n",
    "            color='#F00', opacity=0.8, fill_opacity=0.5,\n",
    "            fill_color=fc)#get_color(_coef,_min,_max))\n",
    "    circles.append(c)\n",
    "    m.add_layer(c)\n",
    "m    "
   ]
  },
  {
   "cell_type": "markdown",
   "metadata": {
    "run_control": {
     "frozen": false,
     "read_only": false
    }
   },
   "source": [
    "### excercises:\n",
    "* Add a legend that relates the colors to values.\n",
    "* Leaflet supports a variety of maps. See if you can get a topographical map as the background."
   ]
  },
  {
   "cell_type": "code",
   "execution_count": null,
   "metadata": {
    "collapsed": true,
    "run_control": {
     "frozen": false,
     "read_only": false
    }
   },
   "outputs": [],
   "source": []
  },
  {
   "cell_type": "code",
   "execution_count": 19,
   "metadata": {},
   "outputs": [
    {
     "data": {
      "text/html": [
       "<div>\n",
       "<table border=\"1\" class=\"dataframe\">\n",
       "  <thead>\n",
       "    <tr style=\"text-align: right;\">\n",
       "      <th></th>\n",
       "      <th>station</th>\n",
       "      <th>latitude</th>\n",
       "      <th>longitude</th>\n",
       "      <th>elevation</th>\n",
       "      <th>count(station)</th>\n",
       "      <th>avg(coeff_1)</th>\n",
       "    </tr>\n",
       "  </thead>\n",
       "  <tbody>\n",
       "    <tr>\n",
       "      <th>0</th>\n",
       "      <td>US1WYTT0009</td>\n",
       "      <td>43.6215</td>\n",
       "      <td>-110.6253</td>\n",
       "      <td>2030.9</td>\n",
       "      <td>1</td>\n",
       "      <td>1965.369388</td>\n",
       "    </tr>\n",
       "    <tr>\n",
       "      <th>21</th>\n",
       "      <td>USC00480140</td>\n",
       "      <td>43.7728</td>\n",
       "      <td>-111.0339</td>\n",
       "      <td>1962.0</td>\n",
       "      <td>59</td>\n",
       "      <td>3236.162026</td>\n",
       "    </tr>\n",
       "    <tr>\n",
       "      <th>27</th>\n",
       "      <td>USC00480603</td>\n",
       "      <td>42.8733</td>\n",
       "      <td>-110.9075</td>\n",
       "      <td>1958.3</td>\n",
       "      <td>20</td>\n",
       "      <td>4036.568003</td>\n",
       "    </tr>\n",
       "    <tr>\n",
       "      <th>8</th>\n",
       "      <td>USC00480605</td>\n",
       "      <td>42.8667</td>\n",
       "      <td>-110.9000</td>\n",
       "      <td>1930.9</td>\n",
       "      <td>12</td>\n",
       "      <td>4302.603964</td>\n",
       "    </tr>\n",
       "    <tr>\n",
       "      <th>23</th>\n",
       "      <td>USC00480727</td>\n",
       "      <td>43.3667</td>\n",
       "      <td>-105.2000</td>\n",
       "      <td>1382.0</td>\n",
       "      <td>1</td>\n",
       "      <td>-1254.029634</td>\n",
       "    </tr>\n",
       "    <tr>\n",
       "      <th>4</th>\n",
       "      <td>USC00480778</td>\n",
       "      <td>43.6561</td>\n",
       "      <td>-107.7375</td>\n",
       "      <td>1717.5</td>\n",
       "      <td>6</td>\n",
       "      <td>-1099.583096</td>\n",
       "    </tr>\n",
       "    <tr>\n",
       "      <th>14</th>\n",
       "      <td>USC00480865</td>\n",
       "      <td>43.2278</td>\n",
       "      <td>-110.4358</td>\n",
       "      <td>1991.9</td>\n",
       "      <td>57</td>\n",
       "      <td>4850.762338</td>\n",
       "    </tr>\n",
       "    <tr>\n",
       "      <th>33</th>\n",
       "      <td>USC00481000</td>\n",
       "      <td>43.4053</td>\n",
       "      <td>-108.1633</td>\n",
       "      <td>1479.5</td>\n",
       "      <td>1</td>\n",
       "      <td>-1089.182938</td>\n",
       "    </tr>\n",
       "    <tr>\n",
       "      <th>10</th>\n",
       "      <td>USC00482054</td>\n",
       "      <td>42.9589</td>\n",
       "      <td>-109.9958</td>\n",
       "      <td>2239.4</td>\n",
       "      <td>13</td>\n",
       "      <td>956.756320</td>\n",
       "    </tr>\n",
       "    <tr>\n",
       "      <th>26</th>\n",
       "      <td>USC00482242</td>\n",
       "      <td>42.9281</td>\n",
       "      <td>-110.1272</td>\n",
       "      <td>2235.7</td>\n",
       "      <td>22</td>\n",
       "      <td>693.842543</td>\n",
       "    </tr>\n",
       "  </tbody>\n",
       "</table>\n",
       "</div>"
      ],
      "text/plain": [
       "        station  latitude  longitude  elevation  count(station)  avg(coeff_1)\n",
       "0   US1WYTT0009   43.6215  -110.6253     2030.9               1   1965.369388\n",
       "21  USC00480140   43.7728  -111.0339     1962.0              59   3236.162026\n",
       "27  USC00480603   42.8733  -110.9075     1958.3              20   4036.568003\n",
       "8   USC00480605   42.8667  -110.9000     1930.9              12   4302.603964\n",
       "23  USC00480727   43.3667  -105.2000     1382.0               1  -1254.029634\n",
       "4   USC00480778   43.6561  -107.7375     1717.5               6  -1099.583096\n",
       "14  USC00480865   43.2278  -110.4358     1991.9              57   4850.762338\n",
       "33  USC00481000   43.4053  -108.1633     1479.5               1  -1089.182938\n",
       "10  USC00482054   42.9589  -109.9958     2239.4              13    956.756320\n",
       "26  USC00482242   42.9281  -110.1272     2235.7              22    693.842543"
      ]
     },
     "execution_count": 19,
     "metadata": {},
     "output_type": "execute_result"
    }
   ],
   "source": [
    "df_all=df1.groupby(['station','latitude','longitude','elevation']).agg({\"station\": \"count\", 'coeff_1': \"mean\",'coeff_2': \"mean\",'coeff_3': \"mean\"})\n",
    "all_pdf=df_all.toPandas()\n",
    "#pdf.loc['region']='west'\n",
    "#pdf.loc[pdf['longitude']>=-109,'region']='east'\n",
    "all_pdf.sort_values(by=['station'],inplace=True)\n",
    "pdf.head(10)"
   ]
  },
  {
   "cell_type": "code",
   "execution_count": null,
   "metadata": {
    "collapsed": true
   },
   "outputs": [],
   "source": []
  }
 ],
 "metadata": {
  "anaconda-cloud": {},
  "hide_input": false,
  "kernelspec": {
   "display_name": "Python 2",
   "language": "python",
   "name": "python2"
  },
  "language_info": {
   "codemirror_mode": {
    "name": "ipython",
    "version": 2
   },
   "file_extension": ".py",
   "mimetype": "text/x-python",
   "name": "python",
   "nbconvert_exporter": "python",
   "pygments_lexer": "ipython2",
   "version": "2.7.13"
  },
  "toc": {
   "colors": {
    "hover_highlight": "#DAA520",
    "running_highlight": "#FF0000",
    "selected_highlight": "#FFD700"
   },
   "moveMenuLeft": true,
   "nav_menu": {
    "height": "174px",
    "width": "252px"
   },
   "navigate_menu": true,
   "number_sections": true,
   "sideBar": true,
   "threshold": 4,
   "toc_cell": false,
   "toc_section_display": "block",
   "toc_window_display": false
  },
  "widgets": {
   "state": {},
   "version": "1.0.0"
  }
 },
 "nbformat": 4,
 "nbformat_minor": 1
}
