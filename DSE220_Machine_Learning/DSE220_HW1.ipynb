{
 "cells": [
  {
   "cell_type": "markdown",
   "metadata": {},
   "source": [
    "# DSE220:  Machine Learning - Homework 1"
   ]
  },
  {
   "cell_type": "code",
   "execution_count": 1,
   "metadata": {
    "collapsed": true
   },
   "outputs": [],
   "source": [
    "import pandas as pd\n",
    "import numpy as np\n",
    "import matplotlib.pyplot as plt"
   ]
  },
  {
   "cell_type": "markdown",
   "metadata": {},
   "source": [
    "## Obtain Data"
   ]
  },
  {
   "cell_type": "code",
   "execution_count": 2,
   "metadata": {
    "collapsed": false
   },
   "outputs": [
    {
     "data": {
      "text/html": [
       "<div>\n",
       "<table border=\"1\" class=\"dataframe\">\n",
       "  <thead>\n",
       "    <tr style=\"text-align: right;\">\n",
       "      <th></th>\n",
       "      <th>class</th>\n",
       "      <th>Alcohol</th>\n",
       "      <th>Malic acid</th>\n",
       "      <th>Ash</th>\n",
       "      <th>Alcalinity of ash</th>\n",
       "      <th>Magnesium</th>\n",
       "      <th>Total phenols</th>\n",
       "      <th>Flavanoids</th>\n",
       "      <th>Nonflavanoid phenols</th>\n",
       "      <th>Proanthocyanins</th>\n",
       "      <th>Color intensity</th>\n",
       "      <th>Hue</th>\n",
       "      <th>OD280/OD315</th>\n",
       "      <th>Proline</th>\n",
       "    </tr>\n",
       "  </thead>\n",
       "  <tbody>\n",
       "    <tr>\n",
       "      <th>0</th>\n",
       "      <td>1.0</td>\n",
       "      <td>14.23</td>\n",
       "      <td>1.71</td>\n",
       "      <td>2.43</td>\n",
       "      <td>15.6</td>\n",
       "      <td>127.0</td>\n",
       "      <td>2.80</td>\n",
       "      <td>3.06</td>\n",
       "      <td>0.28</td>\n",
       "      <td>2.29</td>\n",
       "      <td>5.64</td>\n",
       "      <td>1.04</td>\n",
       "      <td>3.92</td>\n",
       "      <td>1065.0</td>\n",
       "    </tr>\n",
       "    <tr>\n",
       "      <th>1</th>\n",
       "      <td>1.0</td>\n",
       "      <td>13.20</td>\n",
       "      <td>1.78</td>\n",
       "      <td>NaN</td>\n",
       "      <td>11.2</td>\n",
       "      <td>100.0</td>\n",
       "      <td>2.65</td>\n",
       "      <td>2.76</td>\n",
       "      <td>0.26</td>\n",
       "      <td>1.28</td>\n",
       "      <td>4.38</td>\n",
       "      <td>1.05</td>\n",
       "      <td>3.40</td>\n",
       "      <td>1050.0</td>\n",
       "    </tr>\n",
       "    <tr>\n",
       "      <th>2</th>\n",
       "      <td>1.0</td>\n",
       "      <td>13.16</td>\n",
       "      <td>2.36</td>\n",
       "      <td>NaN</td>\n",
       "      <td>18.6</td>\n",
       "      <td>101.0</td>\n",
       "      <td>2.80</td>\n",
       "      <td>3.24</td>\n",
       "      <td>0.30</td>\n",
       "      <td>2.81</td>\n",
       "      <td>5.68</td>\n",
       "      <td>1.03</td>\n",
       "      <td>3.17</td>\n",
       "      <td>1185.0</td>\n",
       "    </tr>\n",
       "    <tr>\n",
       "      <th>3</th>\n",
       "      <td>1.0</td>\n",
       "      <td>14.37</td>\n",
       "      <td>NaN</td>\n",
       "      <td>2.50</td>\n",
       "      <td>NaN</td>\n",
       "      <td>NaN</td>\n",
       "      <td>3.85</td>\n",
       "      <td>NaN</td>\n",
       "      <td>NaN</td>\n",
       "      <td>NaN</td>\n",
       "      <td>7.80</td>\n",
       "      <td>NaN</td>\n",
       "      <td>NaN</td>\n",
       "      <td>NaN</td>\n",
       "    </tr>\n",
       "    <tr>\n",
       "      <th>4</th>\n",
       "      <td>1.0</td>\n",
       "      <td>13.24</td>\n",
       "      <td>2.59</td>\n",
       "      <td>NaN</td>\n",
       "      <td>21.0</td>\n",
       "      <td>118.0</td>\n",
       "      <td>2.80</td>\n",
       "      <td>2.69</td>\n",
       "      <td>0.39</td>\n",
       "      <td>1.82</td>\n",
       "      <td>4.32</td>\n",
       "      <td>1.04</td>\n",
       "      <td>2.93</td>\n",
       "      <td>735.0</td>\n",
       "    </tr>\n",
       "  </tbody>\n",
       "</table>\n",
       "</div>"
      ],
      "text/plain": [
       "   class  Alcohol  Malic acid   Ash  Alcalinity of ash  Magnesium  \\\n",
       "0    1.0    14.23        1.71  2.43               15.6      127.0   \n",
       "1    1.0    13.20        1.78   NaN               11.2      100.0   \n",
       "2    1.0    13.16        2.36   NaN               18.6      101.0   \n",
       "3    1.0    14.37         NaN  2.50                NaN        NaN   \n",
       "4    1.0    13.24        2.59   NaN               21.0      118.0   \n",
       "\n",
       "   Total phenols  Flavanoids  Nonflavanoid phenols  Proanthocyanins  \\\n",
       "0           2.80        3.06                  0.28             2.29   \n",
       "1           2.65        2.76                  0.26             1.28   \n",
       "2           2.80        3.24                  0.30             2.81   \n",
       "3           3.85         NaN                   NaN              NaN   \n",
       "4           2.80        2.69                  0.39             1.82   \n",
       "\n",
       "   Color intensity   Hue  OD280/OD315  Proline  \n",
       "0             5.64  1.04         3.92   1065.0  \n",
       "1             4.38  1.05         3.40   1050.0  \n",
       "2             5.68  1.03         3.17   1185.0  \n",
       "3             7.80   NaN          NaN      NaN  \n",
       "4             4.32  1.04         2.93    735.0  "
      ]
     },
     "execution_count": 2,
     "metadata": {},
     "output_type": "execute_result"
    }
   ],
   "source": [
    "# read csv files\n",
    "wine_modified = pd.read_csv('wine_modified.csv')\n",
    "wine_train_data = pd.read_csv('wine_train_data.csv')\n",
    "wine_train_labels = pd.read_csv('wine_train_labels.csv')\n",
    "wine_val_data = pd.read_csv('wine_val_data.csv')\n",
    "wine_val_labels = pd.read_csv('wine_val_labels.csv')\n",
    "wine_test_data = pd.read_csv('wine_test_data.csv')\n",
    "wine_test_labels = pd.read_csv('wine_test_labels.csv')\n",
    "\n",
    "# check data\n",
    "wine_modified.head()"
   ]
  },
  {
   "cell_type": "markdown",
   "metadata": {},
   "source": [
    "## Data Preprocessing"
   ]
  },
  {
   "cell_type": "markdown",
   "metadata": {},
   "source": [
    "**Question 1:** Remove the rows with missing labels (’class’) and rows with more than 7 missing features. Report the remaining number of rows. (1 mark)"
   ]
  },
  {
   "cell_type": "code",
   "execution_count": 3,
   "metadata": {
    "collapsed": false
   },
   "outputs": [
    {
     "name": "stdout",
     "output_type": "stream",
     "text": [
      "178 rows in original data\n",
      "168 rows in data after dropping rows with missing labels\n",
      "14 rows have more than 7 missing features\n",
      "154 rows in data after dropping rows with more than 7 missing features\n"
     ]
    }
   ],
   "source": [
    "# print number of rows in original data\n",
    "print(str(wine_modified.shape[0]) + ' rows in original data')\n",
    "\n",
    "# remove rows with missing labels\n",
    "wine_mod = wine_modified.dropna(axis=0, how='any',subset=['class'])\n",
    "print(str(wine_mod.shape[0]) + ' rows in data after dropping rows with missing labels')\n",
    "\n",
    "# count number of rows with more than 7 missing features\n",
    "missing = wine_mod.shape[1] - wine_mod.count(axis=1).values\n",
    "print(str(sum(missing > 7)) + ' rows have more than 7 missing features')\n",
    "\n",
    "# remove rows with more than 7 missing features\n",
    "wine_mod = wine_mod.dropna(axis=0, how='any',thresh=8)\n",
    "print(str(wine_mod.shape[0]) + ' rows in data after dropping rows with more than 7 missing features')"
   ]
  },
  {
   "cell_type": "markdown",
   "metadata": {},
   "source": [
    "**Question 2:** Remove features with > 50% of missing values. For other features with missing values fill them with the mean of the corresponding features. Report the removed features (if any) and standard deviation of features with missing values after filling. (2 marks)"
   ]
  },
  {
   "cell_type": "code",
   "execution_count": 4,
   "metadata": {
    "collapsed": false
   },
   "outputs": [
    {
     "name": "stdout",
     "output_type": "stream",
     "text": [
      "dropped_features: ['Ash']\n"
     ]
    }
   ],
   "source": [
    "# get list of original features\n",
    "original_features = wine_modified.columns.values[1:]\n",
    "\n",
    "# remove features with >50% missing values\n",
    "wine_mod = wine_mod.dropna(axis=1, thresh=0.5*wine_mod.shape[0])\n",
    "\n",
    "# get list of remaining features\n",
    "remaining_features = wine_mod.columns.values[1:]\n",
    "\n",
    "# determine which features were dropped\n",
    "dropped_features = [f for f in original_features if f not in remaining_features]\n",
    "print('dropped_features: ' + str(dropped_features))"
   ]
  },
  {
   "cell_type": "code",
   "execution_count": 5,
   "metadata": {
    "collapsed": false
   },
   "outputs": [
    {
     "name": "stdout",
     "output_type": "stream",
     "text": [
      "standard deviation of features:\n",
      "\n",
      "Alcohol                   3.804067\n",
      "Malic acid                1.116005\n",
      "Alcalinity of ash         3.456794\n",
      "Magnesium                14.440377\n",
      "Total phenols             0.617237\n",
      "Flavanoids                0.873573\n",
      "Nonflavanoid phenols      0.127083\n",
      "Proanthocyanins           0.587671\n",
      "Color intensity           2.325204\n",
      "Hue                       0.229412\n",
      "OD280/OD315               0.723261\n",
      "Proline                 303.033368\n",
      "dtype: float64\n"
     ]
    }
   ],
   "source": [
    "# fill remaining null values with column mean\n",
    "wine_mod = wine_mod.fillna(wine_mod.mean())\n",
    "\n",
    "# get standard deviation of features\n",
    "wine_mod_std = wine_mod.iloc[:,1:].std()\n",
    "\n",
    "print('standard deviation of features:\\n')\n",
    "print(wine_mod_std)"
   ]
  },
  {
   "cell_type": "markdown",
   "metadata": {},
   "source": [
    "**Question 3:** Detect and remove rows with any outliers/incorrect values in features ’alcohol’ and ’proline’ (if any). Clearly state the basis of your removal. (1 mark)"
   ]
  },
  {
   "cell_type": "code",
   "execution_count": 6,
   "metadata": {
    "collapsed": false
   },
   "outputs": [
    {
     "data": {
      "image/png": "[encoded data removed]",
      "text/plain": [
       "<matplotlib.figure.Figure at 0x10fe4fc18>"
      ]
     },
     "metadata": {},
     "output_type": "display_data"
    }
   ],
   "source": [
    "# get data\n",
    "alcohol = wine_mod.loc[:,'Alcohol'].values\n",
    "proline = wine_mod.loc[:,'Proline'].values\n",
    "\n",
    "# calculate interquartile range and outlier thresholds per tukey's test\n",
    "alc_q75, alc_q25 = np.percentile(alcohol, [75 ,25])\n",
    "alc_iqr = alc_q75 - alc_q25\n",
    "alc_lower = alc_q25 - 1.5*alc_iqr\n",
    "alc_upper = alc_q75 + 1.5*alc_iqr\n",
    "\n",
    "pro_q75, pro_q25 = np.percentile(proline, [75 ,25])\n",
    "pro_iqr = pro_q75 - pro_q25\n",
    "pro_lower = pro_q25 - 1.5*pro_iqr\n",
    "pro_upper = pro_q75 + 1.5*pro_iqr\n",
    "\n",
    "# plot data\n",
    "fig, ax = plt.subplots(2, 1, figsize=(5,5))\n",
    "\n",
    "ax[0].hist(alcohol, 50)\n",
    "ax[0].axvline(x=alc_lower,color='red')\n",
    "ax[0].axvline(x=alc_upper,color='red')\n",
    "ax[0].set_title('Alcohol')\n",
    "\n",
    "ax[1].hist(proline, 50)\n",
    "ax[1].axvline(x=pro_lower,color='red')\n",
    "ax[1].axvline(x=pro_upper,color='red')\n",
    "ax[1].set_title('Proline')\n",
    "\n",
    "fig.subplots_adjust(hspace=0.5)\n",
    "plt.show()"
   ]
  },
  {
   "cell_type": "markdown",
   "metadata": {},
   "source": [
    "From the histograms above, we can see that there are some rows for which the alcohol value is negative, so we can remove those.  There are also some rows for which the proline value is larger than the 75th percentile plus 1.5 times the interquartile range, which is a typical evaluation metric for identifying outliers.  It is less clear that the proline outlier values should be removed, as the distribution is right skewed and there are other data points at the right tail of the distribution, but for the purposes of this analysis, we will remove these points."
   ]
  },
  {
   "cell_type": "code",
   "execution_count": 7,
   "metadata": {
    "collapsed": false
   },
   "outputs": [],
   "source": [
    "# remove rows with negative alcohol values\n",
    "wine_mod = wine_mod.loc[wine_mod.loc[:,'Alcohol'] > 0,:]\n",
    "\n",
    "# remove rows with proline value greater than the upper outlier threshold\n",
    "wine_mod = wine_mod.loc[wine_mod.loc[:,'Proline'] <= pro_upper,:]"
   ]
  },
  {
   "cell_type": "code",
   "execution_count": 8,
   "metadata": {
    "collapsed": false
   },
   "outputs": [
    {
     "data": {
      "image/png": "[encoded data removed]",
      "text/plain": [
       "<matplotlib.figure.Figure at 0x1135ad630>"
      ]
     },
     "metadata": {},
     "output_type": "display_data"
    }
   ],
   "source": [
    "# plot data after removal of outliers\n",
    "alcohol = wine_mod.loc[:,'Alcohol'].values\n",
    "proline = wine_mod.loc[:,'Proline'].values\n",
    "\n",
    "# plot data\n",
    "import matplotlib.pyplot as plt\n",
    "fig, ax = plt.subplots(2, 1, figsize=(5,5))\n",
    "\n",
    "ax[0].hist(alcohol, 50)\n",
    "ax[0].axvline(x=alc_lower,color='red')\n",
    "ax[0].axvline(x=alc_upper,color='red')\n",
    "ax[0].set_title('Alcohol')\n",
    "\n",
    "ax[1].hist(proline, 50)\n",
    "ax[1].axvline(x=pro_lower,color='red')\n",
    "ax[1].axvline(x=pro_upper,color='red')\n",
    "ax[1].set_title('Proline')\n",
    "\n",
    "fig.subplots_adjust(hspace=0.5)\n",
    "plt.show()"
   ]
  },
  {
   "cell_type": "markdown",
   "metadata": {},
   "source": [
    "## Decision Trees"
   ]
  },
  {
   "cell_type": "markdown",
   "metadata": {},
   "source": [
    "**Question 4:** Train Decision Tree model on train data for criterions = {’gini’, ’entropy’} and report the accuracies on the validation data. Select the best criterion and report the accuracy on the test data. (1 mark)"
   ]
  },
  {
   "cell_type": "code",
   "execution_count": 9,
   "metadata": {
    "collapsed": true
   },
   "outputs": [],
   "source": [
    "from sklearn.tree import DecisionTreeClassifier"
   ]
  },
  {
   "cell_type": "code",
   "execution_count": 10,
   "metadata": {
    "collapsed": false
   },
   "outputs": [
    {
     "name": "stdout",
     "output_type": "stream",
     "text": [
      "Validation accuracy using gini = 0.948717948718\n"
     ]
    }
   ],
   "source": [
    "# define model\n",
    "clf_gini = DecisionTreeClassifier(criterion='gini', random_state=1)\n",
    "\n",
    "# fit model\n",
    "clf_gini.fit(wine_train_data, wine_train_labels)\n",
    "\n",
    "# predict validation data\n",
    "pred_gini = clf_gini.predict(wine_val_data)\n",
    "\n",
    "# evaluate accuracy on validation data\n",
    "print ('Validation accuracy using gini = ' + str(clf_gini.score(wine_val_data, wine_val_labels)))\n",
    "\n",
    "#correct_labels = wine_val_labels.loc[:,'class'].values\n",
    "#print ('Validation accuracy using gini criteria = ' + str(np.sum(pred_gini == correct_labels)*1.0/len(correct_labels)))"
   ]
  },
  {
   "cell_type": "code",
   "execution_count": 11,
   "metadata": {
    "collapsed": false
   },
   "outputs": [
    {
     "name": "stdout",
     "output_type": "stream",
     "text": [
      "Validation accuracy using entropy = 0.948717948718\n"
     ]
    }
   ],
   "source": [
    "# define model\n",
    "clf_entropy = DecisionTreeClassifier(criterion='entropy', random_state=1)\n",
    "\n",
    "# fit model\n",
    "clf_entropy.fit(wine_train_data, wine_train_labels)\n",
    "\n",
    "# predict validation data\n",
    "pred_entropy = clf_entropy.predict(wine_val_data)\n",
    "\n",
    "# evaluate accuracy on validation data\n",
    "print ('Validation accuracy using entropy = ' + str(clf_entropy.score(wine_val_data, wine_val_labels)))\n",
    "\n",
    "#print ('Validation accuracy using entropy criteria = ' + str(np.sum(pred_entropy == correct_labels)*1.0/len(correct_labels)))"
   ]
  },
  {
   "cell_type": "markdown",
   "metadata": {},
   "source": [
    "The accuracy of a decision tree is the same for both 'gini' and 'entropy' evaluation criteria, at about 94.9% accuracy on the validation data.  Below, we evaluate both models on the test data, and obtain an accuracy of about 82%."
   ]
  },
  {
   "cell_type": "code",
   "execution_count": 12,
   "metadata": {
    "collapsed": false
   },
   "outputs": [
    {
     "name": "stdout",
     "output_type": "stream",
     "text": [
      "Test accuracy using gini = 0.820512820513\n",
      "Test accuracy using entropy = 0.820512820513\n"
     ]
    }
   ],
   "source": [
    "# evaluate accuracy on test data\n",
    "print ('Test accuracy using gini = ' + str(clf_gini.score(wine_test_data, wine_test_labels)))\n",
    "print ('Test accuracy using entropy = ' + str(clf_entropy.score(wine_test_data, wine_test_labels)))"
   ]
  },
  {
   "cell_type": "markdown",
   "metadata": {},
   "source": [
    "**Question 5:** Use the criterion selected above to train Decision Tree model on train data for min samples split={2,5,10,20} and report the accuracies on the validation data. Select the best parameter and report the accuracy on the test data. (2 marks)"
   ]
  },
  {
   "cell_type": "code",
   "execution_count": 13,
   "metadata": {
    "collapsed": false
   },
   "outputs": [
    {
     "name": "stdout",
     "output_type": "stream",
     "text": [
      "Validation accuracy for min_samples_leaf 2 = 0.948717948718\n",
      "Validation accuracy for min_samples_leaf 5 = 0.948717948718\n",
      "Validation accuracy for min_samples_leaf 10 = 0.897435897436\n",
      "Validation accuracy for min_samples_leaf 20 = 0.897435897436\n",
      "\n",
      "Best validation accuracy is 0.948717948718 for min_samples_leaf = 2\n"
     ]
    }
   ],
   "source": [
    "best_leaf_size = None\n",
    "best_score = None\n",
    "\n",
    "for leaf_size in [2,5,10,20]:\n",
    "    clf = DecisionTreeClassifier(criterion='entropy', min_samples_leaf=leaf_size, random_state=1)\n",
    "    clf.fit(wine_train_data, wine_train_labels)\n",
    "    score = clf.score(wine_val_data, wine_val_labels)\n",
    "    print ('Validation accuracy for min_samples_leaf ' + str(leaf_size) + ' = ' + str(score))\n",
    "    \n",
    "    if best_score == None:\n",
    "        best_leaf_size = leaf_size\n",
    "        best_score = score\n",
    "    elif score > best_score:\n",
    "        best_leaf_size = leaf_size\n",
    "        best_score = score\n",
    "        \n",
    "print('\\nBest validation accuracy is ' + str(best_score) + ' for min_samples_leaf = ' + str(best_leaf_size))"
   ]
  },
  {
   "cell_type": "code",
   "execution_count": 14,
   "metadata": {
    "collapsed": false
   },
   "outputs": [
    {
     "name": "stdout",
     "output_type": "stream",
     "text": [
      "Test accuracy for min_samples_leaf 2 = 0.820512820513\n"
     ]
    }
   ],
   "source": [
    "# create best model\n",
    "best_clf = DecisionTreeClassifier(criterion='entropy', min_samples_leaf=best_leaf_size, random_state=1)\n",
    "\n",
    "# fit model on combined training and validation data\n",
    "wine_comb_data = np.concatenate((wine_train_data, wine_val_data))\n",
    "wine_comb_labels = np.concatenate((wine_train_labels, wine_val_labels))\n",
    "#wine_comb_labels = wine_comb_labels.T[0]\n",
    "best_clf.fit(wine_comb_data, wine_comb_labels)\n",
    "\n",
    "# evaluate accuracy on test data\n",
    "score = best_clf.score(wine_test_data, wine_test_labels)\n",
    "print ('Test accuracy for min_samples_leaf ' + str(best_leaf_size) + ' = ' + str(score))"
   ]
  },
  {
   "cell_type": "markdown",
   "metadata": {},
   "source": [
    "**Question 6:** Use the parameters selected above (Q4 and Q5) to train Decision Tree model using the first 20, 40, 60, 80 and 100 samples from train data. Keep the validation set unchanged during this analysis. Report and plot the accuracies on the validation data. (2 marks)"
   ]
  },
  {
   "cell_type": "code",
   "execution_count": 15,
   "metadata": {
    "collapsed": false
   },
   "outputs": [
    {
     "name": "stdout",
     "output_type": "stream",
     "text": [
      "Validation accuracy for subset size 20 = 0.692307692308\n",
      "Validation accuracy for subset size 40 = 0.871794871795\n",
      "Validation accuracy for subset size 60 = 0.871794871795\n",
      "Validation accuracy for subset size 80 = 0.948717948718\n",
      "Validation accuracy for subset size 100 = 0.948717948718\n"
     ]
    },
    {
     "data": {
      "image/png": "[encoded data removed]",
      "text/plain": [
       "<matplotlib.figure.Figure at 0x10ff39ba8>"
      ]
     },
     "metadata": {},
     "output_type": "display_data"
    }
   ],
   "source": [
    "# subset sizes\n",
    "subset_size = [20,40,60,80,100]\n",
    "\n",
    "# empty list to track validation accuracy scores\n",
    "val_scores = []\n",
    "\n",
    "# train model on subsets of training data\n",
    "for s in subset_size:\n",
    "    best_clf.fit(wine_comb_data[:s], wine_comb_labels[:s])\n",
    "    score = best_clf.score(wine_val_data, wine_val_labels)\n",
    "    val_scores.append(score)\n",
    "    print ('Validation accuracy for subset size ' + str(s) + ' = ' + str(score))\n",
    "\n",
    "# plot validation scores\n",
    "plt.plot(subset_size, val_scores)\n",
    "plt.xlabel('Subset Size n')\n",
    "plt.ylabel('Validation Data Accuracy')\n",
    "plt.title('Validation Accuracy using First n Train Data Samples')\n",
    "plt.show()"
   ]
  },
  {
   "cell_type": "markdown",
   "metadata": {},
   "source": [
    "## Nearest Neighbor"
   ]
  },
  {
   "cell_type": "markdown",
   "metadata": {},
   "source": [
    "**Normalize Data:** Normalize features such that for each feature the mean is 0 and the standard deviation is 1 in the train+validation data. Use the normalizing factors calculated on train+validation data to modify the values in train, validation and test data."
   ]
  },
  {
   "cell_type": "code",
   "execution_count": 16,
   "metadata": {
    "collapsed": false
   },
   "outputs": [],
   "source": [
    "# calculate mean and std for each column\n",
    "comb_means = wine_comb_data.mean(axis=0)\n",
    "comb_std = wine_comb_data.std(axis=0)\n",
    "\n",
    "# normalize train, validation, and test data\n",
    "wine_train_data_centered = wine_train_data.subtract(comb_means)\n",
    "wine_train_data_norm = wine_train_data_centered.divide(comb_std)\n",
    "\n",
    "wine_val_data_centered = wine_val_data.subtract(comb_means)\n",
    "wine_val_data_norm = wine_val_data_centered.divide(comb_std)\n",
    "\n",
    "wine_test_data_centered = wine_test_data.subtract(comb_means)\n",
    "wine_test_data_norm = wine_test_data_centered.divide(comb_std)"
   ]
  },
  {
   "cell_type": "code",
   "execution_count": 17,
   "metadata": {
    "collapsed": false
   },
   "outputs": [
    {
     "name": "stdout",
     "output_type": "stream",
     "text": [
      "mean of centered columns (should be near 0):\n",
      " [ -5.75079552e-16  -4.47284096e-16   1.82108525e-16   2.55590912e-17\n",
      "  -4.90734551e-15  -1.58146877e-16  -3.03514208e-17  -1.35782672e-17\n",
      "  -1.02236365e-16   3.06709095e-16   5.59105120e-18   3.38657959e-16\n",
      "   9.81469103e-15]\n",
      "\n",
      "standard deviation of normalized columns (should be 1):\n",
      " [ 1.  1.  1.  1.  1.  1.  1.  1.  1.  1.  1.  1.  1.]\n"
     ]
    }
   ],
   "source": [
    "# test calculation on combined train + validation data\n",
    "wine_comb_data_centered = wine_comb_data - comb_means\n",
    "print('mean of centered columns (should be near 0):\\n', wine_comb_data_centered.mean(axis=0))\n",
    "\n",
    "wine_comb_data_norm = wine_comb_data_centered / comb_std\n",
    "print('\\nstandard deviation of normalized columns (should be 1):\\n', wine_comb_data_norm.std(axis=0))"
   ]
  },
  {
   "cell_type": "markdown",
   "metadata": {},
   "source": [
    "**Question 7:** Train k-nn model on train + validation data and report accuracy on test data. Use Euclidean distance and k=3. (1 mark)"
   ]
  },
  {
   "cell_type": "code",
   "execution_count": 18,
   "metadata": {
    "collapsed": true
   },
   "outputs": [],
   "source": [
    "from sklearn.neighbors import KNeighborsClassifier\n",
    "from sklearn.neighbors import DistanceMetric"
   ]
  },
  {
   "cell_type": "code",
   "execution_count": 19,
   "metadata": {
    "collapsed": false
   },
   "outputs": [
    {
     "name": "stdout",
     "output_type": "stream",
     "text": [
      "Test accuracy = 0.871794871795\n"
     ]
    }
   ],
   "source": [
    "# define model\n",
    "knn = KNeighborsClassifier(n_neighbors=3, metric='euclidean')\n",
    "\n",
    "# fit model on combined train + validation data\n",
    "knn.fit(wine_comb_data_norm, wine_comb_labels.ravel())\n",
    "\n",
    "# evaluate on test data\n",
    "score = knn.score(wine_test_data_norm, wine_test_labels)\n",
    "print ('Test accuracy = ' + str(score))"
   ]
  },
  {
   "cell_type": "markdown",
   "metadata": {},
   "source": [
    "**Question 8:** Train the model on train data for distance metrics defined by l1, linf, l2. Report the accuracies on the validation data. Select the best metric and report the accuracy on the test data for the selected metric. Use k=3. (1 mark)"
   ]
  },
  {
   "cell_type": "code",
   "execution_count": 20,
   "metadata": {
    "collapsed": false
   },
   "outputs": [
    {
     "name": "stdout",
     "output_type": "stream",
     "text": [
      "Validation accuracy is 0.948717948718 for manhattan distance metric\n",
      "Validation accuracy is 0.923076923077 for chebyshev distance metric\n",
      "Validation accuracy is 0.923076923077 for euclidean distance metric\n",
      "\n",
      "Best validation accuracy is 0.948717948718 for manhattan distance metric\n"
     ]
    }
   ],
   "source": [
    "dist_metrics = ['manhattan','chebyshev','euclidean']\n",
    "\n",
    "best_metric = None\n",
    "best_score = None\n",
    "\n",
    "for m in dist_metrics:\n",
    "    knn = KNeighborsClassifier(n_neighbors=3, metric=m)\n",
    "    knn.fit(wine_train_data_norm, wine_train_labels.values.ravel())\n",
    "    score = knn.score(wine_val_data_norm, wine_val_labels.values.ravel())\n",
    "    \n",
    "    print('Validation accuracy is ' + str(score) + ' for ' + m + ' distance metric')\n",
    "    \n",
    "    if best_score == None:\n",
    "        best_score = score\n",
    "        best_metric = m\n",
    "    if score > best_score:\n",
    "        best_score = score\n",
    "        best_metric = m\n",
    "\n",
    "print('\\nBest validation accuracy is ' + str(best_score) + ' for ' + best_metric + ' distance metric')"
   ]
  },
  {
   "cell_type": "code",
   "execution_count": 21,
   "metadata": {
    "collapsed": false
   },
   "outputs": [
    {
     "name": "stdout",
     "output_type": "stream",
     "text": [
      "Test accuracy is 0.974358974359 for manhattan distance metric\n"
     ]
    }
   ],
   "source": [
    "# evaluate best metric on test data\n",
    "knn_best = KNeighborsClassifier(n_neighbors=3, metric=best_metric)\n",
    "knn_best.fit(wine_comb_data_norm, wine_comb_labels.ravel())\n",
    "score = knn_best.score(wine_test_data_norm, wine_test_labels.values.ravel())\n",
    "\n",
    "print('Test accuracy is ' + str(score) + ' for ' + best_metric + ' distance metric')"
   ]
  },
  {
   "cell_type": "markdown",
   "metadata": {},
   "source": [
    "**Question 9:** Train the k-nn model on train data for k=1,3,5,7,9. Report and plot the accuracies on the validation data. Select the best ’k’ value and report the accuracy on the test data for the selected ’k’. Use Euclidean distance. (2 marks)"
   ]
  },
  {
   "cell_type": "code",
   "execution_count": 22,
   "metadata": {
    "collapsed": false
   },
   "outputs": [
    {
     "name": "stdout",
     "output_type": "stream",
     "text": [
      "Validation accuracy for k = 1 is 0.948717948718\n",
      "Validation accuracy for k = 3 is 0.923076923077\n",
      "Validation accuracy for k = 5 is 0.948717948718\n",
      "Validation accuracy for k = 7 is 0.974358974359\n",
      "Validation accuracy for k = 9 is 0.948717948718\n"
     ]
    },
    {
     "data": {
      "image/png": "[encoded data removed]",
      "text/plain": [
       "<matplotlib.figure.Figure at 0x11360fe10>"
      ]
     },
     "metadata": {},
     "output_type": "display_data"
    },
    {
     "name": "stdout",
     "output_type": "stream",
     "text": [
      "Best validation accuracy is 0.974358974359 for k = 7\n"
     ]
    }
   ],
   "source": [
    "# k values to evaluate\n",
    "k_list = [1,3,5,7,9]\n",
    "\n",
    "# empty list to track validation accuracy scores\n",
    "val_scores = []\n",
    "best_k = None\n",
    "best_score = None\n",
    "\n",
    "# train model using different k values\n",
    "for k in k_list:\n",
    "    knn = KNeighborsClassifier(n_neighbors=k, metric='euclidean')\n",
    "    knn.fit(wine_train_data_norm, wine_train_labels.values.ravel())\n",
    "    score = knn.score(wine_val_data_norm, wine_val_labels.values.ravel())\n",
    "    val_scores.append(score)\n",
    "    print ('Validation accuracy for k = ' + str(k) + ' is ' + str(score))\n",
    "    \n",
    "    if best_k == None:\n",
    "        best_k = k\n",
    "        best_score = score\n",
    "    elif score > best_score:\n",
    "        best_k = k\n",
    "        best_score = score\n",
    "\n",
    "# plot validation scores\n",
    "plt.plot(k_list, val_scores)\n",
    "plt.xlabel('Number of Neighbors k')\n",
    "plt.ylabel('Validation Data Accuracy')\n",
    "plt.title('Validation Accuracy using Different k Values')\n",
    "plt.show()\n",
    "\n",
    "print('Best validation accuracy is ' + str(best_score) + ' for k = ' + str(best_k))"
   ]
  },
  {
   "cell_type": "code",
   "execution_count": 23,
   "metadata": {
    "collapsed": false
   },
   "outputs": [
    {
     "name": "stdout",
     "output_type": "stream",
     "text": [
      "Test accuracy is 0.923076923077 for k = 7\n"
     ]
    }
   ],
   "source": [
    "# evaluate best k model on test data\n",
    "knn = KNeighborsClassifier(n_neighbors=best_k, metric='euclidean')\n",
    "knn.fit(wine_comb_data_norm, wine_comb_labels.ravel())\n",
    "score = knn.score(wine_test_data_norm, wine_test_labels.values.ravel())\n",
    "\n",
    "print('Test accuracy is ' + str(score) + ' for k = ' + str(best_k))"
   ]
  },
  {
   "cell_type": "markdown",
   "metadata": {},
   "source": [
    "**Question 10:** Instead of using full train data, train the model using the first 20, 40, 60, 80 and 100 data samples from train data. Keep the validation set unchanged during this analysis. Report and plot the accuracies on the validation data. Use Euclidean distance and k=3. Note: Don’t shuffle the data and use only the ’first n samples’, otherwise your answers may differ. (2 marks)"
   ]
  },
  {
   "cell_type": "code",
   "execution_count": 24,
   "metadata": {
    "collapsed": false
   },
   "outputs": [
    {
     "name": "stdout",
     "output_type": "stream",
     "text": [
      "Validation accuracy for subset size 20 = 0.948717948718\n",
      "Validation accuracy for subset size 40 = 1.0\n",
      "Validation accuracy for subset size 60 = 1.0\n",
      "Validation accuracy for subset size 80 = 1.0\n",
      "Validation accuracy for subset size 100 = 0.923076923077\n"
     ]
    },
    {
     "data": {
      "image/png": "[encoded data removed]",
      "text/plain": [
       "<matplotlib.figure.Figure at 0x1154fe550>"
      ]
     },
     "metadata": {},
     "output_type": "display_data"
    }
   ],
   "source": [
    "# subset sizes\n",
    "subset_size = [20,40,60,80,100]\n",
    "\n",
    "# empty list to track validation accuracy scores\n",
    "val_scores = []\n",
    "\n",
    "# train model on subsets of training data\n",
    "for s in subset_size:\n",
    "    knn = KNeighborsClassifier(n_neighbors=3, metric='euclidean')\n",
    "    knn.fit(wine_train_data_norm[:s], wine_train_labels[:s].values.ravel())\n",
    "    score = knn.score(wine_val_data_norm, wine_val_labels.values.ravel())\n",
    "    val_scores.append(score)\n",
    "    print ('Validation accuracy for subset size ' + str(s) + ' = ' + str(score))\n",
    "\n",
    "# plot validation scores\n",
    "plt.plot(subset_size, val_scores)\n",
    "plt.xlabel('Subset Size n')\n",
    "plt.ylabel('Validation Data Accuracy')\n",
    "plt.title('Validation Accuracy using First n Train Data Samples')\n",
    "plt.show()"
   ]
  },
  {
   "cell_type": "code",
   "execution_count": null,
   "metadata": {
    "collapsed": true
   },
   "outputs": [],
   "source": []
  }
 ],
 "metadata": {
  "kernelspec": {
   "display_name": "Python 3",
   "language": "python",
   "name": "python3"
  },
  "language_info": {
   "codemirror_mode": {
    "name": "ipython",
    "version": 3
   },
   "file_extension": ".py",
   "mimetype": "text/x-python",
   "name": "python",
   "nbconvert_exporter": "python",
   "pygments_lexer": "ipython3",
   "version": "3.6.0"
  }
 },
 "nbformat": 4,
 "nbformat_minor": 2
}
