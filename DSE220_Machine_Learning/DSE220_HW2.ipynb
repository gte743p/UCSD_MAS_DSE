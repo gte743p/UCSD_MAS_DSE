{
 "cells": [
  {
   "cell_type": "markdown",
   "metadata": {},
   "source": [
    "# DSE220 Homework 2"
   ]
  },
  {
   "cell_type": "markdown",
   "metadata": {},
   "source": [
    "### Answers Section\n",
    "##### See below for corresponding code\n",
    "*Question 1:*  Compute and report the prior probabilities $\\pi_j$ for all labels.\n",
    "\n",
    "<pre>\n",
    "class prior probabilities:\n",
    "0    0.098667\n",
    "1    0.111833\n",
    "2    0.096833\n",
    "3    0.101333\n",
    "4    0.103833\n",
    "5    0.085667\n",
    "6    0.101333\n",
    "7    0.108500\n",
    "8    0.091833\n",
    "9    0.100167\n",
    "Name: priors, dtype: float64\n",
    "</pre>\n",
    "\n",
    "*Question 2:*  For each pixel $X_i$ and label j, compute $P_{ji} = P(X_i = 1 \\mid y = j)$ (Use the maximum likelihood estimate shown in class). Use Laplacian Smoothing for computing $P_{ji}$. Report the highest $P_{ji}$ for each label j.\n",
    "\n",
    "<pre>\n",
    "0    0.851852\n",
    "1    0.985141\n",
    "2    0.728988\n",
    "3    0.808197\n",
    "4    0.849600\n",
    "5    0.711240\n",
    "6    0.849180\n",
    "7    0.794793\n",
    "8    0.875226\n",
    "9    0.867330\n",
    "dtype: float64\n",
    "</pre>\n",
    "\n",
    "*Question 3:*  Use naive bayes (as shown in lecture slides) to classify the test data. Report the accuracy.\n",
    "\n",
    "<pre>\n",
    "Test accuracy = 0.809\n",
    "</pre>\n",
    "\n",
    "*Question 4:*  Compute the confusion matrix (as shown in the lectures) and report the top 3 pairs with most (absolute number) incorrect classifications.\n",
    "\n",
    "<pre>\n",
    "Confusion Matrix:\n",
    " [[ 74   0   0   0   0   5   2   0   4   0]\n",
    " [  0 120   0   0   0   4   1   0   1   0]\n",
    " [  1   7  88   4   0   1   2   3   8   2]\n",
    " [  0   2   1  86   1   6   3   2   3   3]\n",
    " [  1   1   1   0  83   0   2   0   1  21]\n",
    " [  3   1   1  11   2  62   2   3   1   1]\n",
    " [  3   0   4   0   3   4  73   0   0   0]\n",
    " [  0   6   2   0   3   1   0  77   3   7]\n",
    " [  0   2   2   9   4   3   1   2  61   5]\n",
    " [  0   1   0   1   4   0   0   0   3  85]]\n",
    " \n",
    "21 times the digit 4 was incorrectly classified as 9\n",
    "11 times the digit 5 was incorrectly classified as 3\n",
    "9 times the digit 8 was incorrectly classified as 3\n",
    "</pre>\n",
    "\n",
    "*Question 5:*  Visualizing mistakes: Print two MNIST images from the test data that your classifier misclassified. Write both the true and predicted labels for both of these misclassified digits.\n",
    "\n",
    "<pre>\n",
    "(see code below for misclassified digit images)\n",
    "</pre>\n",
    "\n",
    "*Question 6:*  Implement Gaussian Mixture model on the data as shown in class. Tune the covariance type parameter on the validation data. Use the selected value to compute the test accuracy. As always, train the model on train+validation data to compute the test accuracy.\n",
    "\n",
    "<pre>\n",
    "Test accuracy = 0.938053097345\n",
    "</pre>\n",
    "\n",
    "*Question 7:*  Apply Linear Discriminant Analysis model on the train+validation data and report the accuracy obtained on test data. Report the transformation matrix (w) along with the intercept.\n",
    "\n",
    "<pre>\n",
    "coefficients:\n",
    " [  5.99249063e+00  -2.30925547e-01  -7.16677835e-01  -8.33967114e-03\n",
    "  -5.43714783e+01   7.92096908e+01  -3.44319554e+00  -3.32058792e+01\n",
    "   1.84143157e+01  -4.92407304e+01  -9.26564180e+00  -2.65341746e-01\n",
    "   6.24717559e-01   1.18597946e-02  -2.90874696e+02  -9.03149024e-01\n",
    "   4.32297783e+01  -1.62317393e+02   1.66223179e+01   1.93288295e+02\n",
    "  -3.55515669e+00  -6.74413495e-02  -4.01932777e-02   2.36237508e-02\n",
    "   1.65662819e+01   3.55893095e-01  -6.66649647e+00  -1.76547404e+01\n",
    "  -1.69654197e+01  -7.84606620e+01]\n",
    "  \n",
    "intercept:\n",
    " [ 50.7607485]\n",
    "</pre>\n",
    "\n",
    "*Question 8:*  Load the digits dataset (scikit-learn’s toy dataset) and take the last 1300 samples as your test set. Train a K-Nearest Neighbor (k=5, linf distance) model and then without using any scikit-learn method, report the final values for Specificity, Sensitivity, TPR, TNR, FNR, FPR, Precision and Recall for Digit 3 (this digit is a positive, everything else is a negative).\n",
    "\n",
    "<pre>\n",
    "TPR = sensitivity = recall = TP / (TP + FN) = 0.869\n",
    "TNR = specificity = TN / (FP + TN) = 0.989\n",
    "FPR = 1 - specificity = FP / (FP + TN) = 0.011\n",
    "FNR = 1 - sensitivity = FN / (FN + TP) = 0.131\n",
    "precision = TP / (TP + FP) = 0.897\n",
    "\n",
    "Note:\n",
    "sensitivity = recall = TPR \n",
    "specificity = TNR\n",
    "FPR = 1 - specificity\n",
    "FNR = 1 - sensitivity\n",
    "\n",
    "TP: 113\n",
    "TN: 1157\n",
    "FP: 13\n",
    "FN: 17\n",
    "</pre>\n",
    "\n",
    "*Question 9:*  Perform least squares regression on this dataset. Report the mean squared error and the mean absolute error on the test data.\n",
    "\n",
    "<pre>\n",
    "MSE test = 2155.96465\n",
    "MAE test = 36.31813\n",
    "</pre>\n",
    "\n",
    "*Question 10:*  Repeat the experiment from Question 10 for all possible values of ablation (i.e., removing the feature 1 only, then removing the feature 2 only, and so on). Report all MSEs.\n",
    "\n",
    "<pre>\n",
    "MSE for model without feature 0 = 2152.80664\n",
    "MSE for model without feature 1 = 2259.13308\n",
    "MSE for model without feature 2 = 2783.51448\n",
    "MSE for model without feature 3 = 2424.77235\n",
    "MSE for model without feature 4 = 2187.59952\n",
    "MSE for model without feature 5 = 2167.51761\n",
    "MSE for model without feature 6 = 2159.15148\n",
    "MSE for model without feature 7 = 2153.06317\n",
    "MSE for model without feature 8 = 2335.17338\n",
    "MSE for model without feature 9 = 2165.86619\n",
    "</pre>\n",
    "\n",
    "*Question 11:*  Based on the MSE values obtained from Question 11, which features do you deem the most/least significant and why?\n",
    "\n",
    "<pre>\n",
    "Removal of significant features should result in a worse model, with a higher MSE. So the most significant features are those that result in the highest MSE when removed. Conversely, the least significant features should be those that, when removed, result in the lowest MSE.\n",
    "\n",
    "5 Most Significant Features: [2 3 8 1 4]\n",
    "MSE for model without feature 2 = 2783.51448185\n",
    "MSE for model without feature 3 = 2424.772348\n",
    "MSE for model without feature 8 = 2335.17338461\n",
    "MSE for model without feature 1 = 2259.13307937\n",
    "MSE for model without feature 4 = 2187.59951938\n",
    "\n",
    "5 Least Significant Features: [0 7 6 9 5]\n",
    "MSE for model without feature 0 = 2152.80664218\n",
    "MSE for model without feature 7 = 2153.06317113\n",
    "MSE for model without feature 6 = 2159.15148251\n",
    "MSE for model without feature 9 = 2165.86619219\n",
    "MSE for model without feature 5 = 2167.51760615\n",
    "</pre>"
   ]
  },
  {
   "cell_type": "markdown",
   "metadata": {},
   "source": [
    "# Code Section"
   ]
  },
  {
   "cell_type": "code",
   "execution_count": 1,
   "metadata": {
    "collapsed": true
   },
   "outputs": [],
   "source": [
    "import numpy as np\n",
    "import pandas as pd\n",
    "import itertools\n",
    "import matplotlib.pyplot as plt"
   ]
  },
  {
   "cell_type": "code",
   "execution_count": 2,
   "metadata": {
    "collapsed": true
   },
   "outputs": [],
   "source": [
    "%matplotlib inline"
   ]
  },
  {
   "cell_type": "markdown",
   "metadata": {},
   "source": [
    "## Read Data"
   ]
  },
  {
   "cell_type": "code",
   "execution_count": 3,
   "metadata": {
    "collapsed": false
   },
   "outputs": [],
   "source": [
    "# read csv files\n",
    "x_train = pd.read_csv(\"mnist_train_data.csv\", header=None)\n",
    "y_train = pd.read_csv(\"mnist_train_labels.csv\", header=None, names=['label'])\n",
    "x_test = pd.read_csv(\"mnist_test_data.csv\", header=None)\n",
    "y_test = pd.read_csv(\"mnist_test_labels.csv\", header=None, names=['label'])"
   ]
  },
  {
   "cell_type": "code",
   "execution_count": 4,
   "metadata": {
    "collapsed": false
   },
   "outputs": [
    {
     "name": "stdout",
     "output_type": "stream",
     "text": [
      "x_train shape: (6000, 784)\n",
      "y_train shape: (6000, 1)\n",
      "x_test shape: (1000, 784)\n",
      "y_test shape: (1000, 1)\n"
     ]
    }
   ],
   "source": [
    "# check shape of data\n",
    "print('x_train shape:', x_train.shape)\n",
    "print('y_train shape:', y_train.shape)\n",
    "print('x_test shape:', x_test.shape)\n",
    "print('y_test shape:', y_test.shape)"
   ]
  },
  {
   "cell_type": "markdown",
   "metadata": {},
   "source": [
    "## Generative Learning"
   ]
  },
  {
   "cell_type": "markdown",
   "metadata": {},
   "source": [
    "## Question 1: ##\n",
    "Compute and report the prior probabilities $\\pi_j$ for all labels."
   ]
  },
  {
   "cell_type": "code",
   "execution_count": 5,
   "metadata": {
    "collapsed": true
   },
   "outputs": [],
   "source": [
    "# get list of distinct label values\n",
    "labels = np.unique(y_train.values.ravel())"
   ]
  },
  {
   "cell_type": "code",
   "execution_count": 6,
   "metadata": {
    "collapsed": false
   },
   "outputs": [
    {
     "name": "stdout",
     "output_type": "stream",
     "text": [
      "class prior probabilities:\n",
      "\n",
      "0    0.098667\n",
      "1    0.111833\n",
      "2    0.096833\n",
      "3    0.101333\n",
      "4    0.103833\n",
      "5    0.085667\n",
      "6    0.101333\n",
      "7    0.108500\n",
      "8    0.091833\n",
      "9    0.100167\n",
      "Name: priors, dtype: float64\n"
     ]
    }
   ],
   "source": [
    "# calculate prior probabilities of labels from training data\n",
    "priors = []\n",
    "total_rows = y_train.shape[0]\n",
    "\n",
    "# via for loop\n",
    "for i in range(10):\n",
    "    count_i = np.sum(y_train.label == i)\n",
    "    frac_i = count_i / total_rows\n",
    "    priors.append(frac_i)\n",
    "    \n",
    "# using pandas\n",
    "occurrences = y_train.label.value_counts(normalize=False).sort_index().rename('occurrences')\n",
    "priors = y_train.label.value_counts(normalize=True).sort_index().rename('priors')\n",
    "\n",
    "print('class prior probabilities:\\n')\n",
    "print(priors)"
   ]
  },
  {
   "cell_type": "markdown",
   "metadata": {},
   "source": [
    "## Question 2: ##\n",
    "For each pixel $X_i$ and label j, compute $P_{ji} = P(X_i = 1 \\mid y = j)$ (Use the maximum likelihood estimate shown in class). Use Laplacian Smoothing for computing $P_{ji}$. Report the highest $P_{ji}$ for each label j."
   ]
  },
  {
   "cell_type": "code",
   "execution_count": 7,
   "metadata": {
    "collapsed": true
   },
   "outputs": [],
   "source": [
    "# add labels to train data\n",
    "train_labeled = pd.concat([y_train, x_train], axis=1)\n",
    "\n",
    "# group by label and sum\n",
    "train_class_pixel_sums = train_labeled.groupby(by=['label']).sum().reset_index().drop(['label'], axis=1)"
   ]
  },
  {
   "cell_type": "code",
   "execution_count": 8,
   "metadata": {
    "collapsed": false
   },
   "outputs": [],
   "source": [
    "# add one to each sum\n",
    "train_class_pixel_sums_smoothed = train_class_pixel_sums + 1\n",
    "\n",
    "# adjust occurrences by adding number possible pixel outcomes\n",
    "occurrences_smoothed = occurrences + 2\n",
    "\n",
    "# divide class pixel counts + 1 by instances of each class + 2\n",
    "pixel_probs = train_class_pixel_sums_smoothed.divide(occurrences_smoothed, axis=0)"
   ]
  },
  {
   "cell_type": "code",
   "execution_count": 9,
   "metadata": {
    "collapsed": false
   },
   "outputs": [
    {
     "data": {
      "image/png": "[encoded data removed]",
      "text/plain": [
       "<matplotlib.figure.Figure at 0x11890ba90>"
      ]
     },
     "metadata": {},
     "output_type": "display_data"
    }
   ],
   "source": [
    "# check that pixel probs returns something sensible for a given digit/class\n",
    "img_mean = pixel_probs.iloc[3,:]\n",
    "plt.imshow(img_mean.values.reshape((28,28)),cmap=plt.cm.gray_r);\n",
    "plt.show()"
   ]
  },
  {
   "cell_type": "code",
   "execution_count": 10,
   "metadata": {
    "collapsed": false
   },
   "outputs": [
    {
     "data": {
      "text/plain": [
       "0    0.851852\n",
       "1    0.985141\n",
       "2    0.728988\n",
       "3    0.808197\n",
       "4    0.849600\n",
       "5    0.711240\n",
       "6    0.849180\n",
       "7    0.794793\n",
       "8    0.875226\n",
       "9    0.867330\n",
       "dtype: float64"
      ]
     },
     "execution_count": 10,
     "metadata": {},
     "output_type": "execute_result"
    }
   ],
   "source": [
    "# find the highest P_ij for each label j\n",
    "pixel_probs.max(axis=1)"
   ]
  },
  {
   "cell_type": "markdown",
   "metadata": {},
   "source": [
    "## Question 3: ##\n",
    "Use naive bayes (as shown in lecture slides) to classify the test data. Report the accuracy."
   ]
  },
  {
   "cell_type": "code",
   "execution_count": 11,
   "metadata": {
    "collapsed": false
   },
   "outputs": [],
   "source": [
    "# calculate log prior probabilities (and reshape so we can add to log likelihoods)\n",
    "log_priors = np.log(priors).values.reshape((10,1))\n",
    "\n",
    "# calculate log likelihoods\n",
    "log_likelihoods_train = np.dot(np.log(pixel_probs),x_train.T) + np.dot(np.log(1-pixel_probs),(1-x_train).T)\n",
    "log_likelihoods_test = np.dot(np.log(pixel_probs),x_test.T) + np.dot(np.log(1-pixel_probs),(1-x_test).T)\n",
    "\n",
    "# calculate posterior probabilities for each class\n",
    "class_probs_train = log_priors + log_likelihoods_train\n",
    "class_probs_test = log_priors + log_likelihoods_test\n",
    "\n",
    "# make predictions based on posterior probabilities\n",
    "train_pred = np.argmax(class_probs_train, axis=0)\n",
    "test_pred = np.argmax(class_probs_test, axis=0)"
   ]
  },
  {
   "cell_type": "code",
   "execution_count": 12,
   "metadata": {
    "collapsed": false
   },
   "outputs": [
    {
     "name": "stdout",
     "output_type": "stream",
     "text": [
      "Training accuracy = 0.845166666667\n",
      "Test accuracy = 0.809\n"
     ]
    }
   ],
   "source": [
    "from sklearn.metrics import accuracy_score\n",
    "\n",
    "# print the accuracy\n",
    "print ('Training accuracy = ' + str(accuracy_score(train_pred, y_train)))\n",
    "print ('Test accuracy = ' + str(accuracy_score(test_pred, y_test)))"
   ]
  },
  {
   "cell_type": "markdown",
   "metadata": {},
   "source": [
    "## Question 4: ##\n",
    "Compute the confusion matrix (as shown in the lectures) and report the top 3 pairs with most (absolute number) incorrect classifications."
   ]
  },
  {
   "cell_type": "code",
   "execution_count": 13,
   "metadata": {
    "collapsed": false
   },
   "outputs": [
    {
     "name": "stdout",
     "output_type": "stream",
     "text": [
      "Confusion Matrix:\n",
      " [[ 74   0   0   0   0   5   2   0   4   0]\n",
      " [  0 120   0   0   0   4   1   0   1   0]\n",
      " [  1   7  88   4   0   1   2   3   8   2]\n",
      " [  0   2   1  86   1   6   3   2   3   3]\n",
      " [  1   1   1   0  83   0   2   0   1  21]\n",
      " [  3   1   1  11   2  62   2   3   1   1]\n",
      " [  3   0   4   0   3   4  73   0   0   0]\n",
      " [  0   6   2   0   3   1   0  77   3   7]\n",
      " [  0   2   2   9   4   3   1   2  61   5]\n",
      " [  0   1   0   1   4   0   0   0   3  85]]\n"
     ]
    }
   ],
   "source": [
    "from sklearn.metrics import confusion_matrix\n",
    "\n",
    "cnf_matrix = confusion_matrix(y_test, test_pred)\n",
    "\n",
    "print('Confusion Matrix:\\n',cnf_matrix)"
   ]
  },
  {
   "cell_type": "code",
   "execution_count": 14,
   "metadata": {
    "collapsed": false
   },
   "outputs": [
    {
     "name": "stdout",
     "output_type": "stream",
     "text": [
      "21 times the digit 4 was incorrectly classified as 9\n",
      "11 times the digit 5 was incorrectly classified as 3\n",
      "9 times the digit 8 was incorrectly classified as 3\n"
     ]
    }
   ],
   "source": [
    "# set diagonal values to 0\n",
    "np.fill_diagonal(cnf_matrix, 0)\n",
    "\n",
    "# find top 3 values\n",
    "flattened = cnf_matrix.ravel()\n",
    "unique = np.unique(flattened)\n",
    "sorted = np.sort(unique)\n",
    "top3 = sorted[-3:]\n",
    "\n",
    "# find where top3 values occur\n",
    "top_misclassified = np.dstack(np.where(cnf_matrix >= np.min(top3)))[0]\n",
    "\n",
    "# print results\n",
    "for pair in top_misclassified:\n",
    "    print(str(cnf_matrix[pair[0],pair[1]]), 'times the digit',\n",
    "          str(pair[0]),'was incorrectly classified as',str(pair[1]))"
   ]
  },
  {
   "cell_type": "markdown",
   "metadata": {},
   "source": [
    "## Question 5: ## \n",
    "Visualizing mistakes: Print two MNIST images from the test data that your classifier misclassified. Write both the true and predicted labels for both of these misclassified digits."
   ]
  },
  {
   "cell_type": "code",
   "execution_count": 15,
   "metadata": {
    "collapsed": false
   },
   "outputs": [
    {
     "name": "stdout",
     "output_type": "stream",
     "text": [
      "\n",
      "image 282 is 7 but was misclassified as 1 :\n"
     ]
    },
    {
     "data": {
      "image/png": "[encoded data removed]",
      "text/plain": [
       "<matplotlib.figure.Figure at 0x1272fdba8>"
      ]
     },
     "metadata": {},
     "output_type": "display_data"
    },
    {
     "name": "stdout",
     "output_type": "stream",
     "text": [
      "\n",
      "image 939 is 2 but was misclassified as 0 :\n"
     ]
    },
    {
     "data": {
      "image/png": "[encoded data removed]",
      "text/plain": [
       "<matplotlib.figure.Figure at 0x1273fd710>"
      ]
     },
     "metadata": {},
     "output_type": "display_data"
    }
   ],
   "source": [
    "# find incorrectly classified images\n",
    "misclassified = np.where(test_pred != y_test.values.ravel())[0]\n",
    "\n",
    "# choose 2 random misclassified images\n",
    "misclass_imgs = np.random.choice(misclassified, 2)\n",
    "\n",
    "# loop to print info on misclassified images\n",
    "for img in misclass_imgs:\n",
    "    label = y_test.loc[img].values.ravel()\n",
    "    pred = test_pred[img]\n",
    "    print('\\nimage',str(img),'is',str(label[0]),'but was misclassified as',str(pred),':')\n",
    "    plt.imshow(x_test.loc[img].values.reshape((28,28)),cmap=plt.cm.gray_r);\n",
    "    plt.show()"
   ]
  },
  {
   "cell_type": "markdown",
   "metadata": {},
   "source": [
    "## GMM and LDA\n",
    "Now, we will implement Gaussian Mixture Model and Linear Discriminant Anal- ysis on the breast cancer data (sklearn.datasets.load breast cancer) available in sklean.datasets. Load the data and split it into train-validation-test (40-20-40 split). Don’t shuffle the data, otherwise your results will be different."
   ]
  },
  {
   "cell_type": "code",
   "execution_count": 16,
   "metadata": {
    "collapsed": true
   },
   "outputs": [],
   "source": [
    "from sklearn import datasets\n",
    "from sklearn.mixture import GaussianMixture\n",
    "from sklearn.model_selection import train_test_split"
   ]
  },
  {
   "cell_type": "code",
   "execution_count": 17,
   "metadata": {
    "collapsed": false
   },
   "outputs": [
    {
     "name": "stdout",
     "output_type": "stream",
     "text": [
      "x_train shape: (227, 30)\n",
      "x_val shape: (114, 30)\n",
      "x_test shape: (228, 30)\n"
     ]
    }
   ],
   "source": [
    "# load data\n",
    "breast_cancer = datasets.load_breast_cancer()\n",
    "x = breast_cancer.data\n",
    "y = breast_cancer.target\n",
    "\n",
    "# split data into 40% train, 20% validation, 40% test sets\n",
    "#x_train, x_val, x_test = x[:228], x[229:342], x[343:]\n",
    "#y_train, y_val, y_test = y[:228], y[229:342], y[343:]\n",
    "x_train, x_val, x_test = x[:int(0.4*len(y))], x[int(0.4*len(y)):int(0.6*len(y))], x[int(0.6*len(y)):]\n",
    "y_train, y_val, y_test = y[:int(0.4*len(y))], y[int(0.4*len(y)):int(0.6*len(y))], y[int(0.6*len(y)):]\n",
    "\n",
    "\n",
    "# check shapes\n",
    "print('x_train shape:',x_train.shape)\n",
    "print('x_val shape:',x_val.shape)\n",
    "print('x_test shape:',x_test.shape)"
   ]
  },
  {
   "cell_type": "markdown",
   "metadata": {},
   "source": [
    "## Question 6:\n",
    "Implement Gaussian Mixture model on the data as shown in class. Tune the covariance type parameter on the validation data. Use the selected value to compute the test accuracy. As always, train the model on train+validation data to compute the test accuracy."
   ]
  },
  {
   "cell_type": "code",
   "execution_count": 18,
   "metadata": {
    "collapsed": false
   },
   "outputs": [
    {
     "name": "stdout",
     "output_type": "stream",
     "text": [
      "Validation accuracy for covariance type full = 0.912280701754\n",
      "Validation accuracy for covariance type tied = 0.859649122807\n",
      "Validation accuracy for covariance type diag = 0.947368421053\n",
      "Validation accuracy for covariance type spherical = 0.973684210526\n"
     ]
    }
   ],
   "source": [
    "components = len(np.unique(y_train))\n",
    "\n",
    "for cov in ['full', 'tied', 'diag', 'spherical']:\n",
    "\n",
    "    clf = GaussianMixture(n_components=components, covariance_type=cov, random_state=2)\n",
    "    clf.means_init = np.array([x_train[y_train == i].mean(axis=0)\n",
    "                                for i in range(components)])\n",
    "    clf.fit(x_train, y_train)\n",
    "    pred = clf.predict(x_val)\n",
    "    print ('Validation accuracy for covariance type '+ cov + ' = ' + str(accuracy_score(y_val, pred)))"
   ]
  },
  {
   "cell_type": "code",
   "execution_count": 19,
   "metadata": {
    "collapsed": false
   },
   "outputs": [
    {
     "name": "stdout",
     "output_type": "stream",
     "text": [
      "Test accuracy = 0.938596491228\n"
     ]
    }
   ],
   "source": [
    "# Best for spherical\n",
    "\n",
    "x_train = np.concatenate((x_train, x_val))\n",
    "y_train = np.concatenate((y_train, y_val))\n",
    "\n",
    "clf = GaussianMixture(n_components=components, covariance_type='spherical', random_state=2)\n",
    "clf.means_init = np.array([x_train[y_train == i].mean(axis=0)\n",
    "                                for i in range(components)])\n",
    "clf.fit(x_train, y_train)\n",
    "pred = clf.predict(x_test)\n",
    "print ('Test accuracy = ' + str(accuracy_score(y_test, pred)))"
   ]
  },
  {
   "cell_type": "markdown",
   "metadata": {},
   "source": [
    "## Question 7:\n",
    "Apply Linear Discriminant Analysis model on the train+validation data and report the accuracy obtained on test data. Report the transformation matrix (w) along with the intercept."
   ]
  },
  {
   "cell_type": "code",
   "execution_count": 20,
   "metadata": {
    "collapsed": false
   },
   "outputs": [
    {
     "name": "stdout",
     "output_type": "stream",
     "text": [
      "Training accuracy = 0.961876832845\n",
      "Test accuracy = 0.973684210526\n"
     ]
    }
   ],
   "source": [
    "from sklearn.discriminant_analysis import LinearDiscriminantAnalysis\n",
    "\n",
    "# Intialize\n",
    "lda = LinearDiscriminantAnalysis(store_covariance=True)\n",
    "\n",
    "# Train\n",
    "lda.fit(x_train, y_train)\n",
    "\n",
    "# Test\n",
    "y_test_pred = lda.predict(x_test)\n",
    "y_train_pred = lda.predict(x_train)\n",
    "\n",
    "# print the accuracy\n",
    "print ('Training accuracy = ' + str(np.sum(y_train_pred == y_train)/len(y_train)))\n",
    "print ('Test accuracy = ' + str(np.sum(y_test_pred == y_test)/len(y_test)))"
   ]
  },
  {
   "cell_type": "code",
   "execution_count": 21,
   "metadata": {
    "collapsed": false
   },
   "outputs": [
    {
     "name": "stdout",
     "output_type": "stream",
     "text": [
      "coefficients:\n",
      " [  5.33168485e+00  -2.12956799e-01  -6.01033070e-01  -8.89253348e-03\n",
      "  -5.44754548e+01   7.43535846e+01  -4.97920818e+00  -3.41702295e+01\n",
      "   1.73163730e+01  -4.44714556e+01  -8.41409536e+00  -2.52828683e-01\n",
      "   5.78531220e-01   1.05895668e-02  -2.80550309e+02  -2.62778874e+00\n",
      "   4.25991726e+01  -1.67347238e+02   1.26610355e+01   2.01114643e+02\n",
      "  -3.54374333e+00  -7.21909964e-02  -5.53734899e-02   2.39371964e-02\n",
      "   1.38875560e+01   1.03981200e+00  -6.05644948e+00  -1.47646877e+01\n",
      "  -1.62743163e+01  -8.04669707e+01]\n"
     ]
    }
   ],
   "source": [
    "print('coefficients:\\n', lda.coef_[0])"
   ]
  },
  {
   "cell_type": "code",
   "execution_count": 22,
   "metadata": {
    "collapsed": false
   },
   "outputs": [
    {
     "name": "stdout",
     "output_type": "stream",
     "text": [
      "intercept:\n",
      " [ 50.95842876]\n"
     ]
    }
   ],
   "source": [
    "print('intercept:\\n',lda.intercept_)"
   ]
  },
  {
   "cell_type": "markdown",
   "metadata": {},
   "source": [
    "# 4 Evaluating Classifiers"
   ]
  },
  {
   "cell_type": "markdown",
   "metadata": {},
   "source": [
    "## Question 8:\n",
    "Load the digits dataset (scikit-learn’s toy dataset) and take the last 1300 samples as your test set. Train a K-Nearest Neighbor (k=5, linf distance) model and then without using any scikit-learn method, report the final values for Specificity, Sensitivity, TPR, TNR, FNR, FPR, Precision and Recall for Digit 3 (this digit is a positive, everything else is a negative)."
   ]
  },
  {
   "cell_type": "code",
   "execution_count": 23,
   "metadata": {
    "collapsed": false
   },
   "outputs": [
    {
     "name": "stdout",
     "output_type": "stream",
     "text": [
      "x_train shape: (497, 64)\n",
      "x_test shape: (1300, 64)\n",
      "y_train shape: (497,)\n",
      "y_test shape: (1300,)\n"
     ]
    }
   ],
   "source": [
    "# load data\n",
    "digits = datasets.load_digits()\n",
    "x = digits.data\n",
    "y = digits.target\n",
    "\n",
    "# split off last 1300 samples as test set\n",
    "x_train, x_test = x[:-1300], x[-1300:]\n",
    "y_train, y_test = y[:-1300], y[-1300:]\n",
    "\n",
    "# check shapes\n",
    "print('x_train shape:',x_train.shape)\n",
    "print('x_test shape:',x_test.shape)\n",
    "\n",
    "print('y_train shape:',y_train.shape)\n",
    "print('y_test shape:',y_test.shape)"
   ]
  },
  {
   "cell_type": "code",
   "execution_count": 24,
   "metadata": {
    "collapsed": false
   },
   "outputs": [],
   "source": [
    "from sklearn.neighbors import KNeighborsClassifier\n",
    "\n",
    "# initialize model\n",
    "knn = KNeighborsClassifier(n_neighbors=5, metric='chebyshev')\n",
    "\n",
    "# fit training data\n",
    "knn.fit(x_train, y_train)\n",
    "\n",
    "# predict\n",
    "train_pred = knn.predict(x_train)\n",
    "test_pred = knn.predict(x_test)"
   ]
  },
  {
   "cell_type": "code",
   "execution_count": 25,
   "metadata": {
    "collapsed": false
   },
   "outputs": [],
   "source": [
    "# find which test set indices were predicted and true 3 values\n",
    "pred_3 = np.where(test_pred == 3)[0]\n",
    "true_3 = np.where(y_test == 3)[0]"
   ]
  },
  {
   "cell_type": "code",
   "execution_count": 26,
   "metadata": {
    "collapsed": false
   },
   "outputs": [
    {
     "name": "stdout",
     "output_type": "stream",
     "text": [
      "TP: 113\n",
      "TN: 1157\n",
      "FP: 13\n",
      "FN: 17\n"
     ]
    }
   ],
   "source": [
    "# calculate TP, FP, TN, FN\n",
    "TP = len([x for x in true_3 if x in pred_3])\n",
    "FN = len([x for x in true_3 if x not in pred_3])\n",
    "FP = len([x for x in pred_3 if x not in true_3])\n",
    "TN = 1300 - TP - FN - FP\n",
    "\n",
    "print('TP:',TP)\n",
    "print('TN:',TN)\n",
    "print('FP:',FP)\n",
    "print('FN:',FN)"
   ]
  },
  {
   "cell_type": "code",
   "execution_count": 27,
   "metadata": {
    "collapsed": false
   },
   "outputs": [
    {
     "name": "stdout",
     "output_type": "stream",
     "text": [
      "TPR = sensitivity = recall = TP / (TP + FN) = 0.869\n",
      "TNR = specificity = TN / (FP + TN) = 0.989\n",
      "FPR = 1 - specificity = FP / (FP + TN) = 0.011\n",
      "FNR = 1 - sensitivity = FN / (FN + TP) = 0.131\n",
      "precision = TP / (TP + FP) = 0.897\n",
      "\n",
      "Note:\n",
      "sensitivity = recall = TPR \n",
      "specificity = TNR\n",
      "FPR = 1 - specificity\n",
      "FNR = 1 - sensitivity\n"
     ]
    }
   ],
   "source": [
    "# calculate Specificity, Sensitivity, TPR, TNR, FNR, FPR, Precision and Recall\n",
    "sensitivity = TP / (TP + FN)\n",
    "specificity = TN / (FP + TN)\n",
    "TPR = TP / (TP + FN) # same as sensitivity and recall\n",
    "TNR = TN / (FP + TN) # same as specificity\n",
    "FPR = FP / (FP + TN) # 1 - specificity\n",
    "FNR = FN / (FN + TP) # 1 - FPR\n",
    "recall = TP / (TP + FN) # same as TPR and sensitivity\n",
    "precision = TP / (TP + FP)\n",
    "\n",
    "print('TPR = sensitivity = recall = TP / (TP + FN) = %.3f' % TPR)\n",
    "print('TNR = specificity = TN / (FP + TN) = %.3f' % TNR)\n",
    "print('FPR = 1 - specificity = FP / (FP + TN) = %.3f' % FPR)\n",
    "print('FNR = 1 - sensitivity = FN / (FN + TP) = %.3f' % FNR)\n",
    "print('precision = TP / (TP + FP) = %.3f' % precision)\n",
    "\n",
    "print('\\nNote:')\n",
    "print('sensitivity = recall = TPR ')\n",
    "print('specificity = TNR')\n",
    "print('FPR = 1 - specificity')\n",
    "print('FNR = 1 - sensitivity')"
   ]
  },
  {
   "cell_type": "markdown",
   "metadata": {},
   "source": [
    "# 5 Regression\n",
    "An ablation experiment consists of removing one feature from an experiment, in order to assess the amount of additional information that feature provides above and beyond the others. For this section, we will use the diabetes dataset from scikit-learn’s toy datasets. Split the data into training and testing data as a 90-10 split with random state of 10."
   ]
  },
  {
   "cell_type": "code",
   "execution_count": 28,
   "metadata": {
    "collapsed": true
   },
   "outputs": [],
   "source": [
    "# load data\n",
    "diabetes = datasets.load_diabetes()\n",
    "x = diabetes.data\n",
    "y = diabetes.target\n",
    "\n",
    "# add ones column\n",
    "x = np.c_[x, np.ones(len(x))]\n",
    "\n",
    "# training test split\n",
    "x_train, x_test, y_train, y_test = train_test_split(x, y, test_size=0.1, random_state=10)"
   ]
  },
  {
   "cell_type": "markdown",
   "metadata": {},
   "source": [
    "## Question 9:\n",
    "Perform least squares regression on this dataset. Report the mean squared error and the mean absolute error on the test data."
   ]
  },
  {
   "cell_type": "code",
   "execution_count": 29,
   "metadata": {
    "collapsed": true
   },
   "outputs": [],
   "source": [
    "# Least squares regression\n",
    "theta,residuals,rank,s = np.linalg.lstsq(x_train, y_train)"
   ]
  },
  {
   "cell_type": "code",
   "execution_count": 30,
   "metadata": {
    "collapsed": true
   },
   "outputs": [],
   "source": [
    "# Make predictions on the test data\n",
    "predictions = np.dot(x_test, theta)\n",
    "\n",
    "# Let's see the output on training data as well, to see the training error\n",
    "y_true_pred = np.dot(x_train, theta)"
   ]
  },
  {
   "cell_type": "code",
   "execution_count": 31,
   "metadata": {
    "collapsed": false
   },
   "outputs": [
    {
     "name": "stdout",
     "output_type": "stream",
     "text": [
      "MSE test = 2155.96465\n",
      "MAE test = 36.31813\n"
     ]
    }
   ],
   "source": [
    "# MSE and MAE calculation\n",
    "from sklearn.metrics import mean_squared_error\n",
    "from sklearn.metrics import mean_absolute_error\n",
    "\n",
    "print ('MSE test = %.5f' % mean_squared_error(y_test, predictions))\n",
    "print ('MAE test = %.5f' % mean_absolute_error(y_test, predictions))"
   ]
  },
  {
   "cell_type": "markdown",
   "metadata": {},
   "source": [
    "## Question 10:\n",
    "Repeat the experiment from Question 10 for all possible values of ablation (i.e., removing the feature 1 only, then removing the feature 2 only, and so on). Report all MSEs."
   ]
  },
  {
   "cell_type": "code",
   "execution_count": 32,
   "metadata": {
    "collapsed": false
   },
   "outputs": [
    {
     "name": "stdout",
     "output_type": "stream",
     "text": [
      "MSE for model without feature 0 = 2152.80664\n",
      "MSE for model without feature 1 = 2259.13308\n",
      "MSE for model without feature 2 = 2783.51448\n",
      "MSE for model without feature 3 = 2424.77235\n",
      "MSE for model without feature 4 = 2187.59952\n",
      "MSE for model without feature 5 = 2167.51761\n",
      "MSE for model without feature 6 = 2159.15148\n",
      "MSE for model without feature 7 = 2153.06317\n",
      "MSE for model without feature 8 = 2335.17338\n",
      "MSE for model without feature 9 = 2165.86619\n"
     ]
    }
   ],
   "source": [
    "MSEs = []\n",
    "\n",
    "for i in range(x_train.shape[1]-1):\n",
    "    # delete i_th column\n",
    "    x_train_i = np.delete(x_train,i,1)\n",
    "    x_test_i = np.delete(x_test,i,1)\n",
    "    \n",
    "    # create regression model\n",
    "    theta,residuals,rank,s = np.linalg.lstsq(x_train_i, y_train)\n",
    "    \n",
    "    # make predictions on test data\n",
    "    pred_i = np.dot(x_test_i, theta)\n",
    "    MSE_i = mean_squared_error(y_test, pred_i)\n",
    "    MSEs.append(MSE_i)\n",
    "    \n",
    "    # print results\n",
    "    print('MSE for model without feature %i = %.5f' % (i, MSE_i))"
   ]
  },
  {
   "cell_type": "markdown",
   "metadata": {},
   "source": [
    "## Question 11:\n",
    "Based on the MSE values obtained from Question 11, which features do you deem the most/least significant and why?"
   ]
  },
  {
   "cell_type": "markdown",
   "metadata": {},
   "source": [
    "Removal of significant features should result in a worse model, with a higher MSE.  So the most significant features are those that result in the highest MSE when removed.  Conversely, the least significant features should be those that, when removed, result in the lowest MSE."
   ]
  },
  {
   "cell_type": "code",
   "execution_count": 33,
   "metadata": {
    "collapsed": false,
    "scrolled": true
   },
   "outputs": [
    {
     "name": "stdout",
     "output_type": "stream",
     "text": [
      "5 Most Significant Features: [2 3 8 1 4]\n",
      "MSE for model without feature 2 = 2783.51448185\n",
      "MSE for model without feature 3 = 2424.772348\n",
      "MSE for model without feature 8 = 2335.17338461\n",
      "MSE for model without feature 1 = 2259.13307937\n",
      "MSE for model without feature 4 = 2187.59951938\n",
      "\n",
      "5 Least Significant Features: [0 7 6 9 5]\n",
      "MSE for model without feature 0 = 2152.80664218\n",
      "MSE for model without feature 7 = 2153.06317113\n",
      "MSE for model without feature 6 = 2159.15148251\n",
      "MSE for model without feature 9 = 2165.86619219\n",
      "MSE for model without feature 5 = 2167.51760615\n"
     ]
    }
   ],
   "source": [
    "# get top 5 most and least significant features\n",
    "top5_features = np.argsort(MSEs)[::-1][:5]\n",
    "bottom5_features = np.argsort(MSEs)[:5]\n",
    "\n",
    "print('5 Most Significant Features:',top5_features)\n",
    "for f in top5_features:\n",
    "    print('MSE for model without feature',str(f),'=',str(MSEs[f]))\n",
    "    \n",
    "print('\\n5 Least Significant Features:',bottom5_features)\n",
    "for f in bottom5_features:\n",
    "    print('MSE for model without feature',str(f),'=',str(MSEs[f]))"
   ]
  }
 ],
 "metadata": {
  "kernelspec": {
   "display_name": "Python 3",
   "language": "python",
   "name": "python3"
  },
  "language_info": {
   "codemirror_mode": {
    "name": "ipython",
    "version": 3
   },
   "file_extension": ".py",
   "mimetype": "text/x-python",
   "name": "python",
   "nbconvert_exporter": "python",
   "pygments_lexer": "ipython3",
   "version": "3.6.0"
  }
 },
 "nbformat": 4,
 "nbformat_minor": 2
}
