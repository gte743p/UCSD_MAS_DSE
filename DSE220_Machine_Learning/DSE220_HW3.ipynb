{
 "cells": [
  {
   "cell_type": "markdown",
   "metadata": {},
   "source": [
    "# DSE220 - Homework 3"
   ]
  },
  {
   "cell_type": "markdown",
   "metadata": {},
   "source": [
    "# Answers Section\n",
    "##### See below for corresponding code\n",
    "__*Question 1:*__  Perform a 80-20 split using train test split on the data to obtain the train and the test data (random state=3). Use Logistic Regression to classify the wines according to their cultivators. Tune parameters ’penalty’ and ’C’ using GridSearchCV implementation. Report the accuracy on test data.\n",
    "<pre>\n",
    "test data accuracy = 0.888888888889\n",
    "\n",
    "best parameters:\n",
    " {'C': 1, 'penalty': 'l1'}\n",
    "\n",
    "other parameter combinations with same accuracy:\n",
    "4     {'C': 1, 'penalty': 'l1'}\n",
    "6     {'C': 2, 'penalty': 'l1'}\n",
    "7     {'C': 2, 'penalty': 'l2'}\n",
    "8     {'C': 3, 'penalty': 'l1'}\n",
    "10    {'C': 4, 'penalty': 'l1'}\n",
    "13    {'C': 5, 'penalty': 'l2'}\n",
    "Name: params, dtype: object\n",
    "</pre>\n",
    "\n",
    "__*Question 2:*__ After obtaining the tf-idf vectors for train and test data, use the perceptron model (no penalty) to train on the training vectors and compute the accuracy on the test vectors.\n",
    "<pre>\n",
    "Test accuracy = 0.769282814614\n",
    "</pre>\n",
    "\n",
    "__*Question 3:*__ Keeping all the above data processing steps same observe how the test accuracy changes by varying the number of top features selected for 100, 200, 500, 1000, 1500, 2000, 3000 for a perceptron model. Report and plot the results.\n",
    "<pre>\n",
    "Perceptron accuracy results:\n",
    "accuracy for 100 features = 0.604194857916\n",
    "accuracy for 200 features = 0.665087956698\n",
    "accuracy for 500 features = 0.723951285521\n",
    "accuracy for 1000 features = 0.72801082544\n",
    "accuracy for 1500 features = 0.751691474966\n",
    "accuracy for 2000 features = 0.769282814614\n",
    "accuracy for 3000 features = 0.768606224628\n",
    "\n",
    "(See code below for plot of accuracy results.)\n",
    "</pre>\n",
    "\n",
    "__*Question 4:*__ After obtaining the tf-idf vectors for train and test data, use the SVM model to train on the training vectors and compute the accuracy on the test vectors. Use linear kernel and default parameters.\n",
    "<pre>\n",
    "Test accuracy = 0.78552097429\n",
    "</pre>\n",
    "\n",
    "__*Question 5:*__ Keeping all the above data processing steps same observe how the test accuracy changes by varying the number of top features selected for 100, 200, 500, 1000, 1500, 2000, 3000 for a linear SVM model. Report and plot the results.\n",
    "<pre>\n",
    "SVM (linear kernel) accuracy results:\n",
    "accuracy for 100 features = 0.652232746955\n",
    "accuracy for 200 features = 0.692151556157\n",
    "accuracy for 500 features = 0.742219215156\n",
    "accuracy for 1000 features = 0.766576454668\n",
    "accuracy for 1500 features = 0.776725304465\n",
    "accuracy for 2000 features = 0.78552097429\n",
    "accuracy for 3000 features = 0.808525033829\n",
    "\n",
    "(See code below for plot of accuracy results.)\n",
    "</pre>\n",
    "\n",
    "__*Question 6:*__ Perform 80-20 split of the training data to obtain validation data using train test split (random state=10). Use this validation data to tune the cost parameter ’C’ for values 0.01,0.1,1,10,100. Select the best value compute the accuracy for the test data. Report the validation and test accuracies.\n",
    "<pre>\n",
    "best C is 1\n",
    "validation accuracy for best C is 0.820224719101\n",
    "test data accuracy = 0.792286874154\n",
    "</pre>\n",
    "\n",
    "__*Question 7:*__ Train a kernelized SVM (with ’C’=10000) with kernel values - ’poly’ with degree 1, 2, 3, ’rbf’ and ’sigmoid’, and report the one with best accuracy on validation data. Also report the test accuracy for the selected kernel.\n",
    "<pre>\n",
    "best validation accuracy is 0.784269662921 for rbf kernel\n",
    "test data accuracy = 0.769959404601\n",
    "</pre>\n",
    "\n",
    "__*Question 8:*__ Use Cosine Similarity and Laplacian Kernel $(e^{-\\lvert\\lvert x−y \\lvert\\lvert_1})$ measures, and report the test accuracies using these kernels with SVM.\n",
    "<pre>\n",
    "accuracy of SVM with cosine similarity kernel on test data = 0.78552097429\n",
    "accuracy of SVM with laplacian kernel on test data = 0.266576454668\n",
    "</pre>\n",
    "\n",
    "__*Question 9:*__ Another way to construct a kernel is use a linear combination of 2 kernels. Let K be a kernel represented as:\n",
    "\n",
    "$\n",
    "\\ \\ \\ \\ \\ \\ \\ \\ K(x, y) = \\alpha K_1(x, y) + (1 − \\alpha) K_2(x, y),\\ (0 \\leq \\alpha \\leq 1)\n",
    "$\n",
    "\n",
    "Why is K a valid kernel? Does your reasoning hold true for other values of α as well? Let K1 be the ’cosine similarity’ and K2 be ’Laplacian Kernel’. Using K as kernel, train a SVM model to tune the value of α (upto one decimal) and report the accuracy on the test data using the selected parameter.\n",
    "\n",
    "If $K_1$ and $K_2$ are valid kernels, then the associated matrices are positive semi-definite.  If the matrices associated with $K_1$ and $K_2$ are $A_1$ and $A_2$, respectively, then the matrix associated with $K$ is $\\alpha A_1 + (1-\\alpha) A_2$, which is also positive semi-definite, so K is also a valid kernel.  This may not necessarily be the case if $\\alpha$ does not satisfy $0 \\leq \\alpha \\leq 1$.\n",
    "<pre>\n",
    "accuracy of SVM with custom kernel with alpha = 0.0 on test data = 0.266576454668\n",
    "accuracy of SVM with custom kernel with alpha = 0.1 on test data = 0.759810554804\n",
    "accuracy of SVM with custom kernel with alpha = 0.2 on test data = 0.786197564276\n",
    "accuracy of SVM with custom kernel with alpha = 0.3 on test data = 0.792286874154\n",
    "accuracy of SVM with custom kernel with alpha = 0.4 on test data = 0.792286874154\n",
    "accuracy of SVM with custom kernel with alpha = 0.5 on test data = 0.799729364005\n",
    "accuracy of SVM with custom kernel with alpha = 0.6 on test data = 0.797699594046\n",
    "accuracy of SVM with custom kernel with alpha = 0.7 on test data = 0.793640054127\n",
    "accuracy of SVM with custom kernel with alpha = 0.8 on test data = 0.792286874154\n",
    "accuracy of SVM with custom kernel with alpha = 0.9 on test data = 0.787550744249\n",
    "accuracy of SVM with custom kernel with alpha = 1.0 on test data = 0.78552097429\n",
    "</pre>"
   ]
  },
  {
   "cell_type": "markdown",
   "metadata": {},
   "source": [
    "# Code Section"
   ]
  },
  {
   "cell_type": "markdown",
   "metadata": {},
   "source": [
    "__*Question 1:*__  Perform a 80-20 split using train test split on the data to obtain the train and the test data (random state=3). Use Logistic Regression to classify the wines according to their cultivators. Tune parameters ’penalty’ and ’C’ using GridSearchCV implementation. Report the accuracy on test data."
   ]
  },
  {
   "cell_type": "code",
   "execution_count": 1,
   "metadata": {
    "collapsed": true
   },
   "outputs": [],
   "source": [
    "import pandas as pd\n",
    "import numpy as np\n",
    "from sklearn.model_selection import train_test_split\n",
    "from sklearn.model_selection import GridSearchCV\n",
    "from sklearn.linear_model import LogisticRegression\n",
    "from sklearn.metrics import accuracy_score\n",
    "from sklearn.metrics import f1_score"
   ]
  },
  {
   "cell_type": "code",
   "execution_count": 2,
   "metadata": {
    "collapsed": false
   },
   "outputs": [
    {
     "name": "stdout",
     "output_type": "stream",
     "text": [
      "X_train shape: (142, 13)\n",
      "y_train shape: (142,)\n",
      "X_test shape: (36, 13)\n",
      "y_test shape: (36,)\n"
     ]
    }
   ],
   "source": [
    "# obtain data and split into training and test sets\n",
    "data = pd.read_csv('wine_original.csv')\n",
    "labels = data['class']\n",
    "del data['class']\n",
    "X_train, X_test, y_train, y_test = train_test_split(data, labels, test_size=0.2, random_state=3)\n",
    "\n",
    "# check shapes\n",
    "print('X_train shape:',X_train.shape)\n",
    "print('y_train shape:',y_train.shape)\n",
    "print('X_test shape:',X_test.shape)\n",
    "print('y_test shape:',y_test.shape)"
   ]
  },
  {
   "cell_type": "code",
   "execution_count": 3,
   "metadata": {
    "collapsed": false
   },
   "outputs": [
    {
     "name": "stdout",
     "output_type": "stream",
     "text": [
      "test data accuracy = 0.888888888889\n",
      "\n",
      "best parameters:\n",
      " {'C': 1, 'penalty': 'l1'}\n",
      "\n",
      "other parameter combinations with same accuracy:\n",
      " 4     {'C': 1, 'penalty': 'l1'}\n",
      "6     {'C': 2, 'penalty': 'l1'}\n",
      "7     {'C': 2, 'penalty': 'l2'}\n",
      "8     {'C': 3, 'penalty': 'l1'}\n",
      "10    {'C': 4, 'penalty': 'l1'}\n",
      "13    {'C': 5, 'penalty': 'l2'}\n",
      "Name: params, dtype: object\n"
     ]
    }
   ],
   "source": [
    "# set parameters for gridsearch cross validation\n",
    "parameters = {'penalty': ['l1','l2'], \n",
    "              'C': [0.1, 0.5, 1, 2, 3, 4, 5, 10]}\n",
    "\n",
    "# create classifier\n",
    "logreg = LogisticRegression()\n",
    "clf_logreg = GridSearchCV(logreg, parameters, n_jobs=-1)\n",
    "\n",
    "# fit combined training data\n",
    "clf_logreg.fit(X_train, y_train)\n",
    "\n",
    "# predict test data\n",
    "y_pred = clf_logreg.predict(X_test)\n",
    "\n",
    "# check accuracy on test data\n",
    "print('test data accuracy =', accuracy_score(y_pred, y_test))\n",
    "\n",
    "# print best parameters\n",
    "print('\\nbest parameters:\\n', clf_logreg.best_params_)\n",
    "\n",
    "# print all parameter combinations with same accuracy\n",
    "results = pd.DataFrame(clf_logreg.cv_results_)\n",
    "print('\\nother parameter combinations with same accuracy:\\n',results.loc[results['rank_test_score']==1,'params'])"
   ]
  },
  {
   "cell_type": "markdown",
   "metadata": {},
   "source": [
    "## Perceptron and Support Vector Machines\n",
    "### Data:\n",
    "\n",
    "In this section, we will work on the text data. Download the newsgroups data (train and test) using fetch 20newsgroups for categories: ’alt.atheism’, ’comp.graphics’, ’sci.space’ and ’talk.politics.mideast’ after removing ’headers’, ’footers’ and ’quotes’ from the data. Convert all the words in the text to lower case. A common practice is to remove the stopwords like a, and, the etc. from the text. Use nltk to get the stopwords list (nltk.corpus.stopwords) and remove the stopwords from the text. Use TfidfVectorizer to obtain the tfidf vectors (after smoothing) for the train and test data and select only top 2000 features (words). You can also perform the above stated actions (lowercase and stop- words) using the TfidfVectorizer. Note: You’ll fit the tf-idf vectors on the train data and use the same to transform the test data.\n",
    "\n",
    "Note: Smoothing the text data is same as computing the idf values after adding a document with all words in the vocabulary."
   ]
  },
  {
   "cell_type": "code",
   "execution_count": 4,
   "metadata": {
    "collapsed": false
   },
   "outputs": [
    {
     "name": "stdout",
     "output_type": "stream",
     "text": [
      "2221\n",
      "1478\n"
     ]
    }
   ],
   "source": [
    "from sklearn.datasets import fetch_20newsgroups\n",
    "\n",
    "# download data\n",
    "cats = ['alt.atheism','comp.graphics','sci.space','talk.politics.mideast']\n",
    "\n",
    "train = fetch_20newsgroups(subset='train',\n",
    "                          categories=cats,\n",
    "                          random_state=5,\n",
    "                          remove=('headers','footers','quotes'))\n",
    "\n",
    "test = fetch_20newsgroups(subset='test',\n",
    "                          categories=cats,\n",
    "                          random_state=5,\n",
    "                          remove=('headers','footers','quotes'))\n",
    "\n",
    "print(len(train.data))\n",
    "print(len(test.data))"
   ]
  },
  {
   "cell_type": "code",
   "execution_count": 5,
   "metadata": {
    "collapsed": false
   },
   "outputs": [
    {
     "name": "stdout",
     "output_type": "stream",
     "text": [
      "(2221, 2000)\n",
      "(2221,)\n",
      "(1478, 2000)\n",
      "(1478,)\n"
     ]
    }
   ],
   "source": [
    "# using TfidfVectorizer\n",
    "from sklearn.feature_extraction.text import TfidfVectorizer\n",
    "from nltk.corpus import stopwords\n",
    "\n",
    "# set list of stopwords to remove\n",
    "stop = set(stopwords.words('english'))\n",
    "\n",
    "# create vectorizer\n",
    "vectorizer = TfidfVectorizer(stop_words=stop,#'english', \n",
    "                             lowercase=True,\n",
    "                             max_features=2000,\n",
    "                             smooth_idf=True)\n",
    "\n",
    "# fit vectorizer and transform train data\n",
    "X_train = vectorizer.fit_transform(train.data)\n",
    "\n",
    "# transform test data\n",
    "X_test = vectorizer.transform(test.data)\n",
    "\n",
    "# extract labels as y values\n",
    "y_train = train.target\n",
    "y_test = test.target\n",
    "\n",
    "# check shapes\n",
    "print(X_train.shape)\n",
    "print(y_train.shape)\n",
    "print(X_test.shape)\n",
    "print(y_test.shape)"
   ]
  },
  {
   "cell_type": "markdown",
   "metadata": {},
   "source": [
    "__*Question 2:*__ After obtaining the tf-idf vectors for train and test data, use the perceptron model (no penalty) to train on the training vectors and compute the accuracy on the test vectors."
   ]
  },
  {
   "cell_type": "code",
   "execution_count": 6,
   "metadata": {
    "collapsed": false
   },
   "outputs": [
    {
     "name": "stdout",
     "output_type": "stream",
     "text": [
      "Test accuracy = 0.769282814614\n",
      "Test f1 score = 0.766451872222\n"
     ]
    }
   ],
   "source": [
    "from sklearn.linear_model import Perceptron\n",
    "\n",
    "# Model\n",
    "clf_perc = Perceptron()\n",
    "\n",
    "# fit\n",
    "clf_perc.fit(X_train, y_train)\n",
    "\n",
    "# predict\n",
    "pred = clf_perc.predict(X_test)\n",
    "\n",
    "#evaluate\n",
    "print ('Test accuracy = ' + str(accuracy_score(y_test, pred)))\n",
    "print ('Test f1 score = ' + str(f1_score(y_test, pred, average='macro')))"
   ]
  },
  {
   "cell_type": "markdown",
   "metadata": {},
   "source": [
    "__*Question 3:*__ Keeping all the above data processing steps same observe how the test accuracy changes by varying the number of top features selected for 100, 200, 500, 1000, 1500, 2000, 3000 for a perceptron model. Report and plot the results."
   ]
  },
  {
   "cell_type": "code",
   "execution_count": 7,
   "metadata": {
    "collapsed": false
   },
   "outputs": [
    {
     "name": "stdout",
     "output_type": "stream",
     "text": [
      "Perceptron accuracy results:\n",
      "accuracy for 100 features = 0.604194857916\n",
      "accuracy for 200 features = 0.665087956698\n",
      "accuracy for 500 features = 0.723951285521\n",
      "accuracy for 1000 features = 0.72801082544\n",
      "accuracy for 1500 features = 0.751691474966\n",
      "accuracy for 2000 features = 0.769282814614\n",
      "accuracy for 3000 features = 0.768606224628\n"
     ]
    }
   ],
   "source": [
    "num_features_list = [100,200,500,1000,1500,2000,3000]\n",
    "accuracy_results = []\n",
    "\n",
    "print('Perceptron accuracy results:')\n",
    "for num_features in num_features_list:\n",
    "    # create vectorizer\n",
    "    vectorizer = TfidfVectorizer(stop_words=stop,#'english', \n",
    "                                 lowercase=True,\n",
    "                                 max_features=num_features,\n",
    "                                 smooth_idf=True)\n",
    "\n",
    "    # fit vectorizer and transform train data\n",
    "    X_train = vectorizer.fit_transform(train.data)\n",
    "\n",
    "    # transform test data\n",
    "    X_test = vectorizer.transform(test.data)\n",
    "\n",
    "    # Model\n",
    "    clf_perc = Perceptron()\n",
    "\n",
    "    # fit\n",
    "    clf_perc.fit(X_train, y_train)\n",
    "\n",
    "    # predict\n",
    "    pred = clf_perc.predict(X_test)\n",
    "\n",
    "    # append accuracy score\n",
    "    acc = accuracy_score(y_test, pred)\n",
    "    accuracy_results.append(acc)\n",
    "    \n",
    "    print('accuracy for',str(num_features),'features =',str(acc))"
   ]
  },
  {
   "cell_type": "code",
   "execution_count": 8,
   "metadata": {
    "collapsed": false
   },
   "outputs": [
    {
     "data": {
      "image/png": "[encoded data removed]",
      "text/plain": [
       "<matplotlib.figure.Figure at 0x116804940>"
      ]
     },
     "metadata": {},
     "output_type": "display_data"
    }
   ],
   "source": [
    "import matplotlib.pyplot as plt\n",
    "%matplotlib inline\n",
    "\n",
    "plt.plot(num_features_list,accuracy_results)\n",
    "plt.title('Perceptron Accuracy by Number of Features')\n",
    "plt.xlabel('Number of Features (Words)')\n",
    "plt.ylabel('Test Accuracy')\n",
    "plt.xticks(num_features_list, rotation=45)\n",
    "plt.show();"
   ]
  },
  {
   "cell_type": "markdown",
   "metadata": {},
   "source": [
    "__*Question 4:*__ After obtaining the tf-idf vectors for train and test data, use the SVM model to train on the training vectors and compute the accuracy on the test vectors. Use linear kernel and default parameters."
   ]
  },
  {
   "cell_type": "code",
   "execution_count": 9,
   "metadata": {
    "collapsed": false
   },
   "outputs": [
    {
     "name": "stdout",
     "output_type": "stream",
     "text": [
      "check shapes:\n",
      "X_train shape: (2221, 2000)\n",
      "y_train shape: (2221,)\n",
      "X_test shape: (1478, 2000)\n",
      "y_test shape: (1478,)\n"
     ]
    }
   ],
   "source": [
    "# remake train and test data with 2000 features\n",
    "\n",
    "# create vectorizer\n",
    "vectorizer = TfidfVectorizer(stop_words=stop,#'english', \n",
    "                             lowercase=True,\n",
    "                             max_features=2000,\n",
    "                             smooth_idf=True)\n",
    "\n",
    "# fit vectorizer and transform train data\n",
    "X_train = vectorizer.fit_transform(train.data)\n",
    "\n",
    "# transform test data\n",
    "X_test = vectorizer.transform(test.data)\n",
    "\n",
    "# extract labels as y values\n",
    "y_train = train.target\n",
    "y_test = test.target\n",
    "\n",
    "# check shapes\n",
    "print('check shapes:')\n",
    "print('X_train shape:',X_train.shape)\n",
    "print('y_train shape:',y_train.shape)\n",
    "print('X_test shape:',X_test.shape)\n",
    "print('y_test shape:',y_test.shape)"
   ]
  },
  {
   "cell_type": "code",
   "execution_count": 10,
   "metadata": {
    "collapsed": false
   },
   "outputs": [
    {
     "name": "stdout",
     "output_type": "stream",
     "text": [
      "Test accuracy = 0.78552097429\n"
     ]
    }
   ],
   "source": [
    "from sklearn.svm import SVC\n",
    "\n",
    "# model\n",
    "clf_svm = SVC(kernel='linear')\n",
    "\n",
    "# fit\n",
    "clf_svm.fit(X_train, y_train)\n",
    "\n",
    "# predict\n",
    "pred = clf_svm.predict(X_test)\n",
    "\n",
    "# evaluate accuracy\n",
    "print ('Test accuracy = ' + str(accuracy_score(y_test, pred)))"
   ]
  },
  {
   "cell_type": "markdown",
   "metadata": {},
   "source": [
    "__*Question 5:*__ Keeping all the above data processing steps same observe how the test accuracy changes by varying the number of top features selected for 100, 200, 500, 1000, 1500, 2000, 3000 for a linear SVM model. Report and plot the results."
   ]
  },
  {
   "cell_type": "code",
   "execution_count": 11,
   "metadata": {
    "collapsed": false
   },
   "outputs": [
    {
     "name": "stdout",
     "output_type": "stream",
     "text": [
      "SVM (linear kernel) accuracy results:\n",
      "accuracy for 100 features = 0.652232746955\n",
      "accuracy for 200 features = 0.692151556157\n",
      "accuracy for 500 features = 0.742219215156\n",
      "accuracy for 1000 features = 0.766576454668\n",
      "accuracy for 1500 features = 0.776725304465\n",
      "accuracy for 2000 features = 0.78552097429\n",
      "accuracy for 3000 features = 0.808525033829\n"
     ]
    }
   ],
   "source": [
    "num_features_list = [100,200,500,1000,1500,2000,3000]\n",
    "accuracy_results = []\n",
    "\n",
    "print('SVM (linear kernel) accuracy results:')\n",
    "for num_features in num_features_list:\n",
    "    # create vectorizer\n",
    "    vectorizer = TfidfVectorizer(stop_words=stop,#'english', \n",
    "                                 lowercase=True,\n",
    "                                 max_features=num_features,\n",
    "                                 smooth_idf=True)\n",
    "\n",
    "    # fit vectorizer and transform train data\n",
    "    X_train = vectorizer.fit_transform(train.data)\n",
    "\n",
    "    # transform test data\n",
    "    X_test = vectorizer.transform(test.data)\n",
    "\n",
    "    # Model\n",
    "    clf_svm = SVC(kernel='linear')\n",
    "\n",
    "    # fit\n",
    "    clf_svm.fit(X_train, y_train)\n",
    "\n",
    "    # predict\n",
    "    pred = clf_svm.predict(X_test)\n",
    "\n",
    "    # append accuracy score\n",
    "    acc = accuracy_score(y_test, pred)\n",
    "    accuracy_results.append(acc)\n",
    "    \n",
    "    print('accuracy for',str(num_features),'features =',str(acc))"
   ]
  },
  {
   "cell_type": "code",
   "execution_count": 12,
   "metadata": {
    "collapsed": false
   },
   "outputs": [
    {
     "data": {
      "image/png": "[encoded data removed]",
      "text/plain": [
       "<matplotlib.figure.Figure at 0x116766828>"
      ]
     },
     "metadata": {},
     "output_type": "display_data"
    }
   ],
   "source": [
    "# plot results\n",
    "plt.plot(num_features_list,accuracy_results)\n",
    "plt.title('SVM (linear kernel) Accuracy by Number of Features')\n",
    "plt.xlabel('Number of Features (Words)')\n",
    "plt.ylabel('Test Accuracy')\n",
    "plt.xticks(num_features_list, rotation=45)\n",
    "plt.show();"
   ]
  },
  {
   "cell_type": "markdown",
   "metadata": {},
   "source": [
    "__*Question 6:*__ Perform 80-20 split of the training data to obtain validation data using train test split (random state=10). Use this validation data to tune the cost parameter ’C’ for values 0.01,0.1,1,10,100. Select the best value compute the accuracy for the test data. Report the validation and test accuracies. Note: Use full data of 2000 vectors here."
   ]
  },
  {
   "cell_type": "code",
   "execution_count": 13,
   "metadata": {
    "collapsed": false
   },
   "outputs": [
    {
     "name": "stdout",
     "output_type": "stream",
     "text": [
      "check shapes:\n",
      "X_train shape: (1776, 2000)\n",
      "y_train shape: (1776,)\n",
      "X_val shape: (445, 2000)\n",
      "y_val shape: (445,)\n",
      "X_test shape: (1478, 2000)\n",
      "y_test shape: (1478,)\n"
     ]
    }
   ],
   "source": [
    "# split train data into train and validation data sets\n",
    "X_train, X_val, y_train, y_val = train_test_split(train.data, train.target, train_size=0.8, random_state=10)\n",
    "\n",
    "# revectorize data with 2000 features\n",
    "\n",
    "# create vectorizer\n",
    "vectorizer = TfidfVectorizer(stop_words=stop,#'english', \n",
    "                             lowercase=True,\n",
    "                             max_features=2000,\n",
    "                             smooth_idf=True)\n",
    "\n",
    "# fit vectorizer and transform train data\n",
    "X_train = vectorizer.fit_transform(X_train)\n",
    "\n",
    "# transform validation data\n",
    "X_val = vectorizer.transform(X_val)\n",
    "\n",
    "# transform test data\n",
    "X_test = vectorizer.transform(test.data)\n",
    "\n",
    "# extract labels as y values\n",
    "y_test = test.target\n",
    "\n",
    "# check shapes\n",
    "print('check shapes:')\n",
    "print('X_train shape:',X_train.shape)\n",
    "print('y_train shape:',y_train.shape)\n",
    "print('X_val shape:',X_val.shape)\n",
    "print('y_val shape:',y_val.shape)\n",
    "print('X_test shape:',X_test.shape)\n",
    "print('y_test shape:',y_test.shape)"
   ]
  },
  {
   "cell_type": "code",
   "execution_count": 14,
   "metadata": {
    "collapsed": false
   },
   "outputs": [
    {
     "name": "stdout",
     "output_type": "stream",
     "text": [
      "val accuracy for C = 0.01 is 0.260674157303\n",
      "val accuracy for C = 0.1 is 0.739325842697\n",
      "val accuracy for C = 1 is 0.820224719101\n",
      "val accuracy for C = 10 is 0.784269662921\n",
      "val accuracy for C = 100 is 0.748314606742\n",
      "\n",
      "best C is 1\n",
      "validation accuracy for best C is 0.820224719101\n"
     ]
    }
   ],
   "source": [
    "# determine best C value using validation data\n",
    "accuracies = []\n",
    "best_acc = 0.0\n",
    "best_c = None\n",
    "\n",
    "for cost in [0.01,0.1,1,10,100]:\n",
    "    clf_svm = SVC(kernel='linear',C=cost)\n",
    "    clf_svm.fit(X_train, y_train)\n",
    "    y_pred = clf_svm.predict(X_val)\n",
    "    acc = accuracy_score(y_pred, y_val)\n",
    "    \n",
    "    print('val accuracy for C =',str(cost),'is', str(acc))\n",
    "    accuracies.append(acc)\n",
    "    \n",
    "    if acc > best_acc:\n",
    "        best_c = cost\n",
    "        best_acc = acc\n",
    "\n",
    "print('\\nbest C is',str(best_c))\n",
    "print('validation accuracy for best C is',str(best_acc))"
   ]
  },
  {
   "cell_type": "code",
   "execution_count": 15,
   "metadata": {
    "collapsed": false
   },
   "outputs": [
    {
     "name": "stdout",
     "output_type": "stream",
     "text": [
      "test data accuracy = 0.792286874154\n"
     ]
    }
   ],
   "source": [
    "from scipy import sparse\n",
    "\n",
    "# fit combined train + validation data using best C value\n",
    "clf_svm = SVC(kernel='linear',C=best_c)\n",
    "X_train = sparse.vstack((X_train, X_val))\n",
    "y_train = np.concatenate((y_train, y_val))\n",
    "clf_svm.fit(X_train, y_train)\n",
    "\n",
    "# predict test data\n",
    "y_pred = clf_svm.predict(X_test)\n",
    "\n",
    "# check accuracy on test data\n",
    "print('test data accuracy =', accuracy_score(y_pred, y_test))"
   ]
  },
  {
   "cell_type": "markdown",
   "metadata": {},
   "source": [
    "__*Question 7:*__ Train a kernelized SVM (with ’C’=10000) with kernel values - ’poly’ with degree 1, 2, 3, ’rbf’ and ’sigmoid’, and report the one with best accuracy on validation data. Also report the test accuracy for the selected kernel."
   ]
  },
  {
   "cell_type": "code",
   "execution_count": 16,
   "metadata": {
    "collapsed": true
   },
   "outputs": [],
   "source": [
    "# split train data into train and validation data sets\n",
    "X_train, X_val, y_train, y_val = train_test_split(train.data, train.target, train_size=0.8, random_state=10)\n",
    "\n",
    "# revectorize data with 2000 features\n",
    "\n",
    "# create vectorizer\n",
    "vectorizer = TfidfVectorizer(stop_words=stop,#'english', \n",
    "                             lowercase=True,\n",
    "                             max_features=2000,\n",
    "                             smooth_idf=True)\n",
    "\n",
    "# fit vectorizer and transform train data\n",
    "X_train = vectorizer.fit_transform(X_train)\n",
    "\n",
    "# transform validation data\n",
    "X_val = vectorizer.transform(X_val)\n",
    "\n",
    "# transform test data\n",
    "X_test = vectorizer.transform(test.data)\n",
    "\n",
    "# extract labels as y values\n",
    "y_test = test.target"
   ]
  },
  {
   "cell_type": "code",
   "execution_count": 17,
   "metadata": {
    "collapsed": false
   },
   "outputs": [
    {
     "name": "stdout",
     "output_type": "stream",
     "text": [
      "val accuracy for poly degree 1 = 0.78202247191\n",
      "val accuracy for poly degree 2 = 0.260674157303\n",
      "val accuracy for poly degree 3 = 0.260674157303\n",
      "val accuracy for rbf = 0.784269662921\n",
      "val accuracy for sigmoid = 0.78202247191\n",
      "\n",
      "best validation accuracy is 0.784269662921 for rbf kernel\n"
     ]
    }
   ],
   "source": [
    "# loop through parameters and identify best accuracy on validation data\n",
    "cost = 10000\n",
    "degrees = [1,2,3]\n",
    "kernels = ['poly','rbf','sigmoid']\n",
    "best_acc = 0.0\n",
    "best_params = None\n",
    "\n",
    "for k in kernels:\n",
    "    if k == 'poly':\n",
    "        for d in degrees:\n",
    "            clf_svm = SVC(kernel=k, degree=d, C=cost)\n",
    "            clf_svm.fit(X_train, y_train)\n",
    "            y_pred = clf_svm.predict(X_val)\n",
    "            acc = accuracy_score(y_pred, y_val)\n",
    "            print('val accuracy for poly degree',d,'=',str(acc))\n",
    "            \n",
    "            if acc > best_acc:\n",
    "                best_acc = acc\n",
    "                best_params = str(k) + ' ' + str(d)\n",
    "    else:\n",
    "        clf_svm = SVC(kernel=k, C=cost)\n",
    "        clf_svm.fit(X_train, y_train)\n",
    "        y_pred = clf_svm.predict(X_val)\n",
    "        acc = accuracy_score(y_pred, y_val)\n",
    "        print('val accuracy for',k,'=',str(acc))\n",
    "        \n",
    "        if acc > best_acc:\n",
    "            best_acc = acc\n",
    "            best_params = str(k)\n",
    "            \n",
    "print('\\nbest validation accuracy is',str(best_acc),'for',best_params,'kernel')"
   ]
  },
  {
   "cell_type": "code",
   "execution_count": 18,
   "metadata": {
    "collapsed": false
   },
   "outputs": [
    {
     "name": "stdout",
     "output_type": "stream",
     "text": [
      "test data accuracy = 0.769959404601\n"
     ]
    }
   ],
   "source": [
    "# fit combined train + validation data using best parameters\n",
    "clf_svm = SVC(kernel='rbf',C=cost)\n",
    "X_train = sparse.vstack((X_train, X_val))\n",
    "y_train = np.concatenate((y_train, y_val))\n",
    "clf_svm.fit(X_train, y_train)\n",
    "\n",
    "# predict test data\n",
    "y_pred = clf_svm.predict(X_test)\n",
    "\n",
    "# check accuracy on test data\n",
    "print('test data accuracy =', accuracy_score(y_pred, y_test))"
   ]
  },
  {
   "cell_type": "markdown",
   "metadata": {},
   "source": [
    "__*Question 8:*__ Use Cosine Similarity and Laplacian Kernel $(e^{-\\lvert\\lvert x−y \\lvert\\lvert_1})$ measures, and report the test accuracies using these kernels with SVM."
   ]
  },
  {
   "cell_type": "code",
   "execution_count": 19,
   "metadata": {
    "collapsed": false
   },
   "outputs": [
    {
     "name": "stdout",
     "output_type": "stream",
     "text": [
      "check shapes:\n",
      "X_train shape: (2221, 2000)\n",
      "y_train shape: (2221,)\n",
      "X_test shape: (1478, 2000)\n",
      "y_test shape: (1478,)\n"
     ]
    }
   ],
   "source": [
    "# remake train and test data with 2000 features\n",
    "\n",
    "# create vectorizer\n",
    "vectorizer = TfidfVectorizer(stop_words=stop,#'english', \n",
    "                             lowercase=True,\n",
    "                             max_features=2000,\n",
    "                             smooth_idf=True)\n",
    "\n",
    "# fit vectorizer and transform train data\n",
    "X_train = vectorizer.fit_transform(train.data)\n",
    "\n",
    "# transform test data\n",
    "X_test = vectorizer.transform(test.data)\n",
    "\n",
    "# extract labels as y values\n",
    "y_train = train.target\n",
    "y_test = test.target\n",
    "\n",
    "# check shapes\n",
    "print('check shapes:')\n",
    "print('X_train shape:',X_train.shape)\n",
    "print('y_train shape:',y_train.shape)\n",
    "print('X_test shape:',X_test.shape)\n",
    "print('y_test shape:',y_test.shape)"
   ]
  },
  {
   "cell_type": "code",
   "execution_count": 20,
   "metadata": {
    "collapsed": false
   },
   "outputs": [
    {
     "name": "stdout",
     "output_type": "stream",
     "text": [
      "accuracy of SVM with cosine similarity kernel on test data = 0.78552097429\n",
      "accuracy of SVM with laplacian kernel on test data = 0.266576454668\n"
     ]
    }
   ],
   "source": [
    "from sklearn.metrics.pairwise import cosine_similarity\n",
    "from sklearn.metrics.pairwise import laplacian_kernel\n",
    "\n",
    "# cosine similarity\n",
    "clf_svm = SVC(kernel=cosine_similarity)\n",
    "clf_svm.fit(X_train, y_train)\n",
    "pred = clf_svm.predict(X_test)\n",
    "print('accuracy of SVM with cosine similarity kernel on test data =',str(accuracy_score(y_test,pred)))\n",
    "\n",
    "# laplacian kernel\n",
    "clf_svm = SVC(kernel=laplacian_kernel)\n",
    "clf_svm.fit(X_train, y_train)\n",
    "pred = clf_svm.predict(X_test)\n",
    "print('accuracy of SVM with laplacian kernel on test data =',str(accuracy_score(y_test,pred)))"
   ]
  },
  {
   "cell_type": "markdown",
   "metadata": {},
   "source": [
    "__*Question 9:*__ Another way to construct a kernel is use a linear combination of 2 kernels. Let K be a kernel represented as:\n",
    "\n",
    "$\n",
    "\\ \\ \\ \\ \\ K(x, y) = \\alpha K_1(x, y) + (1 − \\alpha) K_2(x, y),\\ (0 \\leq \\alpha \\leq 1)\n",
    "$\n",
    "\n",
    "Why is K a valid kernel? Does your reasoning hold true for other values of α as well? Let K1 be the ’cosine similarity’ and K2 be ’Laplacian Kernel’. Using K as kernel, train a SVM model to tune the value of α (upto one decimal) and report the accuracy on the test data using the selected parameter."
   ]
  },
  {
   "cell_type": "markdown",
   "metadata": {},
   "source": [
    "If $K_1$ and $K_2$ are valid kernels, then the associated matrices are positive semi-definite.  If the matrices associated with $K_1$ and $K_2$ are $A_1$ and $A_2$, respectively, then the matrix associated with K is $\\alpha A_1 + (1-\\alpha) A_2$, which is also positive semi-definite, so K is also a valid kernel.  This may not necessarily be the case if $\\alpha$ does not satisfy $0 \\leq \\alpha \\leq 1$."
   ]
  },
  {
   "cell_type": "code",
   "execution_count": 21,
   "metadata": {
    "collapsed": false
   },
   "outputs": [
    {
     "name": "stdout",
     "output_type": "stream",
     "text": [
      "accuracy of SVM with custom kernel with alpha = 0.0 on test data = 0.266576454668\n",
      "accuracy of SVM with custom kernel with alpha = 0.1 on test data = 0.759810554804\n",
      "accuracy of SVM with custom kernel with alpha = 0.2 on test data = 0.786197564276\n",
      "accuracy of SVM with custom kernel with alpha = 0.3 on test data = 0.792286874154\n",
      "accuracy of SVM with custom kernel with alpha = 0.4 on test data = 0.792286874154\n",
      "accuracy of SVM with custom kernel with alpha = 0.5 on test data = 0.799729364005\n",
      "accuracy of SVM with custom kernel with alpha = 0.6 on test data = 0.797699594046\n",
      "accuracy of SVM with custom kernel with alpha = 0.7 on test data = 0.793640054127\n",
      "accuracy of SVM with custom kernel with alpha = 0.8 on test data = 0.792286874154\n",
      "accuracy of SVM with custom kernel with alpha = 0.9 on test data = 0.787550744249\n",
      "accuracy of SVM with custom kernel with alpha = 1.0 on test data = 0.78552097429\n"
     ]
    }
   ],
   "source": [
    "# create custom kernel\n",
    "def create_kernel(alpha = 0.5):\n",
    "    '''Function to create custom kernels that are a linear combination of \n",
    "    cosine_similarity and laplacian_kernel'''\n",
    "    return lambda x,y: alpha*cosine_similarity(x,y) + (1-alpha)*laplacian_kernel(x,y)\n",
    "    \n",
    "# loop through alpha values and evaluate SVM results\n",
    "for alph in [x/10.0 for x in range(0,11)]:\n",
    "    # create hybrid kernel with specific alpha value\n",
    "    hybrid_kernel = create_kernel(alpha = alph)\n",
    "\n",
    "    # model\n",
    "    clf_svm = SVC(kernel=hybrid_kernel)\n",
    "    \n",
    "    # fit\n",
    "    clf_svm.fit(X_train, y_train)\n",
    "    \n",
    "    # predict\n",
    "    pred = clf_svm.predict(X_test)\n",
    "    \n",
    "    # evaluate\n",
    "    acc = accuracy_score(y_test, pred)\n",
    "    print('accuracy of SVM with custom kernel with alpha =',str(alph),'on test data =',str(acc))"
   ]
  },
  {
   "cell_type": "code",
   "execution_count": null,
   "metadata": {
    "collapsed": true
   },
   "outputs": [],
   "source": []
  }
 ],
 "metadata": {
  "kernelspec": {
   "display_name": "Python 3",
   "language": "python",
   "name": "python3"
  },
  "language_info": {
   "codemirror_mode": {
    "name": "ipython",
    "version": 3
   },
   "file_extension": ".py",
   "mimetype": "text/x-python",
   "name": "python",
   "nbconvert_exporter": "python",
   "pygments_lexer": "ipython3",
   "version": "3.6.0"
  }
 },
 "nbformat": 4,
 "nbformat_minor": 2
}
