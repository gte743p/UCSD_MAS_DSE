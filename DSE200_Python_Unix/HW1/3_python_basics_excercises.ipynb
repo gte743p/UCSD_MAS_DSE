{
 "cells": [
  {
   "cell_type": "markdown",
   "metadata": {},
   "source": [
    "### Excercises"
   ]
  },
  {
   "cell_type": "code",
   "execution_count": null,
   "metadata": {
    "scrolled": true
   },
   "outputs": [],
   "source": [
    "# (1) Compute the average of a list of numbers. use list comprehension.\n",
    "L=[23,32,121,22,1222.23,5]\n",
    "\n",
    "# average using sum and len\n",
    "print float(sum(L)) / float(len(L))\n",
    "\n",
    "# average using list comprehension\n",
    "print [(float(sum(L[:i])) / float(len(L))) for i in range(len(L)+1)][len(L)]"
   ]
  },
  {
   "cell_type": "code",
   "execution_count": null,
   "metadata": {},
   "outputs": [],
   "source": [
    "# (2) Compute the number of times each word occurs in the following text.\n",
    "# Transform all words to lower case. Output a list of\n",
    "#  word,count pairs, one pair per line sorted from highest to lowest count."
   ]
  },
  {
   "cell_type": "code",
   "execution_count": null,
   "metadata": {
    "scrolled": true
   },
   "outputs": [],
   "source": [
    "Text=\"\"\"\n",
    "bands which have connected them with another, and to assume among the\n",
    "powers of the earth, the separate and equal station to which the Laws\n",
    "of Nature and of Nature's God entitle them, a decent respect to the\n",
    "opinions of mankind requires that they should declare the causes which\n",
    "impel them to the separation.  We hold these truths to be\n",
    "self-evident, that all men are created equal, that they are endowed by\n",
    "their Creator with certain unalienable Rights, that among these are\n",
    "Life, Liberty and the pursuit of Happiness.--That to secure these\n",
    "rights, Governments are instituted among Men, deriving their just\n",
    "powers from the consent of the governed, --That whenever any Form of\n",
    "Government becomes destructive of these ends, it is the Right of the\n",
    "People to alter or to abolish it, and to institute new Government,\n",
    "laying its foundation on such principles and organizing its powers in\n",
    "such form, as to them shall seem most likely to effect their Safety\n",
    "and Happiness. Prudence, indeed, will dictate that Governments long\n",
    "established should not be changed for light and transient causes; and\n",
    "accordingly all experience hath shewn, that mankind are more disposed\n",
    "to suffer, while evils are sufferable, than to right themselves by\n",
    "abolishing the forms to which they are accustomed. But when a long\n",
    "train of abuses and usurpations, pursuing invariably the same Object\n",
    "evinces a design to reduce them under absolute Despotism, it is their\n",
    "right, it is their duty, to throw off such Government, and to provide\n",
    "new Guards for their future security.--Such has been the patient\n",
    "sufferance of these Colonies; and such is now the necessity which\n",
    "constrains them to alter their former Systems of Government. The\n",
    "history of the present King of Great Britain is a history of repeated\n",
    "injuries and usurpations, all having in direct object the\n",
    "establishment of an absolute Tyranny over these States. To prove this,\n",
    "let Facts be submitted to a candid world.\n",
    "\"\"\"\n",
    "\n",
    "import string\n",
    "import operator\n",
    "\n",
    "# First, we replace the punctuation marks\n",
    "for char in '-.,;!?\"`':\n",
    "    Text = Text.replace(char,' ')\n",
    "    \n",
    "# Replace single quotes with empty space (to undo contractions, i.e. change \"Nature's\" to \"Natures\")\n",
    "for char in '\\'':\n",
    "    Text = Text.replace(char, '')\n",
    "    \n",
    "# Replace new line characters\n",
    "for char in '\\n':\n",
    "    Text = Text.replace(char,' ')    \n",
    "    \n",
    "# split the text into a list of words\n",
    "words = Text.split(' ')\n",
    "\n",
    "# make the words lowercase\n",
    "words = [string.lower(w) for w in words if w != '']\n",
    "\n",
    "# create word count dictionary\n",
    "word_count_dict = {}\n",
    "\n",
    "# add words to dict and increment counts as they occur\n",
    "for w in words:\n",
    "    if w in word_count_dict.keys():\n",
    "        word_count_dict[w] += 1\n",
    "    else:\n",
    "        word_count_dict[w] = 1       \n",
    "        \n",
    "# sort words by number of occurrences in descending order\n",
    "sorted_words = sorted(word_count_dict.items(), key=operator.itemgetter(1), reverse = True)\n",
    "sorted_words"
   ]
  },
  {
   "cell_type": "code",
   "execution_count": null,
   "metadata": {},
   "outputs": [],
   "source": [
    "# (3) same as 2, but instead of single words, count the number of occurances of **word pairs** i.e.\n",
    "# ('bands','which'),('which','have'),...\n",
    "\n",
    "# create list of word pairs\n",
    "word_pairs = []\n",
    "for i in range(len(words) - 1):\n",
    "    word_pairs.append((words[i], words[i + 1]))\n",
    "\n",
    "# create word pair dictionary\n",
    "word_pair_dict = {}\n",
    "\n",
    "# add word pairs to dict and increment count as they occur\n",
    "for wp in word_pairs:\n",
    "    if wp in word_pair_dict.keys():\n",
    "        word_pair_dict[wp] += 1\n",
    "    else:\n",
    "        word_pair_dict[wp] = 1\n",
    "\n",
    "# sort word pairs by number of occurrences in descending order\n",
    "sorted_word_pairs = sorted(word_pair_dict.items(), key=operator.itemgetter(1), reverse = True)\n",
    "sorted_word_pairs"
   ]
  },
  {
   "cell_type": "markdown",
   "metadata": {},
   "source": [
    "(4) For the list `l =  [ 6, -5, 3, -2, 0, 8, -9, -7 ]`, return the numbers which are greater than the average (of these numbers)"
   ]
  },
  {
   "cell_type": "code",
   "execution_count": null,
   "metadata": {},
   "outputs": [],
   "source": [
    "l =  [ 6, -5, 3, -2, 0, 8, -9, -7 ]\n",
    "\n",
    "# calculate average\n",
    "avg_l = float(sum(l)) / float(len(l))\n",
    "\n",
    "# add elements of list that are above the average to another list\n",
    "l_above_avg = []\n",
    "for elem in l:\n",
    "    if elem > avg_l:\n",
    "        l_above_avg.append(elem)\n",
    "    else:\n",
    "        continue\n",
    "\n",
    "# print elements that are above the list average\n",
    "l_above_avg"
   ]
  },
  {
   "cell_type": "markdown",
   "metadata": {},
   "source": [
    "(5) for the tuples (2, 5, 3, 7, 10, 20, 54, 89) and (15, 16, 3, 37, 54, 21, 20, 5) return a sorted tuple that contains\n",
    "only the elements common to both the tuples (use sets)"
   ]
  },
  {
   "cell_type": "code",
   "execution_count": null,
   "metadata": {},
   "outputs": [],
   "source": [
    "a = (2, 5, 3, 7, 10, 20, 54, 89)\n",
    "b = (15, 16, 3, 37, 54, 21, 20, 5)\n",
    "\n",
    "# find set of common elements by taking union of a and b\n",
    "common_set = set(a).union(set(b))\n",
    "\n",
    "# sort common_set\n",
    "sorted_common_set = sorted(common_set)\n",
    "\n",
    "# change set to tuple\n",
    "sorted_common_tuple = tuple(sorted_common_set)\n",
    "\n",
    "print sorted_common_tuple"
   ]
  },
  {
   "cell_type": "markdown",
   "metadata": {},
   "source": [
    "(6) calculate the average word length for the text\n",
    "\n",
    "> TEXT =\n",
    "> On a dark desert highway, cool wind in my hair\n",
    "> Warm smell of colitas, rising up through the air\n",
    "> Up ahead in the distance, I saw a shimmering light\n",
    "> My head grew heavy and my sight grew dim\n",
    "> I had to stop for the night\n",
    "> There she stood in the doorway;\n",
    "> I heard the mission bell\n",
    "> And I was thinking to myself,\n",
    "> \"This could be Heaven or this could be Hell\"\n",
    "> Then she lit up a candle and she showed me the way\n",
    "> \n",
    "\n",
    "Average word length is the sum of all the lengths of the word tokens in the text, divided by the number of word tokens\n"
   ]
  },
  {
   "cell_type": "code",
   "execution_count": null,
   "metadata": {},
   "outputs": [],
   "source": [
    "text = '''On a dark desert highway, cool wind in my hair Warm smell of colitas, rising up through the air Up ahead in the distance, I saw a shimmering light My head grew heavy and my sight grew dim I had to stop for the night There she stood in the doorway; I heard the mission bell And I was thinking to myself, \"This could be Heaven or this could be Hell\" Then she lit up a candle and she showed me the way'''\n",
    "\n",
    "# replace punctuation marks with spaces\n",
    "for char in '-.,;!?\"\\'`':\n",
    "    text = text.replace(char,' ')  \n",
    "    \n",
    "# replace multiple spaces with single space\n",
    "text = ' '.join(text.split())\n",
    "\n",
    "# create list of words\n",
    "words = text.split(' ')\n",
    "\n",
    "# create list of word lengths\n",
    "word_lengths = [len(w) for w in words]\n",
    "\n",
    "# calculate average word length\n",
    "float(sum(word_lengths)) / float(len(word_lengths))"
   ]
  },
  {
   "cell_type": "markdown",
   "metadata": {},
   "source": [
    "(7) Using the same text as in the last one, remove all punctuation and output the words in sorted alphabetical order. Save this output as a CSV file with each word separated from the other by the delimiter(comma)."
   ]
  },
  {
   "cell_type": "code",
   "execution_count": null,
   "metadata": {},
   "outputs": [],
   "source": [
    "import pandas\n",
    "\n",
    "text = '''On a dark desert highway, cool wind in my hair Warm smell of colitas, rising up through the air Up ahead in the distance, I saw a shimmering light My head grew heavy and my sight grew dim I had to stop for the night There she stood in the doorway; I heard the mission bell And I was thinking to myself, \"This could be Heaven or this could be Hell\" Then she lit up a candle and she showed me the way'''\n",
    "\n",
    "# use relative directory path to change directory to 'data'\n",
    "# NOTE:  this assumes 'data' directory is a sibling directory to location of the notebook\n",
    "%cd ../data/\n",
    "\n",
    "# replace punctuation with space\n",
    "for char in '-.,;!?\"\\'`':\n",
    "    text = text.replace(char,' ')\n",
    "\n",
    "# replace multiple spaces with single space\n",
    "text = ' '.join(text.split())\n",
    "\n",
    "# create list of words\n",
    "words = text.split(' ')\n",
    "\n",
    "# make all words lowercase\n",
    "words = [w.lower() for w in words]\n",
    "\n",
    "# sort words\n",
    "words.sort()\n",
    "\n",
    "# write words to csv file\n",
    "data = pandas.DataFrame(words)\n",
    "data.to_csv('words.csv', index = False, header = False, sep = ',')"
   ]
  },
  {
   "cell_type": "markdown",
   "metadata": {},
   "source": [
    "(8) Read the text from the above separated csv file and return a dictionary of (letter:count) pair\n",
    "that counts the number of times each letter appears in that line."
   ]
  },
  {
   "cell_type": "code",
   "execution_count": null,
   "metadata": {},
   "outputs": [],
   "source": [
    "import csv\n",
    "\n",
    "# open and read 'words.csv' file\n",
    "f = open('words.csv')\n",
    "word_csv = csv.reader(f)\n",
    "\n",
    "# add second letter of each word to dict and increment count as letters appear\n",
    "letters_dict = {}\n",
    "for row in word_csv:\n",
    "    word = row[0]\n",
    "    for i in range(len(word)):\n",
    "        letter = word[i]\n",
    "        if letter in letters_dict.keys():\n",
    "            letters_dict[letter] += 1\n",
    "        else:\n",
    "            letters_dict[letter] = 1\n",
    "\n",
    "letters_dict"
   ]
  },
  {
   "cell_type": "code",
   "execution_count": null,
   "metadata": {},
   "outputs": [],
   "source": [
    "#(9) Take as an input an array of integers, and return true if the array contains a 5 immediately after another 5 \n",
    "#somewhere.\n",
    "A=[1,5,1,6,5,3,5,2]\n",
    "B=[1,2,3,4,5,5,6,7,8,9]\n",
    "\n",
    "# function to return True if consecutive fives found in input array, False otherwise\n",
    "def consecutiveFives(l):\n",
    "    if len(l) < 2:\n",
    "        return False\n",
    "    result = False\n",
    "    for i in range(len(l) - 1):\n",
    "        if l[i] == 5 and l[i+1] == 5:\n",
    "            result = True\n",
    "            break\n",
    "        else:\n",
    "            continue\n",
    "    return result\n",
    "\n",
    "# test function using arrays A and B as input\n",
    "print consecutiveFives(A)\n",
    "print consecutiveFives(B)"
   ]
  },
  {
   "cell_type": "markdown",
   "metadata": {},
   "source": [
    "(10) Write  a program that takes in a positive number (in some variable, say `i`) and computes the sum of all the number\n",
    "between 0 and that number (inclusive). \n",
    "\n",
    "* Do it using a for loop\n",
    "* Do it in one line using the function `sum` and list comprehension."
   ]
  },
  {
   "cell_type": "code",
   "execution_count": null,
   "metadata": {},
   "outputs": [],
   "source": [
    "# function to compute sum from 1 to i using a for loop\n",
    "def sumToNfor(i):\n",
    "    result = 0\n",
    "    for num in range(i + 1):\n",
    "        result += num\n",
    "    return result\n",
    "\n",
    "# function to compute sum from 1 to i using list comprehension\n",
    "def sumToNlistComp(i):\n",
    "    return [sum(range(i+1)) for i in range(i+1)][i]\n",
    "\n",
    "# test cases\n",
    "i = 100\n",
    "print sumToNfor(i)\n",
    "print sumToNlistComp(i)"
   ]
  },
  {
   "cell_type": "code",
   "execution_count": null,
   "metadata": {},
   "outputs": [],
   "source": [
    "#(11) for the text in file BrownNews.txt (~/DSE200/data/NLTK/BrownNews.txt), \n",
    "#find the distribution of the second letter in each word.\n",
    "\n",
    "# use relative directory path to find 'NLTK' folder with 'BrownNews.txt'\n",
    "# NOTE:  this assumes we are already in the 'data' directory\n",
    "%cd NLTK\n",
    "\n",
    "# read file\n",
    "f = open('BrownNews.txt')\n",
    "text = f.read()\n",
    "\n",
    "# replace punctuation\n",
    "for char in '-.,;!?\"\\'`':\n",
    "    text = text.replace(char,'')\n",
    "\n",
    "# replace multiple spaces with single space\n",
    "text = ' '.join(text.split())\n",
    "\n",
    "# create list of words\n",
    "words = text.split(' ')\n",
    "\n",
    "# make all words lowercase\n",
    "words = [w.lower() for w in words]\n",
    "\n",
    "letters_dict = {}\n",
    "total_letters = 0\n",
    "\n",
    "for word in words:\n",
    "    if len(word) < 2:\n",
    "        continue\n",
    "    else:\n",
    "        pass\n",
    "    letter = word[1]\n",
    "    if letter in letters_dict.keys():\n",
    "        letters_dict[letter] += 1\n",
    "    else:\n",
    "        letters_dict[letter] = 1\n",
    "    total_letters += 1\n",
    "\n",
    "for letter in letters_dict.keys():\n",
    "    letters_dict[letter] = round(float(letters_dict[letter]) / float(total_letters), 3)\n",
    "\n",
    "letters_dict"
   ]
  },
  {
   "cell_type": "markdown",
   "metadata": {},
   "source": [
    "(12) write a program to find solutions of the 8 queen problem.\n",
    ">The eight queens problem is the problem of placing eight queens on an 8×8 chessboard such that none of them attack one >another (no two are in the same row, column, or diagonal). Below is one of the arrangements of an 8 queen solution"
   ]
  },
  {
   "cell_type": "markdown",
   "metadata": {},
   "source": [
    "<img src=\"8queen.jpg\">"
   ]
  },
  {
   "cell_type": "code",
   "execution_count": null,
   "metadata": {
    "scrolled": true
   },
   "outputs": [],
   "source": [
    "import itertools as it\n",
    "\n",
    "# Since each queen must be in a different column,\n",
    "# we can determine possible positions by identifying\n",
    "# which row the queen in each column appears.\n",
    "# By using permutations of 1-8 for the row positions, \n",
    "# we ensure that no two queens are in the same row.\n",
    "rows = list(it.permutations(range(1,9)))\n",
    "\n",
    "# We have no queens in the same row or column by\n",
    "# construction of the possible starting positions,\n",
    "# so we only need to check whether any two queens\n",
    "# are on the same diagonal in order to determine\n",
    "# whether the arrangement is a legal solution.\n",
    "\n",
    "# Function returns True if no two of the 8 queens\n",
    "# are on the same diagonal, returns false otherwise\n",
    "def legalArrangement(row_arrangement):\n",
    "    legal = True\n",
    "    for q in range(len(row_arrangement)):\n",
    "        for q2 in range(len(row_arrangement)):\n",
    "            if q == q2:\n",
    "                continue\n",
    "            else:\n",
    "                rowdiff = abs(row_arrangement[q] - row_arrangement[q2])\n",
    "                coldiff = abs(q - q2)\n",
    "                if rowdiff == coldiff:\n",
    "                    legal = False\n",
    "                    continue\n",
    "                else:\n",
    "                    continue\n",
    "    return legal\n",
    "\n",
    "# create empty set of solutions to 8 queen problem\n",
    "solutions = set()\n",
    "\n",
    "# add legal solutions to solution set\n",
    "for i in range(len(rows)):\n",
    "    if legalArrangement(rows[i]) == True:\n",
    "        solutions.add(rows[i])\n",
    "    else:\n",
    "        continue\n",
    "\n",
    "# reformat solutions as lists of (row, column) tuples representing \n",
    "# position of the 8 queens\n",
    "solutions_rowcol = []\n",
    "col = (1, 2, 3, 4, 5, 6, 7, 8)\n",
    "for row in solutions:\n",
    "    solutions_rowcol = solutions_rowcol + [zip(row, col)]\n",
    "\n",
    "solutions_rowcol"
   ]
  },
  {
   "cell_type": "markdown",
   "metadata": {},
   "source": [
    "(13) Write a program to make a list of all prime numbers less than 3000. A prime number can only be divided evenly by 1 and itself."
   ]
  },
  {
   "cell_type": "code",
   "execution_count": null,
   "metadata": {},
   "outputs": [],
   "source": [
    "def primes_list(n):\n",
    "    # start with all numbers from 2 to n as primes and remove non primes from list\n",
    "    primes = range(2, n + 1)\n",
    "    non_primes = []\n",
    "\n",
    "    # add all multiples to list of non primes\n",
    "    for num in primes:\n",
    "        for multiple in range(2 * num, n + 1, num):\n",
    "            non_primes.append(multiple)\n",
    "    \n",
    "    # remove non prime numbers from list of primes\n",
    "    for num in non_primes:\n",
    "        if num in primes:\n",
    "            primes.remove(num)\n",
    "        else:\n",
    "            continue\n",
    "    \n",
    "    return primes\n",
    "\n",
    "print primes_list(3000)\n",
    "#print len(primes_list(3000))"
   ]
  },
  {
   "cell_type": "markdown",
   "metadata": {},
   "source": [
    "(14) Solve the above problem using Set instead of List "
   ]
  },
  {
   "cell_type": "code",
   "execution_count": null,
   "metadata": {},
   "outputs": [],
   "source": [
    "def primes_set(n):\n",
    "    # start with all numbers from 2 to n as primes and remove non primes from set\n",
    "    primes = set(range(2, n + 1))\n",
    "    non_primes = set()\n",
    "    \n",
    "    for num in primes:\n",
    "        non_primes = non_primes.union(set(range(2 * num, n + 1, num)))\n",
    "\n",
    "    for num in non_primes:\n",
    "        primes.discard(num)\n",
    "    \n",
    "    return primes\n",
    "\n",
    "print primes_set(3000)\n",
    "#print len(primes_set(3000))"
   ]
  }
 ],
 "metadata": {
  "anaconda-cloud": {},
  "kernelspec": {
   "display_name": "Python 2",
   "language": "python",
   "name": "python2"
  },
  "language_info": {
   "codemirror_mode": {
    "name": "ipython",
    "version": 2
   },
   "file_extension": ".py",
   "mimetype": "text/x-python",
   "name": "python",
   "nbconvert_exporter": "python",
   "pygments_lexer": "ipython2",
   "version": "2.7.13"
  }
 },
 "nbformat": 4,
 "nbformat_minor": 1
}
