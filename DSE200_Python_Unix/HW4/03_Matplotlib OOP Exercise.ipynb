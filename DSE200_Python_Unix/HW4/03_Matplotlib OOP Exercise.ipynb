{
 "cells": [
  {
   "cell_type": "markdown",
   "metadata": {},
   "source": [
    "### Matplotlib Object Oriented Programming Exercises"
   ]
  },
  {
   "cell_type": "markdown",
   "metadata": {},
   "source": [
    "In this exercise we will write a class which will take a pandas dataframe and output a set of plots describing the dataframe. For this we will use data from http://earthquake.usgs.gov/ which maintains csv files corresponding to data of earthquake occurrences sorted according to earthquakes magnitude, ranging from significant only down to all earthquakes, major or minor. The csv files are available here "
   ]
  },
  {
   "cell_type": "code",
   "execution_count": 1,
   "metadata": {
    "collapsed": true
   },
   "outputs": [],
   "source": [
    "feed=\"http://earthquake.usgs.gov/earthquakes/feed/v1.0/summary/\""
   ]
  },
  {
   "cell_type": "code",
   "execution_count": 2,
   "metadata": {},
   "outputs": [
    {
     "name": "stdout",
     "output_type": "stream",
     "text": [
      "Populating the interactive namespace from numpy and matplotlib\n"
     ]
    }
   ],
   "source": [
    "import numpy as np\n",
    "import pandas as pd\n",
    "#import urllib2\n",
    "import matplotlib as mpl\n",
    "%pylab inline"
   ]
  },
  {
   "cell_type": "markdown",
   "metadata": {},
   "source": [
    "Check if you have the updated version of Matplotlib i.e 1.5.0. If not you can udate it using linux command sudo pip install --upgrade matplotlib for unix boxes and corresponding brew command for mac"
   ]
  },
  {
   "cell_type": "code",
   "execution_count": 3,
   "metadata": {
    "scrolled": true
   },
   "outputs": [
    {
     "name": "stdout",
     "output_type": "stream",
     "text": [
      "2.0.0\n"
     ]
    }
   ],
   "source": [
    "print mpl.__version__"
   ]
  },
  {
   "cell_type": "markdown",
   "metadata": {},
   "source": [
    "### Acquiring Data ###\n",
    "\n",
    "For this assignment we will be working with the following csv files\n",
    "\n",
    "1. Significant earthquakes in the last 30 days : feed + \"significant_month.csv\"\n",
    "2. Magnitude > 4.5 : feed + \"4.5_month.csv\"\n",
    "3. Magnitude > 2.5 : feed + \"2.5_month.csv\"\n",
    "4. Magnitude > 1.0 : feed + \"1.0_month.csv\""
   ]
  },
  {
   "cell_type": "markdown",
   "metadata": {},
   "source": [
    "### Q1 (answered)\n",
    "Write a function which takes an integer input from 1 to 4 and outputs a pandas dataframe corresponding to the csv file above. Note that the function should necessarily download the data from the website via internet."
   ]
  },
  {
   "cell_type": "code",
   "execution_count": 4,
   "metadata": {
    "collapsed": true
   },
   "outputs": [],
   "source": [
    "filenames=[\"significant_month.csv\",\n",
    "           \"4.5_month.csv\",\n",
    "           \"2.5_month.csv\",\n",
    "           \"1.0_month.csv\"]\n",
    "def download_data(i):\n",
    "    url=feed+filenames[i-1];\n",
    "    print 'downloading',url\n",
    "    return pd.read_csv(url);"
   ]
  },
  {
   "cell_type": "code",
   "execution_count": 5,
   "metadata": {
    "scrolled": false
   },
   "outputs": [
    {
     "name": "stdout",
     "output_type": "stream",
     "text": [
      "downloading http://earthquake.usgs.gov/earthquakes/feed/v1.0/summary/significant_month.csv\n",
      "downloading http://earthquake.usgs.gov/earthquakes/feed/v1.0/summary/4.5_month.csv\n",
      "downloading http://earthquake.usgs.gov/earthquakes/feed/v1.0/summary/2.5_month.csv\n",
      "downloading http://earthquake.usgs.gov/earthquakes/feed/v1.0/summary/1.0_month.csv\n"
     ]
    },
    {
     "data": {
      "text/html": [
       "<div>\n",
       "<style scoped>\n",
       "    .dataframe tbody tr th:only-of-type {\n",
       "        vertical-align: middle;\n",
       "    }\n",
       "\n",
       "    .dataframe tbody tr th {\n",
       "        vertical-align: top;\n",
       "    }\n",
       "\n",
       "    .dataframe thead th {\n",
       "        text-align: right;\n",
       "    }\n",
       "</style>\n",
       "<table border=\"1\" class=\"dataframe\">\n",
       "  <thead>\n",
       "    <tr style=\"text-align: right;\">\n",
       "      <th></th>\n",
       "      <th>time</th>\n",
       "      <th>latitude</th>\n",
       "      <th>longitude</th>\n",
       "      <th>depth</th>\n",
       "      <th>mag</th>\n",
       "      <th>magType</th>\n",
       "      <th>nst</th>\n",
       "      <th>gap</th>\n",
       "      <th>dmin</th>\n",
       "      <th>rms</th>\n",
       "      <th>...</th>\n",
       "      <th>updated</th>\n",
       "      <th>place</th>\n",
       "      <th>type</th>\n",
       "      <th>horizontalError</th>\n",
       "      <th>depthError</th>\n",
       "      <th>magError</th>\n",
       "      <th>magNst</th>\n",
       "      <th>status</th>\n",
       "      <th>locationSource</th>\n",
       "      <th>magSource</th>\n",
       "    </tr>\n",
       "  </thead>\n",
       "  <tbody>\n",
       "    <tr>\n",
       "      <th>0</th>\n",
       "      <td>2018-07-22T10:07:26.450Z</td>\n",
       "      <td>34.644500</td>\n",
       "      <td>46.178900</td>\n",
       "      <td>5.72</td>\n",
       "      <td>5.90</td>\n",
       "      <td>mb</td>\n",
       "      <td>NaN</td>\n",
       "      <td>30</td>\n",
       "      <td>0.60300</td>\n",
       "      <td>1.04</td>\n",
       "      <td>...</td>\n",
       "      <td>2018-07-24T16:57:18.621Z</td>\n",
       "      <td>35km NE of Sarpol-e Zahab, Iran</td>\n",
       "      <td>earthquake</td>\n",
       "      <td>6.1</td>\n",
       "      <td>4.2</td>\n",
       "      <td>0.028</td>\n",
       "      <td>454</td>\n",
       "      <td>reviewed</td>\n",
       "      <td>us</td>\n",
       "      <td>us</td>\n",
       "    </tr>\n",
       "    <tr>\n",
       "      <th>1</th>\n",
       "      <td>2018-07-13T09:46:49.640Z</td>\n",
       "      <td>-18.933200</td>\n",
       "      <td>169.022400</td>\n",
       "      <td>169.16</td>\n",
       "      <td>6.40</td>\n",
       "      <td>mww</td>\n",
       "      <td>NaN</td>\n",
       "      <td>19</td>\n",
       "      <td>2.48500</td>\n",
       "      <td>0.76</td>\n",
       "      <td>...</td>\n",
       "      <td>2018-07-16T02:07:58.686Z</td>\n",
       "      <td>72km NNW of Isangel, Vanuatu</td>\n",
       "      <td>earthquake</td>\n",
       "      <td>8.3</td>\n",
       "      <td>5.5</td>\n",
       "      <td>0.057</td>\n",
       "      <td>30</td>\n",
       "      <td>reviewed</td>\n",
       "      <td>us</td>\n",
       "      <td>us</td>\n",
       "    </tr>\n",
       "    <tr>\n",
       "      <th>2</th>\n",
       "      <td>2018-07-10T11:08:37.420Z</td>\n",
       "      <td>34.010833</td>\n",
       "      <td>-117.584667</td>\n",
       "      <td>4.31</td>\n",
       "      <td>3.57</td>\n",
       "      <td>ml</td>\n",
       "      <td>199.0</td>\n",
       "      <td>11</td>\n",
       "      <td>0.02013</td>\n",
       "      <td>0.23</td>\n",
       "      <td>...</td>\n",
       "      <td>2018-07-18T15:19:08.441Z</td>\n",
       "      <td>6km SE of Ontario, CA</td>\n",
       "      <td>earthquake</td>\n",
       "      <td>0.1</td>\n",
       "      <td>0.3</td>\n",
       "      <td>0.176</td>\n",
       "      <td>345</td>\n",
       "      <td>reviewed</td>\n",
       "      <td>ci</td>\n",
       "      <td>ci</td>\n",
       "    </tr>\n",
       "    <tr>\n",
       "      <th>3</th>\n",
       "      <td>2018-07-07T11:23:50.080Z</td>\n",
       "      <td>35.112400</td>\n",
       "      <td>140.647500</td>\n",
       "      <td>40.00</td>\n",
       "      <td>5.90</td>\n",
       "      <td>mww</td>\n",
       "      <td>NaN</td>\n",
       "      <td>37</td>\n",
       "      <td>2.07100</td>\n",
       "      <td>0.99</td>\n",
       "      <td>...</td>\n",
       "      <td>2018-07-20T12:21:05.038Z</td>\n",
       "      <td>28km ESE of Ohara, Japan</td>\n",
       "      <td>earthquake</td>\n",
       "      <td>6.3</td>\n",
       "      <td>1.9</td>\n",
       "      <td>0.061</td>\n",
       "      <td>26</td>\n",
       "      <td>reviewed</td>\n",
       "      <td>us</td>\n",
       "      <td>us</td>\n",
       "    </tr>\n",
       "  </tbody>\n",
       "</table>\n",
       "<p>4 rows × 22 columns</p>\n",
       "</div>"
      ],
      "text/plain": [
       "                       time   latitude   longitude   depth   mag magType  \\\n",
       "0  2018-07-22T10:07:26.450Z  34.644500   46.178900    5.72  5.90      mb   \n",
       "1  2018-07-13T09:46:49.640Z -18.933200  169.022400  169.16  6.40     mww   \n",
       "2  2018-07-10T11:08:37.420Z  34.010833 -117.584667    4.31  3.57      ml   \n",
       "3  2018-07-07T11:23:50.080Z  35.112400  140.647500   40.00  5.90     mww   \n",
       "\n",
       "     nst  gap     dmin   rms    ...                      updated  \\\n",
       "0    NaN   30  0.60300  1.04    ...     2018-07-24T16:57:18.621Z   \n",
       "1    NaN   19  2.48500  0.76    ...     2018-07-16T02:07:58.686Z   \n",
       "2  199.0   11  0.02013  0.23    ...     2018-07-18T15:19:08.441Z   \n",
       "3    NaN   37  2.07100  0.99    ...     2018-07-20T12:21:05.038Z   \n",
       "\n",
       "                             place        type horizontalError depthError  \\\n",
       "0  35km NE of Sarpol-e Zahab, Iran  earthquake             6.1        4.2   \n",
       "1     72km NNW of Isangel, Vanuatu  earthquake             8.3        5.5   \n",
       "2            6km SE of Ontario, CA  earthquake             0.1        0.3   \n",
       "3         28km ESE of Ohara, Japan  earthquake             6.3        1.9   \n",
       "\n",
       "   magError  magNst    status  locationSource magSource  \n",
       "0     0.028     454  reviewed              us        us  \n",
       "1     0.057      30  reviewed              us        us  \n",
       "2     0.176     345  reviewed              ci        ci  \n",
       "3     0.061      26  reviewed              us        us  \n",
       "\n",
       "[4 rows x 22 columns]"
      ]
     },
     "execution_count": 5,
     "metadata": {},
     "output_type": "execute_result"
    }
   ],
   "source": [
    "last_30 = download_data(1)\n",
    "data_45 = download_data(2)\n",
    "data_25 = download_data(3)\n",
    "data_10 = download_data(4)\n",
    "last_30.head()"
   ]
  },
  {
   "cell_type": "markdown",
   "metadata": {},
   "source": [
    "### Q2) Analyzing the data ###\n",
    "\n",
    "In order to understand the data we will plot different attributes of the data using tools provided by matplotlib.\n",
    "In order to do that, we will first create a class object for the given dataframe.\n",
    "\n",
    "2.1) The class will have a set of functions to generate different plots. The first function will output a histogram taking column type as input. The column type is restricted to latitude or longitude. Take default interval size as 10 degrees\n",
    "\n",
    "2.2) Write another function which when called will output a scatter plot of longitude vs. latitude. For extra credit represent each earthquake by a circle whose area is proporportional to the strength of the earthquake."
   ]
  },
  {
   "cell_type": "code",
   "execution_count": 6,
   "metadata": {},
   "outputs": [
    {
     "name": "stdout",
     "output_type": "stream",
     "text": [
      "-179.9944 179.7972\n"
     ]
    },
    {
     "data": {
      "image/png": "[encoded data removed]",
      "text/plain": [
       "<matplotlib.figure.Figure at 0x112e9ee90>"
      ]
     },
     "metadata": {},
     "output_type": "display_data"
    }
   ],
   "source": [
    "def DF_hist(df,col='longitude'):\n",
    "    Min=df[col].min();\n",
    "    Max=df[col].max();\n",
    "    print Min,Max\n",
    "    df.hist(column=col,bins=int((Max-Min)/10.0))\n",
    "DF_hist(data_25)"
   ]
  },
  {
   "cell_type": "code",
   "execution_count": 7,
   "metadata": {
    "collapsed": true
   },
   "outputs": [],
   "source": [
    "class dataPlot(object):\n",
    "    \"\"\"dataPlot takes a pandas dataframe as input and outputs different plots correspondng to the input dataframe\"\"\"\n",
    "    \n",
    "    def __init__(self,df):\n",
    "        \"\"\"Initialize variables\"\"\"\n",
    "        self.df = df\n",
    "    \n",
    "    '''\n",
    "    2.1) The class will have a set of functions to generate different plots. \n",
    "    The first function will output a histogram taking column type as input. \n",
    "    The column type is restricted to latitude or longitude. Take default \n",
    "    interval size as 10 degrees\n",
    "    '''\n",
    "    def histogram(self,col):\n",
    "        if col != 'latitude' and col != 'longitude':\n",
    "            print 'col input must be latitude or longitude'\n",
    "            return None\n",
    "        Min=self.df[col].min();\n",
    "        Max=self.df[col].max();\n",
    "        self.df.hist(column=col,bins=int((Max-Min)/10.0))\n",
    "        plt.title('Histogram of Earthquake Locations by ' + col)\n",
    "        plt.show()\n",
    "    \n",
    "    '''\n",
    "    2.2) Write another function which when called will output a scatter plot \n",
    "    of longitude vs. latitude. For extra credit represent each earthquake by \n",
    "    a circle whose area is proporportional to the strength of the earthquake.\n",
    "    '''\n",
    "    def scatter(self,col1,col2):\n",
    "        if col1 != 'latitude' and col1 != 'longitude':\n",
    "            print 'col1 input must be latitude or longitude'\n",
    "            return None\n",
    "        if col2 != 'latitude' and col1 != 'longitude':\n",
    "            print 'col2 input must be latitude or longitude'\n",
    "            return None\n",
    "        x = self.df[col1].values\n",
    "        y = self.df[col2].values\n",
    "        mag = self.df['mag']\n",
    "        plt.scatter(x, y, s = 3**mag, alpha = 0.25)\n",
    "        plt.title('Scatter Plot of Earthquake Locations')\n",
    "        plt.xlabel(col1)\n",
    "        plt.ylabel(col2)\n",
    "        plt.grid()\n",
    "        plt.show()"
   ]
  },
  {
   "cell_type": "code",
   "execution_count": 8,
   "metadata": {},
   "outputs": [
    {
     "data": {
      "image/png": "[encoded data removed]",
      "text/plain": [
       "<matplotlib.figure.Figure at 0x115e18bd0>"
      ]
     },
     "metadata": {},
     "output_type": "display_data"
    },
    {
     "data": {
      "image/png": "[encoded data removed]",
      "text/plain": [
       "<matplotlib.figure.Figure at 0x1144dbad0>"
      ]
     },
     "metadata": {},
     "output_type": "display_data"
    }
   ],
   "source": [
    "#The folloring command should now generate a histogram and a scatter-plot\n",
    "D=dataPlot(data_45)\n",
    "D.histogram('longitude')\n",
    "D.scatter('longitude','latitude')"
   ]
  },
  {
   "cell_type": "markdown",
   "metadata": {},
   "source": [
    "### Q3) Plotting data on the map ###"
   ]
  },
  {
   "cell_type": "markdown",
   "metadata": {
    "scrolled": true
   },
   "source": [
    "In the last class we had used basemap to plot the weather data. Now we will use basemap to plot the earthquake data, and further enhance it with a rain animation to indicate the severity of the incident. We will start initially with the dataset corresponding to earthquakes magnitude > 4.5"
   ]
  },
  {
   "cell_type": "code",
   "execution_count": 9,
   "metadata": {},
   "outputs": [
    {
     "name": "stdout",
     "output_type": "stream",
     "text": [
      "downloading http://earthquake.usgs.gov/earthquakes/feed/v1.0/summary/4.5_month.csv\n"
     ]
    }
   ],
   "source": [
    "data_45 = download_data(2)"
   ]
  },
  {
   "cell_type": "markdown",
   "metadata": {},
   "source": [
    "First we will import necessary libraries"
   ]
  },
  {
   "cell_type": "code",
   "execution_count": null,
   "metadata": {},
   "outputs": [],
   "source": [
    "from mpl_toolkits.basemap import Basemap"
   ]
  },
  {
   "cell_type": "markdown",
   "metadata": {},
   "source": [
    "Next we will generate a figure canvas with a basemap projection. We will use the 'mill' projection of Basemap for this assignment. "
   ]
  },
  {
   "cell_type": "code",
   "execution_count": null,
   "metadata": {
    "collapsed": true
   },
   "outputs": [],
   "source": [
    "#General plot  initializations\n",
    "fig = figure(figsize=(14,10))\n",
    "ax = subplot(1,1,1)\n",
    "earth = Basemap(projection='mill')\n",
    "# We then draw coastlines and continents\n",
    "earth.drawcoastlines(color='0.50', linewidth=0.25);\n",
    "earth.fillcontinents(color='0.95');"
   ]
  },
  {
   "cell_type": "markdown",
   "metadata": {},
   "source": [
    "### Q3) \n",
    "\n",
    "Consult the documentation about scatterplots on maps:\n",
    "```\n",
    "http://matplotlib.org/basemap/api/basemap_api.html#mpl_toolkits.basemap.Basemap.scatter\n",
    "```\n",
    "write a function that takes as input a dataframe and plots a map and on top of the map a circle at the location of each earthquake in the dataframe.\n",
    "\n",
    "Use size to convey the intensity of each earthquake. Make the the circles semi-transparent so that the intensity of the color conveys the number of earthquakes that have occured.\n",
    "\n",
    "Finally wrap the function in a class that has methods for plotting an array of scatterplots from the same data-frame, each for a different time period."
   ]
  },
  {
   "cell_type": "code",
   "execution_count": null,
   "metadata": {
    "collapsed": true
   },
   "outputs": [],
   "source": [
    "'''\n",
    "Write a function that takes as input a dataframe and plots a map and on top \n",
    "of the map a circle at the location of each earthquake in the dataframe.\n",
    "Use size to convey the intensity of each earthquake. Make the the circles \n",
    "semi-transparent so that the intensity of the color conveys the number of \n",
    "earthquakes that have occured.\n",
    "'''\n",
    "def mag_scale(mag):\n",
    "    '''Function to create legend of earthquake magnitudes.'''\n",
    "    # Legend approach uses info from links below:\n",
    "    # http://stackoverflow.com/questions/40184091/matplotlib-basemap-plotting-legend-corresponding-to-size-of-points-on-map\n",
    "    # http://stackoverflow.com/questions/14827650/pyplot-scatter-plot-marker-size\n",
    "    return plt.Line2D((0,), (0,), color='b', marker='o',\n",
    "                      ms=(3**mag)**0.5, alpha=0.25, linestyle='')\n",
    "\n",
    "def quake_plot(df, fig=None, ax=None):\n",
    "    '''Function to plot earthquake locations'''\n",
    "    # set fig and ax if None\n",
    "    if fig is None:\n",
    "        fig = figure(figsize=(14,10))\n",
    "    if ax is None:\n",
    "        ax = subplot(1,1,1)\n",
    "        ax.set_title('Earthquake Locations and Intensities')\n",
    "    \n",
    "    # draw map\n",
    "    earth = Basemap(projection='mill')\n",
    "    earth.drawcoastlines(color='0.50', linewidth=0.25)\n",
    "    earth.fillcontinents(color='0.95', zorder=0)\n",
    "    \n",
    "    # map longitude and latitude, extract magnitude values\n",
    "    lon, lat = earth(df['longitude'].values, df['latitude'].values)\n",
    "    mag = df.mag.values\n",
    "    \n",
    "    # add scatter plot to map\n",
    "    earth.scatter(lon, lat, s = 3**mag, c = 'b', marker = 'o', alpha = 0.15)\n",
    "\n",
    "    ## create a legend\n",
    "    # extract earthquake magnitudes and calculate min, midpoint, and max\n",
    "    mag = df['mag'].values\n",
    "    min_mag = round(min(mag),1)\n",
    "    max_mag = round(max(mag),1)\n",
    "    mid_mag = round((min_mag + max_mag)/2.0, 1)\n",
    "    magnitudes = [min_mag, mid_mag, max_mag]\n",
    "\n",
    "    # set position of legend box\n",
    "    box = ax.get_position()\n",
    "    ax.set_position([box.x0, box.y0 + box.height * 0.1,\n",
    "                     box.width, box.height * 0.9])\n",
    "\n",
    "    # create legend dots from mag_scale(mag) function\n",
    "    legend_dots = [mag_scale(m) for m in magnitudes]\n",
    "    labels = [\"Magnitude %.1f\" % m for m in magnitudes]\n",
    "\n",
    "    # add legend\n",
    "    ax.legend(legend_dots, labels, loc='upper center',\n",
    "              bbox_to_anchor=(0.5, 0.1), ncol=5)\n",
    "    \n",
    "    plt.show()"
   ]
  },
  {
   "cell_type": "code",
   "execution_count": null,
   "metadata": {
    "collapsed": true
   },
   "outputs": [],
   "source": [
    "# testing quake_plot function\n",
    "quake_plot(data_45)"
   ]
  },
  {
   "cell_type": "code",
   "execution_count": null,
   "metadata": {
    "collapsed": true
   },
   "outputs": [],
   "source": [
    "import datetime as dt\n",
    "'''\n",
    "Finally wrap the function in a class that has methods for plotting an array of \n",
    "scatterplots from the same data-frame, each for a different time period.\n",
    "'''\n",
    "class QuakeMaps:\n",
    "    \n",
    "    def __init__(self, data):\n",
    "        self.data = data\n",
    "    \n",
    "    def mag_scale(self, mag):\n",
    "        '''Function to create legend of earthquake magnitudes.'''\n",
    "        # Legend approach uses info from links below:\n",
    "        # http://stackoverflow.com/questions/40184091/matplotlib-basemap-plotting-legend-corresponding-to-size-of-points-on-map\n",
    "        # http://stackoverflow.com/questions/14827650/pyplot-scatter-plot-marker-size\n",
    "        return plt.Line2D((0,), (0,), color='b', marker='o', \n",
    "                          ms=(3**mag)**0.5, alpha=0.25, linestyle='')\n",
    "\n",
    "    def quake_plot(self, df=None, fig=None, ax=None):\n",
    "        '''Function to create a single plot of earthquake locations.'''\n",
    "        # set df, fig, and ax if None\n",
    "        if df is None:\n",
    "            df = self.data\n",
    "        if fig is None:\n",
    "            fig = figure(figsize=(14,10))\n",
    "        if ax is None:\n",
    "            ax = subplot(1,1,1)\n",
    "            ax.set_title('Earthquake Locations and Intensities')\n",
    "        \n",
    "        # draw map\n",
    "        earth = Basemap(projection='mill')\n",
    "        earth.drawcoastlines(color='0.50', linewidth=0.25)\n",
    "        earth.fillcontinents(color='0.95', zorder=0)\n",
    "\n",
    "        # map longitude and latitude, extract magnitude values\n",
    "        lon, lat = earth(df['longitude'].values, df['latitude'].values)\n",
    "        mag = df.mag.values\n",
    "\n",
    "        # add scatter plot to map\n",
    "        qplot = earth.scatter(lon, lat, s = 3**mag, c = 'b', marker = 'o', alpha = 0.15)\n",
    "        \n",
    "        ## create a legend\n",
    "        # extract earthquake magnitudes and calculate min, midpoint, and max\n",
    "        mag = df['mag'].values\n",
    "        min_mag = round(min(mag),1)\n",
    "        max_mag = round(max(mag),1)\n",
    "        mid_mag = round((min_mag + max_mag)/2.0, 1)\n",
    "        magnitudes = [min_mag, mid_mag, max_mag]\n",
    "\n",
    "        # set position of legend box\n",
    "        box = ax.get_position()\n",
    "        ax.set_position([box.x0, box.y0 + box.height * 0.1,\n",
    "                         box.width, box.height * 0.9])\n",
    "\n",
    "        # create legend dots from mag_scale(mag) function\n",
    "        legend_dots = [mag_scale(m) for m in magnitudes]\n",
    "        labels = [\"Magnitude %.1f\" % m for m in magnitudes]\n",
    "\n",
    "        # add legend\n",
    "        ax.legend(legend_dots, labels, loc='upper center',\n",
    "                  bbox_to_anchor=(0.5, 0.1), ncol=5)\n",
    "\n",
    "        return qplot\n",
    "    \n",
    "    def plot_weekly(self):\n",
    "        '''Function to create weekly plots from earthquake data'''\n",
    "        df = self.data\n",
    "        \n",
    "        # extract date info from 'time' column\n",
    "        datetimes = map(lambda x: x[:-5], df['time'].values)\n",
    "        df['date'] = pd.to_datetime(datetimes, format = '%Y-%m-%dT%H:%M:%S')\n",
    "        df['date'] = df['date'].dt.date\n",
    "\n",
    "        # specify date ranges for subsetting rows of the dataframe\n",
    "        date_ranges = [\n",
    "            (dt.date(2016,10,13), dt.date(2016,10,19)),\n",
    "            (dt.date(2016,10,20), dt.date(2016,10,26)),\n",
    "            (dt.date(2016,10,27), dt.date(2016,11,2)),\n",
    "            (dt.date(2016,11,3), dt.date(2016,11,9)),\n",
    "            (dt.date(2016,11,10), dt.date(2016,11,16))\n",
    "        ]\n",
    "\n",
    "        # populate list of dataframes corresponding to date ranges\n",
    "        df_list = []\n",
    "        for i in range(len(date_ranges)):\n",
    "            start_date = date_ranges[i][0]\n",
    "            end_date = date_ranges[i][1]\n",
    "            tmp_df = df[(df['date'] >= start_date) & (df['date'] <= end_date)]\n",
    "            df_list.append(tmp_df)\n",
    "\n",
    "        num_plots = len(df_list)\n",
    "        \n",
    "        # create figure and axes\n",
    "        fig, ax = plt.subplots(num_plots, 1, figsize = (14*num_plots,10*num_plots))\n",
    "        \n",
    "        # loop through axes to create subplots corresponding to date ranges\n",
    "        for i in range(num_plots):\n",
    "            # create subplot title\n",
    "            start_date = str(date_ranges[i][0])\n",
    "            end_date = str(date_ranges[i][1])\n",
    "            title = 'Earthquakes from ' + start_date + ' to ' + end_date\n",
    "\n",
    "            # set axes and title\n",
    "            ax[i] = subplot(num_plots,1,i+1)\n",
    "            ax[i].set_title(title)\n",
    "            \n",
    "            # create plot via quake_plot method\n",
    "            self.quake_plot(df_list[i], fig, ax[i])\n",
    "            \n",
    "        plt.show()"
   ]
  },
  {
   "cell_type": "code",
   "execution_count": null,
   "metadata": {
    "collapsed": true
   },
   "outputs": [],
   "source": [
    "# testing QuakeMaps class\n",
    "q = QuakeMaps(data_10)\n",
    "q.quake_plot()\n",
    "q.plot_weekly()"
   ]
  }
 ],
 "metadata": {
  "anaconda-cloud": {},
  "kernelspec": {
   "display_name": "Python 2",
   "language": "python",
   "name": "python2"
  },
  "language_info": {
   "codemirror_mode": {
    "name": "ipython",
    "version": 2
   },
   "file_extension": ".py",
   "mimetype": "text/x-python",
   "name": "python",
   "nbconvert_exporter": "python",
   "pygments_lexer": "ipython2",
   "version": "2.7.13"
  }
 },
 "nbformat": 4,
 "nbformat_minor": 1
}
