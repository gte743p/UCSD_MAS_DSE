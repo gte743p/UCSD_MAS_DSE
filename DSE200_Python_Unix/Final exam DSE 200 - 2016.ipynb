{
 "cells": [
  {
   "cell_type": "markdown",
   "metadata": {},
   "source": [
    "# Final exam DSE 200"
   ]
  },
  {
   "cell_type": "markdown",
   "metadata": {},
   "source": [
    "Your task in this take-home exam is to analyze the evolution of poverty and income distribution in the United States.\n",
    "\n",
    "### Data source: \n",
    "\n",
    "https://www.census.gov/did/www/saipe/data/statecounty/data/index.html\n",
    "\n",
    "Use the given code snippet to access the data files\n",
    "\n",
    "The data fields are described here:https://www.census.gov/did/www/saipe/data/statecounty/data/2000.html \n",
    "Extract the required fields. The required fields are: \n",
    "   'State FIPS', 'County FIPS','Poverty Estimate All Ages', 'Poverty Percent All Ages', \n",
    "   'Poverty Estimate Under Age 18', 'Poverty Percent Under Age 18', 'Poverty Estimate Ages 5-17', \n",
    "   'Poverty Percent Ages 5-17', 'Median Household Income','Name','Postal'\n",
    " \n",
    "### Pandas Data-Frames\n",
    "\n",
    "1)\n",
    "    - create a data frame with just the country-wide data\n",
    "    - create a data frame with just the data of the states\n",
    "    - create a data frame with just the data of the counties\n",
    "\n",
    "    \n",
    "2) Plot a graph of 'Poverty Percent All Ages' of the entire country vs year (line graph).\n",
    "   Plot a graph of 'Median Household Income' of the entire country vs year (line graph)\n",
    "\n",
    "3) Plot the total poverty in each state across the years and compare it with the country-wide poverty\n",
    "\n",
    "4) Plot county-wide poverty stats\n",
    "\n",
    "- Create a dataframe with the Unique FIPS code (obtained by combining the state and county FIPS), 'Poverty Percent All Ages' in every county in 2000, 'Poverty Percent All Ages' in every county in 2013 and the change ratio between 2000 and 2013. (change ratio = poverty % in 2013 / poverty % in 2000. Divide this by the nationwide change ratio for normalization. A value > 1 indicates that poverty is higher compared to the nation-wide poverty and a value < 1 indicates that poverty is lower compared to the nationwide poverty.)\n",
    "\n",
    "\n",
    "FIPS code is a unique code to identify counties and states in the US. In this data you have been given state code and county code separately. You will have to combine the state code and the county code to generate a unique code for each place, which will be used to plot on the map. Please note that before combining, make sure the state code is 2 digits and county code is 3 digits by adding zeroes to the front.\n",
    "\n",
    "\n",
    "- Plot the 'Poverty Percent All Ages' for each county on the map for the years 2000 and 2013.\n",
    "- Plot the normalized change ratio on the map.\n",
    "- Find the counties which witnessed the most positive and most negative change in poverty,\n",
    "\n",
    "For this visualization, we will use a library called Vincent, which lets you plot data for places using their FIPS code instead of using latitude/longitude. \n",
    "\n",
    "To install vincent do\n",
    "`pip install vincent` or `conda install vincent`\n",
    "\n",
    "\n",
    "To use it in the notebook and display the maps inside the notebook do\n",
    "\n",
    "`import vincent`\n",
    "\n",
    "`vincent.core.initialize_notebook()`\n",
    "\n",
    "You can find further details about how to use it here - http://wrobstory.github.io/2013/10/mapping-data-python.html and https://github.com/wrobstory/vincent\n",
    "\n",
    "Before closing your notebook, please clear the output of the vincent maps as it becomes difficult of reload the notebook later. For plotting the counties on the map, you will need to use the file us_counties.topo.json present in the exam folder.\n",
    "\n",
    "Tips: -  \n",
    "    Check the type of datafields before operating on them. It will also help you debug for errors.\n",
    "    Clean the data before using it. Drop those rows before using them."
   ]
  },
  {
   "cell_type": "code",
   "execution_count": null,
   "metadata": {
    "collapsed": false
   },
   "outputs": [],
   "source": [
    "import urllib2\n",
    "import pandas as pd\n",
    "\n",
    "urls = ['https://www.census.gov/did/www/saipe/downloads/estmod93/est93ALL.dat',\n",
    "        'https://www.census.gov/did/www/saipe/downloads/estmod95/est95ALL.dat',\n",
    "        'https://www.census.gov/did/www/saipe/downloads/estmod97/est97ALL.dat',\n",
    "        'https://www.census.gov/did/www/saipe/downloads/estmod98/est98ALL.dat',\n",
    "        'https://www.census.gov/did/www/saipe/downloads/estmod99/est99ALL.dat',\n",
    "        'https://www.census.gov/did/www/saipe/downloads/estmod00/est00ALL.dat',\n",
    "        'https://www.census.gov/did/www/saipe/downloads/estmod01/est01ALL.dat',\n",
    "        'https://www.census.gov/did/www/saipe/downloads/estmod02/est02ALL.dat',\n",
    "        'https://www.census.gov/did/www/saipe/downloads/estmod03/est03ALL.dat',\n",
    "        'https://www.census.gov/did/www/saipe/downloads/estmod04/est04ALL.txt',\n",
    "        'https://www.census.gov/did/www/saipe/downloads/estmod05/est05ALL.txt',\n",
    "        'https://www.census.gov/did/www/saipe/downloads/estmod06/est06ALL.txt',\n",
    "        'https://www.census.gov/did/www/saipe/downloads/estmod07/est07ALL.txt',\n",
    "        'https://www.census.gov/did/www/saipe/downloads/estmod08/est08ALL.txt',\n",
    "        'https://www.census.gov/did/www/saipe/downloads/estmod09/est09ALL.txt',\n",
    "        'https://www.census.gov/did/www/saipe/downloads/estmod10/est10ALL.txt',\n",
    "        'https://www.census.gov/did/www/saipe/downloads/estmod11/est11all.txt',\n",
    "        'https://www.census.gov/did/www/saipe/downloads/estmod12/est12ALL.txt',\n",
    "        'https://www.census.gov/did/www/saipe/downloads/estmod13/est13ALL.txt']\n",
    "\n",
    "cols = [\n",
    "    'State FIPS', 'County FIPS', 'FIPS', 'Poverty Estimate All Ages', \n",
    "    'Poverty Percent All Ages', 'Poverty Estimate Under Age 18', \n",
    "    'Poverty Percent Under Age 18', 'Poverty Estimate Ages 5-17', \n",
    "    'Poverty Percent Ages 5-17', 'Median Household Income', 'Name',\n",
    "    'Postal', 'Year'\n",
    "]\n",
    "\n",
    "data_dict = {col: [] for col in cols}\n",
    "\n",
    "def getUrl(urls):\n",
    "    \n",
    "    for url in urls:\n",
    "        print 'processing', url\n",
    "        response = urllib2.urlopen(url)\n",
    "        lines = response.read().split('\\n')\n",
    "        del lines[-1]\n",
    "        \n",
    "        # extract year\n",
    "        year = int(url[-9:-7])\n",
    "        if year > 16:\n",
    "            year += 1900\n",
    "        else:\n",
    "            year += 2000\n",
    "        \n",
    "        # extract data\n",
    "        for line in lines:\n",
    "            data_dict['State FIPS'].append(line[:2].strip().rjust(2,'0'))\n",
    "            data_dict['County FIPS'].append(line[3:6].strip().rjust(3,'0'))\n",
    "            data_dict['FIPS'].append(' ')\n",
    "            data_dict['Poverty Estimate All Ages'].append(line[7:15].strip())\n",
    "            data_dict['Poverty Percent All Ages'].append(line[34:38].strip())\n",
    "            data_dict['Poverty Estimate Under Age 18'].append(line[49:57].strip())\n",
    "            data_dict['Poverty Percent Under Age 18'].append(line[76:80].strip())\n",
    "            data_dict['Poverty Estimate Ages 5-17'].append(line[91:99].strip())\n",
    "            data_dict['Poverty Percent Ages 5-17'].append(line[118:122].strip())\n",
    "            data_dict['Median Household Income'].append(line[133:139].strip())\n",
    "            data_dict['Name'].append(line[193:238].strip())\n",
    "            data_dict['Postal'].append(line[239:241].strip())\n",
    "            data_dict['Year'].append(year)\n",
    "            \n",
    "    return None\n",
    "        \n",
    "getUrl(urls)"
   ]
  },
  {
   "cell_type": "code",
   "execution_count": null,
   "metadata": {
    "collapsed": false
   },
   "outputs": [],
   "source": [
    "# make sure column lengths are the same\n",
    "for key in data_dict.keys():\n",
    "    print key,'column length is',len(data_dict[key])"
   ]
  },
  {
   "cell_type": "code",
   "execution_count": null,
   "metadata": {
    "collapsed": false,
    "scrolled": true
   },
   "outputs": [],
   "source": [
    "# create dataframe\n",
    "data_df = pd.DataFrame(data_dict)\n",
    "\n",
    "# reorder columns\n",
    "data_df = data_df[cols]"
   ]
  },
  {
   "cell_type": "code",
   "execution_count": null,
   "metadata": {
    "collapsed": true
   },
   "outputs": [],
   "source": [
    "import numpy as np\n",
    "\n",
    "# replace '.' values with NaN\n",
    "data_df = data_df.replace('.', np.NaN)"
   ]
  },
  {
   "cell_type": "code",
   "execution_count": null,
   "metadata": {
    "collapsed": false
   },
   "outputs": [],
   "source": [
    "# check for null values\n",
    "print 'Checking Null values:'    \n",
    "\n",
    "for col in cols:\n",
    "    print col, 'null values:', data_df[col].isnull().sum()"
   ]
  },
  {
   "cell_type": "code",
   "execution_count": null,
   "metadata": {
    "collapsed": false
   },
   "outputs": [],
   "source": [
    "# drop null values\n",
    "print 'dataframe shape before dropping NaN values:', data_df.shape\n",
    "data_df = data_df.dropna()\n",
    "print 'dataframe shape after dropping NaN values:', data_df.shape"
   ]
  },
  {
   "cell_type": "code",
   "execution_count": null,
   "metadata": {
    "collapsed": false
   },
   "outputs": [],
   "source": [
    "# convert data to numeric\n",
    "data_df = data_df.apply(lambda x: pd.to_numeric(x, errors='ignore'))\n",
    "\n",
    "# convert FIPS columns back to strings of appropriate format\n",
    "data_df['State FIPS'] = data_df['State FIPS'].apply(lambda x: str(x).rjust(2,'0'))\n",
    "data_df['County FIPS'] = data_df['County FIPS'].apply(lambda x: str(x).rjust(3,'0'))\n",
    "\n",
    "# concatenate State FIPS and County FIPS to create FIPS column data\n",
    "data_df['FIPS'] = data_df.apply(lambda x: x['State FIPS'] + x['County FIPS'], axis = 1)\n",
    "\n",
    "# check data types\n",
    "print 'Checking data types:'\n",
    "for col in cols:\n",
    "    print col, 'is', type(data_df[col].values[0])"
   ]
  },
  {
   "cell_type": "code",
   "execution_count": null,
   "metadata": {
    "collapsed": false
   },
   "outputs": [],
   "source": [
    "# check dataframe\n",
    "data_df.head()"
   ]
  },
  {
   "cell_type": "markdown",
   "metadata": {},
   "source": [
    "### Q1: Create the dataframes\n",
    "\n",
    "Download and parse the data files and create the following three pandas dataframes: (your dataframes should have data in the format shown below)\n",
    "\n",
    " * US_stat: statistics for the whole United States.\n",
    " * states_stat: Statistics for each state.\n",
    " * county_stat: Statistics for each county."
   ]
  },
  {
   "cell_type": "code",
   "execution_count": null,
   "metadata": {
    "collapsed": false
   },
   "outputs": [],
   "source": [
    "# filter full dataframe by Name\n",
    "US_stat = data_df[data_df['Name'] == 'United States']\n",
    "\n",
    "# set index to Year\n",
    "US_stat = US_stat.set_index('Year')\n",
    "\n",
    "# check dataframe\n",
    "print 'US_stat dataframe shape is', US_stat.shape\n",
    "print 'same length as number of years? ', len(US_stat) == len(urls)\n",
    "US_stat.head()"
   ]
  },
  {
   "cell_type": "code",
   "execution_count": null,
   "metadata": {
    "collapsed": false
   },
   "outputs": [],
   "source": [
    "# reset index to Postal and Year\n",
    "states_stat = data_df.set_index(['Postal', 'Year'])\n",
    "\n",
    "# remove county level data by selecting only FIPS code '000'\n",
    "states_stat = states_stat[states_stat['County FIPS'] == '000']\n",
    "\n",
    "# remove rows where 'Name' is 'United States'\n",
    "states_stat = states_stat[states_stat['Name'] != 'United States']\n",
    "\n",
    "# sort by index\n",
    "states_stat = states_stat.sort_index()\n",
    "\n",
    "# check dataframe\n",
    "print 'states_stat dataframe shape is', states_stat.shape\n",
    "print 'same length as number of states times number of years?', \\\n",
    "    len(states_stat) == len(urls) * len(states_stat.Name.unique())\n",
    "states_stat.head()"
   ]
  },
  {
   "cell_type": "code",
   "execution_count": null,
   "metadata": {
    "collapsed": false
   },
   "outputs": [],
   "source": [
    "# reset index to Postal and Year\n",
    "county_stat = data_df.set_index(['Postal', 'FIPS', 'Year'])\n",
    "\n",
    "# remove non-county level data by selecting only FIPS code not equal '000'\n",
    "county_stat = county_stat[county_stat['County FIPS'] != '000']\n",
    "\n",
    "# remove rows where 'Name' is 'United States'\n",
    "county_stat = county_stat[county_stat['Name'] != 'United States']\n",
    "\n",
    "# sort by index\n",
    "county_stat = county_stat.sort_index()\n",
    "\n",
    "# check dataframe\n",
    "print 'county_stat dataframe shape is', county_stat.shape\n",
    "#print 'same length as number of states times number of years?', \\\n",
    "#    len(county_stat) == len(urls) * len(county_stat.Name.unique())\n",
    "county_stat.head()"
   ]
  },
  {
   "cell_type": "code",
   "execution_count": null,
   "metadata": {
    "collapsed": false
   },
   "outputs": [],
   "source": [
    "import matplotlib.pyplot as plt\n",
    "%pylab inline"
   ]
  },
  {
   "cell_type": "markdown",
   "metadata": {},
   "source": [
    "### Q2. Plot the US-wide statistics on poverty.\n",
    "\n",
    "Plot the 'Poverty Percent All Ages' and 'Median Household Income' across entire US over the years. \n",
    "\n",
    "Compute the percentage of increase in poverty in the US between 2000 and 2013. - [poverty % in 2013] / [poverty % in 2000]"
   ]
  },
  {
   "cell_type": "code",
   "execution_count": null,
   "metadata": {
    "collapsed": false,
    "scrolled": true
   },
   "outputs": [],
   "source": [
    "# calculate percentage median income increase\n",
    "income_2000 = US_stat.loc[2000]['Median Household Income']\n",
    "income_2013 = US_stat.loc[2013]['Median Household Income']\n",
    "income_increase = float(income_2013) / income_2000\n",
    "print 'nationwide median income in 2000 =', income_2000\n",
    "print 'nationwide median income in 2013 =', income_2013\n",
    "print 'nationwide income change ratio from 2000 to 2013 =', income_increase\n",
    "\n",
    "# calculate percentage poverty increase\n",
    "poverty_2000 = US_stat.loc[2000]['Poverty Percent All Ages']\n",
    "poverty_2013 = US_stat.loc[2013]['Poverty Percent All Ages']\n",
    "poverty_increase = poverty_2013 / poverty_2000\n",
    "print '\\nnationwide poverty percent in 2000 =', poverty_2000\n",
    "print 'nationwide poverty percent in 2013 =', poverty_2013\n",
    "print 'nationwide poverty percent change ratio from 2000 to 2013 =', poverty_increase\n",
    "\n",
    "# create figure and axes\n",
    "fig, ax = plt.subplots(1,2, figsize=(10, 3))\n",
    "\n",
    "# create first subplot\n",
    "ax[0].plot(US_stat['Median Household Income'].index.values, US_stat['Median Household Income'].values, 'b-')\n",
    "ax[0].grid()\n",
    "ax[0].set_title('Median Household Income ($)')\n",
    "#ax[0].set_ylabel('$')\n",
    "\n",
    "ax[1].plot(US_stat['Poverty Percent All Ages'].index.values, US_stat['Poverty Percent All Ages'].values, 'b-')\n",
    "ax[1].grid()\n",
    "ax[1].set_title('Poverty Percent All Ages (%)')\n",
    "#ax[1].set_ylabel('%')\n",
    "\n",
    "plt.show()"
   ]
  },
  {
   "cell_type": "markdown",
   "metadata": {},
   "source": [
    "### 2000 was a good year\n",
    "\n",
    "We see from these graphs that even though the median household in the US keeps increasing at a more or less constant rate, the poverty levels reached a minimum at 2000 and have increased dramatically , by 40% since then.\n",
    "\n",
    "We will now attempt to identify the geographic distribution of the rise in poverty since 2000.\n",
    "\n",
    "We start by plotting the time evolution of poverty for each of the states.\n",
    "\n",
    "### Q3: Plot the change in poverty percentages by state.\n",
    "\n",
    "For each state, plot the poverty levels across time and compare it with the nation-wide poverty level. Produce a graph similar to the ones below."
   ]
  },
  {
   "cell_type": "code",
   "execution_count": null,
   "metadata": {
    "collapsed": false
   },
   "outputs": [],
   "source": [
    "# get nationwide poverty percentage values\n",
    "US_poverty = US_stat['Poverty Percent All Ages'].values\n",
    "\n",
    "# get years for data\n",
    "years = US_stat['Poverty Percent All Ages'].index.values\n",
    "\n",
    "# get list of states\n",
    "states = states_stat.index.get_level_values('Postal').unique()\n",
    "\n",
    "# create figure and axes for plots\n",
    "fig, ax = plt.subplots(11,5, figsize=(10, 20), sharex=True, sharey=True)\n",
    "\n",
    "# create plots\n",
    "state_index = 0\n",
    "for i in range(11):\n",
    "    for j in range(5):\n",
    "        if state_index >= len(states):\n",
    "            break\n",
    "        else:\n",
    "            state = states[state_index]\n",
    "            state_index += 1\n",
    "            state_poverty = states_stat.loc[state]['Poverty Percent All Ages'].values\n",
    "            ax[i, j].plot(years, US_poverty, 'b-', label = 'US Poverty Percentage')\n",
    "            ax[i, j].plot(years, state_poverty, 'r-', label = 'State Poverty Percentage')\n",
    "            ax[i, j].set_title(state)\n",
    "            ax[i, j].grid()           \n",
    "\n",
    "# rotate x-axis ticklabels\n",
    "for j in range(5):\n",
    "    for label in ax[10, j].get_xticklabels():\n",
    "        label.set_rotation(45)\n",
    "\n",
    "# create main figure title\n",
    "fig.suptitle('Percentage Poverty by State from 1993 to 2013', \n",
    "             fontsize = 14, fontweight = 'bold', y = 0.93)\n",
    "\n",
    "# adjust vertical spacing between subplots\n",
    "fig.subplots_adjust(hspace = 0.35)\n",
    "\n",
    "# add legend to figure\n",
    "#handles, labels = ax[0,0].get_legend_handles_labels()\n",
    "#plt.figlegend(handles, labels, 'upper center')\n",
    "\n",
    "plt.show()"
   ]
  },
  {
   "cell_type": "markdown",
   "metadata": {},
   "source": [
    "### Q4: plot poverty statistics by county\n",
    "\n",
    "Using the vincent library and the dataframe `county_stat`, generate the following three maps.\n",
    "\n",
    "1. Overall percentage of poverty for each county in 2000.\n",
    "![poverty2000](Poverty2000.jpg)\n",
    "1. Overall percentage of poverty for each county in 2013.\n",
    "![poverty2013](Poverty2013.jpg)\n",
    "1. Ratio between percentage of change in poverty from 2000 to 2013 for each county. Divided by the nation-wide change in poverty (1.39).\n",
    "![povertyChange](PovertyChange.jpg)"
   ]
  },
  {
   "cell_type": "code",
   "execution_count": null,
   "metadata": {
    "collapsed": false
   },
   "outputs": [],
   "source": [
    "import vincent\n",
    "vincent.core.initialize_notebook()"
   ]
  },
  {
   "cell_type": "code",
   "execution_count": null,
   "metadata": {
    "collapsed": false
   },
   "outputs": [],
   "source": [
    "# function to get data for any year\n",
    "def get_data_for_year(input_df, year):\n",
    "    'Function returns data for specific year and converts FIPS column to integer'\n",
    "    return_df = input_df.reset_index()\n",
    "    return_df = return_df[return_df['Year'] == year]\n",
    "    return_df['FIPS'] = return_df['FIPS'].apply(lambda x: int(x))\n",
    "    return return_df"
   ]
  },
  {
   "cell_type": "code",
   "execution_count": null,
   "metadata": {
    "collapsed": false
   },
   "outputs": [],
   "source": [
    "# get county data for year 2000\n",
    "county_2000 = get_data_for_year(county_stat, 2000)\n",
    "county_2000.head()"
   ]
  },
  {
   "cell_type": "code",
   "execution_count": null,
   "metadata": {
    "collapsed": false,
    "scrolled": true
   },
   "outputs": [],
   "source": [
    "# plot poverty percent by county for year 2000\n",
    "county_topo = 'us_counties.topo.json'\n",
    "\n",
    "geo_data = [{'name': 'counties',\n",
    "             'url': county_topo,\n",
    "             'feature': 'us_counties.geo'}]\n",
    "\n",
    "vis_pov_2000 = vincent.Map(data=county_2000, geo_data=geo_data, scale=850, projection='albersUsa',\n",
    "                  data_bind='Poverty Percent All Ages', data_key='FIPS', \n",
    "                  map_key={'counties': 'properties.FIPS'})\n",
    "\n",
    "vis_pov_2000.marks[0].properties.enter.stroke_opacity = vincent.ValueRef(value=0.35)\n",
    "\n",
    "vis_pov_2000.legend(title='Poverty 2000 (%)')\n",
    "\n",
    "# change color scales\n",
    "vis_pov_2000.scales['color'].type = 'threshold'\n",
    "vis_pov_2000.scales['color'].domain = [0, 4, 6, 8, 10, 12, 20, 30]\n",
    "\n",
    "vis_pov_2000.display()"
   ]
  },
  {
   "cell_type": "code",
   "execution_count": null,
   "metadata": {
    "collapsed": false
   },
   "outputs": [],
   "source": [
    "# get county data for year 2013\n",
    "county_2013 = get_data_for_year(county_stat, 2013)\n",
    "county_2013.head()"
   ]
  },
  {
   "cell_type": "code",
   "execution_count": null,
   "metadata": {
    "collapsed": false
   },
   "outputs": [],
   "source": [
    "# plot poverty data by county for year 2013\n",
    "county_topo = 'us_counties.topo.json'\n",
    "\n",
    "geo_data = [{'name': 'counties',\n",
    "             'url': county_topo,\n",
    "             'feature': 'us_counties.geo'}]\n",
    "\n",
    "vis_pov_2013 = vincent.Map(data=county_2013, geo_data=geo_data, scale=850, projection='albersUsa',\n",
    "                  data_bind='Poverty Percent All Ages', data_key='FIPS', \n",
    "                  map_key={'counties': 'properties.FIPS'})\n",
    "\n",
    "vis_pov_2013.marks[0].properties.enter.stroke_opacity = vincent.ValueRef(value=0.35)\n",
    "\n",
    "vis_pov_2013.legend(title='Poverty 2013 (%)')\n",
    "\n",
    "# change color scales\n",
    "vis_pov_2013.scales['color'].type = 'threshold'\n",
    "vis_pov_2013.scales['color'].domain = [0, 4, 6, 8, 10, 12, 20, 30]\n",
    "\n",
    "vis_pov_2013.display()"
   ]
  },
  {
   "cell_type": "code",
   "execution_count": null,
   "metadata": {
    "collapsed": false
   },
   "outputs": [],
   "source": [
    "# create dataframes for year 2000 and 2013 with only select columns\n",
    "cols = ['FIPS', 'Name', 'Postal', 'Poverty Percent All Ages', 'Median Household Income']\n",
    "county_2000_sub = county_2000[cols]\n",
    "county_2013_sub = county_2013[cols]\n",
    "\n",
    "# rename columns\n",
    "county_2000_sub.columns = ['FIPS', 'Name', 'Postal', 'Poverty Percent 2000', 'Median Income 2000']\n",
    "county_2013_sub.columns = ['FIPS', 'Name', 'Postal', 'Poverty Percent 2013', 'Median Income 2013']\n",
    "\n",
    "# merge dataframes\n",
    "comparison_df = pd.merge(county_2000_sub, county_2013_sub, on=['FIPS', 'Name', 'Postal'], how='inner')\n",
    "\n",
    "# add percent change ratio column\n",
    "comparison_df['Poverty Change'] = comparison_df['Poverty Percent 2013'] / comparison_df['Poverty Percent 2000']\n",
    "comparison_df['Poverty Change'] = comparison_df['Poverty Change'].apply(lambda x: x / poverty_increase)\n",
    "\n",
    "comparison_df['Income Change'] = comparison_df['Median Income 2013'] / comparison_df['Median Income 2000']\n",
    "comparison_df['Income Change'] = comparison_df['Income Change'].apply(lambda x: x / income_increase)\n",
    "\n",
    "comparison_df.head()"
   ]
  },
  {
   "cell_type": "code",
   "execution_count": null,
   "metadata": {
    "collapsed": false
   },
   "outputs": [],
   "source": [
    "# plot change in poverty by county from year 2000 to year 2013\n",
    "county_topo = 'us_counties.topo.json'\n",
    "\n",
    "geo_data = [{'name': 'counties',\n",
    "             'url': county_topo,\n",
    "             'feature': 'us_counties.geo'}]\n",
    "\n",
    "vis_pov_comp = vincent.Map(data=comparison_df, geo_data=geo_data, scale=850, projection='albersUsa',\n",
    "                  data_bind='Poverty Change', data_key='FIPS', \n",
    "                  map_key={'counties': 'properties.FIPS'})\n",
    "\n",
    "vis_pov_comp.marks[0].properties.enter.stroke_opacity = vincent.ValueRef(value=0.35)\n",
    "\n",
    "vis_pov_comp.legend(title='Poverty Change 2000-2013')\n",
    "\n",
    "# change color scales\n",
    "vis_pov_comp.scales['color'].type = 'threshold'\n",
    "vis_pov_comp.scales['color'].domain = [0, 0.8, 0.9, 1, 1.1, 1.2, 1.3]\n",
    "\n",
    "# change to divergent color scheme\n",
    "#vis_pov_comp.scales['color'].range = [\"#abdda4\",\"#f46d43\"]\n",
    "#vis_pov_comp.colors(brew='YlGnBu')\n",
    "#vis_pov_comp.colors(brew='Spectral')\n",
    "\n",
    "vis_pov_comp.display()"
   ]
  },
  {
   "cell_type": "markdown",
   "metadata": {},
   "source": [
    "### Q5: Identify the extremes.\n",
    "Find out which are the counties in which the poverty percentage increased or decreased the most during the period 2000 - 2013."
   ]
  },
  {
   "cell_type": "code",
   "execution_count": null,
   "metadata": {
    "collapsed": false,
    "scrolled": true
   },
   "outputs": [],
   "source": [
    "# find counties with largest increase in poverty percent\n",
    "largest_increase = comparison_df.sort_values('Poverty Change', ascending=False)\n",
    "largest_increase.head(10)"
   ]
  },
  {
   "cell_type": "markdown",
   "metadata": {},
   "source": [
    "Of the top 10 counties with the largest poverty change, four are in Michigan.  \n",
    "\n",
    "Below we find the top 500 counties with the largest increase in poverty, and create a bar chart of the states with the most counties in the top 500.  The five states with the most counties in the top 500 are Indiana, Michigan, Georgia, Ohio, and Wisconsin."
   ]
  },
  {
   "cell_type": "code",
   "execution_count": null,
   "metadata": {
    "collapsed": false
   },
   "outputs": [],
   "source": [
    "n = 500\n",
    "top_states = largest_increase[:n]['Postal'].value_counts()[:10]\n",
    "x_pos = np.arange(len(top_states))\n",
    "plt.bar(x_pos, top_states.values, alpha = 0.5)\n",
    "plt.xticks(x_pos + 0.5, top_states.index, rotation = 45, size = 'small')\n",
    "plt.ylabel('Number of Counties')\n",
    "plt.title('States with Most Counties in Top '+str(n)+' Poverty Change')\n",
    "plt.axes().yaxis.grid()\n",
    "plt.show();"
   ]
  },
  {
   "cell_type": "markdown",
   "metadata": {},
   "source": [
    "Below is a graph of all counties in which the poverty change was simply above the national average."
   ]
  },
  {
   "cell_type": "code",
   "execution_count": null,
   "metadata": {
    "collapsed": false
   },
   "outputs": [],
   "source": [
    "all_increase = comparison_df[comparison_df['Poverty Change'] > 1]\n",
    "top_states = all_increase['Postal'].value_counts()[:10]\n",
    "x_pos = np.arange(len(top_states))\n",
    "plt.bar(x_pos, top_states.values, alpha = 0.5)\n",
    "plt.xticks(x_pos + 0.5, top_states.index, rotation = 45, size = 'small')\n",
    "plt.ylabel('Number of Counties')\n",
    "plt.title('States with Most Counties with Poverty Change > 1')      \n",
    "plt.axes().yaxis.grid()\n",
    "plt.show();"
   ]
  },
  {
   "cell_type": "markdown",
   "metadata": {},
   "source": [
    "The top states by number of counties with poverty change above the national average are GA, IN, OH, MI, and NC.  Four of these five states are also found in the top five states by number of counties with poverty change among the top 500 in the nation.  So states that tend to have the most counties with the highest increases in poverty also have lots of counties with merely above average increases in poverty.\n",
    "\n",
    "Below, we find the counties with the lowest poverty change."
   ]
  },
  {
   "cell_type": "code",
   "execution_count": null,
   "metadata": {
    "collapsed": false
   },
   "outputs": [],
   "source": [
    "# find counties with smallest increase (or largest decrease) in poverty percent\n",
    "smallest_increase = comparison_df.sort_values('Poverty Change', ascending=True)\n",
    "smallest_increase.head(10)"
   ]
  },
  {
   "cell_type": "markdown",
   "metadata": {},
   "source": [
    "Of the top 10 counties with the smallest poverty change, four are in North Dakota, and three are in Texas.  \n",
    "\n",
    "Below we create a list of the top 500 counties with the smallest poverty change, and a bar chart of the states with the most counties in the list.  We see that by far the state with the most counties in the list is Texas, followed by North Dakota, Oklahoma, South Dakota, and Nebraska. "
   ]
  },
  {
   "cell_type": "code",
   "execution_count": null,
   "metadata": {
    "collapsed": false
   },
   "outputs": [],
   "source": [
    "n = 500\n",
    "bottom_states = smallest_increase[:n]['Postal'].value_counts()[:10]\n",
    "\n",
    "x_pos = np.arange(len(bottom_states))\n",
    "plt.bar(x_pos, bottom_states.values, alpha = 0.5)\n",
    "plt.xticks(x_pos + 0.5, bottom_states.index, rotation = 45, size = 'small')\n",
    "plt.ylabel('Number of Counties')\n",
    "plt.title('States with Most Counties in Bottom '+str(n)+' Poverty Change')\n",
    "plt.axes().yaxis.grid()\n",
    "plt.show();"
   ]
  },
  {
   "cell_type": "markdown",
   "metadata": {},
   "source": [
    "Below is a graph of state counts for all counties in which the poverty change was simply below the national average (rather than in the more extreme group consisting of the bottom 500)."
   ]
  },
  {
   "cell_type": "code",
   "execution_count": null,
   "metadata": {
    "collapsed": false
   },
   "outputs": [],
   "source": [
    "all_decrease = comparison_df[comparison_df['Poverty Change'] < 1]\n",
    "bottom_states = all_decrease['Postal'].value_counts()[:10]\n",
    "x_pos = np.arange(len(bottom_states))\n",
    "plt.bar(x_pos, bottom_states.values, alpha = 0.5)\n",
    "plt.xticks(x_pos + 0.5, bottom_states.index, rotation = 45, size = 'small')\n",
    "plt.ylabel('Number of Counties')\n",
    "plt.title('States with the Most Counties with Poverty Change < 1')      \n",
    "plt.axes().yaxis.grid()\n",
    "plt.show();"
   ]
  },
  {
   "cell_type": "markdown",
   "metadata": {},
   "source": [
    "We find that the top state is TX, again by a large margin.  The remainder of the top five states are VA, NE, KY, and OK.  Of those, VA and KY were not among the top 10 states when limited to the top 500 counties.  Apparently VA and KY had lots of counties with poverty increases below the national average, but perhaps not so many counties that were far enough below the national average as to appear in the top 500."
   ]
  },
  {
   "cell_type": "markdown",
   "metadata": {},
   "source": [
    "### Further Analysis - Georgia\n",
    "Interestingly, GA - the state with the most counties in the top 500 for highest poverty growth - is seventh in the list of states with counties having below national average poverty growth.  This could simply indicate that GA has a large number of counties.  However, GA did not appear among the top 10 states with counties in the bottom 500 for poverty growth, which may indicate that the counties in GA that experienced above average poverty growth were more likely to be in the extremes nationwide (i.e. in the top 500 counties for poverty growth) than counties that experienced below average growth were to fall in the bottom 500.  In other words, there may be a skewed distribution where many counties in GA experienced very high poverty growth, while among those that experienced low poverty growth, only a few experienced very low poverty growth.\n",
    "\n",
    "We can determine how many counties in GA fell into each of the categories."
   ]
  },
  {
   "cell_type": "code",
   "execution_count": null,
   "metadata": {
    "collapsed": false
   },
   "outputs": [],
   "source": [
    "print 'GA counties with above average increase in poverty:',all_increase['Postal'].value_counts()['GA']\n",
    "print 'GA counties in top 500 increase in poverty:',largest_increase[:500]['Postal'].value_counts()['GA']\n",
    "\n",
    "print 'GA counties with below average increase in poverty:',all_decrease['Postal'].value_counts()['GA']\n",
    "print 'GA counties in bottom 500 increase in poverty:',smallest_increase[:500]['Postal'].value_counts()['GA']"
   ]
  },
  {
   "cell_type": "markdown",
   "metadata": {},
   "source": [
    "Of the 88 counties in GA that experienced an above average increase in poverty between 2000 and 2013, 48 of those were in the top 500 counties in terms of poverty increase, but of the 71 counties in GA that experienced a below average increase in poverty, only 1 was in the bottom 500 counties in terms of poverty increase.\n",
    "\n",
    "This confirms that the counties in GA that experienced above average increases in poverty were likely to be counties that had some of the highest increases in poverty nationwide, while counties in GA that experienced below average increases in poverty were not among the lowest in the country.\n",
    "\n",
    "To investigate this, below is a scatter plot of GA Poverty Percent in 2000 vs. 2013, with a line of slope equal to the national average change in poverty of 1.39 added for reference.  We can see that most of the data that falls below the line (i.e. below average poverty change) is still fairly close to the line, while the data that falls above the line (i.e. above average poverty change) is more likely to fall further from the line."
   ]
  },
  {
   "cell_type": "code",
   "execution_count": null,
   "metadata": {
    "collapsed": false
   },
   "outputs": [],
   "source": [
    "GA_df = comparison_df[comparison_df['Postal'] ==  'GA']\n",
    "GA_pov_2000 = GA_df['Poverty Percent 2000'].values\n",
    "GA_pov_2013 = GA_df['Poverty Percent 2013'].values\n",
    "plt.scatter(GA_pov_2000, GA_pov_2013, alpha = 0.4)\n",
    "plt.xlabel('GA Poverty Percent 2000')\n",
    "plt.ylabel('GA Poverty Percent 2013')\n",
    "plt.title('GA Poverty Percent in 2000 vs. 2013')\n",
    "plt.plot([5,30],[5*poverty_increase,30*poverty_increase],'g--',linewidth = 2, label = 'Line of Slope 1.39')\n",
    "plt.legend()\n",
    "plt.show();"
   ]
  },
  {
   "cell_type": "markdown",
   "metadata": {},
   "source": [
    "Additionally, below are histograms of poverty change by county for GA only, and for the nation as a whole.  We can clearly see that the distribution for the state of GA is right skewed.  While lots of counties fall both above and below 1 (which corresponds to the national average poverty change), very few counties fall below 0.78 (which corresponds to the poverty change cutoff for the bottom 500 counties), but many counties fall above 1.13 (the poverty change cutoff for the top 500 counties)."
   ]
  },
  {
   "cell_type": "code",
   "execution_count": null,
   "metadata": {
    "collapsed": false
   },
   "outputs": [],
   "source": [
    "cutoff_top = largest_increase[:500]['Poverty Change'].min()\n",
    "cutoff_bottom = smallest_increase[:500]['Poverty Change'].max()\n",
    "#print len(comparison_df[comparison_df['Poverty Change']>=cutoff_top])\n",
    "#print len(comparison_df[comparison_df['Poverty Change']<=cutoff_bottom])\n",
    "print 'poverty change cutoff for top 500 counties =', cutoff_top\n",
    "print 'poverty change cutoff for bottom 500 counties = ',cutoff_bottom"
   ]
  },
  {
   "cell_type": "code",
   "execution_count": null,
   "metadata": {
    "collapsed": false
   },
   "outputs": [],
   "source": [
    "fig, ax = subplots(2,1,figsize=(5,5), sharex=True)\n",
    "ax[0].hist(GA_df['Poverty Change'].values, bins = 20, alpha = 0.5)\n",
    "ax[0].xaxis.grid()\n",
    "ax[0].set_title('Poverty Change - GA Only')\n",
    "ax[1].hist(comparison_df['Poverty Change'].values, bins = 30, alpha = 0.5)\n",
    "ax[1].xaxis.grid()\n",
    "ax[1].set_title('Poverty Change - Nationwide')\n",
    "plt.show()"
   ]
  },
  {
   "cell_type": "markdown",
   "metadata": {},
   "source": [
    "### Further Analysis - Median Income and Poverty Change\n",
    "Some functions have been created to simplify the analysis process.  Below is a function to determine the percentage makeup of total poverty estimates by age group."
   ]
  },
  {
   "cell_type": "code",
   "execution_count": null,
   "metadata": {
    "collapsed": false
   },
   "outputs": [],
   "source": [
    "# function to calculate percentage makeup of total poverty estimates by age group\n",
    "def add_pct_by_age(input_df):\n",
    "    'Function to create additional dataframe columns indicating percentage makeup of total poverty by age group'\n",
    "    return_df = input_df.reset_index()\n",
    "    \n",
    "    # add column for child and adult poverty estimates\n",
    "    return_df['Poverty Estimate Under 5'] = return_df['Poverty Estimate Under Age 18'] - return_df['Poverty Estimate Ages 5-17']\n",
    "    return_df['Poverty Estimate Over 18'] = return_df['Poverty Estimate All Ages'] - return_df['Poverty Estimate Under Age 18']\n",
    "    \n",
    "    # add columns for percent of each group contribution to total poverty estimates\n",
    "    return_df['Pct of Total Under 5'] = return_df['Poverty Estimate Under 5'] / return_df['Poverty Estimate All Ages']\n",
    "    return_df['Pct of Total Over 18'] = return_df['Poverty Estimate Over 18'] / return_df['Poverty Estimate All Ages']\n",
    "    return_df['Pct of Total 5-17'] = return_df['Poverty Estimate Ages 5-17'] / return_df['Poverty Estimate All Ages']\n",
    "    \n",
    "    # reformat new columns\n",
    "    return_df['Pct of Total Under 5'] = return_df['Pct of Total Under 5'].apply(lambda x: round(100 * x, 1))\n",
    "    return_df['Pct of Total Over 18'] = return_df['Pct of Total Over 18'].apply(lambda x: round(100 * x, 1))\n",
    "    return_df['Pct of Total 5-17'] = return_df['Pct of Total 5-17'].apply(lambda x: round(100 * x, 1))\n",
    "    \n",
    "    # remove extraneous index column\n",
    "    return_df = return_df.drop('index', axis=1)\n",
    "    return return_df"
   ]
  },
  {
   "cell_type": "markdown",
   "metadata": {},
   "source": [
    "Below is a second function, which creates a county comparison dataframe from input values that indicate a start and end year and a column to be compared, and a boolean input to control whether the comparison is normalized by dividing the change for each county by the national change."
   ]
  },
  {
   "cell_type": "code",
   "execution_count": null,
   "metadata": {
    "collapsed": true
   },
   "outputs": [],
   "source": [
    "# function to create county comparison dataframe from input years and column to compare\n",
    "def create_comparison_df(startYr, endYr, col, bnormalize):\n",
    "    '''\n",
    "    Function to create county comparison dataframe.\n",
    "    startYr:  first year of data for comparison\n",
    "    endYr:  second year of data for comparison\n",
    "    col:  column name of data for comparison\n",
    "    bnormalize:  boolean indicating whether to normalize change by dividing by national average change\n",
    "    '''\n",
    "    # create startYr and endYr dataframes\n",
    "    start_df = get_data_for_year(county_stat, startYr)\n",
    "    end_df = get_data_for_year(county_stat, endYr)\n",
    "    start_df = add_pct_by_age(start_df)\n",
    "    end_df = add_pct_by_age(end_df)\n",
    "    \n",
    "    # calculate national base rate of change for column of interest\n",
    "    US_stat_start = get_data_for_year(US_stat, startYr)\n",
    "    US_stat_end = get_data_for_year(US_stat, endYr)\n",
    "    US_stat_start = add_pct_by_age(US_stat_start)\n",
    "    US_stat_end = add_pct_by_age(US_stat_end)\n",
    "    \n",
    "    base_start = US_stat_start[US_stat_start['Year'] == startYr][col]\n",
    "    base_end = US_stat_end[US_stat_end['Year'] == endYr][col]\n",
    "    if bnormalize:\n",
    "        base_change = base_end / base_start\n",
    "    else:\n",
    "        base_change = 1.0\n",
    "    \n",
    "    # create year dataframes with only select columns\n",
    "    cols = ['FIPS', 'Name', 'Postal']\n",
    "    cols.append(col)\n",
    "    start_df_sub = start_df[cols]\n",
    "    end_df_sub = end_df[cols]\n",
    "\n",
    "    # rename columns\n",
    "    startCol = col+' '+str(startYr)\n",
    "    endCol = col+' '+str(endYr)\n",
    "    start_df_sub.columns = ['FIPS', 'Name', 'Postal', startCol]\n",
    "    end_df_sub.columns = ['FIPS', 'Name', 'Postal', endCol]\n",
    "\n",
    "    # merge dataframes\n",
    "    comparison_df = pd.merge(start_df_sub, end_df_sub, on=['FIPS', 'Name', 'Postal'], how='inner')\n",
    "\n",
    "    # add percent change ratio column\n",
    "    colName = col + ' Change'\n",
    "    comparison_df[colName] = comparison_df[endCol] / comparison_df[startCol]\n",
    "    comparison_df[colName] = comparison_df[colName].apply(lambda x: x / base_change)\n",
    "\n",
    "    return comparison_df"
   ]
  },
  {
   "cell_type": "markdown",
   "metadata": {},
   "source": [
    "Here we create a dataframe comparing median household income by county in year 2000 and year 2013, followed by a plot of the county data using the vincent package.\n",
    "\n",
    "As was done previously for poverty change, we normalize median income change by dividing by the national average change in median income.  This results in change values less than 1 indicating income growth lower than national average income growth, and change values greater than 1 indicating an income growth larger than the national average."
   ]
  },
  {
   "cell_type": "code",
   "execution_count": null,
   "metadata": {
    "collapsed": false
   },
   "outputs": [],
   "source": [
    "income_comp_df = create_comparison_df(2000, 2013, 'Median Household Income', True)\n",
    "income_comp_df.head()"
   ]
  },
  {
   "cell_type": "code",
   "execution_count": null,
   "metadata": {
    "collapsed": false
   },
   "outputs": [],
   "source": [
    "# plot change in median household income county from year 2000 to year 2013\n",
    "county_topo = 'us_counties.topo.json'\n",
    "\n",
    "geo_data = [{'name': 'counties',\n",
    "             'url': county_topo,\n",
    "             'feature': 'us_counties.geo'}]\n",
    "\n",
    "vis_inc_comp = vincent.Map(data=income_comp_df, geo_data=geo_data, scale=850, projection='albersUsa',\n",
    "                  data_bind='Median Household Income Change', data_key='FIPS', \n",
    "                  map_key={'counties': 'properties.FIPS'})\n",
    "\n",
    "vis_inc_comp.marks[0].properties.enter.stroke_opacity = vincent.ValueRef(value=0.35)\n",
    "\n",
    "vis_inc_comp.legend(title='Income Change 2000-2013')\n",
    "\n",
    "# change color scales\n",
    "vis_inc_comp.scales['color'].type = 'threshold'\n",
    "vis_inc_comp.scales['color'].domain = [0, 0.8, 0.9, 1, 1.1, 1.2, 1.3]\n",
    "#vis_inc_comp.scales['color'].domain = [1.3, 1.2, 1.1, 1, 0.9, 0.8, 0]\n",
    "\n",
    "# change to divergent color scheme\n",
    "#vis_inc_comp.scales['color'].range = [\"#abdda4\",\"#f46d43\"]\n",
    "#vis_inc_comp.colors(brew='YlGnBu')\n",
    "#vis_inc_comp.colors(brew='Spectral')\n",
    "\n",
    "vis_inc_comp.display()"
   ]
  },
  {
   "cell_type": "markdown",
   "metadata": {},
   "source": [
    "For comparison, below is a plot of poverty change generated previously."
   ]
  },
  {
   "cell_type": "code",
   "execution_count": null,
   "metadata": {
    "collapsed": false
   },
   "outputs": [],
   "source": [
    "vis_pov_comp.display()"
   ]
  },
  {
   "cell_type": "markdown",
   "metadata": {},
   "source": [
    "From a visual inspection of the two graphs, it appears that counties with income growth higher than the national average between 2000 and 2013 had poverty growth lower than the national average, and counties that had lower income growth had higher poverty growth.  That result makes intuitive sense, as we would expect changes in poverty and income levels to be negatively correlated.\n",
    "\n",
    "To gauge the degree of correlation, let's create a scatterplot of income growth vs. poverty growth.  First, we join the data, then we create the scatterplot."
   ]
  },
  {
   "cell_type": "code",
   "execution_count": null,
   "metadata": {
    "collapsed": false
   },
   "outputs": [],
   "source": [
    "# create and join dataframes comparing income growth and poverty growth by county\n",
    "income_comp_df = create_comparison_df(2000, 2013, 'Median Household Income', True)\n",
    "poverty_comp_df = create_comparison_df(2000, 2013, 'Poverty Percent All Ages', True)\n",
    "joined_df = pd.merge(income_comp_df, poverty_comp_df, on=['FIPS', 'Name', 'Postal'], how='inner')\n",
    "joined_df.head()"
   ]
  },
  {
   "cell_type": "code",
   "execution_count": null,
   "metadata": {
    "collapsed": false
   },
   "outputs": [],
   "source": [
    "# create scatterplot\n",
    "x = joined_df['Median Household Income Change'].values\n",
    "y = joined_df['Poverty Percent All Ages Change'].values\n",
    "plt.scatter(x, y, alpha = 0.15)\n",
    "plt.xlabel('Median Household Income Change')\n",
    "plt.ylabel('Poverty Percent All Ages Change')\n",
    "plt.title('Poverty and Income Change for US Counties from 2000 to 2013', fontsize = 12)\n",
    "plt.grid()\n",
    "plt.show()\n",
    "\n",
    "# calculate correlation\n",
    "print 'Correlation coefficients:'\n",
    "print np.corrcoef(x, y)"
   ]
  },
  {
   "cell_type": "markdown",
   "metadata": {},
   "source": [
    "While there are quite a few counties having above average income growth and above average poverty growth (or the opposite), the general trend of an inverse relationship between changes in poverty and income seems to hold.  This is verified visually by the scatterplot and also by the calculated correlation of -0.68."
   ]
  },
  {
   "cell_type": "markdown",
   "metadata": {},
   "source": [
    "### Exploratory Plots\n",
    "A quick visual inspection of the histograms of median household income and poverty rates for years 2000 and 2013 shows an apparent difference in the mean values for each year."
   ]
  },
  {
   "cell_type": "code",
   "execution_count": null,
   "metadata": {
    "collapsed": false
   },
   "outputs": [],
   "source": [
    "# get median income data for 2000 and 2013\n",
    "inc_2000 = joined_df['Median Household Income 2000'].values\n",
    "inc_2013 = joined_df['Median Household Income 2013'].values\n",
    "\n",
    "fig, ax = plt.subplots(2,1, figsize=(5, 5), sharex=True, sharey=False)\n",
    "ax[0].hist(inc_2000, bins = 100, alpha = 0.5)\n",
    "ax[0].set_title('Median Household Income 2000')\n",
    "ax[0].grid()\n",
    "ax[1].hist(inc_2013, bins = 100, alpha = 0.5)\n",
    "ax[1].set_title('Median Household Income 2013')\n",
    "ax[1].set_xlabel('$')\n",
    "ax[1].grid()\n",
    "plt.show();"
   ]
  },
  {
   "cell_type": "code",
   "execution_count": null,
   "metadata": {
    "collapsed": false
   },
   "outputs": [],
   "source": [
    "# get poverty percent data for 2000 and 2013\n",
    "pov_2000 = joined_df['Poverty Percent All Ages 2000'].values\n",
    "pov_2013 = joined_df['Poverty Percent All Ages 2013'].values\n",
    "\n",
    "fig, ax = plt.subplots(2,1, figsize=(5, 5), sharex=True, sharey=False)\n",
    "ax[0].hist(pov_2000, bins = 100, alpha = 0.5)\n",
    "ax[0].set_title('Poverty Percent All Ages 2000')\n",
    "ax[0].grid()\n",
    "ax[1].hist(pov_2013, bins = 100, alpha = 0.5)\n",
    "ax[1].set_title('Poverty Percent All Ages 2013')\n",
    "ax[1].set_xlabel('%')\n",
    "ax[1].grid()\n",
    "plt.show();"
   ]
  },
  {
   "cell_type": "markdown",
   "metadata": {},
   "source": [
    "We can also see the difference in median income and poverty rate by county in 2000 and 2013 by scatter plotting the data, as shown below.  A dashed line of slope 1 has been added to the plots for reference."
   ]
  },
  {
   "cell_type": "code",
   "execution_count": null,
   "metadata": {
    "collapsed": false
   },
   "outputs": [],
   "source": [
    "fig, ax = plt.subplots(1,2, figsize=(12,5))\n",
    "\n",
    "ax[0].scatter(inc_2000, inc_2013, alpha = 0.15)\n",
    "ax[0].set_xlabel('Median Income 2000')\n",
    "ax[0].set_ylabel('Median Income 2013')\n",
    "ax[0].set_title('Median Income 2000 vs. 2013', fontsize = 12)\n",
    "\n",
    "# add line of slope 1 for visual reference\n",
    "inc_all = np.concatenate((inc_2000, inc_2013))\n",
    "min_inc = np.min(inc_all)\n",
    "max_inc = np.max(inc_all)\n",
    "ax[0].plot([min_inc, max_inc], [min_inc, max_inc], 'g--', label = 'Line of Slope 1', linewidth = 2)\n",
    "ax[0].grid()\n",
    "ax[0].legend()\n",
    "\n",
    "ax[1].scatter(pov_2000, pov_2013, alpha = 0.15)\n",
    "ax[1].set_xlabel('Poverty Percent 2000')\n",
    "ax[1].set_ylabel('Poverty Percent 2013')\n",
    "ax[1].set_title('Poverty Percent 2000 vs. 2013', fontsize = 12)\n",
    "\n",
    "# add line of slope 1 for visual reference\n",
    "pov_all = np.concatenate((pov_2000, pov_2013))\n",
    "min_pov = np.min(pov_all)\n",
    "max_pov = np.max(pov_all)\n",
    "ax[1].plot([min_pov, max_pov], [min_pov, max_pov], 'g--', label = 'Line of Slope 1', linewidth = 2)\n",
    "ax[1].grid()\n",
    "ax[1].legend()\n",
    "\n",
    "# adjust horizontal spacing between subplots\n",
    "fig.subplots_adjust(wspace = 0.35)\n",
    "plt.show();"
   ]
  },
  {
   "cell_type": "markdown",
   "metadata": {},
   "source": [
    "For the median income comparison graph, it is very clear that the vast majority of points lie above the reference line, indicating that median income by county in 2013 was generally higher than it was in 2000.\n",
    "\n",
    "It also appears that most of the points in the poverty scatterplot lie above the slope 1 reference line, but perhaps not to the degree as for median income.  So the scatter plots seem to indicate a difference in both median income and poverty percent between the years 2000 and 2013."
   ]
  },
  {
   "cell_type": "markdown",
   "metadata": {},
   "source": [
    "### Statistical Testing\n",
    "In order to make valid statistical conclusions regarding any true difference in the means of the data for 2000 and 2013, however, we must perform statistical testing.  Because we are comparing the same counties at different times, we will use a paired t-test."
   ]
  },
  {
   "cell_type": "code",
   "execution_count": null,
   "metadata": {
    "collapsed": false
   },
   "outputs": [],
   "source": [
    "import scipy.stats as stats\n",
    "\n",
    "pov_2000 = joined_df['Poverty Percent All Ages 2000'].values\n",
    "pov_2013 = joined_df['Poverty Percent All Ages 2013'].values\n",
    "stats.ttest_rel(pov_2000, pov_2013)"
   ]
  },
  {
   "cell_type": "code",
   "execution_count": null,
   "metadata": {
    "collapsed": false
   },
   "outputs": [],
   "source": [
    "inc_2000 = joined_df['Median Household Income 2000'].values\n",
    "inc_2013 = joined_df['Median Household Income 2013'].values\n",
    "stats.ttest_rel(inc_2000, inc_2013)"
   ]
  },
  {
   "cell_type": "markdown",
   "metadata": {},
   "source": [
    "The p-values in the test output for both tests shows that the chances of seeing this large of a difference between poverty rates and income levels in 2000 and 2013 simply due to chance is essentially zero, confirming that the difference in mean values between the two years is statistically significant."
   ]
  },
  {
   "cell_type": "markdown",
   "metadata": {},
   "source": [
    "### Ideas for Additional Analysis\n",
    "Several avenues of additional analysis that may yield interesting results are listed below:\n",
    "\n",
    "1. Investigation of potential existence of a regression to the mean effect, where poverty growth may have been higher for counties with low initial poverty levels, and lower for counties with high initial poverty levels;\n",
    "\n",
    "2. Investigation of whether poverty and/or income growth is related to initial poverty levels or initial median levels;\n",
    "\n",
    "3. Investigation of whether the poverty growth rates for different age groups exhibits similar behavior;\n",
    "\n",
    "4. Investigation of additional relationships between poverty and/or income growth using external data sources, such as\n",
    "    * Unemployment and education data, available at https://www.ers.usda.gov/data-products/county-level-data-sets/download-data/\n",
    "\n",
    "    * Health information for diseases such as diabetes, available at http://www.cdc.gov/diabetes/data/county.html"
   ]
  }
 ],
 "metadata": {
  "anaconda-cloud": {},
  "kernelspec": {
   "display_name": "Python [conda env:python2]",
   "language": "python",
   "name": "conda-env-python2-py"
  },
  "language_info": {
   "codemirror_mode": {
    "name": "ipython",
    "version": 2
   },
   "file_extension": ".py",
   "mimetype": "text/x-python",
   "name": "python",
   "nbconvert_exporter": "python",
   "pygments_lexer": "ipython2",
   "version": "2.7.12"
  }
 },
 "nbformat": 4,
 "nbformat_minor": 0
}
